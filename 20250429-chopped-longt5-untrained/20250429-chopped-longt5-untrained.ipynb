{
 "cells": [
  {
   "cell_type": "markdown",
   "id": "1da37334-ae8b-4ea9-aff0-678b628bc08b",
   "metadata": {},
   "source": [
    "# LongT5 pretraining with chopped dataset\n",
    "\n",
    "Repeating a previous experiment (20241203-chopped-training-longt5-untrained) with a bit of modernized code."
   ]
  },
  {
   "cell_type": "code",
   "execution_count": null,
   "id": "51fce927-9f44-447c-895f-53a0349ed579",
   "metadata": {
    "ExecuteTime": {
     "end_time": "2024-11-05T04:40:55.608539Z",
     "start_time": "2024-11-05T04:39:36.347698Z"
    },
    "scrolled": true
   },
   "outputs": [
    {
     "name": "stdout",
     "output_type": "stream",
     "text": [
      "Collecting git+https://github.com/huggingface/transformers.git@13493215abceafc1653af88b045120014fb4c1fc\n",
      "  Cloning https://github.com/huggingface/transformers.git (to revision 13493215abceafc1653af88b045120014fb4c1fc) to /tmp/pip-req-build-7n_0oce3\n",
      "  Running command git clone --filter=blob:none --quiet https://github.com/huggingface/transformers.git /tmp/pip-req-build-7n_0oce3\n"
     ]
    }
   ],
   "source": [
    "import shutil\n",
    "!pip install -U git+https://github.com/huggingface/transformers.git@13493215abceafc1653af88b045120014fb4c1fc\n",
    "!pip install -U git+https://github.com/huggingface/accelerate.git@8ade23cc6aec7c3bd3d80fef6378cafaade75bbe\n",
    "!pip install -U git+https://github.com/huggingface/datasets.git@01f91bae037c98f2e05456287bab21470adb8f07\n",
    "!pip install -U git+https://github.com/huggingface/evaluate.git@55f1bc6e072b05c2d9db1589a07e20f38902b1ec\n",
    "!pip install -U git+https://github.com/huggingface/safetensors.git@f5839b6aee407652aa3078d91206b618dd84e3c2\n",
    "\n",
    "!pip install sacrebleu\n",
    "!pip install pytest-playwright\n",
    "!playwright install\n",
    "!pip install matplotlib\n",
    "!pip install pillow\n",
    "!pip install torchvision\n",
    "!pip install lpips\n",
    "\n",
    "!playwright install-deps  \n",
    "\n",
    "!pip install -U numpy\n",
    "!pip install tensorboard"
   ]
  },
  {
   "cell_type": "code",
   "execution_count": 1,
   "id": "6ad76b366440f2ef",
   "metadata": {
    "ExecuteTime": {
     "start_time": "2024-10-06T10:37:04.434307Z"
    },
    "jupyter": {
     "is_executing": true
    },
    "scrolled": true
   },
   "outputs": [
    {
     "name": "stdout",
     "output_type": "stream",
     "text": [
      "Reading package lists... Done\n",
      "Building dependency tree... Done\n",
      "Reading state information... Done\n",
      "The following additional packages will be installed:\n",
      "  unzip\n",
      "The following NEW packages will be installed:\n",
      "  unzip zip\n",
      "0 upgraded, 2 newly installed, 0 to remove and 52 not upgraded.\n",
      "Need to get 350 kB of archives.\n",
      "After this operation, 930 kB of additional disk space will be used.\n",
      "Get:1 http://archive.ubuntu.com/ubuntu jammy-updates/main amd64 unzip amd64 6.0-26ubuntu3.2 [175 kB]\n",
      "Get:2 http://archive.ubuntu.com/ubuntu jammy/main amd64 zip amd64 3.0-12build2 [176 kB]\n",
      "Fetched 350 kB in 2s (160 kB/s)m\n",
      "debconf: delaying package configuration, since apt-utils is not installed\n",
      "\n",
      "Selecting previously unselected package unzip.\n",
      "(Reading database ... 16754 files and directories currently installed.)\n",
      "Preparing to unpack .../unzip_6.0-26ubuntu3.2_amd64.deb ...\n",
      "\u001b7\u001b[24;0f\u001b[42m\u001b[30mProgress: [  0%]\u001b[49m\u001b[39m [..........................................................] \u001b8\u001b7\u001b[24;0f\u001b[42m\u001b[30mProgress: [ 11%]\u001b[49m\u001b[39m [######....................................................] \u001b8Unpacking unzip (6.0-26ubuntu3.2) ...\n",
      "\u001b7\u001b[24;0f\u001b[42m\u001b[30mProgress: [ 22%]\u001b[49m\u001b[39m [############..............................................] \u001b8Selecting previously unselected package zip.\n",
      "Preparing to unpack .../zip_3.0-12build2_amd64.deb ...\n",
      "\u001b7\u001b[24;0f\u001b[42m\u001b[30mProgress: [ 33%]\u001b[49m\u001b[39m [###################.......................................] \u001b8Unpacking zip (3.0-12build2) ...\n",
      "Setting up unzip (6.0-26ubuntu3.2) ...9m\u001b[39m [#########################.................................] \u001b8\n",
      "\u001b7\u001b[24;0f\u001b[42m\u001b[30mProgress: [ 56%]\u001b[49m\u001b[39m [################################..........................] \u001b8\u001b7\u001b[24;0f\u001b[42m\u001b[30mProgress: [ 67%]\u001b[49m\u001b[39m [######################################....................] \u001b8Setting up zip (3.0-12build2) ...\n",
      "\u001b7\u001b[24;0f\u001b[42m\u001b[30mProgress: [ 78%]\u001b[49m\u001b[39m [#############################################.............] \u001b8\u001b7\u001b[24;0f\u001b[42m\u001b[30mProgress: [ 89%]\u001b[49m\u001b[39m [###################################################.......] \u001b8\n",
      "--2025-04-28 18:24:42--  https://www.dropbox.com/scl/fi/hsqsp79okuob4u63oj7j3/data-rb-chopped.zip?rlkey=ey3a4ap5h6v9mcaava1bps52n&dl=1\n",
      "Resolving www.dropbox.com (www.dropbox.com)... 162.125.80.18, 2620:100:6030:18::a27d:5012\n",
      "Connecting to www.dropbox.com (www.dropbox.com)|162.125.80.18|:443... connected.\n",
      "HTTP request sent, awaiting response... 302 Found\n",
      "Location: https://ucedff4d443f65bc9a169cf247b6.dl.dropboxusercontent.com/cd/0/inline/Coo2jWpSHJ5dWYs57-_RX18i0Z_OE-NmgHO8CVWrB-m4dJxuZVuiT7je0CLp4Zom2Gb82C6uunkjIgnDZq-YBVv0tv_IMBckK6utsIqClpbv9JjwX095MG_FGIwLcD846us/file?dl=1# [following]\n",
      "--2025-04-28 18:24:43--  https://ucedff4d443f65bc9a169cf247b6.dl.dropboxusercontent.com/cd/0/inline/Coo2jWpSHJ5dWYs57-_RX18i0Z_OE-NmgHO8CVWrB-m4dJxuZVuiT7je0CLp4Zom2Gb82C6uunkjIgnDZq-YBVv0tv_IMBckK6utsIqClpbv9JjwX095MG_FGIwLcD846us/file?dl=1\n",
      "Resolving ucedff4d443f65bc9a169cf247b6.dl.dropboxusercontent.com (ucedff4d443f65bc9a169cf247b6.dl.dropboxusercontent.com)... 162.125.80.15, 2620:100:6030:15::a27d:500f\n",
      "connected. to ucedff4d443f65bc9a169cf247b6.dl.dropboxusercontent.com (ucedff4d443f65bc9a169cf247b6.dl.dropboxusercontent.com)|162.125.80.15|:443... \n",
      "302 Foundest sent, awaiting response... \n",
      "Location: /cd/0/inline2/Cort31l8XJt-jo0nzaUFuwFi8pnf4AivEMFkaepoXd3gpayTtUZBPdjhPrBMyyNPwcYihvTBQVsMc5OsGCwRBIyJfedGpd7nrPWqYIPCQVZzJ9QigCCxHElr5LhyQM-zbSWrZDQnhzh28KIgkhDdG1mfFHR7KFucWNCp7rmyDhGrAVCjbqkoHzh-rxizaW34EU8Iifjn3psFoew9U3qqNlcDIgeY1Wrs1bY1DsdTEGuoi9rdsFNtyiJfAiJPVHQqt7zmiOh4GYHACnZ-3miuz3UWBul-m8Xofxaly7t5kBwtTp3Ab4VMpVISFrTytFqja8tj3VjKYPLw0-kh_9uKGEVO7q0HR2zNT1MSB3i5t8Hbsw/file?dl=1 [following]\n",
      "--2025-04-28 18:24:44--  https://ucedff4d443f65bc9a169cf247b6.dl.dropboxusercontent.com/cd/0/inline2/Cort31l8XJt-jo0nzaUFuwFi8pnf4AivEMFkaepoXd3gpayTtUZBPdjhPrBMyyNPwcYihvTBQVsMc5OsGCwRBIyJfedGpd7nrPWqYIPCQVZzJ9QigCCxHElr5LhyQM-zbSWrZDQnhzh28KIgkhDdG1mfFHR7KFucWNCp7rmyDhGrAVCjbqkoHzh-rxizaW34EU8Iifjn3psFoew9U3qqNlcDIgeY1Wrs1bY1DsdTEGuoi9rdsFNtyiJfAiJPVHQqt7zmiOh4GYHACnZ-3miuz3UWBul-m8Xofxaly7t5kBwtTp3Ab4VMpVISFrTytFqja8tj3VjKYPLw0-kh_9uKGEVO7q0HR2zNT1MSB3i5t8Hbsw/file?dl=1\n",
      "Reusing existing connection to ucedff4d443f65bc9a169cf247b6.dl.dropboxusercontent.com:443.\n",
      "200 OKequest sent, awaiting response... \n",
      "Length: 1289698689 (1.2G) [application/binary]\n",
      "Saving to: ‘model.zip’\n",
      "\n",
      "model.zip           100%[===================>]   1.20G  21.9MB/s    in 54s     \n",
      "\n",
      "2025-04-28 18:25:38 (22.8 MB/s) - ‘model.zip’ saved [1289698689/1289698689]\n",
      "\n",
      "Archive:  model.zip\n",
      "  inflating: data-rb-chopped/dataset_info.json  \n",
      "  inflating: data-rb-chopped/__MACOSX/._dataset_info.json  \n",
      "  inflating: data-rb-chopped/state.json  \n",
      "  inflating: data-rb-chopped/__MACOSX/._state.json  \n",
      "  inflating: data-rb-chopped/data-00014-of-00015.arrow  \n",
      "  inflating: data-rb-chopped/__MACOSX/._data-00014-of-00015.arrow  \n",
      "  inflating: data-rb-chopped/data-00013-of-00015.arrow  \n",
      "  inflating: data-rb-chopped/__MACOSX/._data-00013-of-00015.arrow  \n",
      "  inflating: data-rb-chopped/data-00012-of-00015.arrow  \n",
      "  inflating: data-rb-chopped/__MACOSX/._data-00012-of-00015.arrow  \n",
      "  inflating: data-rb-chopped/data-00011-of-00015.arrow  \n",
      "  inflating: data-rb-chopped/__MACOSX/._data-00011-of-00015.arrow  \n",
      "  inflating: data-rb-chopped/data-00010-of-00015.arrow  \n",
      "  inflating: data-rb-chopped/__MACOSX/._data-00010-of-00015.arrow  \n",
      "  inflating: data-rb-chopped/data-00009-of-00015.arrow  \n",
      "  inflating: data-rb-chopped/__MACOSX/._data-00009-of-00015.arrow  \n",
      "  inflating: data-rb-chopped/data-00008-of-00015.arrow  \n",
      "  inflating: data-rb-chopped/__MACOSX/._data-00008-of-00015.arrow  \n",
      "  inflating: data-rb-chopped/data-00007-of-00015.arrow  \n",
      "  inflating: data-rb-chopped/__MACOSX/._data-00007-of-00015.arrow  \n",
      "  inflating: data-rb-chopped/data-00006-of-00015.arrow  \n",
      "  inflating: data-rb-chopped/__MACOSX/._data-00006-of-00015.arrow  \n",
      "  inflating: data-rb-chopped/data-00005-of-00015.arrow  \n",
      "  inflating: data-rb-chopped/__MACOSX/._data-00005-of-00015.arrow  \n",
      "  inflating: data-rb-chopped/data-00004-of-00015.arrow  \n",
      "  inflating: data-rb-chopped/__MACOSX/._data-00004-of-00015.arrow  \n",
      "  inflating: data-rb-chopped/data-00003-of-00015.arrow  \n",
      "  inflating: data-rb-chopped/__MACOSX/._data-00003-of-00015.arrow  \n",
      "  inflating: data-rb-chopped/data-00002-of-00015.arrow  \n",
      "  inflating: data-rb-chopped/__MACOSX/._data-00002-of-00015.arrow  \n",
      "  inflating: data-rb-chopped/data-00001-of-00015.arrow  \n",
      "  inflating: data-rb-chopped/__MACOSX/._data-00001-of-00015.arrow  \n",
      "  inflating: data-rb-chopped/data-00000-of-00015.arrow  \n",
      "  inflating: data-rb-chopped/__MACOSX/._data-00000-of-00015.arrow  \n",
      "  inflating: data-rb-chopped/tokenizer.json  \n",
      "  inflating: data-rb-chopped/__MACOSX/._tokenizer.json  \n",
      "--2025-04-28 18:28:00--  https://www.dropbox.com/scl/fi/bx38ass59j6my2g2m01pb/tokenizer.json?rlkey=62zub5qk6ow7xa2vpa9gyglho&dl=1\n",
      "Resolving www.dropbox.com (www.dropbox.com)... 162.125.80.18, 2620:100:6030:18::a27d:5012\n",
      "Connecting to www.dropbox.com (www.dropbox.com)|162.125.80.18|:443... connected.\n",
      "HTTP request sent, awaiting response... 302 Found\n",
      "Location: https://uc4fc47153f818c4b019568e8898.dl.dropboxusercontent.com/cd/0/inline/CoryI3gWA0cY50GwphtwtUQ5ZUMvVNMyu04GU1qY2nYP1jzlS0i9WNEm5iQuprcaUqCs2BwMHXgJozRw1HJldiKdrbzb3KHUen_fJ22Lny3tSCNPTUQnlJ0JUdfhgFv7cDk/file?dl=1# [following]\n",
      "--2025-04-28 18:28:00--  https://uc4fc47153f818c4b019568e8898.dl.dropboxusercontent.com/cd/0/inline/CoryI3gWA0cY50GwphtwtUQ5ZUMvVNMyu04GU1qY2nYP1jzlS0i9WNEm5iQuprcaUqCs2BwMHXgJozRw1HJldiKdrbzb3KHUen_fJ22Lny3tSCNPTUQnlJ0JUdfhgFv7cDk/file?dl=1\n",
      "162.125.80.15, 2620:100:6030:15::a27d:500fdropboxusercontent.com (uc4fc47153f818c4b019568e8898.dl.dropboxusercontent.com)... \n",
      "Connecting to uc4fc47153f818c4b019568e8898.dl.dropboxusercontent.com (uc4fc47153f818c4b019568e8898.dl.dropboxusercontent.com)|162.125.80.15|:443... connected.\n",
      "HTTP request sent, awaiting response... 200 OK\n",
      "Length: 2051622 (2.0M) [application/binary]\n",
      "Saving to: ‘data-rb-chopped/tokenizer.json’\n",
      "\n",
      "data-rb-chopped/tok 100%[===================>]   1.96M  --.-KB/s    in 0.1s    \n",
      "\n",
      "2025-04-28 18:28:01 (20.4 MB/s) - ‘data-rb-chopped/tokenizer.json’ saved [2051622/2051622]\n",
      "\n",
      "--2025-04-28 18:28:03--  https://www.dropbox.com/scl/fi/5szml8y5l248mcabj9rqg/verify-dataset.zip?rlkey=se33rwtxgngn0ts1i0pc8f6wk&st=1d68x9zt&dl=1\n",
      "Resolving www.dropbox.com (www.dropbox.com)... 162.125.80.18, 2620:100:6030:18::a27d:5012\n",
      "Connecting to www.dropbox.com (www.dropbox.com)|162.125.80.18|:443... connected.\n",
      "HTTP request sent, awaiting response... 302 Found\n",
      "Location: https://ucdc249c085e490ab3311ce6bc50.dl.dropboxusercontent.com/cd/0/inline/CopQPDYc9DXij-KlKzd88xDglzC4eEhVyrb13DqjS2zkVFU4TijGMuKsgXoAoL9xid7ooXSTCvQ9JT46HPBIfnJNFj1hqF0ItiAf4Ix4WmjE-gOABrKIEGjvgqYEJ45rtWQ/file?dl=1# [following]\n",
      "--2025-04-28 18:28:03--  https://ucdc249c085e490ab3311ce6bc50.dl.dropboxusercontent.com/cd/0/inline/CopQPDYc9DXij-KlKzd88xDglzC4eEhVyrb13DqjS2zkVFU4TijGMuKsgXoAoL9xid7ooXSTCvQ9JT46HPBIfnJNFj1hqF0ItiAf4Ix4WmjE-gOABrKIEGjvgqYEJ45rtWQ/file?dl=1\n",
      "162.125.80.15, 2620:100:6030:15::a27d:500fdropboxusercontent.com (ucdc249c085e490ab3311ce6bc50.dl.dropboxusercontent.com)... \n",
      "Connecting to ucdc249c085e490ab3311ce6bc50.dl.dropboxusercontent.com (ucdc249c085e490ab3311ce6bc50.dl.dropboxusercontent.com)|162.125.80.15|:443... connected.\n",
      "HTTP request sent, awaiting response... 302 Found\n",
      "Location: /cd/0/inline2/CoqXMUI9R0rrV3b52tICh3u8AOjwH6w4G96Y28rxQMTOCUNtXQY229MSirs_cEAzUO018c1aqu1R8LBrsntgyHT4AcTboWu4AiCiHg6DH39vCwLWpQP2sYKdJIZz4WLrdrPyq7lwn9NgQ2mIAaJWo9_tWLIuHRD_VcT5rOeZjZQ94dhdOHR_LNtHPiHBmDGH-gMDXIUGCudiXb0stI5FUwJYndH1y964KwEGez4JIGsx25B9y5eCWOeYn4uX7ZTejHjiNwHO8EZKf40yAXMRzNV5koQoStbYiMBzfC2SZscQZOdhQX-VgQlYOpBfZ9A7gus3EVrjF3EmjifzjLL02cng6jGDSp3Qm46Csdf4UUWuHQ/file?dl=1 [following]\n",
      "--2025-04-28 18:28:04--  https://ucdc249c085e490ab3311ce6bc50.dl.dropboxusercontent.com/cd/0/inline2/CoqXMUI9R0rrV3b52tICh3u8AOjwH6w4G96Y28rxQMTOCUNtXQY229MSirs_cEAzUO018c1aqu1R8LBrsntgyHT4AcTboWu4AiCiHg6DH39vCwLWpQP2sYKdJIZz4WLrdrPyq7lwn9NgQ2mIAaJWo9_tWLIuHRD_VcT5rOeZjZQ94dhdOHR_LNtHPiHBmDGH-gMDXIUGCudiXb0stI5FUwJYndH1y964KwEGez4JIGsx25B9y5eCWOeYn4uX7ZTejHjiNwHO8EZKf40yAXMRzNV5koQoStbYiMBzfC2SZscQZOdhQX-VgQlYOpBfZ9A7gus3EVrjF3EmjifzjLL02cng6jGDSp3Qm46Csdf4UUWuHQ/file?dl=1\n",
      "Reusing existing connection to ucdc249c085e490ab3311ce6bc50.dl.dropboxusercontent.com:443.\n",
      "200 OKequest sent, awaiting response... \n",
      "Length: 238890 (233K) [application/binary]\n",
      "Saving to: ‘validate.zip’\n",
      "\n",
      "validate.zip        100%[===================>] 233.29K  --.-KB/s    in 0.05s   \n",
      "\n",
      "2025-04-28 18:28:04 (4.65 MB/s) - ‘validate.zip’ saved [238890/238890]\n",
      "\n",
      "Archive:  validate.zip\n",
      "  inflating: data-rb-validate/1aaaf27b.webp  \n",
      "  inflating: data-rb-validate/__MACOSX/._1aaaf27b.webp  \n",
      "  inflating: data-rb-validate/1c52383e.webp  \n",
      "  inflating: data-rb-validate/__MACOSX/._1c52383e.webp  \n",
      "  inflating: data-rb-validate/3e290f44.webp  \n",
      "  inflating: data-rb-validate/__MACOSX/._3e290f44.webp  \n",
      "  inflating: data-rb-validate/4fb8a91d.svg  \n",
      "  inflating: data-rb-validate/__MACOSX/._4fb8a91d.svg  \n",
      "  inflating: data-rb-validate/5bcd31b6.svg  \n",
      "  inflating: data-rb-validate/__MACOSX/._5bcd31b6.svg  \n",
      "  inflating: data-rb-validate/6e16da92.webp  \n",
      "  inflating: data-rb-validate/__MACOSX/._6e16da92.webp  \n",
      "  inflating: data-rb-validate/8a2b68c6.png  \n",
      "  inflating: data-rb-validate/__MACOSX/._8a2b68c6.png  \n",
      "  inflating: data-rb-validate/9ecf718d.webp  \n",
      "  inflating: data-rb-validate/__MACOSX/._9ecf718d.webp  \n",
      "  inflating: data-rb-validate/23d48054.svg  \n",
      "  inflating: data-rb-validate/__MACOSX/._23d48054.svg  \n",
      "  inflating: data-rb-validate/98c84b88.svg  \n",
      "  inflating: data-rb-validate/__MACOSX/._98c84b88.svg  \n",
      "  inflating: data-rb-validate/856c44ec.webp  \n",
      "  inflating: data-rb-validate/__MACOSX/._856c44ec.webp  \n",
      "  inflating: data-rb-validate/984b9c32.svg  \n",
      "  inflating: data-rb-validate/__MACOSX/._984b9c32.svg  \n",
      "  inflating: data-rb-validate/601060ec.webp  \n",
      "  inflating: data-rb-validate/__MACOSX/._601060ec.webp  \n",
      "  inflating: data-rb-validate/892130e0.webp  \n",
      "  inflating: data-rb-validate/__MACOSX/._892130e0.webp  \n",
      "  inflating: data-rb-validate/02836284.webp  \n",
      "  inflating: data-rb-validate/__MACOSX/._02836284.webp  \n",
      "  inflating: data-rb-validate/5252267a.png  \n",
      "  inflating: data-rb-validate/__MACOSX/._5252267a.png  \n",
      "  inflating: data-rb-validate/a5b2d81a.png  \n",
      "  inflating: data-rb-validate/__MACOSX/._a5b2d81a.png  \n",
      "  inflating: data-rb-validate/a6ead9ac.png  \n",
      "  inflating: data-rb-validate/__MACOSX/._a6ead9ac.png  \n",
      "  inflating: data-rb-validate/a717d05d.webp  \n",
      "  inflating: data-rb-validate/__MACOSX/._a717d05d.webp  \n",
      "  inflating: data-rb-validate/ab9a847d.svg  \n",
      "  inflating: data-rb-validate/__MACOSX/._ab9a847d.svg  \n",
      "  inflating: data-rb-validate/ab484cc8.webp  \n",
      "  inflating: data-rb-validate/__MACOSX/._ab484cc8.webp  \n",
      "  inflating: data-rb-validate/af2a513d.svg  \n",
      "  inflating: data-rb-validate/__MACOSX/._af2a513d.svg  \n",
      "  inflating: data-rb-validate/b1b77f6b.webp  \n",
      "  inflating: data-rb-validate/__MACOSX/._b1b77f6b.webp  \n",
      "  inflating: data-rb-validate/b0870752.svg  \n",
      "  inflating: data-rb-validate/__MACOSX/._b0870752.svg  \n",
      "  inflating: data-rb-validate/baa1933a.svg  \n",
      "  inflating: data-rb-validate/__MACOSX/._baa1933a.svg  \n",
      "  inflating: data-rb-validate/d06fd4eb.webp  \n",
      "  inflating: data-rb-validate/__MACOSX/._d06fd4eb.webp  \n",
      "  inflating: data-rb-validate/d7e122fe.svg  \n",
      "  inflating: data-rb-validate/__MACOSX/._d7e122fe.svg  \n",
      "  inflating: data-rb-validate/d62090d3.webp  \n",
      "  inflating: data-rb-validate/__MACOSX/._d62090d3.webp  \n",
      "  inflating: data-rb-validate/da43c904.webp  \n",
      "  inflating: data-rb-validate/__MACOSX/._da43c904.webp  \n",
      "  inflating: data-rb-validate/data-00000-of-00001.arrow  \n",
      "  inflating: data-rb-validate/__MACOSX/._data-00000-of-00001.arrow  \n",
      "  inflating: data-rb-validate/dataset_info.json  \n",
      "  inflating: data-rb-validate/__MACOSX/._dataset_info.json  \n",
      "  inflating: data-rb-validate/dataset.json  \n",
      "  inflating: data-rb-validate/__MACOSX/._dataset.json  \n",
      "  inflating: data-rb-validate/db5da240.jpeg  \n",
      "  inflating: data-rb-validate/__MACOSX/._db5da240.jpeg  \n",
      "  inflating: data-rb-validate/e382e81f.svg  \n",
      "  inflating: data-rb-validate/__MACOSX/._e382e81f.svg  \n",
      "  inflating: data-rb-validate/eb6efbc1.webp  \n",
      "  inflating: data-rb-validate/__MACOSX/._eb6efbc1.webp  \n",
      "  inflating: data-rb-validate/ed34bf8f.webp  \n",
      "  inflating: data-rb-validate/__MACOSX/._ed34bf8f.webp  \n",
      "  inflating: data-rb-validate/f778a87c.svg  \n",
      "  inflating: data-rb-validate/__MACOSX/._f778a87c.svg  \n",
      "  inflating: data-rb-validate/SDK_CRAWLER_STATISTICS_0.json  \n",
      "  inflating: data-rb-validate/__MACOSX/._SDK_CRAWLER_STATISTICS_0.json  \n",
      "  inflating: data-rb-validate/SDK_SESSION_POOL_STATE.json  \n",
      "  inflating: data-rb-validate/__MACOSX/._SDK_SESSION_POOL_STATE.json  \n",
      "  inflating: data-rb-validate/state.json  \n",
      "  inflating: data-rb-validate/__MACOSX/._state.json  \n"
     ]
    }
   ],
   "source": [
    "!apt install zip -y\n",
    "!rm -rf data-rb-chopped\n",
    "!mkdir -p data-rb-chopped\n",
    "!wget \"https://www.dropbox.com/scl/fi/hsqsp79okuob4u63oj7j3/data-rb-chopped.zip?rlkey=ey3a4ap5h6v9mcaava1bps52n&dl=1\" -O model.zip\n",
    "!unzip model.zip -d data-rb-chopped\n",
    "\n",
    "!wget \"https://www.dropbox.com/scl/fi/bx38ass59j6my2g2m01pb/tokenizer.json?rlkey=62zub5qk6ow7xa2vpa9gyglho&dl=1\" -O data-rb-chopped/tokenizer.json\n",
    "\n",
    "!rm -rf data-rb-validate\n",
    "!mkdir -p data-rb-validate\n",
    "!wget \"https://www.dropbox.com/scl/fi/5szml8y5l248mcabj9rqg/verify-dataset.zip?rlkey=se33rwtxgngn0ts1i0pc8f6wk&st=1d68x9zt&dl=1\" -O validate.zip\n",
    "!unzip validate.zip -d data-rb-validate\n"
   ]
  },
  {
   "cell_type": "code",
   "execution_count": 1,
   "id": "9ce2ce9117ee29ea",
   "metadata": {
    "ExecuteTime": {
     "end_time": "2024-10-16T02:10:08.863278Z",
     "start_time": "2024-10-16T02:10:08.630248Z"
    }
   },
   "outputs": [
    {
     "name": "stdout",
     "output_type": "stream",
     "text": [
      "DatasetDict({\n",
      "    train: Dataset({\n",
      "        features: ['svg', 'html'],\n",
      "        num_rows: 214708\n",
      "    })\n",
      "    valid: Dataset({\n",
      "        features: ['svg', 'html'],\n",
      "        num_rows: 8\n",
      "    })\n",
      "    test: Dataset({\n",
      "        features: ['svg', 'html'],\n",
      "        num_rows: 100\n",
      "    })\n",
      "})\n"
     ]
    }
   ],
   "source": [
    "from datasets import load_from_disk, DatasetDict, concatenate_datasets\n",
    "\n",
    "validation_size = 4\n",
    "test_size = 100\n",
    "\n",
    "dataset = load_from_disk('data-rb-chopped')\n",
    "validation_dataset = load_from_disk('data-rb-validate')\n",
    "\n",
    "train_test_split = dataset.train_test_split(test_size=test_size/len(dataset))\n",
    "train_valid_split = train_test_split['train'].train_test_split(test_size=validation_size/len(dataset))\n",
    "\n",
    "dataset = DatasetDict({\n",
    "    \"train\": train_valid_split[\"train\"],\n",
    "    \"valid\": concatenate_datasets([validation_dataset.select(range(4)), train_valid_split[\"test\"]]),\n",
    "    \"test\": train_test_split[\"test\"],\n",
    "})\n",
    "\n",
    "print(dataset)"
   ]
  },
  {
   "cell_type": "code",
   "execution_count": 2,
   "id": "6d70d196-34fa-4aa3-980b-ee55ad689ecb",
   "metadata": {},
   "outputs": [
    {
     "name": "stdout",
     "output_type": "stream",
     "text": [
      "{'svg': '<svg xmlns=\"http://www.w3.org/2000/svg\" xmlns:xlink=\"http://www.w3.org/1999/xlink\" width=\"393\" height=\"852\" viewBox=\"0 0 393 852\"><g id=\"html1\"><g data-tag=\"head\" id=\"head1\" data-z-index=\"auto\" data-stacking-context=\"true\" aria-owns=\"script1\"><g data-tag=\"script\" id=\"script1\" data-z-index=\"auto\" data-stacking-context=\"true\"/></g><g data-tag=\"body\" id=\"body1\" data-z-index=\"auto\" data-stacking-context=\"true\" role=\"document\" mask=\"url(#mask-for-body11)\" aria-owns=\"TNRewc1 style1\"><mask id=\"mask-for-body11\"><rect width=\"393\" height=\"852\" x=\"0\" y=\"0\" fill=\"#ffffff\"/></mask><g data-tag=\"div\" id=\"TNRewc1\" class=\"TNRewc\" data-z-index=\"auto\" data-stacking-context=\"true\" aria-owns=\"TUWFt61\"><g data-tag=\"button\" id=\"TUWFt61\" class=\"TUWFt6\" data-z-index=\"auto\" data-stacking-context=\"true\" role=\"button\" aria-labelledby=\"\"><text color=\"rgb(0, 0, 0)\" dominant-baseline=\"text-after-edge\" font-family=\"Arial\" font-size=\"13.3333px\" font-size-adjust=\"none\" font-stretch=\"100%\" font-style=\"normal\" font-variant=\"normal\" font-weight=\"400\" direction=\"ltr\" letter-spacing=\"normal\" text-decoration=\"none solid rgb(0, 0, 0)\" text-anchor=\"start\" text-rendering=\"auto\" unicode-bidi=\"normal\" word-spacing=\"0px\" writing-mode=\"horizontal-tb\" user-select=\"auto\" fill=\"rgb(0, 0, 0)\"><tspan xml:space=\"preserve\" x=\"0\" y=\"15\" textLength=\"66.421875\" lengthAdjust=\"spacingAndGlyphs\">Quick View</tspan></text></g></g><g data-tag=\"style\" id=\"style1\" data-z-index=\"auto\" data-stacking-context=\"true\"/></g></g></svg>', 'html': '<body><div class=\"TNRewc\" style=\"display:var(--showQuickView-display, inherit)\"><button class=\"TUWFt6\" data-hook=\"product-item-quick-view-button\" type=\"button\">Quick View</button></div></body>\\n\\n<style>\\n\\n@keyframes slide-horizontal-new{0%{transform:translateX(100%)}}@keyframes slide-horizontal-old{80%{opacity:1}to{opacity:0;transform:translateX(-100%)}}@keyframes slide-vertical-new{0%{transform:translateY(-100%)}}@keyframes slide-vertical-old{80%{opacity:1}to{opacity:0;transform:translateY(100%)}}@keyframes out-in-new{0%{opacity:0}}@keyframes out-in-old{to{opacity:0}}@media(prefers-reduced-motion:reduce){::view-transition-group(*),::view-transition-new(*),::view-transition-old(*){animation:none!important}}body{background:transparent;border:0;margin:0;outline:0;padding:0;vertical-align:baseline}body{font-family:Arial,Helvetica,sans-serif;font-size:10px}body{height:100%}body{overflow-x:auto;overflow-y:scroll}:root{}@supports(-webkit-appearance:none) and (stroke-color:transparent){:root{}}@supports(container-type:inline-size){:root{}}\\n\\nbutton,div,var{background:transparent;border:0;margin:0;outline:0;padding:0;vertical-align:baseline}:root{}@keyframes ThreeDotsLoader2952763584__pulse{0%,80%,to{box-shadow:0 calc(2px + 6px) 0 -15px}40%{box-shadow:0 calc(2px + 6px) 0 0}}@keyframes Spinner2249616614__rotate{to{transform:rotate(1turn)}}@keyframes Spinner2249616614__dash{0%{stroke-dasharray:1,150;stroke-dashoffset:0}50%{stroke-dasharray:90,150;stroke-dashoffset:-35}to{stroke-dasharray:90,150;stroke-dashoffset:-124}}@keyframes DotNavigation2917037878__move-back{0%{left:calc(-2*calc(4*4px))}to{left:calc(-1*calc(4*4px))}}@keyframes DotNavigation2917037878__move-back-next{0%{left:calc(-2*calc(4*4px))}to{left:calc(-1*calc(4*4px))}}@keyframes DotNavigation2917037878__move-forward{0%{left:0}to{left:calc(-1*calc(4*4px))}}@keyframes DotNavigation2917037878__move-forward-next{0%{left:0}to{left:calc(-1*calc(4*4px))}}@keyframes DotNavigation2917037878__change-dot-opacity{0%{opacity:.4}to{opacity:1}}@keyframes StatesButton4056369033__bounce-in{0%{opacity:0;transform:translateY(30px)}32%{opacity:1;transform:translateY(-5px)}68%{opacity:1;transform:translateY(2px)}to{opacity:1;transform:translateY(0)}}@keyframes t5OpEh{0%{opacity:0}to{opacity:1}}@keyframes wWMmv7{0%{opacity:0;transform:translateY(30px)}32%{opacity:1;transform:translateY(-5px)}68%{opacity:1;transform:translateY(2px)}to{opacity:1;transform:translateY(0)}}@keyframes yRApWv{0%,80%,to{box-shadow:0 2.5em 0 -1.3em}40%{box-shadow:0 2.5em 0 0}}\\n\\n\\n\\t\\n\\n@font-face {font-family: \\'cormorantgaramond-light\\'; font-style: italic; font-weight: 400; src: url(\\'https://static.parastorage.com/tag-bundler/api/v1/fonts-cache/googlefont/woff2/s/cormorantgaramond/v5/zuqx3k1yUEl3Eavo-ZPEAhjqQayVfgmnRFwqYqN-Dis.woff2\\') format(\\'woff2\\');font-display: swap;\\n}\\n@font-face {font-family: \\'cormorantgaramond-light\\'; font-style: italic; font-weight: 700; src: url(\\'https://static.parastorage.com/tag-bundler/api/v1/fonts-cache/googlefont/woff2/s/cormorantgaramond/v5/zuqx3k1yUEl3Eavo-ZPEAjp2K1CgsixPpkXulytJk5A.woff2\\') format(\\'woff2\\');font-display: swap;\\n}\\n@font-face {font-family: \\'cormorantgaramond-light\\'; font-style: normal; font-weight: 700; src: url(\\'https://static.parastorage.com/tag-bundler/api/v1/fonts-cache/googlefont/woff2/s/cormorantgaramond/v5/iEjm9hVxcattz37Y8gZwVXP87xhFzkXvitf5EbJwljk.woff2\\') format(\\'woff2\\');font-display: swap;\\n}\\n@font-face {font-family: \\'cormorantgaramond-light\\'; font-style: normal; font-weight: 400; src: url(\\'https://static.parastorage.com/tag-bundler/api/v1/fonts-cache/googlefont/woff2/s/cormorantgaramond/v5/iEjm9hVxcattz37Y8gZwVSNMxVe3WGf96EDbCaLCBKE.woff2\\') format(\\'woff2\\');font-display: swap;\\n}@font-face {font-family: \\'cormorantgaramond\\'; font-style: italic; font-weight: 700; src: url(\\'https://static.parastorage.com/fonts/v2/2b314759-ac8f-48f7-9f7c-e863778ad50d/v1/cormorantgaramond.woff2\\') format(\\'woff2\\'); unicode-range: U+0000, U+000D, U+0020-007E, U+00A0-00B4, U+00B6-017F, U+018F, U+0192, U+01A0-01A1, U+01AF-01B0, U+01CD-01DC, U+01E2-01E3, U+01E6-01EB, U+01FA-01FF, U+0218-021B, U+0232-0233, U+0237, U+0251, U+0259, U+0261, U+02BB-02BC, U+02BE-02BF, U+02C6-02C7, U+02D8-02DD, U+0394, U+03A9, U+03BC, U+03C0, U+0400-045F, U+0462-0463, U+046A-046B, U+0472-0475, U+048A-04A5, U+04A8-04FF, U+0510-0513, U+051A-051D, U+0524-0529, U+052E-052F, U+1E0C-1E0F, U+1E20-1E21, U+1E24-1E25, U+1E2A-1E2B, U+1E30-1E31, U+1E36-1E3B, U+1E40-1E49, U+1E5A-1E63, U+1E6C-1E6F, U+1E80-1E85, U+1E8E-1E8F, U+1E92-1E93, U+1E97, U+1E9E, U+1EA0-1EF9, U+2002-200C, U+2012-2014, U+2018-201A, U+201C-201E, U+2020-2022, U+2026, U+202F-2030, U+2032-2033, U+2039-203A, U+2042, U+2044, U+205F, U+2070, U+2074-2079, U+207D-2089, U+208D-208E, U+20A1, U+20A4, U+20A6-20A7, U+20AB-20AC, U+20AE, U+20B1-20B2, U+20B4-20B5, U+20B8-20BA, U+20BD, U+2113, U+2116-2117, U+2120, U+2122, U+212E, U+215B-215E, U+2190-2199, U+2202, U+2205, U+220F, U+2211-2212, U+221A, U+221E, U+222B, U+2248, U+2260, U+2264-2265, U+25A0-25A1, U+25B2-25B3, U+25B6-25B7, U+25BC-25BD, U+25C0-25C1, U+25C6-25C7, U+25CA-25CB, U+25CF, U+25E6, U+25FB-25FC, U+261C, U+261E, U+2766, U+2B1B-2B1C, U+A729, U+FB00-FB06;font-display: swap;\\n}\\n@font-face {font-family: \\'cormorantgaramond\\'; font-style: normal; font-weight: 400; src: url(\\'https://static.parastorage.com/fonts/v2/1ca3c197-aa89-4e46-9e10-6b0e6617534b/v1/cormorantgaramond.woff2\\') format(\\'woff2\\'); unicode-range: U+0020-007E, U+00A0-00B4, U+00B6-017F, U+018F, U+0192, U+01A0-01A1, U+01AF-01B0, U+01CD-01DC, U+01E2-01E3, U+01E6-01EB, U+01FA-01FF, U+0218-021B, U+0232-0233, U+0237, U+0251, U+0259, U+0261, U+02BB-02BC, U+02BE-02BF, U+02C6-02C8, U+02CA-02CC, U+02D8-02DD, U+0394, U+03A9, U+03BC, U+03C0, U+0400-045F, U+0462-0463, U+046A-046B, U+0472-0475, U+048A-04A5, U+04A8-04FF, U+0510-0513, U+051A-051D, U+0524-0529, U+052E-052F, U+1E0C-1E0F, U+1E20-1E21, U+1E24-1E25, U+1E2A-1E2B, U+1E30-1E31, U+1E36-1E3B, U+1E40-1E49, U+1E5A-1E63, U+1E6C-1E6F, U+1E80-1E85, U+1E8E-1E8F, U+1E92-1E93, U+1E97, U+1E9E, U+1EA0-1EF9, U+2002-200C, U+2012-2015, U+2018-201A, U+201C-201E, U+2020-2022, U+2026, U+202F-2030, U+2032-2033, U+2039-203A, U+2042, U+2044, U+205F, U+2070, U+2074-2079, U+207D-2089, U+208D-208E, U+20A1, U+20A4, U+20A6-20A7, U+20AB-20AC, U+20AE, U+20B1-20B2, U+20B4-20B5, U+20B8-20BA, U+20BD, U+2113, U+2116-2117, U+2120, U+2122, U+212E, U+215B-215E, U+2190-2199, U+2202, U+2205, U+220F, U+2211-2212, U+221A, U+221E, U+222B, U+2248, U+2260, U+2264-2265, U+25A0-25A1, U+25B2-25B3, U+25B6-25B7, U+25BC-25BD, U+25C0-25C1, U+25C6-25C7, U+25CA-25CB, U+25CF, U+25E6, U+25FB-25FC, U+261C, U+261E, U+2766, U+2B1B-2B1C, U+A729;font-display: swap;\\n}\\n@font-face {font-family: \\'cormorantgaramond\\'; font-style: italic; font-weight: 400; src: url(\\'https://static.parastorage.com/fonts/v2/4ff5843c-24b1-481d-b1e6-75a00be1b055/v1/cormorantgaramond.woff2\\') format(\\'woff2\\'); unicode-range: U+0000, U+000D, U+0020-007E, U+00A0-00B4, U+00B6-017F, U+018F, U+0192, U+01A0-01A1, U+01AF-01B0, U+01CD-01DC, U+01E2-01E3, U+01E6-01EB, U+01FA-01FF, U+0218-021B, U+0232-0233, U+0237, U+0251, U+0259, U+0261, U+02BB-02BC, U+02BE-02BF, U+02C6-02C7, U+02D8-02DD, U+0394, U+03A9, U+03BC, U+03C0, U+0400-045F, U+0462-0463, U+046A-046B, U+0472-0475, U+048A-04A5, U+04A8-04FF, U+0510-0513, U+051A-051D, U+0524-0529, U+052E-052F, U+1E0C-1E0F, U+1E20-1E21, U+1E24-1E25, U+1E2A-1E2B, U+1E30-1E31, U+1E36-1E3B, U+1E40-1E49, U+1E5A-1E63, U+1E6C-1E6F, U+1E80-1E85, U+1E8E-1E8F, U+1E92-1E93, U+1E97, U+1E9E, U+1EA0-1EF9, U+2002-200C, U+2012-2014, U+2018-201A, U+201C-201E, U+2020-2022, U+2026, U+202F-2030, U+2032-2033, U+2039-203A, U+2042, U+2044, U+205F, U+2070, U+2074-2079, U+207D-2089, U+208D-208E, U+20A1, U+20A4, U+20A6-20A7, U+20AB-20AC, U+20AE, U+20B1-20B2, U+20B4-20B5, U+20B8-20BA, U+20BD, U+2113, U+2116-2117, U+2120, U+2122, U+212E, U+215B-215E, U+2190-2199, U+2202, U+2205, U+220F, U+2211-2212, U+221A, U+221E, U+222B, U+2248, U+2260, U+2264-2265, U+25A0-25A1, U+25B2-25B3, U+25B6-25B7, U+25BC-25BD, U+25C0-25C1, U+25C6-25C7, U+25CA-25CB, U+25CF, U+25E6, U+25FB-25FC, U+261C, U+261E, U+2766, U+2B1B-2B1C, U+A729, U+FB00-FB06;font-display: swap;\\n}\\n@font-face {font-family: \\'cormorantgaramond\\'; font-style: normal; font-weight: 700; src: url(\\'https://static.parastorage.com/fonts/v2/94060c7d-573a-4cb5-96cd-9b99f3a5b03c/v1/cormorantgaramond.woff2\\') format(\\'woff2\\'); unicode-range: U+0020-007E, U+00A0-00B4, U+00B6-017F, U+018F, U+0192, U+01A0-01A1, U+01AF-01B0, U+01CD-01DC, U+01E2-01E3, U+01E6-01EB, U+01FA-01FF, U+0218-021B, U+0232-0233, U+0237, U+0251, U+0259, U+0261, U+02BB-02BC, U+02BE-02BF, U+02C6-02C8, U+02CA-02CC, U+02D8-02DD, U+0394, U+03A9, U+03BC, U+03C0, U+0400-045F, U+0462-0463, U+046A-046B, U+0472-0475, U+048A-04A5, U+04A8-04FF, U+0510-0513, U+051A-051D, U+0524-0529, U+052E-052F, U+1E0C-1E0F, U+1E20-1E21, U+1E24-1E25, U+1E2A-1E2B, U+1E30-1E31, U+1E36-1E3B, U+1E40-1E49, U+1E5A-1E63, U+1E6C-1E6F, U+1E80-1E85, U+1E8E-1E8F, U+1E92-1E93, U+1E97, U+1E9E, U+1EA0-1EF9, U+2002-200C, U+2012-2015, U+2018-201A, U+201C-201E, U+2020-2022, U+2026, U+202F-2030, U+2032-2033, U+2039-203A, U+2042, U+2044, U+205F, U+2070, U+2074-2079, U+207D-2089, U+208D-208E, U+20A1, U+20A4, U+20A6-20A7, U+20AB-20AC, U+20AE, U+20B1-20B2, U+20B4-20B5, U+20B8-20BA, U+20BD, U+2113, U+2116-2117, U+2120, U+2122, U+212E, U+215B-215E, U+2190-2199, U+2202, U+2205, U+220F, U+2211-2212, U+221A, U+221E, U+222B, U+2248, U+2260, U+2264-2265, U+25A0-25A1, U+25B2-25B3, U+25B6-25B7, U+25BC-25BD, U+25C0-25C1, U+25C6-25C7, U+25CA-25CB, U+25CF, U+25E6, U+25FB-25FC, U+261C, U+261E, U+2766, U+2B1B-2B1C, U+A729;font-display: swap;\\n}@font-face {font-family: \\'cormorant garamond\\'; font-style: italic; font-weight: 400; src: url(\\'https://static.parastorage.com/tag-bundler/api/v1/fonts-cache/googlefont/woff2/s/cormorantgaramond/v16/co3ZmX5slCNuHLi8bLeY9MK7whWMhyjYrEtHmSqn7B6DxjY.woff2\\') format(\\'woff2\\'); unicode-range: U+0102-0103, U+0110-0111, U+0128-0129, U+0168-0169, U+01A0-01A1, U+01AF-01B0, U+0300-0301, U+0303-0304, U+0308-0309, U+0323, U+0329, U+1EA0-1EF9, U+20AB;font-display: swap;\\n}\\n@font-face {font-family: \\'cormorant garamond\\'; font-style: normal; font-weight: 400; src: url(\\'https://static.parastorage.com/tag-bundler/api/v1/fonts-cache/googlefont/woff2/s/cormorantgaramond/v16/co3bmX5slCNuHLi8bLeY9MK7whWMhyjYpntKky2F7i6C.woff2\\') format(\\'woff2\\'); unicode-range: U+0102-0103, U+0110-0111, U+0128-0129, U+0168-0169, U+01A0-01A1, U+01AF-01B0, U+0300-0301, U+0303-0304, U+0308-0309, U+0323, U+0329, U+1EA0-1EF9, U+20AB;font-display: swap;\\n}\\n@font-face {font-family: \\'cormorant garamond\\'; font-style: normal; font-weight: 700; src: url(\\'https://static.parastorage.com/tag-bundler/api/v1/fonts-cache/googlefont/woff2/s/cormorantgaramond/v16/co3YmX5slCNuHLi8bLeY9MK7whWMhyjQEl5fsQ-IxBSL_g94.woff2\\') format(\\'woff2\\'); unicode-range: U+0102-0103, U+0110-0111, U+0128-0129, U+0168-0169, U+01A0-01A1, U+01AF-01B0, U+0300-0301, U+0303-0304, U+0308-0309, U+0323, U+0329, U+1EA0-1EF9, U+20AB;font-display: swap;\\n}\\n@font-face {font-family: \\'cormorant garamond\\'; font-style: italic; font-weight: 700; src: url(\\'https://static.parastorage.com/tag-bundler/api/v1/fonts-cache/googlefont/woff2/s/cormorantgaramond/v16/co3WmX5slCNuHLi8bLeY9MK7whWMhyjYrEPzvD-FzhOp_D95AnI.woff2\\') format(\\'woff2\\'); unicode-range: U+0102-0103, U+0110-0111, U+0128-0129, U+0168-0169, U+01A0-01A1, U+01AF-01B0, U+0300-0301, U+0303-0304, U+0308-0309, U+0323, U+0329, U+1EA0-1EF9, U+20AB;font-display: swap;\\n}\\n@font-face {font-family: \\'cormorant garamond\\'; font-style: italic; font-weight: 400; src: url(\\'https://static.parastorage.com/tag-bundler/api/v1/fonts-cache/googlefont/woff2/s/cormorantgaramond/v16/co3ZmX5slCNuHLi8bLeY9MK7whWMhyjYrEtFmSqn7B6DxjY.woff2\\') format(\\'woff2\\'); unicode-range: U+0460-052F, U+1C80-1C88, U+20B4, U+2DE0-2DFF, U+A640-A69F, U+FE2E-FE2F;font-display: swap;\\n}\\n@font-face {font-family: \\'cormorant garamond\\'; font-style: normal; font-weight: 400; src: url(\\'https://static.parastorage.com/tag-bundler/api/v1/fonts-cache/googlefont/woff2/s/cormorantgaramond/v16/co3bmX5slCNuHLi8bLeY9MK7whWMhyjYpHtKky2F7i6C.woff2\\') format(\\'woff2\\'); unicode-range: U+0460-052F, U+1C80-1C88, U+20B4, U+2DE0-2DFF, U+A640-A69F, U+FE2E-FE2F;font-display: swap;\\n}\\n@font-face {font-family: \\'cormorant garamond\\'; font-style: normal; font-weight: 700; src: url(\\'https://static.parastorage.com/tag-bundler/api/v1/fonts-cache/googlefont/woff2/s/cormorantgaramond/v16/co3YmX5slCNuHLi8bLeY9MK7whWMhyjQEl5fsw-IxBSL_g94.woff2\\') format(\\'woff2\\'); unicode-range: U+0460-052F, U+1C80-1C88, U+20B4, U+2DE0-2DFF, U+A640-A69F, U+FE2E-FE2F;font-display: swap;\\n}\\n@font-face {font-family: \\'cormorant garamond\\'; font-style: italic; font-weight: 700; src: url(\\'https://static.parastorage.com/tag-bundler/api/v1/fonts-cache/googlefont/woff2/s/cormorantgaramond/v16/co3WmX5slCNuHLi8bLeY9MK7whWMhyjYrEPzvD-HzhOp_D95AnI.woff2\\') format(\\'woff2\\'); unicode-range: U+0460-052F, U+1C80-1C88, U+20B4, U+2DE0-2DFF, U+A640-A69F, U+FE2E-FE2F;font-display: swap;\\n}\\n@font-face {font-family: \\'cormorant garamond\\'; font-style: italic; font-weight: 400; src: url(\\'https://static.parastorage.com/tag-bundler/api/v1/fonts-cache/googlefont/woff2/s/cormorantgaramond/v16/co3ZmX5slCNuHLi8bLeY9MK7whWMhyjYrEtMmSqn7B6DxjY.woff2\\') format(\\'woff2\\'); unicode-range: U+0301, U+0400-045F, U+0490-0491, U+04B0-04B1, U+2116;font-display: swap;\\n}\\n@font-face {font-family: \\'cormorant garamond\\'; font-style: normal; font-weight: 400; src: url(\\'https://static.parastorage.com/tag-bundler/api/v1/fonts-cache/googlefont/woff2/s/cormorantgaramond/v16/co3bmX5slCNuHLi8bLeY9MK7whWMhyjYrXtKky2F7i6C.woff2\\') format(\\'woff2\\'); unicode-range: U+0301, U+0400-045F, U+0490-0491, U+04B0-04B1, U+2116;font-display: swap;\\n}\\n@font-face {font-family: \\'cormorant garamond\\'; font-style: normal; font-weight: 700; src: url(\\'https://static.parastorage.com/tag-bundler/api/v1/fonts-cache/googlefont/woff2/s/cormorantgaramond/v16/co3YmX5slCNuHLi8bLeY9MK7whWMhyjQEl5fug-IxBSL_g94.woff2\\') format(\\'woff2\\'); unicode-range: U+0301, U+0400-045F, U+0490-0491, U+04B0-04B1, U+2116;font-display: swap;\\n}\\n@font-face {font-family: \\'cormorant garamond\\'; font-style: italic; font-weight: 700; src: url(\\'https://static.parastorage.com/tag-bundler/api/v1/fonts-cache/googlefont/woff2/s/cormorantgaramond/v16/co3WmX5slCNuHLi8bLeY9MK7whWMhyjYrEPzvD-OzhOp_D95AnI.woff2\\') format(\\'woff2\\'); unicode-range: U+0301, U+0400-045F, U+0490-0491, U+04B0-04B1, U+2116;font-display: swap;\\n}\\n@font-face {font-family: \\'cormorant garamond\\'; font-style: italic; font-weight: 400; src: url(\\'https://static.parastorage.com/tag-bundler/api/v1/fonts-cache/googlefont/woff2/s/cormorantgaramond/v16/co3ZmX5slCNuHLi8bLeY9MK7whWMhyjYrEtGmSqn7B6DxjY.woff2\\') format(\\'woff2\\'); unicode-range: U+0100-02AF, U+0304, U+0308, U+0329, U+1E00-1E9F, U+1EF2-1EFF, U+2020, U+20A0-20AB, U+20AD-20C0, U+2113, U+2C60-2C7F, U+A720-A7FF;font-display: swap;\\n}\\n@font-face {font-family: \\'cormorant garamond\\'; font-style: normal; font-weight: 400; src: url(\\'https://static.parastorage.com/tag-bundler/api/v1/fonts-cache/googlefont/woff2/s/cormorantgaramond/v16/co3bmX5slCNuHLi8bLeY9MK7whWMhyjYp3tKky2F7i6C.woff2\\') format(\\'woff2\\'); unicode-range: U+0100-02AF, U+0304, U+0308, U+0329, U+1E00-1E9F, U+1EF2-1EFF, U+2020, U+20A0-20AB, U+20AD-20C0, U+2113, U+2C60-2C7F, U+A720-A7FF;font-display: swap;\\n}\\n@font-face {font-family: \\'cormorant garamond\\'; font-style: normal; font-weight: 700; src: url(\\'https://static.parastorage.com/tag-bundler/api/v1/fonts-cache/googlefont/woff2/s/cormorantgaramond/v16/co3YmX5slCNuHLi8bLeY9MK7whWMhyjQEl5fsA-IxBSL_g94.woff2\\') format(\\'woff2\\'); unicode-range: U+0100-02AF, U+0304, U+0308, U+0329, U+1E00-1E9F, U+1EF2-1EFF, U+2020, U+20A0-20AB, U+20AD-20C0, U+2113, U+2C60-2C7F, U+A720-A7FF;font-display: swap;\\n}\\n@font-face {font-family: \\'cormorant garamond\\'; font-style: italic; font-weight: 700; src: url(\\'https://static.parastorage.com/tag-bundler/api/v1/fonts-cache/googlefont/woff2/s/cormorantgaramond/v16/co3WmX5slCNuHLi8bLeY9MK7whWMhyjYrEPzvD-EzhOp_D95AnI.woff2\\') format(\\'woff2\\'); unicode-range: U+0100-02AF, U+0304, U+0308, U+0329, U+1E00-1E9F, U+1EF2-1EFF, U+2020, U+20A0-20AB, U+20AD-20C0, U+2113, U+2C60-2C7F, U+A720-A7FF;font-display: swap;\\n}\\n@font-face {font-family: \\'cormorant garamond\\'; font-style: italic; font-weight: 400; src: url(\\'https://static.parastorage.com/tag-bundler/api/v1/fonts-cache/googlefont/woff2/s/cormorantgaramond/v16/co3ZmX5slCNuHLi8bLeY9MK7whWMhyjYrEtImSqn7B6D.woff2\\') format(\\'woff2\\'); unicode-range: U+0000-00FF, U+0131, U+0152-0153, U+02BB-02BC, U+02C6, U+02DA, U+02DC, U+0304, U+0308, U+0329, U+2000-206F, U+2074, U+20AC, U+2122, U+2191, U+2193, U+2212, U+2215, U+FEFF, U+FFFD;font-display: swap;\\n}\\n@font-face {font-family: \\'cormorant garamond\\'; font-style: normal; font-weight: 400; src: url(\\'https://static.parastorage.com/tag-bundler/api/v1/fonts-cache/googlefont/woff2/s/cormorantgaramond/v16/co3bmX5slCNuHLi8bLeY9MK7whWMhyjYqXtKky2F7g.woff2\\') format(\\'woff2\\'); unicode-range: U+0000-00FF, U+0131, U+0152-0153, U+02BB-02BC, U+02C6, U+02DA, U+02DC, U+0304, U+0308, U+0329, U+2000-206F, U+2074, U+20AC, U+2122, U+2191, U+2193, U+2212, U+2215, U+FEFF, U+FFFD;font-display: swap;\\n}\\n@font-face {font-family: \\'cormorant garamond\\'; font-style: normal; font-weight: 700; src: url(\\'https://static.parastorage.com/tag-bundler/api/v1/fonts-cache/googlefont/woff2/s/cormorantgaramond/v16/co3YmX5slCNuHLi8bLeY9MK7whWMhyjQEl5fvg-IxBSL_g.woff2\\') format(\\'woff2\\'); unicode-range: U+0000-00FF, U+0131, U+0152-0153, U+02BB-02BC, U+02C6, U+02DA, U+02DC, U+0304, U+0308, U+0329, U+2000-206F, U+2074, U+20AC, U+2122, U+2191, U+2193, U+2212, U+2215, U+FEFF, U+FFFD;font-display: swap;\\n}\\n@font-face {font-family: \\'cormorant garamond\\'; font-style: italic; font-weight: 700; src: url(\\'https://static.parastorage.com/tag-bundler/api/v1/fonts-cache/googlefont/woff2/s/cormorantgaramond/v16/co3WmX5slCNuHLi8bLeY9MK7whWMhyjYrEPzvD-KzhOp_D95.woff2\\') format(\\'woff2\\'); unicode-range: U+0000-00FF, U+0131, U+0152-0153, U+02BB-02BC, U+02C6, U+02DA, U+02DC, U+0304, U+0308, U+0329, U+2000-206F, U+2074, U+20AC, U+2122, U+2191, U+2193, U+2212, U+2215, U+FEFF, U+FFFD;font-display: swap;\\n}@font-face {font-family: \\'avenir-lt-w01_35-light1475496\\'; font-style: normal; font-weight: 400; src: url(\\'https://static.parastorage.com/fonts/v2/af36905f-3c92-4ef9-b0c1-f91432f16ac1/v1/avenir-lt-w05_35-light.woff2\\') format(\\'woff2\\'); unicode-range: U+0100-012B, U+012E-0130, U+0132-0137, U+0139-0149, U+014C-0151, U+0154-015F, U+0162-0177, U+0179-017C, U+0218-021B, U+02C9, U+02D8-02D9, U+02DB, U+02DD, U+0394, U+03A9, U+03BC, U+03C0, U+1E9E, U+20B9-20BA, U+20BC-20BD, U+2113, U+2126, U+212E, U+2202, U+2206, U+220F, U+2211-2212, U+2215, U+2219-221A, U+221E, U+222B, U+2248, U+2260, U+2264-2265, U+25CA, U+F8FF, U+FB01-FB02;font-display: swap;\\n}\\n@font-face {font-family: \\'avenir-lt-w01_35-light1475496\\'; font-style: normal; font-weight: 400; src: url(\\'https://static.parastorage.com/fonts/v2/af36905f-3c92-4ef9-b0c1-f91432f16ac1/v1/avenir-lt-w01_35-light1475496.woff2\\') format(\\'woff2\\'); unicode-range: U+0000, U+000D, U+0020-007E, U+00A0-00FF, U+0131, U+0152-0153, U+0160-0161, U+0178, U+017D-017E, U+0192, U+0237, U+02C6-02C7, U+02DA, U+02DC, U+2013-2014, U+2018-201A, U+201C-201E, U+2020-2022, U+2026, U+2030, U+2039-203A, U+2044, U+20AC, U+2122;font-display: swap;\\n}@font-face {font-family: \\'forum\\'; font-style: normal; font-weight: 400; src: url(\\'https://static.parastorage.com/tag-bundler/api/v1/fonts-cache/googlefont/woff2/s/forum/v10/6aey4Ky-Vb8Ew8IcOpI43XnSBTM.woff2\\') format(\\'woff2\\'); unicode-range: U+0460-052F, U+1C80-1C88, U+20B4, U+2DE0-2DFF, U+A640-A69F, U+FE2E-FE2F;font-display: swap;\\n}\\n@font-face {font-family: \\'forum\\'; font-style: normal; font-weight: 400; src: url(\\'https://static.parastorage.com/tag-bundler/api/v1/fonts-cache/googlefont/woff2/s/forum/v10/6aey4Ky-Vb8Ew8IVOpI43XnSBTM.woff2\\') format(\\'woff2\\'); unicode-range: U+0400-045F, U+0490-0491, U+04B0-04B1, U+2116;font-display: swap;\\n}\\n@font-face {font-family: \\'forum\\'; font-style: normal; font-weight: 400; src: url(\\'https://static.parastorage.com/tag-bundler/api/v1/fonts-cache/googlefont/woff2/s/forum/v10/6aey4Ky-Vb8Ew8IfOpI43XnSBTM.woff2\\') format(\\'woff2\\'); unicode-range: U+0100-024F, U+0259, U+1E00-1EFF, U+2020, U+20A0-20AB, U+20AD-20CF, U+2113, U+2C60-2C7F, U+A720-A7FF;font-display: swap;\\n}\\n@font-face {font-family: \\'forum\\'; font-style: normal; font-weight: 400; src: url(\\'https://static.parastorage.com/tag-bundler/api/v1/fonts-cache/googlefont/woff2/s/forum/v10/6aey4Ky-Vb8Ew8IROpI43XnS.woff2\\') format(\\'woff2\\'); unicode-range: U+0000-00FF, U+0131, U+0152-0153, U+02BB-02BC, U+02C6, U+02DA, U+02DC, U+2000-206F, U+2074, U+20AC, U+2122, U+2191, U+2193, U+2212, U+2215, U+FEFF, U+FFFD;font-display: swap;\\n}@font-face {font-family: \\'haim-arukeem-w26-medium\\'; font-style: normal; font-weight: 400; src: url(\\'https://static.parastorage.com/fonts/v2/3a1b76cd-1c74-4d43-b2d5-0b8e55ac402d/v1/haim-arukeem-w26-medium.other.woff2\\') format(\\'woff2\\'); unicode-range: U+02C7, U+02DB, U+02DD, U+2021, U+2030, U+E802, U+E890-E899, U+FB01-FB02, U+FFFC;font-display: swap;\\n}\\n@font-face {font-family: \\'haim-arukeem-w26-medium\\'; font-style: normal; font-weight: 400; src: url(\\'https://static.parastorage.com/fonts/v2/3a1b76cd-1c74-4d43-b2d5-0b8e55ac402d/v1/haim-arukeem-w26-medium.hebrew.woff2\\') format(\\'woff2\\'); unicode-range: U+05B0-05C3, U+05C5, U+05C7, U+05D0-05EA, U+05F3-05F4, U+200C-200F, U+20AA, U+FB20-FB36, U+FB38-FB3C, U+FB3E, U+FB40-FB41, U+FB43-FB44, U+FB46-FB4B;font-display: swap;\\n}\\n@font-face {font-family: \\'haim-arukeem-w26-medium\\'; font-style: normal; font-weight: 400; src: url(\\'https://static.parastorage.com/fonts/v2/3a1b76cd-1c74-4d43-b2d5-0b8e55ac402d/v1/haim-arukeem-w26-medium.latin-ext.woff2\\') format(\\'woff2\\'); unicode-range: U+0141-0142, U+0160-0161, U+017D-017E, U+2020, U+20A7;font-display: swap;\\n}\\n@font-face {font-family: \\'haim-arukeem-w26-medium\\'; font-style: normal; font-weight: 400; src: url(\\'https://static.parastorage.com/fonts/v2/3a1b76cd-1c74-4d43-b2d5-0b8e55ac402d/v1/haim-arukeem-w26-medium.latin.woff2\\') format(\\'woff2\\'); unicode-range: U+000D, U+0020-007E, U+00A0-00AC, U+00AE-00CF, U+00D1-00DC, U+00DF-00EF, U+00F1-00FC, U+00FF, U+0131, U+0152-0153, U+02C6, U+02DA, U+02DC, U+2013-2014, U+2018-201A, U+201C-201E, U+2022, U+2026, U+2039-203A, U+20AC, U+2122, U+2212;font-display: swap;\\n}:root{-webkit-font-smoothing:antialiased;-moz-osx-font-smoothing:grayscale;}\\n\\n\\n</style>'}\n"
     ]
    }
   ],
   "source": [
    "print(dataset['train'][0])"
   ]
  },
  {
   "cell_type": "code",
   "execution_count": 3,
   "id": "a2b75278ac780233",
   "metadata": {
    "ExecuteTime": {
     "end_time": "2024-10-21T03:21:09.213457Z",
     "start_time": "2024-10-21T03:21:09.164204Z"
    }
   },
   "outputs": [],
   "source": [
    "from transformers import T5TokenizerFast\n",
    "from tokenizers.processors import TemplateProcessing\n",
    "\n",
    "tokenizer = T5TokenizerFast(tokenizer_file=\"data-rb-chopped/tokenizer.json\",  \n",
    "                                padding=True, \n",
    "                                eos_token=\"</s>\",unk_token=\"<unk>\", \n",
    "                                pad_token=\"<pad>\")\n",
    "\n",
    "post_processor = TemplateProcessing(\n",
    "    single=\"$A </s>\",\n",
    "    pair=\"$A </s> $B </s>\",\n",
    "    special_tokens=[(\"</s>\", tokenizer.eos_token_id)]\n",
    ")\n",
    "\n",
    "tokenizer._tokenizer.post_processor = post_processor"
   ]
  },
  {
   "cell_type": "code",
   "execution_count": 4,
   "id": "800a33e8-fea0-45cf-8bd6-6298946ef9a3",
   "metadata": {},
   "outputs": [
    {
     "name": "stdout",
     "output_type": "stream",
     "text": [
      "No unknown tokens found in the SVG. Length: 224\n",
      "No unknown tokens found in the HTML. Length: 5200\n"
     ]
    }
   ],
   "source": [
    "tokenized_output = tokenizer.encode(dataset['train'][0]['svg'], add_special_tokens=False)\n",
    "unk_token_id = tokenizer.unk_token_id\n",
    "if unk_token_id in tokenized_output:\n",
    "    print(\"Alert: The tokenized SVG contains unknown tokens.\")\n",
    "else:\n",
    "    print(\"No unknown tokens found in the SVG. Length: \" + str(len(tokenized_output)))\n",
    "\n",
    "tokenized_output = tokenizer.encode(dataset['train'][0]['html'], add_special_tokens=False)\n",
    "unk_token_id = tokenizer.unk_token_id\n",
    "if unk_token_id in tokenized_output:\n",
    "    print(\"Alert: The tokenized HTML contains unknown tokens.\")\n",
    "else:\n",
    "    print(\"No unknown tokens found in the HTML. Length: \" + str(len(tokenized_output)))"
   ]
  },
  {
   "cell_type": "code",
   "execution_count": 5,
   "id": "a5fb1f810bdc58b3",
   "metadata": {},
   "outputs": [
    {
     "name": "stdout",
     "output_type": "stream",
     "text": [
      "<body><div class=\"TNRewc\" style=\"display:var(--showQuickView-display, inherit)\"><button class=\"TUWFt6\" data-hook=\"product-item-quick-view-button\" type=\"button\">Quick View</button></div></body> <style> @keyframes slide-horizontal-new{0%{transform:translateX(100%)}}@keyframes slide-horizontal-old{80%{opacity:1}to{opacity:0;transform:translateX(-100%)}}@keyframes slide-vertical-new{0%{transform:translateY(-100%)}}@keyframes slide-vertical-old{80%{opacity:1}to{opacity:0;transform:translateY(100%)}}@keyframes out-in-new{0%{opacity:0}}@keyframes out-in-old{to{opacity:0}}@media(prefers-reduced-motion:reduce){::view-transition-group(*),::view-transition-new(*),::view-transition-old(*){animation:none!important}}body{background:transparent;border:0;margin:0;outline:0;padding:0;vertical-align:baseline}body{font-family:Arial,Helvetica,sans-serif;font-size:10px}body{height:100%}body{overflow-x:auto;overflow-y:scroll}:root{}@supports(-webkit-appearance:none) and (stroke-color:transparent){:root{}}@supports(container-type:inline-size){:root{}} button,div,var{background:transparent;border:0;margin:0;outline:0;padding:0;vertical-align:baseline}:root{}@keyframes ThreeDotsLoader2952763584__pulse{0%,80%,to{box-shadow:0 calc(2px + 6px) 0 -15px}40%{box-shadow:0 calc(2px + 6px) 0 0}}@keyframes Spinner2249616614__rotate{to{transform:rotate(1turn)}}@keyframes Spinner2249616614__dash{0%{stroke-dasharray:1,150;stroke-dashoffset:0}50%{stroke-dasharray:90,150;stroke-dashoffset:-35}to{stroke-dasharray:90,150;stroke-dashoffset:-124}}@keyframes DotNavigation2917037878__move-back{0%{left:calc(-2*calc(4*4px))}to{left:calc(-1*calc(4*4px))}}@keyframes DotNavigation2917037878__move-back-next{0%{left:calc(-2*calc(4*4px))}to{left:calc(-1*calc(4*4px))}}@keyframes DotNavigation2917037878__move-forward{0%{left:0}to{left:calc(-1*calc(4*4px))}}@keyframes DotNavigation2917037878__move-forward-next{0%{left:0}to{left:calc(-1*calc(4*4px))}}@keyframes DotNavigation2917037878__change-dot-opacity{0%{opacity:.4}to{opacity:1}}@keyframes StatesButton4056369033__bounce-in{0%{opacity:0;transform:translateY(30px)}32%{opacity:1;transform:translateY(-5px)}68%{opacity:1;transform:translateY(2px)}to{opacity:1;transform:translateY(0)}}@keyframes t5OpEh{0%{opacity:0}to{opacity:1}}@keyframes wWMmv7{0%{opacity:0;transform:translateY(30px)}32%{opacity:1;transform:translateY(-5px)}68%{opacity:1;transform:translateY(2px)}to{opacity:1;transform:translateY(0)}}@keyframes yRApWv{0%,80%,to{box-shadow:0 2.5em 0 -1.3em}40%{box-shadow:0 2.5em 0 0}} @font-face {font-family: 'cormorantgaramond-light'; font-style: italic; font-weight: 400; src: url('https://static.parastorage.com/tag-bundler/api/v1/fonts-cache/googlefont/woff2/s/cormorantgaramond/v5/zuqx3k1yUEl3Eavo-ZPEAhjqQayVfgmnRFwqYqN-Dis.woff2') format('woff2');font-display: swap; } @font-face {font-family: 'cormorantgaramond-light'; font-style: italic; font-weight: 700; src: url('https://static.parastorage.com/tag-bundler/api/v1/fonts-cache/googlefont/woff2/s/cormorantgaramond/v5/zuqx3k1yUEl3Eavo-ZPEAjp2K1CgsixPpkXulytJk5A.woff2') format('woff2');font-display: swap; } @font-face {font-family: 'cormorantgaramond-light'; font-style: normal; font-weight: 700; src: url('https://static.parastorage.com/tag-bundler/api/v1/fonts-cache/googlefont/woff2/s/cormorantgaramond/v5/iEjm9hVxcattz37Y8gZwVXP87xhFzkXvitf5EbJwljk.woff2') format('woff2');font-display: swap; } @font-face {font-family: 'cormorantgaramond-light'; font-style: normal; font-weight: 400; src: url('https://static.parastorage.com/tag-bundler/api/v1/fonts-cache/googlefont/woff2/s/cormorantgaramond/v5/iEjm9hVxcattz37Y8gZwVSNMxVe3WGf96EDbCaLCBKE.woff2') format('woff2');font-display: swap; }@font-face {font-family: 'cormorantgaramond'; font-style: italic; font-weight: 700; src: url('https://static.parastorage.com/fonts/v2/2b314759-ac8f-48f7-9f7c-e863778ad50d/v1/cormorantgaramond.woff2') format('woff2'); unicode-range: U+0000, U+000D, U+0020-007E, U+00A0-00B4, U+00B6-017F, U+018F, U+0192, U+01A0-01A1, U+01AF-01B0, U+01CD-01DC, U+01E2-01E3, U+01E6-01EB, U+01FA-01FF, U+0218-021B, U+0232-0233, U+0237, U+0251, U+0259, U+0261, U+02BB-02BC, U+02BE-02BF, U+02C6-02C7, U+02D8-02DD, U+0394, U+03A9, U+03BC, U+03C0, U+0400-045F, U+0462-0463, U+046A-046B, U+0472-0475, U+048A-04A5, U+04A8-04FF, U+0510-0513, U+051A-051D, U+0524-0529, U+052E-052F, U+1E0C-1E0F, U+1E20-1E21, U+1E24-1E25, U+1E2A-1E2B, U+1E30-1E31, U+1E36-1E3B, U+1E40-1E49, U+1E5A-1E63, U+1E6C-1E6F, U+1E80-1E85, U+1E8E-1E8F, U+1E92-1E93, U+1E97, U+1E9E, U+1EA0-1EF9, U+2002-200C, U+2012-2014, U+2018-201A, U+201C-201E, U+2020-2022, U+2026, U+202F-2030, U+2032-2033, U+2039-203A, U+2042, U+2044, U+205F, U+2070, U+2074-2079, U+207D-2089, U+208D-208E, U+20A1, U+20A4, U+20A6-20A7, U+20AB-20AC, U+20AE, U+20B1-20B2, U+20B4-20B5, U+20B8-20BA, U+20BD, U+2113, U+2116-2117, U+2120, U+2122, U+212E, U+215B-215E, U+2190-2199, U+2202, U+2205, U+220F, U+2211-2212, U+221A, U+221E, U+222B, U+2248, U+2260, U+2264-2265, U+25A0-25A1, U+25B2-25B3, U+25B6-25B7, U+25BC-25BD, U+25C0-25C1, U+25C6-25C7, U+25CA-25CB, U+25CF, U+25E6, U+25FB-25FC, U+261C, U+261E, U+2766, U+2B1B-2B1C, U+A729, U+FB00-FB06;font-display: swap; } @font-face {font-family: 'cormorantgaramond'; font-style: normal; font-weight: 400; src: url('https://static.parastorage.com/fonts/v2/1ca3c197-aa89-4e46-9e10-6b0e6617534b/v1/cormorantgaramond.woff2') format('woff2'); unicode-range: U+0020-007E, U+00A0-00B4, U+00B6-017F, U+018F, U+0192, U+01A0-01A1, U+01AF-01B0, U+01CD-01DC, U+01E2-01E3, U+01E6-01EB, U+01FA-01FF, U+0218-021B, U+0232-0233, U+0237, U+0251, U+0259, U+0261, U+02BB-02BC, U+02BE-02BF, U+02C6-02C8, U+02CA-02CC, U+02D8-02DD, U+0394, U+03A9, U+03BC, U+03C0, U+0400-045F, U+0462-0463, U+046A-046B, U+0472-0475, U+048A-04A5, U+04A8-04FF, U+0510-0513, U+051A-051D, U+0524-0529, U+052E-052F, U+1E0C-1E0F, U+1E20-1E21, U+1E24-1E25, U+1E2A-1E2B, U+1E30-1E31, U+1E36-1E3B, U+1E40-1E49, U+1E5A-1E63, U+1E6C-1E6F, U+1E80-1E85, U+1E8E-1E8F, U+1E92-1E93, U+1E97, U+1E9E, U+1EA0-1EF9, U+2002-200C, U+2012-2015, U+2018-201A, U+201C-201E, U+2020-2022, U+2026, U+202F-2030, U+2032-2033, U+2039-203A, U+2042, U+2044, U+205F, U+2070, U+2074-2079, U+207D-2089, U+208D-208E, U+20A1, U+20A4, U+20A6-20A7, U+20AB-20AC, U+20AE, U+20B1-20B2, U+20B4-20B5, U+20B8-20BA, U+20BD, U+2113, U+2116-2117, U+2120, U+2122, U+212E, U+215B-215E, U+2190-2199, U+2202, U+2205, U+220F, U+2211-2212, U+221A, U+221E, U+222B, U+2248, U+2260, U+2264-2265, U+25A0-25A1, U+25B2-25B3, U+25B6-25B7, U+25BC-25BD, U+25C0-25C1, U+25C6-25C7, U+25CA-25CB, U+25CF, U+25E6, U+25FB-25FC, U+261C, U+261E, U+2766, U+2B1B-2B1C, U+A729;font-display: swap; } @font-face {font-family: 'cormorantgaramond'; font-style: italic; font-weight: 400; src: url('https://static.parastorage.com/fonts/v2/4ff5843c-24b1-481d-b1e6-75a00be1b055/v1/cormorantgaramond.woff2') format('woff2'); unicode-range: U+0000, U+000D, U+0020-007E, U+00A0-00B4, U+00B6-017F, U+018F, U+0192, U+01A0-01A1, U+01AF-01B0, U+01CD-01DC, U+01E2-01E3, U+01E6-01EB, U+01FA-01FF, U+0218-021B, U+0232-0233, U+0237, U+0251, U+0259, U+0261, U+02BB-02BC, U+02BE-02BF, U+02C6-02C7, U+02D8-02DD, U+0394, U+03A9, U+03BC, U+03C0, U+0400-045F, U+0462-0463, U+046A-046B, U+0472-0475, U+048A-04A5, U+04A8-04FF, U+0510-0513, U+051A-051D, U+0524-0529, U+052E-052F, U+1E0C-1E0F, U+1E20-1E21, U+1E24-1E25, U+1E2A-1E2B, U+1E30-1E31, U+1E36-1E3B, U+1E40-1E49, U+1E5A-1E63, U+1E6C-1E6F, U+1E80-1E85, U+1E8E-1E8F, U+1E92-1E93, U+1E97, U+1E9E, U+1EA0-1EF9, U+2002-200C, U+2012-2014, U+2018-201A, U+201C-201E, U+2020-2022, U+2026, U+202F-2030, U+2032-2033, U+2039-203A, U+2042, U+2044, U+205F, U+2070, U+2074-2079, U+207D-2089, U+208D-208E, U+20A1, U+20A4, U+20A6-20A7, U+20AB-20AC, U+20AE, U+20B1-20B2, U+20B4-20B5, U+20B8-20BA, U+20BD, U+2113, U+2116-2117, U+2120, U+2122, U+212E, U+215B-215E, U+2190-2199, U+2202, U+2205, U+220F, U+2211-2212, U+221A, U+221E, U+222B, U+2248, U+2260, U+2264-2265, U+25A0-25A1, U+25B2-25B3, U+25B6-25B7, U+25BC-25BD, U+25C0-25C1, U+25C6-25C7, U+25CA-25CB, U+25CF, U+25E6, U+25FB-25FC, U+261C, U+261E, U+2766, U+2B1B-2B1C, U+A729, U+FB00-FB06;font-display: swap; } @font-face {font-family: 'cormorantgaramond'; font-style: normal; font-weight: 700; src: url('https://static.parastorage.com/fonts/v2/94060c7d-573a-4cb5-96cd-9b99f3a5b03c/v1/cormorantgaramond.woff2') format('woff2'); unicode-range: U+0020-007E, U+00A0-00B4, U+00B6-017F, U+018F, U+0192, U+01A0-01A1, U+01AF-01B0, U+01CD-01DC, U+01E2-01E3, U+01E6-01EB, U+01FA-01FF, U+0218-021B, U+0232-0233, U+0237, U+0251, U+0259, U+0261, U+02BB-02BC, U+02BE-02BF, U+02C6-02C8, U+02CA-02CC, U+02D8-02DD, U+0394, U+03A9, U+03BC, U+03C0, U+0400-045F, U+0462-0463, U+046A-046B, U+0472-0475, U+048A-04A5, U+04A8-04FF, U+0510-0513, U+051A-051D, U+0524-0529, U+052E-052F, U+1E0C-1E0F, U+1E20-1E21, U+1E24-1E25, U+1E2A-1E2B, U+1E30-1E31, U+1E36-1E3B, U+1E40-1E49, U+1E5A-1E63, U+1E6C-1E6F, U+1E80-1E85, U+1E8E-1E8F, U+1E92-1E93, U+1E97, U+1E9E, U+1EA0-1EF9, U+2002-200C, U+2012-2015, U+2018-201A, U+201C-201E, U+2020-2022, U+2026, U+202F-2030, U+2032-2033, U+2039-203A, U+2042, U+2044, U+205F, U+2070, U+2074-2079, U+207D-2089, U+208D-208E, U+20A1, U+20A4, U+20A6-20A7, U+20AB-20AC, U+20AE, U+20B1-20B2, U+20B4-20B5, U+20B8-20BA, U+20BD, U+2113, U+2116-2117, U+2120, U+2122, U+212E, U+215B-215E, U+2190-2199, U+2202, U+2205, U+220F, U+2211-2212, U+221A, U+221E, U+222B, U+2248, U+2260, U+2264-2265, U+25A0-25A1, U+25B2-25B3, U+25B6-25B7, U+25BC-25BD, U+25C0-25C1, U+25C6-25C7, U+25CA-25CB, U+25CF, U+25E6, U+25FB-25FC, U+261C, U+261E, U+2766, U+2B1B-2B1C, U+A729;font-display: swap; }@font-face {font-family: 'cormorant garamond'; font-style: italic; font-weight: 400; src: url('https://static.parastorage.com/tag-bundler/api/v1/fonts-cache/googlefont/woff2/s/cormorantgaramond/v16/co3ZmX5slCNuHLi8bLeY9MK7whWMhyjYrEtHmSqn7B6DxjY.woff2') format('woff2'); unicode-range: U+0102-0103, U+0110-0111, U+0128-0129, U+0168-0169, U+01A0-01A1, U+01AF-01B0, U+0300-0301, U+0303-0304, U+0308-0309, U+0323, U+0329, U+1EA0-1EF9, U+20AB;font-display: swap; } @font-face {font-family: 'cormorant garamond'; font-style: normal; font-weight: 400; src: url('https://static.parastorage.com/tag-bundler/api/v1/fonts-cache/googlefont/woff2/s/cormorantgaramond/v16/co3bmX5slCNuHLi8bLeY9MK7whWMhyjYpntKky2F7i6C.woff2') format('woff2'); unicode-range: U+0102-0103, U+0110-0111, U+0128-0129, U+0168-0169, U+01A0-01A1, U+01AF-01B0, U+0300-0301, U+0303-0304, U+0308-0309, U+0323, U+0329, U+1EA0-1EF9, U+20AB;font-display: swap; } @font-face {font-family: 'cormorant garamond'; font-style: normal; font-weight: 700; src: url('https://static.parastorage.com/tag-bundler/api/v1/fonts-cache/googlefont/woff2/s/cormorantgaramond/v16/co3YmX5slCNuHLi8bLeY9MK7whWMhyjQEl5fsQ-IxBSL_g94.woff2') format('woff2'); unicode-range: U+0102-0103, U+0110-0111, U+0128-0129, U+0168-0169, U+01A0-01A1, U+01AF-01B0, U+0300-0301, U+0303-0304, U+0308-0309, U+0323, U+0329, U+1EA0-1EF9, U+20AB;font-display: swap; } @font-face {font-family: 'cormorant garamond'; font-style: italic; font-weight: 700; src: url('https://static.parastorage.com/tag-bundler/api/v1/fonts-cache/googlefont/woff2/s/cormorantgaramond/v16/co3WmX5slCNuHLi8bLeY9MK7whWMhyjYrEPzvD-FzhOp_D95AnI.woff2') format('woff2'); unicode-range: U+0102-0103, U+0110-0111, U+0128-0129, U+0168-0169, U+01A0-01A1, U+01AF-01B0, U+0300-0301, U+0303-0304, U+0308-0309, U+0323, U+0329, U+1EA0-1EF9, U+20AB;font-display: swap; } @font-face {font-family: 'cormorant garamond'; font-style: italic; font-weight: 400; src: url('https://static.parastorage.com/tag-bundler/api/v1/fonts-cache/googlefont/woff2/s/cormorantgaramond/v16/co3ZmX5slCNuHLi8bLeY9MK7whWMhyjYrEtFmSqn7B6DxjY.woff2') format('woff2'); unicode-range: U+0460-052F, U+1C80-1C88, U+20B4, U+2DE0-2DFF, U+A640-A69F, U+FE2E-FE2F;font-display: swap; } @font-face {font-family: 'cormorant garamond'; font-style: normal; font-weight: 400; src: url('https://static.parastorage.com/tag-bundler/api/v1/fonts-cache/googlefont/woff2/s/cormorantgaramond/v16/co3bmX5slCNuHLi8bLeY9MK7whWMhyjYpHtKky2F7i6C.woff2') format('woff2'); unicode-range: U+0460-052F, U+1C80-1C88, U+20B4, U+2DE0-2DFF, U+A640-A69F, U+FE2E-FE2F;font-display: swap; } @font-face {font-family: 'cormorant garamond'; font-style: normal; font-weight: 700; src: url('https://static.parastorage.com/tag-bundler/api/v1/fonts-cache/googlefont/woff2/s/cormorantgaramond/v16/co3YmX5slCNuHLi8bLeY9MK7whWMhyjQEl5fsw-IxBSL_g94.woff2') format('woff2'); unicode-range: U+0460-052F, U+1C80-1C88, U+20B4, U+2DE0-2DFF, U+A640-A69F, U+FE2E-FE2F;font-display: swap; } @font-face {font-family: 'cormorant garamond'; font-style: italic; font-weight: 700; src: url('https://static.parastorage.com/tag-bundler/api/v1/fonts-cache/googlefont/woff2/s/cormorantgaramond/v16/co3WmX5slCNuHLi8bLeY9MK7whWMhyjYrEPzvD-HzhOp_D95AnI.woff2') format('woff2'); unicode-range: U+0460-052F, U+1C80-1C88, U+20B4, U+2DE0-2DFF, U+A640-A69F, U+FE2E-FE2F;font-display: swap; } @font-face {font-family: 'cormorant garamond'; font-style: italic; font-weight: 400; src: url('https://static.parastorage.com/tag-bundler/api/v1/fonts-cache/googlefont/woff2/s/cormorantgaramond/v16/co3ZmX5slCNuHLi8bLeY9MK7whWMhyjYrEtMmSqn7B6DxjY.woff2') format('woff2'); unicode-range: U+0301, U+0400-045F, U+0490-0491, U+04B0-04B1, U+2116;font-display: swap; } @font-face {font-family: 'cormorant garamond'; font-style: normal; font-weight: 400; src: url('https://static.parastorage.com/tag-bundler/api/v1/fonts-cache/googlefont/woff2/s/cormorantgaramond/v16/co3bmX5slCNuHLi8bLeY9MK7whWMhyjYrXtKky2F7i6C.woff2') format('woff2'); unicode-range: U+0301, U+0400-045F, U+0490-0491, U+04B0-04B1, U+2116;font-display: swap; } @font-face {font-family: 'cormorant garamond'; font-style: normal; font-weight: 700; src: url('https://static.parastorage.com/tag-bundler/api/v1/fonts-cache/googlefont/woff2/s/cormorantgaramond/v16/co3YmX5slCNuHLi8bLeY9MK7whWMhyjQEl5fug-IxBSL_g94.woff2') format('woff2'); unicode-range: U+0301, U+0400-045F, U+0490-0491, U+04B0-04B1, U+2116;font-display: swap; } @font-face {font-family: 'cormorant garamond'; font-style: italic; font-weight: 700; src: url('https://static.parastorage.com/tag-bundler/api/v1/fonts-cache/googlefont/woff2/s/cormorantgaramond/v16/co3WmX5slCNuHLi8bLeY9MK7whWMhyjYrEPzvD-OzhOp_D95AnI.woff2') format('woff2'); unicode-range: U+0301, U+0400-045F, U+0490-0491, U+04B0-04B1, U+2116;font-display: swap; } @font-face {font-family: 'cormorant garamond'; font-style: italic; font-weight: 400; src: url('https://static.parastorage.com/tag-bundler/api/v1/fonts-cache/googlefont/woff2/s/cormorantgaramond/v16/co3ZmX5slCNuHLi8bLeY9MK7whWMhyjYrEtGmSqn7B6DxjY.woff2') format('woff2'); unicode-range: U+0100-02AF, U+0304, U+0308, U+0329, U+1E00-1E9F, U+1EF2-1EFF, U+2020, U+20A0-20AB, U+20AD-20C0, U+2113, U+2C60-2C7F, U+A720-A7FF;font-display: swap; } @font-face {font-family: 'cormorant garamond'; font-style: normal; font-weight: 400; src: url('https://static.parastorage.com/tag-bundler/api/v1/fonts-cache/googlefont/woff2/s/cormorantgaramond/v16/co3bmX5slCNuHLi8bLeY9MK7whWMhyjYp3tKky2F7i6C.woff2') format('woff2'); unicode-range: U+0100-02AF, U+0304, U+0308, U+0329, U+1E00-1E9F, U+1EF2-1EFF, U+2020, U+20A0-20AB, U+20AD-20C0, U+2113, U+2C60-2C7F, U+A720-A7FF;font-display: swap; } @font-face {font-family: 'cormorant garamond'; font-style: normal; font-weight: 700; src: url('https://static.parastorage.com/tag-bundler/api/v1/fonts-cache/googlefont/woff2/s/cormorantgaramond/v16/co3YmX5slCNuHLi8bLeY9MK7whWMhyjQEl5fsA-IxBSL_g94.woff2') format('woff2'); unicode-range: U+0100-02AF, U+0304, U+0308, U+0329, U+1E00-1E9F, U+1EF2-1EFF, U+2020, U+20A0-20AB, U+20AD-20C0, U+2113, U+2C60-2C7F, U+A720-A7FF;font-display: swap; } @font-face {font-family: 'cormorant garamond'; font-style: italic; font-weight: 700; src: url('https://static.parastorage.com/tag-bundler/api/v1/fonts-cache/googlefont/woff2/s/cormorantgaramond/v16/co3WmX5slCNuHLi8bLeY9MK7whWMhyjYrEPzvD-EzhOp_D95AnI.woff2') format('woff2'); unicode-range: U+0100-02AF, U+0304, U+0308, U+0329, U+1E00-1E9F, U+1EF2-1EFF, U+2020, U+20A0-20AB, U+20AD-20C0, U+2113, U+2C60-2C7F, U+A720-A7FF;font-display: swap; } @font-face {font-family: 'cormorant garamond'; font-style: italic; font-weight: 400; src: url('https://static.parastorage.com/tag-bundler/api/v1/fonts-cache/googlefont/woff2/s/cormorantgaramond/v16/co3ZmX5slCNuHLi8bLeY9MK7whWMhyjYrEtImSqn7B6D.woff2') format('woff2'); unicode-range: U+0000-00FF, U+0131, U+0152-0153, U+02BB-02BC, U+02C6, U+02DA, U+02DC, U+0304, U+0308, U+0329, U+2000-206F, U+2074, U+20AC, U+2122, U+2191, U+2193, U+2212, U+2215, U+FEFF, U+FFFD;font-display: swap; } @font-face {font-family: 'cormorant garamond'; font-style: normal; font-weight: 400; src: url('https://static.parastorage.com/tag-bundler/api/v1/fonts-cache/googlefont/woff2/s/cormorantgaramond/v16/co3bmX5slCNuHLi8bLeY9MK7whWMhyjYqXtKky2F7g.woff2') format('woff2'); unicode-range: U+0000-00FF, U+0131, U+0152-0153, U+02BB-02BC, U+02C6, U+02DA, U+02DC, U+0304, U+0308, U+0329, U+2000-206F, U+2074, U+20AC, U+2122, U+2191, U+2193, U+2212, U+2215, U+FEFF, U+FFFD;font-display: swap; } @font-face {font-family: 'cormorant garamond'; font-style: normal; font-weight: 700; src: url('https://static.parastorage.com/tag-bundler/api/v1/fonts-cache/googlefont/woff2/s/cormorantgaramond/v16/co3YmX5slCNuHLi8bLeY9MK7whWMhyjQEl5fvg-IxBSL_g.woff2') format('woff2'); unicode-range: U+0000-00FF, U+0131, U+0152-0153, U+02BB-02BC, U+02C6, U+02DA, U+02DC, U+0304, U+0308, U+0329, U+2000-206F, U+2074, U+20AC, U+2122, U+2191, U+2193, U+2212, U+2215, U+FEFF, U+FFFD;font-display: swap; } @font-face {font-family: 'cormorant garamond'; font-style: italic; font-weight: 700; src: url('https://static.parastorage.com/tag-bundler/api/v1/fonts-cache/googlefont/woff2/s/cormorantgaramond/v16/co3WmX5slCNuHLi8bLeY9MK7whWMhyjYrEPzvD-KzhOp_D95.woff2') format('woff2'); unicode-range: U+0000-00FF, U+0131, U+0152-0153, U+02BB-02BC, U+02C6, U+02DA, U+02DC, U+0304, U+0308, U+0329, U+2000-206F, U+2074, U+20AC, U+2122, U+2191, U+2193, U+2212, U+2215, U+FEFF, U+FFFD;font-display: swap; }@font-face {font-family: 'avenir-lt-w01_35-light1475496'; font-style: normal; font-weight: 400; src: url('https://static.parastorage.com/fonts/v2/af36905f-3c92-4ef9-b0c1-f91432f16ac1/v1/avenir-lt-w05_35-light.woff2') format('woff2'); unicode-range: U+0100-012B, U+012E-0130, U+0132-0137, U+0139-0149, U+014C-0151, U+0154-015F, U+0162-0177, U+0179-017C, U+0218-021B, U+02C9, U+02D8-02D9, U+02DB, U+02DD, U+0394, U+03A9, U+03BC, U+03C0, U+1E9E, U+20B9-20BA, U+20BC-20BD, U+2113, U+2126, U+212E, U+2202, U+2206, U+220F, U+2211-2212, U+2215, U+2219-221A, U+221E, U+222B, U+2248, U+2260, U+2264-2265, U+25CA, U+F8FF, U+FB01-FB02;font-display: swap; } @font-face {font-family: 'avenir-lt-w01_35-light1475496'; font-style: normal; font-weight: 400; src: url('https://static.parastorage.com/fonts/v2/af36905f-3c92-4ef9-b0c1-f91432f16ac1/v1/avenir-lt-w01_35-light1475496.woff2') format('woff2'); unicode-range: U+0000, U+000D, U+0020-007E, U+00A0-00FF, U+0131, U+0152-0153, U+0160-0161, U+0178, U+017D-017E, U+0192, U+0237, U+02C6-02C7, U+02DA, U+02DC, U+2013-2014, U+2018-201A, U+201C-201E, U+2020-2022, U+2026, U+2030, U+2039-203A, U+2044, U+20AC, U+2122;font-display: swap; }@font-face {font-family: 'forum'; font-style: normal; font-weight: 400; src: url('https://static.parastorage.com/tag-bundler/api/v1/fonts-cache/googlefont/woff2/s/forum/v10/6aey4Ky-Vb8Ew8IcOpI43XnSBTM.woff2') format('woff2'); unicode-range: U+0460-052F, U+1C80-1C88, U+20B4, U+2DE0-2DFF, U+A640-A69F, U+FE2E-FE2F;font-display: swap; } @font-face {font-family: 'forum'; font-style: normal; font-weight: 400; src: url('https://static.parastorage.com/tag-bundler/api/v1/fonts-cache/googlefont/woff2/s/forum/v10/6aey4Ky-Vb8Ew8IVOpI43XnSBTM.woff2') format('woff2'); unicode-range: U+0400-045F, U+0490-0491, U+04B0-04B1, U+2116;font-display: swap; } @font-face {font-family: 'forum'; font-style: normal; font-weight: 400; src: url('https://static.parastorage.com/tag-bundler/api/v1/fonts-cache/googlefont/woff2/s/forum/v10/6aey4Ky-Vb8Ew8IfOpI43XnSBTM.woff2') format('woff2'); unicode-range: U+0100-024F, U+0259, U+1E00-1EFF, U+2020, U+20A0-20AB, U+20AD-20CF, U+2113, U+2C60-2C7F, U+A720-A7FF;font-display: swap; } @font-face {font-family: 'forum'; font-style: normal; font-weight: 400; src: url('https://static.parastorage.com/tag-bundler/api/v1/fonts-cache/googlefont/woff2/s/forum/v10/6aey4Ky-Vb8Ew8IROpI43XnS.woff2') format('woff2'); unicode-range: U+0000-00FF, U+0131, U+0152-0153, U+02BB-02BC, U+02C6, U+02DA, U+02DC, U+2000-206F, U+2074, U+20AC, U+2122, U+2191, U+2193, U+2212, U+2215, U+FEFF, U+FFFD;font-display: swap; }@font-face {font-family: 'haim-arukeem-w26-medium'; font-style: normal; font-weight: 400; src: url('https://static.parastorage.com/fonts/v2/3a1b76cd-1c74-4d43-b2d5-0b8e55ac402d/v1/haim-arukeem-w26-medium.other.woff2') format('woff2'); unicode-range: U+02C7, U+02DB, U+02DD, U+2021, U+2030, U+E802, U+E890-E899, U+FB01-FB02, U+FFFC;font-display: swap; } @font-face {font-family: 'haim-arukeem-w26-medium'; font-style: normal; font-weight: 400; src: url('https://static.parastorage.com/fonts/v2/3a1b76cd-1c74-4d43-b2d5-0b8e55ac402d/v1/haim-arukeem-w26-medium.hebrew.woff2') format('woff2'); unicode-range: U+05B0-05C3, U+05C5, U+05C7, U+05D0-05EA, U+05F3-05F4, U+200C-200F, U+20AA, U+FB20-FB36, U+FB38-FB3C, U+FB3E, U+FB40-FB41, U+FB43-FB44, U+FB46-FB4B;font-display: swap; } @font-face {font-family: 'haim-arukeem-w26-medium'; font-style: normal; font-weight: 400; src: url('https://static.parastorage.com/fonts/v2/3a1b76cd-1c74-4d43-b2d5-0b8e55ac402d/v1/haim-arukeem-w26-medium.latin-ext.woff2') format('woff2'); unicode-range: U+0141-0142, U+0160-0161, U+017D-017E, U+2020, U+20A7;font-display: swap; } @font-face {font-family: 'haim-arukeem-w26-medium'; font-style: normal; font-weight: 400; src: url('https://static.parastorage.com/fonts/v2/3a1b76cd-1c74-4d43-b2d5-0b8e55ac402d/v1/haim-arukeem-w26-medium.latin.woff2') format('woff2'); unicode-range: U+000D, U+0020-007E, U+00A0-00AC, U+00AE-00CF, U+00D1-00DC, U+00DF-00EF, U+00F1-00FC, U+00FF, U+0131, U+0152-0153, U+02C6, U+02DA, U+02DC, U+2013-2014, U+2018-201A, U+201C-201E, U+2022, U+2026, U+2039-203A, U+20AC, U+2122, U+2212;font-display: swap; }:root{-webkit-font-smoothing:antialiased;-moz-osx-font-smoothing:grayscale;} </style>\n"
     ]
    }
   ],
   "source": [
    "print(tokenizer.decode(tokenizer.encode(dataset['train'][0]['html'], add_special_tokens=False)))"
   ]
  },
  {
   "cell_type": "code",
   "execution_count": 6,
   "id": "5ee6756eef09e4f0",
   "metadata": {
    "ExecuteTime": {
     "end_time": "2024-10-17T07:01:04.027007Z",
     "start_time": "2024-10-17T06:31:33.349933Z"
    }
   },
   "outputs": [
    {
     "data": {
      "application/vnd.jupyter.widget-view+json": {
       "model_id": "10d828887bf14244826b7d79e149e218",
       "version_major": 2,
       "version_minor": 0
      },
      "text/plain": [
       "Map:   0%|          | 0/214708 [00:00<?, ? examples/s]"
      ]
     },
     "metadata": {},
     "output_type": "display_data"
    },
    {
     "data": {
      "application/vnd.jupyter.widget-view+json": {
       "model_id": "4ad9c9a8cc454f69ba5005dcbb508ce7",
       "version_major": 2,
       "version_minor": 0
      },
      "text/plain": [
       "Map:   0%|          | 0/8 [00:00<?, ? examples/s]"
      ]
     },
     "metadata": {},
     "output_type": "display_data"
    },
    {
     "data": {
      "application/vnd.jupyter.widget-view+json": {
       "model_id": "dc00628b265645bcae0c59449f7d9ccb",
       "version_major": 2,
       "version_minor": 0
      },
      "text/plain": [
       "Map:   0%|          | 0/100 [00:00<?, ? examples/s]"
      ]
     },
     "metadata": {},
     "output_type": "display_data"
    },
    {
     "data": {
      "application/vnd.jupyter.widget-view+json": {
       "model_id": "86e34af5e4444b30ab7010209ee0c9f5",
       "version_major": 2,
       "version_minor": 0
      },
      "text/plain": [
       "Filter:   0%|          | 0/214708 [00:00<?, ? examples/s]"
      ]
     },
     "metadata": {},
     "output_type": "display_data"
    },
    {
     "data": {
      "application/vnd.jupyter.widget-view+json": {
       "model_id": "3ba303f0214a41c98e20bd599119e2a9",
       "version_major": 2,
       "version_minor": 0
      },
      "text/plain": [
       "Filter:   0%|          | 0/8 [00:00<?, ? examples/s]"
      ]
     },
     "metadata": {},
     "output_type": "display_data"
    },
    {
     "data": {
      "application/vnd.jupyter.widget-view+json": {
       "model_id": "cff64b99708044eaac557a09acfa1df5",
       "version_major": 2,
       "version_minor": 0
      },
      "text/plain": [
       "Filter:   0%|          | 0/100 [00:00<?, ? examples/s]"
      ]
     },
     "metadata": {},
     "output_type": "display_data"
    },
    {
     "data": {
      "application/vnd.jupyter.widget-view+json": {
       "model_id": "f1bf18ff78e44f67824d0c5120b7d72e",
       "version_major": 2,
       "version_minor": 0
      },
      "text/plain": [
       "Map:   0%|          | 0/93081 [00:00<?, ? examples/s]"
      ]
     },
     "metadata": {},
     "output_type": "display_data"
    },
    {
     "data": {
      "application/vnd.jupyter.widget-view+json": {
       "model_id": "7cf2dd2bf71e4b40940da140c4835aec",
       "version_major": 2,
       "version_minor": 0
      },
      "text/plain": [
       "Map:   0%|          | 0/5 [00:00<?, ? examples/s]"
      ]
     },
     "metadata": {},
     "output_type": "display_data"
    },
    {
     "data": {
      "application/vnd.jupyter.widget-view+json": {
       "model_id": "c91cc641b6544ebc80a5e1681c2bab67",
       "version_major": 2,
       "version_minor": 0
      },
      "text/plain": [
       "Map:   0%|          | 0/39 [00:00<?, ? examples/s]"
      ]
     },
     "metadata": {},
     "output_type": "display_data"
    },
    {
     "name": "stdout",
     "output_type": "stream",
     "text": [
      "DatasetDict({\n",
      "    train: Dataset({\n",
      "        features: ['input_ids', 'attention_mask', 'input_length', 'labels', 'label_length'],\n",
      "        num_rows: 93081\n",
      "    })\n",
      "    valid: Dataset({\n",
      "        features: ['input_ids', 'attention_mask', 'input_length', 'labels', 'label_length'],\n",
      "        num_rows: 5\n",
      "    })\n",
      "    test: Dataset({\n",
      "        features: ['input_ids', 'attention_mask', 'input_length', 'labels', 'label_length'],\n",
      "        num_rows: 39\n",
      "    })\n",
      "})\n"
     ]
    }
   ],
   "source": [
    "MAX_SEQUENCE_LENGTH = 16_384 / 8\n",
    "\n",
    "def get_token_lengths(examples):\n",
    "    inputs = tokenizer(\n",
    "        examples['svg'],\n",
    "        truncation=False,  # Don't truncate yet\n",
    "        padding=False,     # Don't pad yet\n",
    "        return_length=True,\n",
    "    )\n",
    "    labels = tokenizer(\n",
    "        examples['html'],\n",
    "        truncation=False,\n",
    "        padding=False,\n",
    "        return_length=True,\n",
    "    )\n",
    "\n",
    "    inputs[\"input_length\"] = inputs[\"length\"]\n",
    "    inputs[\"labels\"] = labels[\"input_ids\"]\n",
    "    inputs[\"label_length\"] = labels[\"length\"]\n",
    "\n",
    "    inputs.pop(\"length\", None)\n",
    "\n",
    "    return inputs\n",
    "\n",
    "tokenized_data = dataset.map(get_token_lengths, batched=True)\n",
    "\n",
    "def filter_function(example):\n",
    "    return example['input_length'] <= MAX_SEQUENCE_LENGTH and example['label_length'] <= MAX_SEQUENCE_LENGTH\n",
    "\n",
    "filtered_data = tokenized_data.filter(filter_function)\n",
    "\n",
    "def tokenize_examples(examples):\n",
    "    inputs = tokenizer(\n",
    "        examples['svg'],\n",
    "        max_length=MAX_SEQUENCE_LENGTH,\n",
    "        padding='max_length',\n",
    "        truncation=True,\n",
    "        return_attention_mask=True,\n",
    "        add_special_tokens=True,\n",
    "    )\n",
    "    labels = tokenizer(\n",
    "        examples['html'],\n",
    "        max_length=MAX_SEQUENCE_LENGTH,\n",
    "        padding='max_length',\n",
    "        truncation=True,\n",
    "        return_attention_mask=True,\n",
    "        add_special_tokens=True,\n",
    "    )\n",
    "\n",
    "    labels = labels['input_ids']\n",
    "    labels[labels == tokenizer.pad_token_id] = -100\n",
    "    inputs[\"labels\"] = labels\n",
    "    \n",
    "\n",
    "    return inputs\n",
    "\n",
    "filtered_data = filtered_data.map(get_token_lengths, batched=True, remove_columns=dataset[\"train\"].column_names)\n",
    "\n",
    "print(filtered_data)"
   ]
  },
  {
   "cell_type": "code",
   "execution_count": 7,
   "id": "384b70a1fd6cda9a",
   "metadata": {},
   "outputs": [],
   "source": [
    "import numpy as np\n",
    "from utils.similarity import calculate_metrics\n",
    "from torch.utils.tensorboard import SummaryWriter\n",
    "from PIL import Image\n",
    "import torch\n",
    "from types import SimpleNamespace\n",
    "import shutil\n",
    "\n",
    "VIEWPORT_SIZES = {\n",
    "    'DESKTOP': {'width': 1440, 'height': 900},\n",
    "    'TABLET': {'width': 834, 'height': 1210},\n",
    "    'MOBILE': {'width': 393, 'height': 852},\n",
    "}\n",
    "\n",
    "VIEWPORTS = ['MOBILE']\n",
    "\n",
    "def add_image_to_tensorboard(name, step, img_path):\n",
    "    image = Image.open(img_path)\n",
    "    image = image.convert('RGB')\n",
    "    image_array = np.array(image)\n",
    "    image_tensor = torch.from_numpy(image_array)\n",
    "    image_tensor = image_tensor.permute(2, 0, 1)\n",
    "    image_tensor = image_tensor.float() / 255.0\n",
    "    \n",
    "    writer = SummaryWriter(log_dir=log_dir)\n",
    "    writer.add_image(name, image_tensor, step)\n",
    "    \n",
    "def add_text_to_tensorboard(name, step, text):\n",
    "    writer = SummaryWriter(log_dir=log_dir)\n",
    "    writer.add_text(name, text, step)\n",
    "\n",
    "def postprocess_text(preds, labels):\n",
    "    preds = [pred.strip().replace('<unk>', '') for pred in preds]\n",
    "    labels = [[label.strip().replace('<unk>', '')] for label in labels]\n",
    "\n",
    "    return preds, labels\n",
    "\n",
    "def create_compute_metrics(trainer, save_best_model_dir = None):\n",
    "    best_perceptual_loss = None\n",
    "\n",
    "    def compute_metrics(eval_predictions, to_tensorboard = True):\n",
    "        nonlocal best_perceptual_loss\n",
    "\n",
    "        predictions, labels = eval_predictions\n",
    "        \n",
    "        if isinstance(predictions, tuple):\n",
    "            predictions = predictions[0]\n",
    "\n",
    "        decoded_predictions = tokenizer.batch_decode(predictions, skip_special_tokens=True)\n",
    "        labels = np.where(labels != -100, labels, tokenizer.pad_token_id)\n",
    "        decoded_labels = tokenizer.batch_decode(labels, skip_special_tokens=True)\n",
    "\n",
    "        decoded_predictions, decoded_labels = postprocess_text(decoded_predictions, decoded_labels)\n",
    "    \n",
    "        similarity_scores = []\n",
    "        perceptual_losses = []\n",
    "        index = 1\n",
    "        for prediction, label in zip(decoded_predictions, decoded_labels):\n",
    "            if to_tensorboard:\n",
    "                add_text_to_tensorboard(f'valid_{index}_label_text', trainer.state.global_step, label[0])\n",
    "                add_text_to_tensorboard(f'valid_{index}_prediction_text', trainer.state.global_step, prediction)\n",
    "\n",
    "            for viewport in VIEWPORTS:\n",
    "            \n",
    "                metrics = calculate_metrics(prediction, label[0],\n",
    "                                        VIEWPORT_SIZES[viewport]['width'], VIEWPORT_SIZES[viewport]['height'])\n",
    "\n",
    "                if metrics is not None:\n",
    "                    similarity_scores.append(metrics['similarity'])\n",
    "                    perceptual_losses.append(metrics['perceptual_loss'])\n",
    "\n",
    "                    if to_tensorboard:\n",
    "                        add_image_to_tensorboard(f'valid_{index}_expectation_' + viewport.lower(), trainer.state.global_step, metrics['expected_screenshot_path'])\n",
    "                        add_image_to_tensorboard(f'valid_{index}_prediction_' + viewport.lower(), trainer.state.global_step, metrics['predicted_screenshot_path'])\n",
    "            \n",
    "            index += 1\n",
    "\n",
    "\n",
    "        result = {\n",
    "            'similarity': float(np.mean(similarity_scores)),\n",
    "            'perceptual_loss': float(np.mean(perceptual_losses)),\n",
    "        }\n",
    "\n",
    "        if save_best_model_dir is not None:\n",
    "            if best_perceptual_loss is None or result['perceptual_loss'] < best_perceptual_loss:\n",
    "                if os.path.exists(save_best_model_dir):\n",
    "                    shutil.rmtree(save_best_model_dir)\n",
    "                trainer.save_model(save_best_model_dir)\n",
    "                tokenizer.save_pretrained(save_best_model_dir)\n",
    "                with open(os.path.join(save_best_model_dir, 'best_results.txt'), 'w') as f:\n",
    "                    f.write(str(result) + '\\nStep: ' + str(trainer.state.global_step))\n",
    "\n",
    "                best_perceptual_loss = result['perceptual_loss']\n",
    "    \n",
    "        result = {k: round(v, 4) for k, v in result.items()}\n",
    "        return result\n",
    "    \n",
    "    return compute_metrics\n",
    "\n",
    "def eval_outside_of_training(model, dataset, to_tensorboard = False, step = None):\n",
    "    def pad_to_matrix(seqs, pad_value=0):\n",
    "        max_len = max(len(s) for s in seqs)\n",
    "        matrix  = np.full((len(seqs), max_len), pad_value, dtype=np.int64)\n",
    "        for i, s in enumerate(seqs):\n",
    "            matrix[i, :len(s)] = s                 # left-align, pad on the right\n",
    "        return matrix\n",
    "    \n",
    "    model.eval()\n",
    "    model.to('cuda:0')\n",
    "\n",
    "    predictions = []\n",
    "    labels = []\n",
    "    for row in dataset:\n",
    "        inputs = tokenizer(row['svg'], return_tensors=\"pt\").input_ids\n",
    "        labels.append(tokenizer(row['html'], return_tensors=\"pt\").input_ids)\n",
    "        inputs = inputs.to('cuda:0')\n",
    "        outputs = model.generate(inputs)\n",
    "        predictions.append(outputs[0])\n",
    "\n",
    "    mock_trainer = SimpleNamespace(state=SimpleNamespace(global_step=step))\n",
    "    compute_metrics = create_compute_metrics(mock_trainer)\n",
    "    return compute_metrics((\n",
    "            pad_to_matrix([t.cpu().numpy() for t in predictions]), \n",
    "            pad_to_matrix([t.squeeze(0).cpu().numpy() for t in labels])\n",
    "        ), to_tensorboard=to_tensorboard)\n",
    "\n"
   ]
  },
  {
   "cell_type": "code",
   "execution_count": 8,
   "id": "74b85759-0b3e-4d8e-83df-5d5592342906",
   "metadata": {
    "ExecuteTime": {
     "end_time": "2024-10-08T00:15:54.750802Z",
     "start_time": "2024-10-08T00:15:54.748356Z"
    }
   },
   "outputs": [],
   "source": [
    "from transformers import DataCollatorForSeq2Seq\n",
    "\n",
    "data_collator = DataCollatorForSeq2Seq(tokenizer=tokenizer, model=\"google/long-t5-tglobal-base\")"
   ]
  },
  {
   "cell_type": "code",
   "execution_count": 9,
   "id": "7b1aa323-b581-47ae-ad5d-76432876ec60",
   "metadata": {
    "ExecuteTime": {
     "end_time": "2024-10-08T00:17:08.459741Z",
     "start_time": "2024-10-08T00:17:05.043094Z"
    }
   },
   "outputs": [
    {
     "data": {
      "application/vnd.jupyter.widget-view+json": {
       "model_id": "2d17b1c63133422eaea12045799eabe2",
       "version_major": 2,
       "version_minor": 0
      },
      "text/plain": [
       "config.json:   0%|          | 0.00/851 [00:00<?, ?B/s]"
      ]
     },
     "metadata": {},
     "output_type": "display_data"
    },
    {
     "data": {
      "text/plain": [
       "Embedding(32228, 768)"
      ]
     },
     "execution_count": 9,
     "metadata": {},
     "output_type": "execute_result"
    }
   ],
   "source": [
    "from transformers import AutoModelForSeq2SeqLM, AutoConfig\n",
    "\n",
    "config = AutoConfig.from_pretrained(\n",
    "    \"google/long-t5-tglobal-base\",\n",
    "    vocab_size=len(tokenizer),\n",
    "    pad_token_id=tokenizer.pad_token_id,\n",
    "    eos_token_id = tokenizer.eos_token_id,\n",
    "    decoder_start_token_id = tokenizer.pad_token_id,\n",
    ")\n",
    "\n",
    "model = AutoModelForSeq2SeqLM.from_config(config)\n",
    "model.resize_token_embeddings(len(tokenizer))"
   ]
  },
  {
   "cell_type": "code",
   "execution_count": 10,
   "id": "99b220913c2a31da",
   "metadata": {
    "ExecuteTime": {
     "end_time": "2024-10-09T06:54:24.215945Z",
     "start_time": "2024-10-09T06:54:24.196547Z"
    }
   },
   "outputs": [
    {
     "data": {
      "text/plain": [
       "GenerationConfig {\n",
       "  \"decoder_start_token_id\": 3,\n",
       "  \"eos_token_id\": 1,\n",
       "  \"max_new_tokens\": 1024,\n",
       "  \"pad_token_id\": 3\n",
       "}"
      ]
     },
     "execution_count": 10,
     "metadata": {},
     "output_type": "execute_result"
    }
   ],
   "source": [
    "from transformers import GenerationConfig\n",
    "\n",
    "generation_config = GenerationConfig.from_model_config(model.config)\n",
    "generation_config._from_model_config = False\n",
    "generation_config.max_new_tokens = 1024\n",
    "\n",
    "generation_config"
   ]
  },
  {
   "cell_type": "code",
   "execution_count": 11,
   "id": "d94ab3b8-6735-43d2-a6dc-5ef792af3427",
   "metadata": {},
   "outputs": [],
   "source": [
    "from datetime import datetime\n",
    "timestamp = datetime.now().strftime(\"%Y-%m-%d_%H-%M-%S\")\n",
    "model_output_dir = f\"model-{timestamp}\"\n",
    "log_dir = f'{model_output_dir}/runs'"
   ]
  },
  {
   "cell_type": "code",
   "execution_count": 12,
   "id": "db770b6b1fc3a407",
   "metadata": {},
   "outputs": [],
   "source": [
    "results = eval_outside_of_training(model, dataset[\"valid\"], True, 0)\n",
    "writer = SummaryWriter(log_dir=log_dir)   # or reuse the one you have\n",
    "for k, v in results.items():\n",
    "    writer.add_scalar(f\"eval/{k}\", v, 0)"
   ]
  },
  {
   "cell_type": "code",
   "execution_count": 13,
   "id": "4df99189-0f2a-485e-b066-2265a5dbf5ea",
   "metadata": {
    "ExecuteTime": {
     "end_time": "2024-10-07T09:15:17.030472Z",
     "start_time": "2024-10-07T09:15:16.955982Z"
    }
   },
   "outputs": [
    {
     "name": "stderr",
     "output_type": "stream",
     "text": [
      "Detected kernel version 5.4.0, which is below the recommended minimum of 5.5.0; this can cause the process to hang. It is recommended to upgrade the kernel to the minimum version or higher.\n",
      "`use_cache=True` is incompatible with gradient checkpointing. Setting `use_cache=False`...\n",
      "/opt/conda/lib/python3.11/site-packages/torch/utils/checkpoint.py:295: FutureWarning: `torch.cpu.amp.autocast(args...)` is deprecated. Please use `torch.amp.autocast('cpu', args...)` instead.\n",
      "  with torch.enable_grad(), device_autocast_ctx, torch.cpu.amp.autocast(**ctx.cpu_autocast_kwargs):  # type: ignore[attr-defined]\n"
     ]
    },
    {
     "data": {
      "text/html": [
       "\n",
       "    <div>\n",
       "      \n",
       "      <progress value='8448' max='11636' style='width:300px; height:20px; vertical-align: middle;'></progress>\n",
       "      [ 8448/11636 6:03:42 < 2:17:17, 0.39 it/s, Epoch 1.45/2]\n",
       "    </div>\n",
       "    <table border=\"1\" class=\"dataframe\">\n",
       "  <thead>\n",
       " <tr style=\"text-align: left;\">\n",
       "      <th>Step</th>\n",
       "      <th>Training Loss</th>\n",
       "      <th>Validation Loss</th>\n",
       "      <th>Similarity</th>\n",
       "      <th>Perceptual Loss</th>\n",
       "      <th>Runtime</th>\n",
       "      <th>Samples Per Second</th>\n",
       "      <th>Steps Per Second</th>\n",
       "    </tr>\n",
       "  </thead>\n",
       "  <tbody>\n",
       "    <tr>\n",
       "      <td>1000</td>\n",
       "      <td>34.500800</td>\n",
       "      <td>31.811798</td>\n",
       "      <td>0.524000</td>\n",
       "      <td>0.620800</td>\n",
       "      <td>123.157300</td>\n",
       "      <td>0.041000</td>\n",
       "      <td>0.008000</td>\n",
       "    </tr>\n",
       "    <tr>\n",
       "      <td>2000</td>\n",
       "      <td>24.570300</td>\n",
       "      <td>21.587921</td>\n",
       "      <td>0.524000</td>\n",
       "      <td>0.620800</td>\n",
       "      <td>119.917600</td>\n",
       "      <td>0.042000</td>\n",
       "      <td>0.008000</td>\n",
       "    </tr>\n",
       "    <tr>\n",
       "      <td>3000</td>\n",
       "      <td>21.067500</td>\n",
       "      <td>18.419531</td>\n",
       "      <td>0.524000</td>\n",
       "      <td>0.620800</td>\n",
       "      <td>119.091500</td>\n",
       "      <td>0.042000</td>\n",
       "      <td>0.008000</td>\n",
       "    </tr>\n",
       "    <tr>\n",
       "      <td>4000</td>\n",
       "      <td>17.409000</td>\n",
       "      <td>15.980848</td>\n",
       "      <td>0.524000</td>\n",
       "      <td>0.620800</td>\n",
       "      <td>118.910100</td>\n",
       "      <td>0.042000</td>\n",
       "      <td>0.008000</td>\n",
       "    </tr>\n",
       "    <tr>\n",
       "      <td>5000</td>\n",
       "      <td>16.056000</td>\n",
       "      <td>13.955285</td>\n",
       "      <td>0.524000</td>\n",
       "      <td>0.620800</td>\n",
       "      <td>118.394900</td>\n",
       "      <td>0.042000</td>\n",
       "      <td>0.008000</td>\n",
       "    </tr>\n",
       "    <tr>\n",
       "      <td>6000</td>\n",
       "      <td>14.055700</td>\n",
       "      <td>12.818359</td>\n",
       "      <td>0.524000</td>\n",
       "      <td>0.620800</td>\n",
       "      <td>119.210500</td>\n",
       "      <td>0.042000</td>\n",
       "      <td>0.008000</td>\n",
       "    </tr>\n",
       "    <tr>\n",
       "      <td>7000</td>\n",
       "      <td>13.546500</td>\n",
       "      <td>11.733341</td>\n",
       "      <td>0.524000</td>\n",
       "      <td>0.620800</td>\n",
       "      <td>118.520500</td>\n",
       "      <td>0.042000</td>\n",
       "      <td>0.008000</td>\n",
       "    </tr>\n",
       "    <tr>\n",
       "      <td>8000</td>\n",
       "      <td>12.539600</td>\n",
       "      <td>11.367616</td>\n",
       "      <td>0.524000</td>\n",
       "      <td>0.620800</td>\n",
       "      <td>118.894200</td>\n",
       "      <td>0.042000</td>\n",
       "      <td>0.008000</td>\n",
       "    </tr>\n",
       "  </tbody>\n",
       "</table><p>"
      ],
      "text/plain": [
       "<IPython.core.display.HTML object>"
      ]
     },
     "metadata": {},
     "output_type": "display_data"
    },
    {
     "name": "stderr",
     "output_type": "stream",
     "text": [
      "Passing a tuple of `past_key_values` is deprecated and will be removed in Transformers v4.48.0. You should pass an instance of `EncoderDecoderCache` instead, e.g. `past_key_values=EncoderDecoderCache.from_legacy_cache(past_key_values)`.\n",
      "/opt/conda/lib/python3.11/site-packages/torch/utils/checkpoint.py:295: FutureWarning: `torch.cpu.amp.autocast(args...)` is deprecated. Please use `torch.amp.autocast('cpu', args...)` instead.\n",
      "  with torch.enable_grad(), device_autocast_ctx, torch.cpu.amp.autocast(**ctx.cpu_autocast_kwargs):  # type: ignore[attr-defined]\n",
      "/opt/conda/lib/python3.11/site-packages/torch/utils/checkpoint.py:295: FutureWarning: `torch.cpu.amp.autocast(args...)` is deprecated. Please use `torch.amp.autocast('cpu', args...)` instead.\n",
      "  with torch.enable_grad(), device_autocast_ctx, torch.cpu.amp.autocast(**ctx.cpu_autocast_kwargs):  # type: ignore[attr-defined]\n",
      "/opt/conda/lib/python3.11/site-packages/torch/utils/checkpoint.py:295: FutureWarning: `torch.cpu.amp.autocast(args...)` is deprecated. Please use `torch.amp.autocast('cpu', args...)` instead.\n",
      "  with torch.enable_grad(), device_autocast_ctx, torch.cpu.amp.autocast(**ctx.cpu_autocast_kwargs):  # type: ignore[attr-defined]\n",
      "/opt/conda/lib/python3.11/site-packages/torch/utils/checkpoint.py:295: FutureWarning: `torch.cpu.amp.autocast(args...)` is deprecated. Please use `torch.amp.autocast('cpu', args...)` instead.\n",
      "  with torch.enable_grad(), device_autocast_ctx, torch.cpu.amp.autocast(**ctx.cpu_autocast_kwargs):  # type: ignore[attr-defined]\n",
      "IOPub message rate exceeded.\n",
      "The Jupyter server will temporarily stop sending output\n",
      "to the client in order to avoid crashing it.\n",
      "To change this limit, set the config variable\n",
      "`--ServerApp.iopub_msg_rate_limit`.\n",
      "\n",
      "Current values:\n",
      "ServerApp.iopub_msg_rate_limit=1000.0 (msgs/sec)\n",
      "ServerApp.rate_limit_window=3.0 (secs)\n",
      "\n",
      "/opt/conda/lib/python3.11/site-packages/torch/utils/checkpoint.py:295: FutureWarning: `torch.cpu.amp.autocast(args...)` is deprecated. Please use `torch.amp.autocast('cpu', args...)` instead.\n",
      "  with torch.enable_grad(), device_autocast_ctx, torch.cpu.amp.autocast(**ctx.cpu_autocast_kwargs):  # type: ignore[attr-defined]\n",
      "/opt/conda/lib/python3.11/site-packages/torch/utils/checkpoint.py:295: FutureWarning: `torch.cpu.amp.autocast(args...)` is deprecated. Please use `torch.amp.autocast('cpu', args...)` instead.\n",
      "  with torch.enable_grad(), device_autocast_ctx, torch.cpu.amp.autocast(**ctx.cpu_autocast_kwargs):  # type: ignore[attr-defined]\n",
      "/opt/conda/lib/python3.11/site-packages/torch/utils/checkpoint.py:295: FutureWarning: `torch.cpu.amp.autocast(args...)` is deprecated. Please use `torch.amp.autocast('cpu', args...)` instead.\n",
      "  with torch.enable_grad(), device_autocast_ctx, torch.cpu.amp.autocast(**ctx.cpu_autocast_kwargs):  # type: ignore[attr-defined]\n",
      "/opt/conda/lib/python3.11/site-packages/torch/utils/checkpoint.py:295: FutureWarning: `torch.cpu.amp.autocast(args...)` is deprecated. Please use `torch.amp.autocast('cpu', args...)` instead.\n",
      "  with torch.enable_grad(), device_autocast_ctx, torch.cpu.amp.autocast(**ctx.cpu_autocast_kwargs):  # type: ignore[attr-defined]\n",
      "IOPub message rate exceeded.\n",
      "The Jupyter server will temporarily stop sending output\n",
      "to the client in order to avoid crashing it.\n",
      "To change this limit, set the config variable\n",
      "`--ServerApp.iopub_msg_rate_limit`.\n",
      "\n",
      "Current values:\n",
      "ServerApp.iopub_msg_rate_limit=1000.0 (msgs/sec)\n",
      "ServerApp.rate_limit_window=3.0 (secs)\n",
      "\n"
     ]
    }
   ],
   "source": [
    "from transformers import Seq2SeqTrainer, Seq2SeqTrainingArguments\n",
    "import os\n",
    "\n",
    "training_args = Seq2SeqTrainingArguments(\n",
    "    output_dir=model_output_dir,\n",
    "    eval_strategy=\"steps\",\n",
    "    eval_steps=1000,\n",
    "    save_strategy=\"steps\",\n",
    "    save_steps=1000,\n",
    "    learning_rate=2e-5,\n",
    "    per_device_train_batch_size=8,\n",
    "    per_device_eval_batch_size=8,\n",
    "    gradient_accumulation_steps=2,\n",
    "    gradient_checkpointing=True,\n",
    "    weight_decay=0.01,\n",
    "    save_total_limit=3,\n",
    "    num_train_epochs=2,\n",
    "    logging_steps=25,\n",
    "    logging_dir=log_dir,\n",
    "    predict_with_generate=True,\n",
    "    # load_best_model_at_end=True,\n",
    "    bf16=True,\n",
    "    generation_config=generation_config,\n",
    "    report_to=\"tensorboard\",\n",
    "    save_safetensors=False # Fixing missing encoder.embed_tokens.weight and decoder.embed_tokens.weight due to a bug.\n",
    ")\n",
    "\n",
    "trainer = Seq2SeqTrainer(\n",
    "    model=model,\n",
    "    args=training_args,\n",
    "    train_dataset=filtered_data[\"train\"],\n",
    "    eval_dataset=filtered_data[\"valid\"],\n",
    "    processing_class=tokenizer,\n",
    "    data_collator=data_collator,\n",
    "    compute_metrics=None,\n",
    ")\n",
    "\n",
    "trainer.compute_metrics = create_compute_metrics(trainer, os.path.join(model_output_dir, \"best\"))\n",
    "\n",
    "trainer.train()"
   ]
  },
  {
   "cell_type": "code",
   "execution_count": 14,
   "id": "67966342-5779-413b-991f-85890f04ce68",
   "metadata": {},
   "outputs": [
    {
     "data": {
      "text/plain": [
       "('model-2025-04-28_21-42-34/final/tokenizer_config.json',\n",
       " 'model-2025-04-28_21-42-34/final/special_tokens_map.json',\n",
       " 'model-2025-04-28_21-42-34/final/tokenizer.json')"
      ]
     },
     "execution_count": 14,
     "metadata": {},
     "output_type": "execute_result"
    }
   ],
   "source": [
    "import os\n",
    "\n",
    "trainer.save_model(os.path.join(model_output_dir, \"final\"))\n",
    "tokenizer.save_pretrained(os.path.join(model_output_dir, \"final\"))"
   ]
  },
  {
   "cell_type": "code",
   "execution_count": 15,
   "id": "3651bec92cad0cd0",
   "metadata": {},
   "outputs": [
    {
     "name": "stdout",
     "output_type": "stream",
     "text": [
      "<body><div class=\"\" data-mesh-id=\"comp-l9x50dsoinlineContent\" data-testid=\"inline-content\"><div data-mesh-id=\"comp-l9x50dsoinlineContent-gridContainer\" data-testid=\"mesh-container-content\"><div class=\"FubTgk comp-l9x50dsx1\" aria-disabled=\"false\" id=\"comp-l9x50dsx1\"><a aria-disabled=\"false\" class=\"PlZyDq uDW_Qe wixui-button\" data-testid=\"linkElement\" href=\"https://www.fournituresdebeauce.com/accessoires\" target=\"_self\"><span class=\"l7_2fn wixui-button__label\">ACCESSOIRES</span></a></div></div></div></body>\n",
      "\n",
      "<style>\n",
      "\n",
      "@keyframes slide-horizontal-new{0%{transform:translateX(100%)}}@keyframes slide-horizontal-old{80%{opacity:1}to{opacity:0;transform:translateX(-100%)}}@keyframes slide-vertical-new{0%{transform:translateY(-100%)}}@keyframes slide-vertical-old{80%{opacity:1}to{opacity:0;transform:translateY(100%)}}@keyframes out-in-new{0%{opacity:0}}@keyframes out-in-old{to{opacity:0}}@media(prefers-reduced-motion:reduce){::view-transition-group(*),::view-transition-new(*),::view-transition-old(*){animation:none!important}}body{background:transparent;border:0;margin:0;outline:0;padding:0;vertical-align:baseline}body{font-family:Arial,Helvetica,sans-serif;font-size:10px}body{height:100%}body{overflow-x:auto;overflow-y:scroll}:root{}@supports(-webkit-appearance:none) and (stroke-color:transparent){:root{}}@supports(container-type:inline-size){:root{}}[data-mesh-id$=inlineContent-gridContainer]:has(>[id^=oldHoverBox-]){isolation:isolate}\n",
      "\n",
      "a,div,span{background:transparent;border:0;margin:0;outline:0;padding:0;vertical-align:baseline}a{cursor:pointer;text-decoration:none}[data-mesh-id$=inlineContent]{pointer-events:none;position:relative}[data-mesh-id$=-gridContainer]>*,[data-mesh-id$=inlineContent]>:not([data-mesh-id$=-gridContainer]){pointer-events:auto}:root{}\n",
      "\n",
      ".PlZyDq{touch-action:manipulation}.uDW_Qe{align-items:center;box-sizing:border-box;display:flex;justify-content:var(--label-align);min-width:100%;text-align:initial;width:-moz-max-content;width:max-content}.uDW_Qe:before{max-width:var(--margin-start,0)}.uDW_Qe:after,.uDW_Qe:before{align-self:stretch;content:\"\";flex-grow:1}.uDW_Qe:after{max-width:var(--margin-end,0)}.FubTgk{height:100%}.FubTgk .uDW_Qe{border-radius:var(--corvid-border-radius,var(--rd,0));bottom:0;box-shadow:var(--shd,0 1px 4px rgba(0,0,0,.6));left:0;position:absolute;right:0;top:0;transition:var(--trans1,border-color .4s ease 0s,background-color .4s ease 0s)}.FubTgk .uDW_Qe:link,.FubTgk .uDW_Qe:visited{border-color:transparent}.FubTgk .l7_2fn{color:var(--corvid-color,rgb(var(--txt,var(--color_15,color_15))));font:var(--fnt,var(--font_5));margin:0;position:relative;transition:var(--trans2,color .4s ease 0s);white-space:nowrap}.FubTgk[aria-disabled=false] .uDW_Qe{background-color:var(--corvid-background-color,rgba(var(--bg,var(--color_17,color_17)),var(--alpha-bg,1)));border:solid var(--corvid-border-color,rgba(var(--brd,var(--color_15,color_15)),var(--alpha-brd,1))) var(--corvid-border-width,var(--brw,0));cursor:pointer!important}:host(.device-mobile-optimized) .FubTgk[aria-disabled=false]:active .uDW_Qe{background-color:var(--corvid-hover-background-color,rgba(var(--bgh,var(--color_18,color_18)),var(--alpha-bgh,1)));border-color:var(--corvid-hover-border-color,rgba(var(--brdh,var(--color_15,color_15)),var(--alpha-brdh,1)))}:host(.device-mobile-optimized) .FubTgk[aria-disabled=false]:active .l7_2fn{color:var(--corvid-hover-color,rgb(var(--txth,var(--color_15,color_15))))}:host(:not(.device-mobile-optimized)) .FubTgk[aria-disabled=false]:hover .uDW_Qe,body:not(.device-mobile-optimized) .FubTgk[aria-disabled=false]:hover .uDW_Qe{background-color:var(--corvid-hover-background-color,rgba(var(--bgh,var(--color_18,color_18)),var(--alpha-bgh,1)));border-color:var(--corvid-hover-border-color,rgba(var(--brdh,var(--color_15,color_15)),var(--alpha-brdh,1)))}:host(:not(.device-mobile-optimized)) .FubTgk[aria-disabled=false]:hover .l7_2fn,body:not(.device-mobile-optimized) .FubTgk[aria-disabled=false]:hover .l7_2fn{color:var(--corvid-hover-color,rgb(var(--txth,var(--color_15,color_15))))}@keyframes D_fVyl{0%{transform:translateX(-100%)}to{transform:translateX(100%)}}@keyframes sqiFbB{to{transform:rotate(1turn)}}@keyframes gpxbMK{0%{stroke-dasharray:1,150;stroke-dashoffset:0}50%{stroke-dasharray:90,150;stroke-dashoffset:-35}to{stroke-dasharray:90,150;stroke-dashoffset:-124}}@keyframes kYZz2Z{0%{animation-timing-function:ease-out;transform:rotate(180deg)}45%{transform:rotate(198deg)}55%{transform:rotate(234deg)}to{transform:rotate(540deg)}}@keyframes wlf4P4{to{opacity:1;transform:rotate(115deg)}}\n",
      "\n",
      "\n",
      "\t\n",
      "\n",
      "@font-face {font-family: 'futura-lt-w01-light'; font-style: normal; font-weight: 400; src: url('https://static.parastorage.com/fonts/v2/8e5b5cbc-6ad9-49f7-aee7-4e5133c3ee4d/v1/futura-lt-w05-light.woff2') format('woff2'); unicode-range: U+0100-010F, U+0111-012B, U+012E-0130, U+0132-0137, U+0139-0149, U+014C-0151, U+0154-015F, U+0162-0177, U+0179-017C, U+0218-021B, U+02C9, U+02D8-02D9, U+02DB, U+02DD, U+0394, U+03A9, U+03BC, U+03C0, U+1E9E, U+20B9-20BA, U+20BC-20BD, U+2113, U+2126, U+212E, U+2202, U+2206, U+220F, U+2211-2212, U+2215, U+2219-221A, U+221E, U+222B, U+2248, U+2260, U+2264-2265, U+25CA, U+F8FF, U+FB01-FB02;font-display: swap;\n",
      "}\n",
      "@font-face {font-family: 'futura-lt-w01-light'; font-style: normal; font-weight: 400; src: url('https://static.parastorage.com/fonts/v2/8e5b5cbc-6ad9-49f7-aee7-4e5133c3ee4d/v1/futura-lt-w01-light.woff2') format('woff2'); unicode-range: U+0000, U+000D, U+0020-007E, U+00A0-00FF, U+0110, U+0131, U+0152-0153, U+0160-0161, U+0178, U+017D-017E, U+0192, U+0237, U+02C6-02C7, U+02DA, U+02DC, U+2013-2014, U+2018-201A, U+201C-201E, U+2020-2022, U+2026, U+2030, U+2039-203A, U+2044, U+20AC, U+2122;font-display: swap;\n",
      "}@font-face {font-family: 'din-next-w01-light'; font-style: normal; font-weight: 400; src: url('https://static.parastorage.com/fonts/v2/eca8b0cd-45d8-43cf-aee7-ca462bc5497c/v1/din-next-w10-light.woff2') format('woff2'); unicode-range: U+0401-040C, U+040E-044F, U+0451-045C, U+045E-045F, U+0490-0491, U+2116;font-display: swap;\n",
      "}\n",
      "@font-face {font-family: 'din-next-w01-light'; font-style: normal; font-weight: 400; src: url('https://static.parastorage.com/fonts/v2/eca8b0cd-45d8-43cf-aee7-ca462bc5497c/v1/din-next-w02-light.woff2') format('woff2'); unicode-range: U+000D, U+0100-010F, U+0111-0130, U+0132-0151, U+0154-015F, U+0162-0177, U+0179-017C, U+01FA-01FF, U+0218-021B, U+0237, U+02C9, U+02D8-02D9, U+02DB, U+02DD, U+0394, U+03A9, U+03C0, U+1E80-1E85, U+1EF2-1EF3, U+2070, U+2074-2079, U+2080-2089, U+2113, U+2126, U+212E, U+2153-2154, U+215B-215E, U+2202, U+2206, U+220F, U+2211-2212, U+2215, U+2219-221A, U+221E, U+222B, U+2248, U+2260, U+2264-2265, U+25CA, U+F8FF, U+FB00-FB04;font-display: swap;\n",
      "}\n",
      "@font-face {font-family: 'din-next-w01-light'; font-style: normal; font-weight: 400; src: url('https://static.parastorage.com/fonts/v2/eca8b0cd-45d8-43cf-aee7-ca462bc5497c/v1/din-next-w01-light.woff2') format('woff2'); unicode-range: U+0020-007E, U+00A0-00FF, U+0110, U+0131, U+0152-0153, U+0160-0161, U+0178, U+017D-017E, U+0192, U+02C6-02C7, U+02DA, U+02DC, U+03BC, U+2013-2014, U+2018-201A, U+201C-201E, U+2020-2022, U+2026, U+2030, U+2039-203A, U+2044, U+20AC, U+2122;font-display: swap;\n",
      "}@font-face {font-family: 'raleway-semibold'; font-style: italic; font-weight: 700; src: url('https://static.parastorage.com/tag-bundler/api/v1/fonts-cache/googlefont/woff2/s/raleway/v12/lFxvRPuGFG5ktd7P0WRwKhUOjZSKWg4xBWp_C_qQx0o.woff2') format('woff2');font-display: swap;\n",
      "}\n",
      "@font-face {font-family: 'raleway-semibold'; font-style: normal; font-weight: 400; src: url('https://static.parastorage.com/tag-bundler/api/v1/fonts-cache/googlefont/woff2/s/raleway/v12/STBOO2waD2LpX45SXYjQBfk_vArhqVIZ0nv9q090hN8.woff2') format('woff2');font-display: swap;\n",
      "}\n",
      "@font-face {font-family: 'raleway-semibold'; font-style: italic; font-weight: 400; src: url('https://static.parastorage.com/tag-bundler/api/v1/fonts-cache/googlefont/woff2/s/raleway/v12/OY22yoG8EJ3IN_muVWm29BUOjZSKWg4xBWp_C_qQx0o.woff2') format('woff2');font-display: swap;\n",
      "}\n",
      "@font-face {font-family: 'raleway-semibold'; font-style: normal; font-weight: 700; src: url('https://static.parastorage.com/tag-bundler/api/v1/fonts-cache/googlefont/woff2/s/raleway/v12/WmVKXVcOuffP_qmCpFuyzfk_vArhqVIZ0nv9q090hN8.woff2') format('woff2');font-display: swap;\n",
      "}@font-face {font-family: 'raleway'; font-style: normal; font-weight: 700; src: url('https://static.parastorage.com/tag-bundler/api/v1/fonts-cache/googlefont/woff2/s/raleway/v26/1Ptug8zYS_SKggPNyCIIT4ttDfCmxA.woff2') format('woff2'); unicode-range: U+0102-0103, U+0110-0111, U+0128-0129, U+0168-0169, U+01A0-01A1, U+01AF-01B0, U+1EA0-1EF9, U+20AB;font-display: swap;\n",
      "}\n",
      "@font-face {font-family: 'raleway'; font-style: italic; font-weight: 700; src: url('https://static.parastorage.com/tag-bundler/api/v1/fonts-cache/googlefont/woff2/s/raleway/v26/1Ptsg8zYS_SKggPNyCg4QoFqL_KWxWMT.woff2') format('woff2'); unicode-range: U+0102-0103, U+0110-0111, U+0128-0129, U+0168-0169, U+01A0-01A1, U+01AF-01B0, U+1EA0-1EF9, U+20AB;font-display: swap;\n",
      "}\n",
      "@font-face {font-family: 'raleway'; font-style: normal; font-weight: 400; src: url('https://static.parastorage.com/tag-bundler/api/v1/fonts-cache/googlefont/woff2/s/raleway/v26/1Ptug8zYS_SKggPNyCIIT4ttDfCmxA.woff2') format('woff2'); unicode-range: U+0102-0103, U+0110-0111, U+0128-0129, U+0168-0169, U+01A0-01A1, U+01AF-01B0, U+1EA0-1EF9, U+20AB;font-display: swap;\n",
      "}\n",
      "@font-face {font-family: 'raleway'; font-style: italic; font-weight: 400; src: url('https://static.parastorage.com/tag-bundler/api/v1/fonts-cache/googlefont/woff2/s/raleway/v26/1Ptsg8zYS_SKggPNyCg4QoFqL_KWxWMT.woff2') format('woff2'); unicode-range: U+0102-0103, U+0110-0111, U+0128-0129, U+0168-0169, U+01A0-01A1, U+01AF-01B0, U+1EA0-1EF9, U+20AB;font-display: swap;\n",
      "}\n",
      "@font-face {font-family: 'raleway'; font-style: normal; font-weight: 700; src: url('https://static.parastorage.com/tag-bundler/api/v1/fonts-cache/googlefont/woff2/s/raleway/v26/1Ptug8zYS_SKggPNyCAIT4ttDfCmxA.woff2') format('woff2'); unicode-range: U+0460-052F, U+1C80-1C88, U+20B4, U+2DE0-2DFF, U+A640-A69F, U+FE2E-FE2F;font-display: swap;\n",
      "}\n",
      "@font-face {font-family: 'raleway'; font-style: italic; font-weight: 700; src: url('https://static.parastorage.com/tag-bundler/api/v1/fonts-cache/googlefont/woff2/s/raleway/v26/1Ptsg8zYS_SKggPNyCg4QIFqL_KWxWMT.woff2') format('woff2'); unicode-range: U+0460-052F, U+1C80-1C88, U+20B4, U+2DE0-2DFF, U+A640-A69F, U+FE2E-FE2F;font-display: swap;\n",
      "}\n",
      "@font-face {font-family: 'raleway'; font-style: normal; font-weight: 400; src: url('https://static.parastorage.com/tag-bundler/api/v1/fonts-cache/googlefont/woff2/s/raleway/v26/1Ptug8zYS_SKggPNyCAIT4ttDfCmxA.woff2') format('woff2'); unicode-range: U+0460-052F, U+1C80-1C88, U+20B4, U+2DE0-2DFF, U+A640-A69F, U+FE2E-FE2F;font-display: swap;\n",
      "}\n",
      "@font-face {font-family: 'raleway'; font-style: italic; font-weight: 400; src: url('https://static.parastorage.com/tag-bundler/api/v1/fonts-cache/googlefont/woff2/s/raleway/v26/1Ptsg8zYS_SKggPNyCg4QIFqL_KWxWMT.woff2') format('woff2'); unicode-range: U+0460-052F, U+1C80-1C88, U+20B4, U+2DE0-2DFF, U+A640-A69F, U+FE2E-FE2F;font-display: swap;\n",
      "}\n",
      "@font-face {font-family: 'raleway'; font-style: normal; font-weight: 700; src: url('https://static.parastorage.com/tag-bundler/api/v1/fonts-cache/googlefont/woff2/s/raleway/v26/1Ptug8zYS_SKggPNyCkIT4ttDfCmxA.woff2') format('woff2'); unicode-range: U+0400-045F, U+0490-0491, U+04B0-04B1, U+2116;font-display: swap;\n",
      "}\n",
      "@font-face {font-family: 'raleway'; font-style: italic; font-weight: 700; src: url('https://static.parastorage.com/tag-bundler/api/v1/fonts-cache/googlefont/woff2/s/raleway/v26/1Ptsg8zYS_SKggPNyCg4SYFqL_KWxWMT.woff2') format('woff2'); unicode-range: U+0400-045F, U+0490-0491, U+04B0-04B1, U+2116;font-display: swap;\n",
      "}\n",
      "@font-face {font-family: 'raleway'; font-style: normal; font-weight: 400; src: url('https://static.parastorage.com/tag-bundler/api/v1/fonts-cache/googlefont/woff2/s/raleway/v26/1Ptug8zYS_SKggPNyCkIT4ttDfCmxA.woff2') format('woff2'); unicode-range: U+0400-045F, U+0490-0491, U+04B0-04B1, U+2116;font-display: swap;\n",
      "}\n",
      "@font-face {font-family: 'raleway'; font-style: italic; font-weight: 400; src: url('https://static.parastorage.com/tag-bundler/api/v1/fonts-cache/googlefont/woff2/s/raleway/v26/1Ptsg8zYS_SKggPNyCg4SYFqL_KWxWMT.woff2') format('woff2'); unicode-range: U+0400-045F, U+0490-0491, U+04B0-04B1, U+2116;font-display: swap;\n",
      "}\n",
      "@font-face {font-family: 'raleway'; font-style: normal; font-weight: 700; src: url('https://static.parastorage.com/tag-bundler/api/v1/fonts-cache/googlefont/woff2/s/raleway/v26/1Ptug8zYS_SKggPNyCMIT4ttDfCmxA.woff2') format('woff2'); unicode-range: U+0100-024F, U+0259, U+1E00-1EFF, U+2020, U+20A0-20AB, U+20AD-20CF, U+2113, U+2C60-2C7F, U+A720-A7FF;font-display: swap;\n",
      "}\n",
      "@font-face {font-family: 'raleway'; font-style: italic; font-weight: 700; src: url('https://static.parastorage.com/tag-bundler/api/v1/fonts-cache/googlefont/woff2/s/raleway/v26/1Ptsg8zYS_SKggPNyCg4Q4FqL_KWxWMT.woff2') format('woff2'); unicode-range: U+0100-024F, U+0259, U+1E00-1EFF, U+2020, U+20A0-20AB, U+20AD-20CF, U+2113, U+2C60-2C7F, U+A720-A7FF;font-display: swap;\n",
      "}\n",
      "@font-face {font-family: 'raleway'; font-style: normal; font-weight: 400; src: url('https://static.parastorage.com/tag-bundler/api/v1/fonts-cache/googlefont/woff2/s/raleway/v26/1Ptug8zYS_SKggPNyCMIT4ttDfCmxA.woff2') format('woff2'); unicode-range: U+0100-024F, U+0259, U+1E00-1EFF, U+2020, U+20A0-20AB, U+20AD-20CF, U+2113, U+2C60-2C7F, U+A720-A7FF;font-display: swap;\n",
      "}\n",
      "@font-face {font-family: 'raleway'; font-style: italic; font-weight: 400; src: url('https://static.parastorage.com/tag-bundler/api/v1/fonts-cache/googlefont/woff2/s/raleway/v26/1Ptsg8zYS_SKggPNyCg4Q4FqL_KWxWMT.woff2') format('woff2'); unicode-range: U+0100-024F, U+0259, U+1E00-1EFF, U+2020, U+20A0-20AB, U+20AD-20CF, U+2113, U+2C60-2C7F, U+A720-A7FF;font-display: swap;\n",
      "}\n",
      "@font-face {font-family: 'raleway'; font-style: normal; font-weight: 700; src: url('https://static.parastorage.com/tag-bundler/api/v1/fonts-cache/googlefont/woff2/s/raleway/v26/1Ptug8zYS_SKggPNyC0IT4ttDfA.woff2') format('woff2'); unicode-range: U+0000-00FF, U+0131, U+0152-0153, U+02BB-02BC, U+02C6, U+02DA, U+02DC, U+2000-206F, U+2074, U+20AC, U+2122, U+2191, U+2193, U+2212, U+2215, U+FEFF, U+FFFD;font-display: swap;\n",
      "}\n",
      "@font-face {font-family: 'raleway'; font-style: italic; font-weight: 700; src: url('https://static.parastorage.com/tag-bundler/api/v1/fonts-cache/googlefont/woff2/s/raleway/v26/1Ptsg8zYS_SKggPNyCg4TYFqL_KWxQ.woff2') format('woff2'); unicode-range: U+0000-00FF, U+0131, U+0152-0153, U+02BB-02BC, U+02C6, U+02DA, U+02DC, U+2000-206F, U+2074, U+20AC, U+2122, U+2191, U+2193, U+2212, U+2215, U+FEFF, U+FFFD;font-display: swap;\n",
      "}\n",
      "@font-face {font-family: 'raleway'; font-style: normal; font-weight: 400; src: url('https://static.parastorage.com/tag-bundler/api/v1/fonts-cache/googlefont/woff2/s/raleway/v26/1Ptug8zYS_SKggPNyC0IT4ttDfA.woff2') format('woff2'); unicode-range: U+0000-00FF, U+0131, U+0152-0153, U+02BB-02BC, U+02C6, U+02DA, U+02DC, U+2000-206F, U+2074, U+20AC, U+2122, U+2191, U+2193, U+2212, U+2215, U+FEFF, U+FFFD;font-display: swap;\n",
      "}\n",
      "@font-face {font-family: 'raleway'; font-style: italic; font-weight: 400; src: url('https://static.parastorage.com/tag-bundler/api/v1/fonts-cache/googlefont/woff2/s/raleway/v26/1Ptsg8zYS_SKggPNyCg4TYFqL_KWxQ.woff2') format('woff2'); unicode-range: U+0000-00FF, U+0131, U+0152-0153, U+02BB-02BC, U+02C6, U+02DA, U+02DC, U+2000-206F, U+2074, U+20AC, U+2122, U+2191, U+2193, U+2212, U+2215, U+FEFF, U+FFFD;font-display: swap;\n",
      "}@font-face {font-family: 'playfair display'; font-style: italic; font-weight: 700; src: url('https://static.parastorage.com/tag-bundler/api/v1/fonts-cache/googlefont/woff2/s/playfairdisplay/v18/nuFnD-vYSZviVYUb_rj3ij__anPXDTngOWwu6zRmFqWF_ljR.woff2') format('woff2'); unicode-range: U+0102-0103, U+0110-0111, U+1EA0-1EF9, U+20AB;font-display: swap;\n",
      "}\n",
      "@font-face {font-family: 'playfair display'; font-style: italic; font-weight: 400; src: url('https://static.parastorage.com/tag-bundler/api/v1/fonts-cache/googlefont/woff2/s/playfairdisplay/v18/nuFkD-vYSZviVYUb_rj3ij__anPXDTnojUk7yRZrPJ-M.woff2') format('woff2'); unicode-range: U+0102-0103, U+0110-0111, U+1EA0-1EF9, U+20AB;font-display: swap;\n",
      "}\n",
      "@font-face {font-family: 'playfair display'; font-style: normal; font-weight: 400; src: url('https://static.parastorage.com/tag-bundler/api/v1/fonts-cache/googlefont/woff2/s/playfairdisplay/v18/nuFiD-vYSZviVYUb_rj3ij__anPXDTPYgEM86xRbPQ.woff2') format('woff2'); unicode-range: U+0102-0103, U+0110-0111, U+1EA0-1EF9, U+20AB;font-display: swap;\n",
      "}\n",
      "@font-face {font-family: 'playfair display'; font-style: normal; font-weight: 700; src: url('https://static.parastorage.com/tag-bundler/api/v1/fonts-cache/googlefont/woff2/s/playfairdisplay/v18/nuFlD-vYSZviVYUb_rj3ij__anPXBYf9lWEe5j5hNKe1_w.woff2') format('woff2'); unicode-range: U+0102-0103, U+0110-0111, U+1EA0-1EF9, U+20AB;font-display: swap;\n",
      "}\n",
      "@font-face {font-family: 'playfair display'; font-style: italic; font-weight: 700; src: url('https://static.parastorage.com/tag-bundler/api/v1/fonts-cache/googlefont/woff2/s/playfairdisplay/v18/nuFnD-vYSZviVYUb_rj3ij__anPXDTngOWwu4DRmFqWF_ljR.woff2') format('woff2'); unicode-range: U+0400-045F, U+0490-0491, U+04B0-04B1, U+2116;font-display: swap;\n",
      "}\n",
      "@font-face {font-family: 'playfair display'; font-style: italic; font-weight: 400; src: url('https://static.parastorage.com/tag-bundler/api/v1/fonts-cache/googlefont/woff2/s/playfairdisplay/v18/nuFkD-vYSZviVYUb_rj3ij__anPXDTnohkk7yRZrPJ-M.woff2') format('woff2'); unicode-range: U+0400-045F, U+0490-0491, U+04B0-04B1, U+2116;font-display: swap;\n",
      "}\n",
      "@font-face {font-family: 'playfair display'; font-style: normal; font-weight: 400; src: url('https://static.parastorage.com/tag-bundler/api/v1/fonts-cache/googlefont/woff2/s/playfairdisplay/v18/nuFiD-vYSZviVYUb_rj3ij__anPXDTjYgEM86xRbPQ.woff2') format('woff2'); unicode-range: U+0400-045F, U+0490-0491, U+04B0-04B1, U+2116;font-display: swap;\n",
      "}\n",
      "@font-face {font-family: 'playfair display'; font-style: normal; font-weight: 700; src: url('https://static.parastorage.com/tag-bundler/api/v1/fonts-cache/googlefont/woff2/s/playfairdisplay/v18/nuFlD-vYSZviVYUb_rj3ij__anPXBYf9lWoe5j5hNKe1_w.woff2') format('woff2'); unicode-range: U+0400-045F, U+0490-0491, U+04B0-04B1, U+2116;font-display: swap;\n",
      "}\n",
      "@font-face {font-family: 'playfair display'; font-style: italic; font-weight: 700; src: url('https://static.parastorage.com/tag-bundler/api/v1/fonts-cache/googlefont/woff2/s/playfairdisplay/v18/nuFnD-vYSZviVYUb_rj3ij__anPXDTngOWwu6jRmFqWF_ljR.woff2') format('woff2'); unicode-range: U+0100-024F, U+0259, U+1E00-1EFF, U+2020, U+20A0-20AB, U+20AD-20CF, U+2113, U+2C60-2C7F, U+A720-A7FF;font-display: swap;\n",
      "}\n",
      "@font-face {font-family: 'playfair display'; font-style: italic; font-weight: 400; src: url('https://static.parastorage.com/tag-bundler/api/v1/fonts-cache/googlefont/woff2/s/playfairdisplay/v18/nuFkD-vYSZviVYUb_rj3ij__anPXDTnojEk7yRZrPJ-M.woff2') format('woff2'); unicode-range: U+0100-024F, U+0259, U+1E00-1EFF, U+2020, U+20A0-20AB, U+20AD-20CF, U+2113, U+2C60-2C7F, U+A720-A7FF;font-display: swap;\n",
      "}\n",
      "@font-face {font-family: 'playfair display'; font-style: normal; font-weight: 400; src: url('https://static.parastorage.com/tag-bundler/api/v1/fonts-cache/googlefont/woff2/s/playfairdisplay/v18/nuFiD-vYSZviVYUb_rj3ij__anPXDTLYgEM86xRbPQ.woff2') format('woff2'); unicode-range: U+0100-024F, U+0259, U+1E00-1EFF, U+2020, U+20A0-20AB, U+20AD-20CF, U+2113, U+2C60-2C7F, U+A720-A7FF;font-display: swap;\n",
      "}\n",
      "@font-face {font-family: 'playfair display'; font-style: normal; font-weight: 700; src: url('https://static.parastorage.com/tag-bundler/api/v1/fonts-cache/googlefont/woff2/s/playfairdisplay/v18/nuFlD-vYSZviVYUb_rj3ij__anPXBYf9lWAe5j5hNKe1_w.woff2') format('woff2'); unicode-range: U+0100-024F, U+0259, U+1E00-1EFF, U+2020, U+20A0-20AB, U+20AD-20CF, U+2113, U+2C60-2C7F, U+A720-A7FF;font-display: swap;\n",
      "}\n",
      "@font-face {font-family: 'playfair display'; font-style: italic; font-weight: 700; src: url('https://static.parastorage.com/tag-bundler/api/v1/fonts-cache/googlefont/woff2/s/playfairdisplay/v18/nuFnD-vYSZviVYUb_rj3ij__anPXDTngOWwu5DRmFqWF_g.woff2') format('woff2'); unicode-range: U+0000-00FF, U+0131, U+0152-0153, U+02BB-02BC, U+02C6, U+02DA, U+02DC, U+2000-206F, U+2074, U+20AC, U+2122, U+2191, U+2193, U+2212, U+2215, U+FEFF, U+FFFD;font-display: swap;\n",
      "}\n",
      "@font-face {font-family: 'playfair display'; font-style: italic; font-weight: 400; src: url('https://static.parastorage.com/tag-bundler/api/v1/fonts-cache/googlefont/woff2/s/playfairdisplay/v18/nuFkD-vYSZviVYUb_rj3ij__anPXDTnogkk7yRZrPA.woff2') format('woff2'); unicode-range: U+0000-00FF, U+0131, U+0152-0153, U+02BB-02BC, U+02C6, U+02DA, U+02DC, U+2000-206F, U+2074, U+20AC, U+2122, U+2191, U+2193, U+2212, U+2215, U+FEFF, U+FFFD;font-display: swap;\n",
      "}\n",
      "@font-face {font-family: 'playfair display'; font-style: normal; font-weight: 400; src: url('https://static.parastorage.com/tag-bundler/api/v1/fonts-cache/googlefont/woff2/s/playfairdisplay/v18/nuFiD-vYSZviVYUb_rj3ij__anPXDTzYgEM86xQ.woff2') format('woff2'); unicode-range: U+0000-00FF, U+0131, U+0152-0153, U+02BB-02BC, U+02C6, U+02DA, U+02DC, U+2000-206F, U+2074, U+20AC, U+2122, U+2191, U+2193, U+2212, U+2215, U+FEFF, U+FFFD;font-display: swap;\n",
      "}\n",
      "@font-face {font-family: 'playfair display'; font-style: normal; font-weight: 700; src: url('https://static.parastorage.com/tag-bundler/api/v1/fonts-cache/googlefont/woff2/s/playfairdisplay/v18/nuFlD-vYSZviVYUb_rj3ij__anPXBYf9lW4e5j5hNKc.woff2') format('woff2'); unicode-range: U+0000-00FF, U+0131, U+0152-0153, U+02BB-02BC, U+02C6, U+02DA, U+02DC, U+2000-206F, U+2074, U+20AC, U+2122, U+2191, U+2193, U+2212, U+2215, U+FEFF, U+FFFD;font-display: swap;\n",
      "}@font-face {font-family: 'proxima-n-w01-reg'; font-style: normal; font-weight: 400; src: url('https://static.parastorage.com/fonts/v2/c24fcada-6239-48bc-8b88-9288338191c9/v1/proxima-n-w05-reg.woff2') format('woff2'); unicode-range: U+0000, U+0100-010F, U+0111-0130, U+0132-0151, U+0154-015F, U+0162-0177, U+0179-017C, U+017F, U+018F, U+019D, U+01A0-01A1, U+01AF-01B0, U+01E6-01E7, U+01EA-01EB, U+01FA-01FF, U+0218-021B, U+0232-0233, U+0237, U+0259, U+0272, U+02B0, U+02BB-02BC, U+02C9, U+02CB, U+02D8-02D9, U+02DB, U+02DD, U+0374-0375, U+037E, U+0384-038A, U+038C, U+038E-03A1, U+03A3-03CE, U+03D7, U+0400-045F, U+0472-0475, U+048A-04FF, U+0510-0513, U+051C-051D, U+0524-0527, U+052E-052F, U+1E02-1E03, U+1E0A-1E0B, U+1E1E-1E1F, U+1E22-1E23, U+1E56-1E57, U+1E60-1E61, U+1E6A-1E6B, U+1E80-1E85, U+1E9E, U+1EA0-1EF9, U+2000-200A, U+2015, U+201B, U+2032-2033, U+203D-203E, U+2070, U+2074-2079, U+207D-2089, U+208D-208E, U+20A1, U+20A3-20A4, U+20A6-20AB, U+20B4, U+20B8-20BA, U+20BC-20BD, U+2113, U+2116-2117, U+2120, U+2126, U+212E, U+2153-2154, U+215B-215E, U+2190-2193, U+2202, U+2206, U+220F, U+2211-2212, U+2215, U+2219-221A, U+221E, U+222B, U+2248, U+2260, U+2264-2265, U+22B2-22B3, U+22C5, U+2318, U+25A0, U+25B2, U+25BC, U+25CA, U+25CF, U+2605, U+2610-2611, U+2666, U+2713, U+2E18, U+E004-E005, U+F43A-F43B, U+F460-F473, U+F498-F49F, U+F4C6-F4C7, U+F4CC-F4CD, U+F4D2-F4D7, U+F50A-F50B, U+F50E-F533, U+F536-F539, U+F53C-F53F, U+F637, U+F6C3, U+F6DD, U+F6DF-F6F3, U+F8FF, U+FB00-FB04;font-display: swap;\n",
      "}\n",
      "@font-face {font-family: 'proxima-n-w01-reg'; font-style: normal; font-weight: 400; src: url('https://static.parastorage.com/fonts/v2/c24fcada-6239-48bc-8b88-9288338191c9/v1/proxima-n-w01-reg.woff2') format('woff2'); unicode-range: U+000D, U+0020-007E, U+00A0-00FF, U+0110, U+0131, U+0152-0153, U+0160-0161, U+0178, U+017D-017E, U+0192, U+02C6-02C7, U+02DA, U+02DC, U+2013-2014, U+2018-201A, U+201C-201E, U+2020-2022, U+2026, U+2030, U+2039-203A, U+2044, U+20AC, U+2122, U+F656-F659;font-display: swap;\n",
      "}@font-face {font-family: 'eb garamond'; font-style: normal; font-weight: 400; src: url('https://static.parastorage.com/tag-bundler/api/v1/fonts-cache/googlefont/woff2/s/ebgaramond/v12/SlGUmQSNjdsmc35JDF1K5GR6SDk_YAPIlWk.woff2') format('woff2'); unicode-range: U+0102-0103, U+0110-0111, U+1EA0-1EF9, U+20AB;font-display: swap;\n",
      "}\n",
      "@font-face {font-family: 'eb garamond'; font-style: normal; font-weight: 700; src: url('https://static.parastorage.com/tag-bundler/api/v1/fonts-cache/googlefont/woff2/s/ebgaramond/v12/SlGUmQSNjdsmc35JDF1K5GR6SDk_YAPIlWk.woff2') format('woff2'); unicode-range: U+0102-0103, U+0110-0111, U+1EA0-1EF9, U+20AB;font-display: swap;\n",
      "}\n",
      "@font-face {font-family: 'eb garamond'; font-style: italic; font-weight: 700; src: url('https://static.parastorage.com/tag-bundler/api/v1/fonts-cache/googlefont/woff2/s/ebgaramond/v12/SlGWmQSNjdsmc35JDF1K5GRweDQ1ZyHKpWiGIg.woff2') format('woff2'); unicode-range: U+0102-0103, U+0110-0111, U+1EA0-1EF9, U+20AB;font-display: swap;\n",
      "}\n",
      "@font-face {font-family: 'eb garamond'; font-style: italic; font-weight: 400; src: url('https://static.parastorage.com/tag-bundler/api/v1/fonts-cache/googlefont/woff2/s/ebgaramond/v12/SlGWmQSNjdsmc35JDF1K5GRweDQ1ZyHKpWiGIg.woff2') format('woff2'); unicode-range: U+0102-0103, U+0110-0111, U+1EA0-1EF9, U+20AB;font-display: swap;\n",
      "}\n",
      "@font-face {font-family: 'eb garamond'; font-style: normal; font-weight: 400; src: url('https://static.parastorage.com/tag-bundler/api/v1/fonts-cache/googlefont/woff2/s/ebgaramond/v12/SlGUmQSNjdsmc35JDF1K5GR4SDk_YAPIlWk.woff2') format('woff2'); unicode-range: U+0460-052F, U+1C80-1C88, U+20B4, U+2DE0-2DFF, U+A640-A69F, U+FE2E-FE2F;font-display: swap;\n",
      "}\n",
      "@font-face {font-family: 'eb garamond'; font-style: normal; font-weight: 700; src: url('https://static.parastorage.com/tag-bundler/api/v1/fonts-cache/googlefont/woff2/s/ebgaramond/v12/SlGUmQSNjdsmc35JDF1K5GR4SDk_YAPIlWk.woff2') format('woff2'); unicode-range: U+0460-052F, U+1C80-1C88, U+20B4, U+2DE0-2DFF, U+A640-A69F, U+FE2E-FE2F;font-display: swap;\n",
      "}\n",
      "@font-face {font-family: 'eb garamond'; font-style: italic; font-weight: 700; src: url('https://static.parastorage.com/tag-bundler/api/v1/fonts-cache/googlefont/woff2/s/ebgaramond/v12/SlGWmQSNjdsmc35JDF1K5GRweDY1ZyHKpWiGIg.woff2') format('woff2'); unicode-range: U+0460-052F, U+1C80-1C88, U+20B4, U+2DE0-2DFF, U+A640-A69F, U+FE2E-FE2F;font-display: swap;\n",
      "}\n",
      "@font-face {font-family: 'eb garamond'; font-style: italic; font-weight: 400; src: url('https://static.parastorage.com/tag-bundler/api/v1/fonts-cache/googlefont/woff2/s/ebgaramond/v12/SlGWmQSNjdsmc35JDF1K5GRweDY1ZyHKpWiGIg.woff2') format('woff2'); unicode-range: U+0460-052F, U+1C80-1C88, U+20B4, U+2DE0-2DFF, U+A640-A69F, U+FE2E-FE2F;font-display: swap;\n",
      "}\n",
      "@font-face {font-family: 'eb garamond'; font-style: normal; font-weight: 400; src: url('https://static.parastorage.com/tag-bundler/api/v1/fonts-cache/googlefont/woff2/s/ebgaramond/v12/SlGUmQSNjdsmc35JDF1K5GRxSDk_YAPIlWk.woff2') format('woff2'); unicode-range: U+0400-045F, U+0490-0491, U+04B0-04B1, U+2116;font-display: swap;\n",
      "}\n",
      "@font-face {font-family: 'eb garamond'; font-style: normal; font-weight: 700; src: url('https://static.parastorage.com/tag-bundler/api/v1/fonts-cache/googlefont/woff2/s/ebgaramond/v12/SlGUmQSNjdsmc35JDF1K5GRxSDk_YAPIlWk.woff2') format('woff2'); unicode-range: U+0400-045F, U+0490-0491, U+04B0-04B1, U+2116;font-display: swap;\n",
      "}\n",
      "@font-face {font-family: 'eb garamond'; font-style: italic; font-weight: 700; src: url('https://static.parastorage.com/tag-bundler/api/v1/fonts-cache/googlefont/woff2/s/ebgaramond/v12/SlGWmQSNjdsmc35JDF1K5GRweD81ZyHKpWiGIg.woff2') format('woff2'); unicode-range: U+0400-045F, U+0490-0491, U+04B0-04B1, U+2116;font-display: swap;\n",
      "}\n",
      "@font-face {font-family: 'eb garamond'; font-style: italic; font-weight: 400; src: url('https://static.parastorage.com/tag-bundler/api/v1/fonts-cache/googlefont/woff2/s/ebgaramond/v12/SlGWmQSNjdsmc35JDF1K5GRweD81ZyHKpWiGIg.woff2') format('woff2'); unicode-range: U+0400-045F, U+0490-0491, U+04B0-04B1, U+2116;font-display: swap;\n",
      "}\n",
      "@font-face {font-family: 'eb garamond'; font-style: normal; font-weight: 400; src: url('https://static.parastorage.com/tag-bundler/api/v1/fonts-cache/googlefont/woff2/s/ebgaramond/v12/SlGUmQSNjdsmc35JDF1K5GR5SDk_YAPIlWk.woff2') format('woff2'); unicode-range: U+1F00-1FFF;font-display: swap;\n",
      "}\n",
      "@font-face {font-family: 'eb garamond'; font-style: normal; font-weight: 700; src: url('https://static.parastorage.com/tag-bundler/api/v1/fonts-cache/googlefont/woff2/s/ebgaramond/v12/SlGUmQSNjdsmc35JDF1K5GR5SDk_YAPIlWk.woff2') format('woff2'); unicode-range: U+1F00-1FFF;font-display: swap;\n",
      "}\n",
      "@font-face {font-family: 'eb garamond'; font-style: italic; font-weight: 700; src: url('https://static.parastorage.com/tag-bundler/api/v1/fonts-cache/googlefont/woff2/s/ebgaramond/v12/SlGWmQSNjdsmc35JDF1K5GRweDc1ZyHKpWiGIg.woff2') format('woff2'); unicode-range: U+1F00-1FFF;font-display: swap;\n",
      "}\n",
      "@font-face {font-family: 'eb garamond'; font-style: italic; font-weight: 400; src: url('https://static.parastorage.com/tag-bundler/api/v1/fonts-cache/googlefont/woff2/s/ebgaramond/v12/SlGWmQSNjdsmc35JDF1K5GRweDc1ZyHKpWiGIg.woff2') format('woff2'); unicode-range: U+1F00-1FFF;font-display: swap;\n",
      "}\n",
      "@font-face {font-family: 'eb garamond'; font-style: normal; font-weight: 400; src: url('https://static.parastorage.com/tag-bundler/api/v1/fonts-cache/googlefont/woff2/s/ebgaramond/v12/SlGUmQSNjdsmc35JDF1K5GR2SDk_YAPIlWk.woff2') format('woff2'); unicode-range: U+0370-03FF;font-display: swap;\n",
      "}\n",
      "@font-face {font-family: 'eb garamond'; font-style: normal; font-weight: 700; src: url('https://static.parastorage.com/tag-bundler/api/v1/fonts-cache/googlefont/woff2/s/ebgaramond/v12/SlGUmQSNjdsmc35JDF1K5GR2SDk_YAPIlWk.woff2') format('woff2'); unicode-range: U+0370-03FF;font-display: swap;\n",
      "}\n",
      "@font-face {font-family: 'eb garamond'; font-style: italic; font-weight: 700; src: url('https://static.parastorage.com/tag-bundler/api/v1/fonts-cache/googlefont/woff2/s/ebgaramond/v12/SlGWmQSNjdsmc35JDF1K5GRweDg1ZyHKpWiGIg.woff2') format('woff2'); unicode-range: U+0370-03FF;font-display: swap;\n",
      "}\n",
      "@font-face {font-family: 'eb garamond'; font-style: italic; font-weight: 400; src: url('https://static.parastorage.com/tag-bundler/api/v1/fonts-cache/googlefont/woff2/s/ebgaramond/v12/SlGWmQSNjdsmc35JDF1K5GRweDg1ZyHKpWiGIg.woff2') format('woff2'); unicode-range: U+0370-03FF;font-display: swap;\n",
      "}\n",
      "@font-face {font-family: 'eb garamond'; font-style: normal; font-weight: 400; src: url('https://static.parastorage.com/tag-bundler/api/v1/fonts-cache/googlefont/woff2/s/ebgaramond/v12/SlGUmQSNjdsmc35JDF1K5GR7SDk_YAPIlWk.woff2') format('woff2'); unicode-range: U+0100-024F, U+0259, U+1E00-1EFF, U+2020, U+20A0-20AB, U+20AD-20CF, U+2113, U+2C60-2C7F, U+A720-A7FF;font-display: swap;\n",
      "}\n",
      "@font-face {font-family: 'eb garamond'; font-style: normal; font-weight: 700; src: url('https://static.parastorage.com/tag-bundler/api/v1/fonts-cache/googlefont/woff2/s/ebgaramond/v12/SlGUmQSNjdsmc35JDF1K5GR7SDk_YAPIlWk.woff2') format('woff2'); unicode-range: U+0100-024F, U+0259, U+1E00-1EFF, U+2020, U+20A0-20AB, U+20AD-20CF, U+2113, U+2C60-2C7F, U+A720-A7FF;font-display: swap;\n",
      "}\n",
      "@font-face {font-family: 'eb garamond'; font-style: italic; font-weight: 700; src: url('https://static.parastorage.com/tag-bundler/api/v1/fonts-cache/googlefont/woff2/s/ebgaramond/v12/SlGWmQSNjdsmc35JDF1K5GRweDU1ZyHKpWiGIg.woff2') format('woff2'); unicode-range: U+0100-024F, U+0259, U+1E00-1EFF, U+2020, U+20A0-20AB, U+20AD-20CF, U+2113, U+2C60-2C7F, U+A720-A7FF;font-display: swap;\n",
      "}\n",
      "@font-face {font-family: 'eb garamond'; font-style: italic; font-weight: 400; src: url('https://static.parastorage.com/tag-bundler/api/v1/fonts-cache/googlefont/woff2/s/ebgaramond/v12/SlGWmQSNjdsmc35JDF1K5GRweDU1ZyHKpWiGIg.woff2') format('woff2'); unicode-range: U+0100-024F, U+0259, U+1E00-1EFF, U+2020, U+20A0-20AB, U+20AD-20CF, U+2113, U+2C60-2C7F, U+A720-A7FF;font-display: swap;\n",
      "}\n",
      "@font-face {font-family: 'eb garamond'; font-style: normal; font-weight: 400; src: url('https://static.parastorage.com/tag-bundler/api/v1/fonts-cache/googlefont/woff2/s/ebgaramond/v12/SlGUmQSNjdsmc35JDF1K5GR1SDk_YAPI.woff2') format('woff2'); unicode-range: U+0000-00FF, U+0131, U+0152-0153, U+02BB-02BC, U+02C6, U+02DA, U+02DC, U+2000-206F, U+2074, U+20AC, U+2122, U+2191, U+2193, U+2212, U+2215, U+FEFF, U+FFFD;font-display: swap;\n",
      "}\n",
      "@font-face {font-family: 'eb garamond'; font-style: normal; font-weight: 700; src: url('https://static.parastorage.com/tag-bundler/api/v1/fonts-cache/googlefont/woff2/s/ebgaramond/v12/SlGUmQSNjdsmc35JDF1K5GR1SDk_YAPI.woff2') format('woff2'); unicode-range: U+0000-00FF, U+0131, U+0152-0153, U+02BB-02BC, U+02C6, U+02DA, U+02DC, U+2000-206F, U+2074, U+20AC, U+2122, U+2191, U+2193, U+2212, U+2215, U+FEFF, U+FFFD;font-display: swap;\n",
      "}\n",
      "@font-face {font-family: 'eb garamond'; font-style: italic; font-weight: 700; src: url('https://static.parastorage.com/tag-bundler/api/v1/fonts-cache/googlefont/woff2/s/ebgaramond/v12/SlGWmQSNjdsmc35JDF1K5GRweDs1ZyHKpWg.woff2') format('woff2'); unicode-range: U+0000-00FF, U+0131, U+0152-0153, U+02BB-02BC, U+02C6, U+02DA, U+02DC, U+2000-206F, U+2074, U+20AC, U+2122, U+2191, U+2193, U+2212, U+2215, U+FEFF, U+FFFD;font-display: swap;\n",
      "}\n",
      "@font-face {font-family: 'eb garamond'; font-style: italic; font-weight: 400; src: url('https://static.parastorage.com/tag-bundler/api/v1/fonts-cache/googlefont/woff2/s/ebgaramond/v12/SlGWmQSNjdsmc35JDF1K5GRweDs1ZyHKpWg.woff2') format('woff2'); unicode-range: U+0000-00FF, U+0131, U+0152-0153, U+02BB-02BC, U+02C6, U+02DA, U+02DC, U+2000-206F, U+2074, U+20AC, U+2122, U+2191, U+2193, U+2212, U+2215, U+FEFF, U+FFFD;font-display: swap;\n",
      "}@font-face {\n",
      "font-display: swap;\n",
      "font-family: wf_47e19f6fdae84799a2e20cc96;\n",
      "src: url(\"https://static.wixstatic.com/ufonts/d4d74a_47e19f6fdae84799a2e20cc96d4e9cee/woff2/file.woff2\") format(\"woff2\"),\n",
      "url(\"https://static.wixstatic.com/ufonts/d4d74a_47e19f6fdae84799a2e20cc96d4e9cee/woff/file.woff\") format(\"woff\"),\n",
      "url(\"https://static.wixstatic.com/ufonts/d4d74a_47e19f6fdae84799a2e20cc96d4e9cee/ttf/file.ttf\") format(\"ttf\");\n",
      "}@font-face {font-family: 'helvetica-w01-roman'; font-style: normal; font-weight: 400; src: url('https://static.parastorage.com/fonts/v2/2af1bf48-e783-4da8-9fa0-599dde29f2d5/v1/helvetica-lt-w10-roman.woff2') format('woff2'); unicode-range: U+0000, U+000D, U+0020-007E, U+00A0, U+00A4, U+00A6-00A7, U+00A9, U+00AB-00AE, U+00B0-00B1, U+00B5-00B7, U+00BB, U+0401-040C, U+040E-044F, U+0451-045C, U+045E-045F, U+0490-0491, U+2013-2014, U+2018-201A, U+201C-201E, U+2020-2022, U+2026, U+2030, U+2039-203A, U+20AC, U+2116, U+2122;font-display: swap;\n",
      "}\n",
      "@font-face {font-family: 'helvetica-w01-roman'; font-style: normal; font-weight: 400; src: url('https://static.parastorage.com/fonts/v2/2af1bf48-e783-4da8-9fa0-599dde29f2d5/v1/helvetica-w02-roman.woff2') format('woff2'); unicode-range: U+000D, U+0020-007E, U+00A0-012B, U+012E-0137, U+0139-0149, U+014C-017E, U+0192, U+0218-021B, U+0237, U+02C6-02C7, U+02C9, U+02D8-02DD, U+0394, U+03A9, U+03BC, U+03C0, U+2013-2014, U+2018-201A, U+201C-201E, U+2020-2022, U+2026, U+2030, U+2039-203A, U+2044, U+20AC, U+2113, U+2122, U+2126, U+212E, U+2202, U+2206, U+220F, U+2211-2212, U+2215, U+2219-221A, U+221E, U+222B, U+2248, U+2260, U+2264-2265, U+25CA, U+E301-E304, U+E306-E30D, U+FB01-FB02;font-display: swap;\n",
      "}\n",
      "@font-face {font-family: 'helvetica-w01-roman'; font-style: normal; font-weight: 400; src: url('https://static.parastorage.com/fonts/v2/2af1bf48-e783-4da8-9fa0-599dde29f2d5/v1/helvetica-w01-roman.woff2') format('woff2'); unicode-range: U+0000, U+000D, U+0020-007E, U+00A0-012B, U+012E-0137, U+0139-0149, U+014C-017E, U+0192, U+0218-021B, U+0237, U+02C6-02C7, U+02C9, U+02D8-02DD, U+0394, U+03A9, U+03BC, U+03C0, U+0401-040C, U+040E-044F, U+0451-045C, U+045E-045F, U+0462-0463, U+0472-0475, U+0490-0491, U+04D9, U+1E9E, U+2013-2014, U+2018-201A, U+201C-201E, U+2020-2022, U+2026, U+2030, U+2039-203A, U+2044, U+20AC, U+20B9-20BA, U+20BC-20BD, U+2113, U+2116, U+2122, U+2126, U+212E, U+2202, U+2206, U+220F, U+2211-2212, U+2215, U+2219-221A, U+221E, U+222B, U+2248, U+2260, U+2264-2265, U+25CA, U+E300-E30D, U+F6C5, U+F6C9-F6D8, U+F8FF, U+FB01-FB02;font-display: swap;\n",
      "}:root{--color_11:255,255,255;--color_12:212,212,212;--color_14:96,96,96;--color_15:48,48,48;--color_17:183,189,129;--color_18:146,156,57;--color_22:185,171,152;--font_5:normal normal normal 25px/1.4em proxima-n-w01-reg,sans-serif;-webkit-font-smoothing:antialiased;-moz-osx-font-smoothing:grayscale;}\n",
      "\n",
      "@font-face {font-family: 'raleway'; font-style: normal; font-weight: 700; src: url('https://static.parastorage.com/tag-bundler/api/v1/fonts-cache/googlefont/woff2/s/raleway/v26/1Ptug8zYS_SKggPNyCIIT4ttDfCmxA.woff2') format('woff2'); unicode-range: U+0102-0103, U+0110-0111, U+0128-0129, U+0168-0169, U+01A0-01A1, U+01AF-01B0, U+1EA0-1EF9, U+20AB;font-display: swap;\n",
      "}\n",
      "@font-face {font-family: 'raleway'; font-style: italic; font-weight: 700; src: url('https://static.parastorage.com/tag-bundler/api/v1/fonts-cache/googlefont/woff2/s/raleway/v26/1Ptsg8zYS_SKggPNyCg4QoFqL_KWxWMT.woff2') format('woff2'); unicode-range: U+0102-0103, U+0110-0111, U+0128-0129, U+0168-0169, U+01A0-01A1, U+01AF-01B0, U+1EA0-1EF9, U+20AB;font-display: swap;\n",
      "}\n",
      "@font-face {font-family: 'raleway'; font-style: normal; font-weight: 400; src: url('https://static.parastorage.com/tag-bundler/api/v1/fonts-cache/googlefont/woff2/s/raleway/v26/1Ptug8zYS_SKggPNyCIIT4ttDfCmxA.woff2') format('woff2'); unicode-range: U+0102-0103, U+0110-0111, U+0128-0129, U+0168-0169, U+01A0-01A1, U+01AF-01B0, U+1EA0-1EF9, U+20AB;font-display: swap;\n",
      "}\n",
      "@font-face {font-family: 'raleway'; font-style: italic; font-weight: 400; src: url('https://static.parastorage.com/tag-bundler/api/v1/fonts-cache/googlefont/woff2/s/raleway/v26/1Ptsg8zYS_SKggPNyCg4QoFqL_KWxWMT.woff2') format('woff2'); unicode-range: U+0102-0103, U+0110-0111, U+0128-0129, U+0168-0169, U+01A0-01A1, U+01AF-01B0, U+1EA0-1EF9, U+20AB;font-display: swap;\n",
      "}\n",
      "@font-face {font-family: 'raleway'; font-style: normal; font-weight: 700; src: url('https://static.parastorage.com/tag-bundler/api/v1/fonts-cache/googlefont/woff2/s/raleway/v26/1Ptug8zYS_SKggPNyCAIT4ttDfCmxA.woff2') format('woff2'); unicode-range: U+0460-052F, U+1C80-1C88, U+20B4, U+2DE0-2DFF, U+A640-A69F, U+FE2E-FE2F;font-display: swap;\n",
      "}\n",
      "@font-face {font-family: 'raleway'; font-style: italic; font-weight: 700; src: url('https://static.parastorage.com/tag-bundler/api/v1/fonts-cache/googlefont/woff2/s/raleway/v26/1Ptsg8zYS_SKggPNyCg4QIFqL_KWxWMT.woff2') format('woff2'); unicode-range: U+0460-052F, U+1C80-1C88, U+20B4, U+2DE0-2DFF, U+A640-A69F, U+FE2E-FE2F;font-display: swap;\n",
      "}\n",
      "@font-face {font-family: 'raleway'; font-style: normal; font-weight: 400; src: url('https://static.parastorage.com/tag-bundler/api/v1/fonts-cache/googlefont/woff2/s/raleway/v26/1Ptug8zYS_SKggPNyCAIT4ttDfCmxA.woff2') format('woff2'); unicode-range: U+0460-052F, U+1C80-1C88, U+20B4, U+2DE0-2DFF, U+A640-A69F, U+FE2E-FE2F;font-display: swap;\n",
      "}\n",
      "@font-face {font-family: 'raleway'; font-style: italic; font-weight: 400; src: url('https://static.parastorage.com/tag-bundler/api/v1/fonts-cache/googlefont/woff2/s/raleway/v26/1Ptsg8zYS_SKggPNyCg4QIFqL_KWxWMT.woff2') format('woff2'); unicode-range: U+0460-052F, U+1C80-1C88, U+20B4, U+2DE0-2DFF, U+A640-A69F, U+FE2E-FE2F;font-display: swap;\n",
      "}\n",
      "@font-face {font-family: 'raleway'; font-style: normal; font-weight: 700; src: url('https://static.parastorage.com/tag-bundler/api/v1/fonts-cache/googlefont/woff2/s/raleway/v26/1Ptug8zYS_SKggPNyCkIT4ttDfCmxA.woff2') format('woff2'); unicode-range: U+0400-045F, U+0490-0491, U+04B0-04B1, U+2116;font-display: swap;\n",
      "}\n",
      "@font-face {font-family: 'raleway'; font-style: italic; font-weight: 700; src: url('https://static.parastorage.com/tag-bundler/api/v1/fonts-cache/googlefont/woff2/s/raleway/v26/1Ptsg8zYS_SKggPNyCg4SYFqL_KWxWMT.woff2') format('woff2'); unicode-range: U+0400-045F, U+0490-0491, U+04B0-04B1, U+2116;font-display: swap;\n",
      "}\n",
      "@font-face {font-family: 'raleway'; font-style: normal; font-weight: 400; src: url('https://static.parastorage.com/tag-bundler/api/v1/fonts-cache/googlefont/woff2/s/raleway/v26/1Ptug8zYS_SKggPNyCkIT4ttDfCmxA.woff2') format('woff2'); unicode-range: U+0400-045F, U+0490-0491, U+04B0-04B1, U+2116;font-display: swap;\n",
      "}\n",
      "@font-face {font-family: 'raleway'; font-style: italic; font-weight: 400; src: url('https://static.parastorage.com/tag-bundler/api/v1/fonts-cache/googlefont/woff2/s/raleway/v26/1Ptsg8zYS_SKggPNyCg4SYFqL_KWxWMT.woff2') format('woff2'); unicode-range: U+0400-045F, U+0490-0491, U+04B0-04B1, U+2116;font-display: swap;\n",
      "}\n",
      "@font-face {font-family: 'raleway'; font-style: normal; font-weight: 700; src: url('https://static.parastorage.com/tag-bundler/api/v1/fonts-cache/googlefont/woff2/s/raleway/v26/1Ptug8zYS_SKggPNyCMIT4ttDfCmxA.woff2') format('woff2'); unicode-range: U+0100-024F, U+0259, U+1E00-1EFF, U+2020, U+20A0-20AB, U+20AD-20CF, U+2113, U+2C60-2C7F, U+A720-A7FF;font-display: swap;\n",
      "}\n",
      "@font-face {font-family: 'raleway'; font-style: italic; font-weight: 700; src: url('https://static.parastorage.com/tag-bundler/api/v1/fonts-cache/googlefont/woff2/s/raleway/v26/1Ptsg8zYS_SKggPNyCg4Q4FqL_KWxWMT.woff2') format('woff2'); unicode-range: U+0100-024F, U+0259, U+1E00-1EFF, U+2020, U+20A0-20AB, U+20AD-20CF, U+2113, U+2C60-2C7F, U+A720-A7FF;font-display: swap;\n",
      "}\n",
      "@font-face {font-family: 'raleway'; font-style: normal; font-weight: 400; src: url('https://static.parastorage.com/tag-bundler/api/v1/fonts-cache/googlefont/woff2/s/raleway/v26/1Ptug8zYS_SKggPNyCMIT4ttDfCmxA.woff2') format('woff2'); unicode-range: U+0100-024F, U+0259, U+1E00-1EFF, U+2020, U+20A0-20AB, U+20AD-20CF, U+2113, U+2C60-2C7F, U+A720-A7FF;font-display: swap;\n",
      "}\n",
      "@font-face {font-family: 'raleway'; font-style: italic; font-weight: 400; src: url('https://static.parastorage.com/tag-bundler/api/v1/fonts-cache/googlefont/woff2/s/raleway/v26/1Ptsg8zYS_SKggPNyCg4Q4FqL_KWxWMT.woff2') format('woff2'); unicode-range: U+0100-024F, U+0259, U+1E00-1EFF, U+2020, U+20A0-20AB, U+20AD-20CF, U+2113, U+2C60-2C7F, U+A720-A7FF;font-display: swap;\n",
      "}\n",
      "@font-face {font-family: 'raleway'; font-style: normal; font-weight: 700; src: url('https://static.parastorage.com/tag-bundler/api/v1/fonts-cache/googlefont/woff2/s/raleway/v26/1Ptug8zYS_SKggPNyC0IT4ttDfA.woff2') format('woff2'); unicode-range: U+0000-00FF, U+0131, U+0152-0153, U+02BB-02BC, U+02C6, U+02DA, U+02DC, U+2000-206F, U+2074, U+20AC, U+2122, U+2191, U+2193, U+2212, U+2215, U+FEFF, U+FFFD;font-display: swap;\n",
      "}\n",
      "@font-face {font-family: 'raleway'; font-style: italic; font-weight: 700; src: url('https://static.parastorage.com/tag-bundler/api/v1/fonts-cache/googlefont/woff2/s/raleway/v26/1Ptsg8zYS_SKggPNyCg4TYFqL_KWxQ.woff2') format('woff2'); unicode-range: U+0000-00FF, U+0131, U+0152-0153, U+02BB-02BC, U+02C6, U+02DA, U+02DC, U+2000-206F, U+2074, U+20AC, U+2122, U+2191, U+2193, U+2212, U+2215, U+FEFF, U+FFFD;font-display: swap;\n",
      "}\n",
      "@font-face {font-family: 'raleway'; font-style: normal; font-weight: 400; src: url('https://static.parastorage.com/tag-bundler/api/v1/fonts-cache/googlefont/woff2/s/raleway/v26/1Ptug8zYS_SKggPNyC0IT4ttDfA.woff2') format('woff2'); unicode-range: U+0000-00FF, U+0131, U+0152-0153, U+02BB-02BC, U+02C6, U+02DA, U+02DC, U+2000-206F, U+2074, U+20AC, U+2122, U+2191, U+2193, U+2212, U+2215, U+FEFF, U+FFFD;font-display: swap;\n",
      "}\n",
      "@font-face {font-family: 'raleway'; font-style: italic; font-weight: 400; src: url('https://static.parastorage.com/tag-bundler/api/v1/fonts-cache/googlefont/woff2/s/raleway/v26/1Ptsg8zYS_SKggPNyCg4TYFqL_KWxQ.woff2') format('woff2'); unicode-range: U+0000-00FF, U+0131, U+0152-0153, U+02BB-02BC, U+02C6, U+02DA, U+02DC, U+2000-206F, U+2074, U+20AC, U+2122, U+2191, U+2193, U+2212, U+2215, U+FEFF, U+FFFD;font-display: swap;\n",
      "}@font-face {\n",
      "font-display: swap;\n",
      "font-family: wf_64c324e437734c0a83800c98d;\n",
      "src: url(\"https://static.wixstatic.com/ufonts/d4d74a_64c324e437734c0a83800c98df1eb0ba/woff2/file.woff2\") format(\"woff2\"),\n",
      "url(\"https://static.wixstatic.com/ufonts/d4d74a_64c324e437734c0a83800c98df1eb0ba/woff/file.woff\") format(\"woff\"),\n",
      "url(\"https://static.wixstatic.com/ufonts/d4d74a_64c324e437734c0a83800c98df1eb0ba/ttf/file.ttf\") format(\"ttf\");\n",
      "}@font-face {font-family: 'raleway-semibold'; font-style: italic; font-weight: 700; src: url('https://static.parastorage.com/tag-bundler/api/v1/fonts-cache/googlefont/woff2/s/raleway/v12/lFxvRPuGFG5ktd7P0WRwKhUOjZSKWg4xBWp_C_qQx0o.woff2') format('woff2');font-display: swap;\n",
      "}\n",
      "@font-face {font-family: 'raleway-semibold'; font-style: normal; font-weight: 400; src: url('https://static.parastorage.com/tag-bundler/api/v1/fonts-cache/googlefont/woff2/s/raleway/v12/STBOO2waD2LpX45SXYjQBfk_vArhqVIZ0nv9q090hN8.woff2') format('woff2');font-display: swap;\n",
      "}\n",
      "@font-face {font-family: 'raleway-semibold'; font-style: italic; font-weight: 400; src: url('https://static.parastorage.com/tag-bundler/api/v1/fonts-cache/googlefont/woff2/s/raleway/v12/OY22yoG8EJ3IN_muVWm29BUOjZSKWg4xBWp_C_qQx0o.woff2') format('woff2');font-display: swap;\n",
      "}\n",
      "@font-face {font-family: 'raleway-semibold'; font-style: normal; font-weight: 700; src: url('https://static.parastorage.com/tag-bundler/api/v1/fonts-cache/googlefont/woff2/s/raleway/v12/WmVKXVcOuffP_qmCpFuyzfk_vArhqVIZ0nv9q090hN8.woff2') format('woff2');font-display: swap;\n",
      "}@font-face {font-family: 'futura-lt-w01-book'; font-style: normal; font-weight: 400; src: url('https://static.parastorage.com/fonts/v2/790166f1-b347-4f16-8a29-f0c4931a7c35/v1/futura-lt-w01-book.woff2') format('woff2'); unicode-range: U+0000, U+000D, U+0020-007E, U+00A0-00FF, U+0110, U+0131, U+0152-0153, U+0160-0161, U+0178, U+017D-017E, U+0192, U+0237, U+02C6-02C7, U+02DA, U+02DC, U+2013-2014, U+2018-201A, U+201C-201E, U+2020-2022, U+2026, U+2030, U+2039-203A, U+2044, U+20AC, U+2122;font-display: swap;\n",
      "}[data-mesh-id=comp-l9x50dsoinlineContent]{height:auto;width:100%;}[data-mesh-id=comp-l9x50dsoinlineContent-gridContainer]{position:static;display:grid;height:auto;width:100%;min-height:auto;grid-template-rows:1fr;grid-template-columns:100%;}[data-mesh-id=comp-l9x50dsoinlineContent-gridContainer] > [id=\"comp-l9x50dsx1\"]{position:relative;margin:422px 0px 24px calc((100% - 296px) * 0.5);left:-1px;grid-area:1 / 1 / 2 / 2;justify-self:start;align-self:start;}#comp-l9x50dsx1{--rd:0px;--trans1:border-color 0.4s ease 0s, background-color 0.4s ease 0s;--shd:none;--fnt:normal normal normal 38px/1.4em raleway,sans-serif;--trans2:color 0.4s ease 0s;--txt:var(--color_11);--brw:0px;--bg:var(--color_18);--brd:var(--color_22);--bgh:var(--color_14);--brdh:var(--color_12);--txth:var(--color_11);--alpha-brdh:0;--alpha-brd:1;--alpha-bg:1;--alpha-bgh:1;}@media (prefers-reduced-motion: no-preference) {#comp-l9x50dsx1:not([data-motion-enter=\"done\"]){opacity:var(--comp-opacity, 1);}}#comp-l9x50dsx1{width:296px;height:75px;}#comp-l9x50dsx1{--margin-start:0px;--margin-end:0px;--fnt:normal normal normal 38px/1.4em raleway,sans-serif;--label-align:center;}\n",
      "\n",
      "</style>\n",
      "<body><div class=\"                                                                                                                                                                                                                                                                                                                                                                                                                                                                                                                                                                                                                                                                                                                                                                                                                                                                                                                                                                                                                                                             \n"
     ]
    }
   ],
   "source": [
    "from transformers import LongT5ForConditionalGeneration\n",
    "\n",
    "text = dataset['test'][0]['svg']\n",
    "\n",
    "inputs = tokenizer(text, return_tensors=\"pt\").input_ids\n",
    "inputs = inputs.to('cuda:0')\n",
    "\n",
    "model = LongT5ForConditionalGeneration.from_pretrained(os.path.join(model_output_dir, \"best\"))\n",
    "model.to('cuda:0')\n",
    "model.generation_config = generation_config\n",
    "\n",
    "outputs = model.generate(inputs)\n",
    "# outputs = model.generate(inputs, max_new_tokens=16_384, do_sample=True, top_k=30, top_p=0.95)\n",
    "\n",
    "translation = tokenizer.decode(outputs[0], skip_special_tokens=True)\n",
    "\n",
    "print(dataset['test'][0]['html'])\n",
    "print(translation)\n"
   ]
  },
  {
   "cell_type": "code",
   "execution_count": 17,
   "id": "d42f4bddcc5a3667",
   "metadata": {},
   "outputs": [
    {
     "name": "stdout",
     "output_type": "stream",
     "text": [
      "{'similarity': 0.9592, 'perceptual_loss': 0.1043}\n"
     ]
    }
   ],
   "source": [
    "test_results = eval_outside_of_training(model, dataset[\"test\"], False)\n",
    "\n",
    "print(test_results)"
   ]
  },
  {
   "cell_type": "code",
   "execution_count": null,
   "id": "222215f8-9eae-461e-90e1-2b47494837f9",
   "metadata": {},
   "outputs": [],
   "source": []
  },
  {
   "cell_type": "code",
   "execution_count": null,
   "id": "e23f31db-4371-4844-b263-e6310ab9ba80",
   "metadata": {},
   "outputs": [],
   "source": []
  }
 ],
 "metadata": {
  "kernelspec": {
   "display_name": "Python 3 (ipykernel)",
   "language": "python",
   "name": "python3"
  },
  "language_info": {
   "codemirror_mode": {
    "name": "ipython",
    "version": 3
   },
   "file_extension": ".py",
   "mimetype": "text/x-python",
   "name": "python",
   "nbconvert_exporter": "python",
   "pygments_lexer": "ipython3",
   "version": "3.11.9"
  }
 },
 "nbformat": 4,
 "nbformat_minor": 5
}
