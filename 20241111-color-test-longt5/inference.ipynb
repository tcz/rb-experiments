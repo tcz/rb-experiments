{
 "cells": [
  {
   "cell_type": "code",
   "id": "initial_id",
   "metadata": {
    "collapsed": true,
    "ExecuteTime": {
     "end_time": "2024-11-12T02:39:50.001876Z",
     "start_time": "2024-11-12T02:39:48.856317Z"
    }
   },
   "source": [
    "from transformers import AutoTokenizer\n",
    "\n",
    "tokenizer = AutoTokenizer.from_pretrained(\"google/long-t5-tglobal-base\")\n",
    "new_words = ['<', '>', '{', '}', '<body>', '<style>', '</style>', '</body>']\n",
    "tokenizer.add_tokens(new_words)"
   ],
   "outputs": [
    {
     "data": {
      "text/plain": [
       "8"
      ]
     },
     "execution_count": 2,
     "metadata": {},
     "output_type": "execute_result"
    }
   ],
   "execution_count": 2
  },
  {
   "metadata": {
    "ExecuteTime": {
     "end_time": "2024-11-12T02:39:56.312612Z",
     "start_time": "2024-11-12T02:39:51.083230Z"
    }
   },
   "cell_type": "code",
   "source": [
    "from transformers import AutoModelForSeq2SeqLM, AutoConfig\n",
    "\n",
    "config = AutoConfig.from_pretrained(\n",
    "    \"google/long-t5-tglobal-base\",\n",
    "    vocab_size=len(tokenizer),\n",
    "    pad_token_id=tokenizer.pad_token_id,\n",
    "    eos_token_id = tokenizer.eos_token_id,\n",
    "    decoder_start_token_id = tokenizer.pad_token_id,\n",
    ")\n",
    "\n",
    "# model = AutoModelForSeq2SeqLM.from_pretrained(\"google/long-t5-tglobal-base\")\n",
    "model = AutoModelForSeq2SeqLM.from_config(config)\n",
    "\n",
    "# model = AutoModelForSeq2SeqLM.from_pretrained(\"google-t5/t5-small\")\n",
    "model.resize_token_embeddings(len(tokenizer))"
   ],
   "id": "5b2936a6a2f6c47f",
   "outputs": [
    {
     "data": {
      "text/plain": [
       "Embedding(32107, 768)"
      ]
     },
     "execution_count": 3,
     "metadata": {},
     "output_type": "execute_result"
    }
   ],
   "execution_count": 3
  },
  {
   "metadata": {
    "ExecuteTime": {
     "end_time": "2024-11-12T02:39:58.041308Z",
     "start_time": "2024-11-12T02:39:58.033030Z"
    }
   },
   "cell_type": "code",
   "source": [
    "from transformers import GenerationConfig\n",
    "\n",
    "generation_config = GenerationConfig.from_model_config(model.config)\n",
    "generation_config._from_model_config = False\n",
    "generation_config.max_new_tokens = 512\n",
    "\n",
    "generation_config"
   ],
   "id": "27e02354184f768d",
   "outputs": [
    {
     "data": {
      "text/plain": [
       "GenerationConfig {\n",
       "  \"decoder_start_token_id\": 0,\n",
       "  \"eos_token_id\": 1,\n",
       "  \"max_new_tokens\": 512,\n",
       "  \"pad_token_id\": 0\n",
       "}"
      ]
     },
     "execution_count": 4,
     "metadata": {},
     "output_type": "execute_result"
    }
   ],
   "execution_count": 4
  },
  {
   "metadata": {
    "ExecuteTime": {
     "end_time": "2024-11-12T02:51:38.900974Z",
     "start_time": "2024-11-12T02:51:38.863023Z"
    }
   },
   "cell_type": "code",
   "source": [
    "from datasets import load_from_disk\n",
    "\n",
    "dataset = load_from_disk('../../data-rb-color-fixed')\n",
    "dataset = dataset.train_test_split(test_size=0.00004) \n",
    "print(dataset['test'][0]['svg'])"
   ],
   "id": "ed35310b3e4ffab0",
   "outputs": [
    {
     "name": "stdout",
     "output_type": "stream",
     "text": [
      "<svg xmlns=\"http://www.w3.org/2000/svg\" xmlns:xlink=\"http://www.w3.org/1999/xlink\" width=\"393\" height=\"852\" viewBox=\"0 0 393 852\"><g id=\"html1\"><g data-tag=\"head\" id=\"head1\" data-z-index=\"auto\" data-stacking-context=\"true\" aria-owns=\"script1\"><g data-tag=\"script\" id=\"script1\" data-z-index=\"auto\" data-stacking-context=\"true\"/></g><g data-tag=\"body\" id=\"body1\" data-z-index=\"auto\" data-stacking-context=\"true\" role=\"document\" aria-owns=\"style1\"><g data-stacking-layer=\"rootBackgroundAndBorders\"><rect width=\"377\" height=\"836\" x=\"8\" y=\"8\" fill=\"rgb(225, 165, 151)\"/></g><g data-tag=\"style\" id=\"style1\" data-z-index=\"auto\" data-stacking-context=\"true\"/></g></g></svg>\n"
     ]
    }
   ],
   "execution_count": 9
  },
  {
   "metadata": {
    "ExecuteTime": {
     "end_time": "2024-11-12T08:29:05.531559Z",
     "start_time": "2024-11-12T08:27:59.704951Z"
    }
   },
   "cell_type": "code",
   "source": [
    "import os\n",
    "from transformers import LongT5ForConditionalGeneration, AutoTokenizer\n",
    "import torch\n",
    "\n",
    "text = \"\"\"<svg xmlns=\"http://www.w3.org/2000/svg\" xmlns:xlink=\"http://www.w3.org/1999/xlink\" width=\"393\" height=\"852\" viewBox=\"0 0 393 852\"><g id=\"html1\"><g data-tag=\"head\" id=\"head1\" data-z-index=\"auto\" data-stacking-context=\"true\" aria-owns=\"script1\"><g data-tag=\"script\" id=\"script1\" data-z-index=\"auto\" data-stacking-context=\"true\"/></g><g data-tag=\"body\" id=\"body1\" data-z-index=\"auto\" data-stacking-context=\"true\" role=\"document\" aria-owns=\"style1\"><g data-stacking-layer=\"rootBackgroundAndBorders\"><rect width=\"377\" height=\"836\" x=\"8\" y=\"8\" fill=\"rgb(255, 210, 0)\"/></g><g data-tag=\"style\" id=\"style1\" data-z-index=\"auto\" data-stacking-context=\"true\"/></g></g></svg>\"\"\"\n",
    "\n",
    "text = dataset['test'][0]['svg']\n",
    "\n",
    "tokenizer = AutoTokenizer.from_pretrained(\"../20241112-color-test-longt5-preloaded-traning-checkpoint/final\")\n",
    "inputs = tokenizer(text, return_tensors=\"pt\").input_ids\n",
    "inputs = inputs.to('mps')\n",
    "\n",
    "model.eval()\n",
    "\n",
    "with torch.no_grad():\n",
    "    model = LongT5ForConditionalGeneration.from_pretrained(\"../20241112-color-test-longt5-preloaded-traning-checkpoint/final\")\n",
    "    model.to('mps')\n",
    "    model.generation_config = generation_config\n",
    "    \n",
    "    outputs = model.generate(inputs)\n",
    "\n",
    "translation = tokenizer.decode(outputs[0], skip_special_tokens=True)\n",
    "\n",
    "print(translation)\n"
   ],
   "id": "c998b428e276f22",
   "outputs": [
    {
     "name": "stdout",
     "output_type": "stream",
     "text": [
      "Serie cent bitcoin students Buc Buc Buc Buc Buc Buc Buc students301 students301 Prestrăiesc301 students301 Prestrăiesc301 students301 bitcoin bitcoin bitcoin bitcoin students301 Pres Liga eighth Pres Liga cent Pres Liga cent Pres Liga cent Pres Liga cent Pres Liga cent Pres Liga cent Pres Liga cent Pres Liga cent Pres Liga cent Pres Liga cent Pres Liga cent Pres Liga cent Pres Liga cent Pres Liga cent Pres Liga cent Pres Liga cent Pres Liga cent Pres Liga cent Pres Liga cent Pres Liga cent Pres Liga cent Liga cent Pres Liga cent Liga cent Pres Liga cent Liga cent Liga cent Liga cent Pres Liga cent bărbați revision Buc Buc Buc Buc Buc Buc Buc Buc Buc Bucbach Liga Bucbach Liga Bucbach Liga Bucbach Liga Bucbach Liga Bucbach Liga Bucbach Liga Bucbach Liga Bucbach Liga Bucbach Liga Bucbach Liga Bucbach Liga Bucbach Liga Bucbach Liga Bucbach Liga Bucbach Liga Bucbach Liga Bucbach Liga Bucbach Liga Bucbach Liga Bucbach Liga Bucbach Liga Bucbach Liga Bucbach Liga Bucbach Liga Bucbach Liga Bucbach Liga Bucbach Liga Bucbach Liga Bucbach Liga Bucbach Liga Bucbach bărbați revision Bucbach Liga Bucbach Liga Bucbach Liga infestation301 Bucbach Liga infestation301 Bucbach bărbați revision Bucbach Liga Bucbach Liga infestation301 Bucbach Liga infestation301 Bucbach Liga infestation301 Bucbach bărbați revision Bucbach Liga infestation301 Bucbach Liga infestation301 Bucbach Liga infestation301 Bucbach bărbați revision Bucbach Liga cent Pres Liga cent Pres Liga cent Pres Liga cent Pres Liga cent Pres Liga cent Pres Liga cent Pres Liga cent Pres Liga cent Pres Liga cent Pres Liga cent Pres Liga cent Pres Liga cent Pres Liga cent Pres Liga cent Pres Liga cent Pres Liga cent Pres Liga cent Pres Liga cent Pres Liga cent Pres Liga cent bărbați revision Bucbach bărbați revision Bucbach bărbați revision Bucbach bărbați revision Bucbach301 Bucbach301 Bucbach301 Bucbach301 Bucbach301 Bucbach301 Bucbach301 Bucbach301 Bucbach301 Bucbach301 Bucbach301 Bucbach301 Bucbach301 Bucbach301 Bucbach301 Bucbach301 Bucbach301 Bucbach301 Bucbach301 Bucbach301 Bucbach301 Bucbach301 Bucbach301 Bucbach301 Bucbach301 Bucbach301 Bucbach301 Bucbach301 Bucbach301 Bucbach301 Bucbach301 Bucbach301 Bucbach301 Bucbach301 Bucbach301 Bucbach301 cent Pres Liga cent Pres Liga cent Pres Liga cent Pres Liga cent Pres Liga cent Pres Liga cent Pres Liga cent Pres Liga cent Pres Liga cent Pres Liga cent Pres Liga cent Pres Liga cent Pres Liga cent Pres\n"
     ]
    }
   ],
   "execution_count": 11
  }
 ],
 "metadata": {
  "kernelspec": {
   "display_name": "Python 3",
   "language": "python",
   "name": "python3"
  },
  "language_info": {
   "codemirror_mode": {
    "name": "ipython",
    "version": 2
   },
   "file_extension": ".py",
   "mimetype": "text/x-python",
   "name": "python",
   "nbconvert_exporter": "python",
   "pygments_lexer": "ipython2",
   "version": "2.7.6"
  }
 },
 "nbformat": 4,
 "nbformat_minor": 5
}
