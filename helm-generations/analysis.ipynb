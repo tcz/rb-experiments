{
 "cells": [
  {
   "metadata": {
    "ExecuteTime": {
     "end_time": "2025-05-07T14:26:24.153725Z",
     "start_time": "2025-05-07T14:26:24.147176Z"
    }
   },
   "cell_type": "code",
   "source": [
    "import pickle\n",
    "objects = []\n",
    "with (open(\"generated_htmls.pkl\", \"rb\")) as f:\n",
    "    htmls = pickle.load(f)\n",
    "\n",
    "print(htmls[1])"
   ],
   "id": "6078641a305f090f",
   "outputs": [
    {
     "name": "stdout",
     "output_type": "stream",
     "text": [
      "<body><section class=\"conteudo-principal\"></section><h2 class=\"titulo-principal\">Meus Objetivos do ano <span>_</span></h2><div class=\"botoes\"><button class=\"botao\">Cursos na Alura</button> <button class=\"botao\">Criar projetos em JavaScript</button> <button></button> <button class=\"botao\">Criar um portfólio</button> <button class=\"botao\">Atualizar meu currículo</button></div></body>\n",
      "\n",
      "<style>\n",
      "\n",
      "@import url('https://fonts.googleapis.com/css2?family=Chakra+Petch:wght@300;400;500;600;700&display=swap');\n",
      "\n",
      "* {\n",
      "    margin: 0;\n",
      "    padding: 0;\n",
      "    box-sizing: border-box;\n",
      "}\n",
      "\n",
      "body {\n",
      "    background-color: #1e1e1e;\n",
      "    color: #fff;\n",
      "    font-family: 'Chakra Petch', sans-serif;\n",
      "}\n",
      "\n",
      ".conteudo-principal {\n",
      "    display: flex;\n",
      "    flex-direction: column;\n",
      "    align-items: center;\n",
      "    justify-content: center;\n",
      "    height: 100vh;\n",
      "    width: 100%;\n",
      "}\n",
      "\n",
      ".titulo-principal {\n",
      "    font-size: 2em;\n",
      "    margin-bottom: 20px;\n",
      "    color: #fff;\n",
      "}\n",
      "\n",
      ".titulo-principal span {\n",
      "    color: #6fff57;\n",
      "    animation: blink 1s infinite;\n",
      "}\n",
      "\n",
      "@keyframes blink {\n",
      "    0% {\n",
      "        opacity: 0;\n",
      "    }\n",
      "    50% {\n",
      "        opacity: 1;\n",
      "    }\n",
      "    100% {\n",
      "        opacity: 0;\n",
      "    }\n",
      "}\n",
      "\n",
      ".botoes {\n",
      "    display: flex;\n",
      "    gap: 16px;\n",
      "}\n",
      "\n",
      ".botao {\n",
      "    background-color: rgba(58, 55, 94, 0.5);\n",
      "    border: none;\n",
      "    padding: 10px 20px;\n",
      "    font-size: 1.1em;\n",
      "    font-family: '«Crakra Petch»', sans-serif;\n",
      "    cursor: pointer;\n",
      "    border-radius: 40px;\n",
      "    color: #fff;\n",
      "    border-top: 4px solid #3a375e;\n",
      "    border-bottom: 4px solid #3a375e;\n",
      "    border-left: 2px solid #3a375e;\n",
      "    border-right: 2px solid #3a375e;\n",
      "    transition: 0.3s ease;\n",
      "}\n",
      "\n",
      ".botao:hover {\n",
      "    background-color: rgba(58, 55, 94, 0.8);\n",
      "}\n",
      "\n",
      "</style>\n"
     ]
    }
   ],
   "execution_count": 1
  },
  {
   "metadata": {
    "ExecuteTime": {
     "end_time": "2025-05-07T14:27:45.193730Z",
     "start_time": "2025-05-07T14:27:45.168088Z"
    }
   },
   "cell_type": "code",
   "source": [
    "from datasets import load_from_disk\n",
    "dataset = load_from_disk('../playground/data-image2struct-2')\n",
    "dataset\n",
    "\n",
    "for i in range(len(dataset)):\n",
    "    if 'Internet and Web Technology' in dataset[i]['html']:\n",
    "        print(dataset[i]['html'])\n",
    "        print(i)\n",
    "        break"
   ],
   "id": "3ef478ef98774af0",
   "outputs": [
    {
     "name": "stdout",
     "output_type": "stream",
     "text": [
      "<body><div class=\"navbar\"><a href=\"#home\">Home</a><div class=\"subnav\"><button class=\"subnavbtn\">Courses<i class=\"fa fa-caret-down\"></i></button></div><div class=\"subnav\"><button class=\"subnavbtn\">About<i class=\"fa fa-caret-down\"></i></button></div><div class=\"subnav\"><button class=\"subnavbtn\">Browser<i class=\"fa fa-caret-down\"></i></button></div></div><div class=\"welcome-container\"><h1 class=\"welcome-message\">Internet and Web Technology</h1><div class=\"images-container\"><img alt=\"Wireshark Logo\" class=\"tech-image\" src=\"http://localhost:3000/590ec476.jpeg\"> <img alt=\"PyCharm IDE\" class=\"tech-image\" src=\"http://localhost:3000/fc8b8f15.jpeg\"> <img alt=\"W3Schools\" class=\"tech-image\" src=\"http://localhost:3000/5bcfb3a0.jpeg\"></div></div><div class=\"course-info\"><h2 class=\"course-title\">Course Syllabus and Resources</h2><ul class=\"resources\"><li><a href=\"https://csci355wintersyllabus.tiiny.site\" target=\"_blank\">Syllabus</a></li><li><a href=\"https://www.jetbrains.com/pycharm/\" target=\"_blank\">PyCharm</a></li><li><a href=\"https://www.wireshark.org/\" target=\"_blank\">WireShark</a></li><li><a href=\"https://www.qc.cuny.edu/\" target=\"_blank\">Queens College Site</a></li></ul></div></body>\n",
      "\n",
      "<style>\n",
      "\n",
      "body {\n",
      "  background-image: linear-gradient(to left, #42275a, #734b6d);\n",
      "  margin: 0; \n",
      "  height: 100%;\n",
      "}\n",
      "\n",
      ".navbar {\n",
      "  overflow: hidden;\n",
      "  background-color: #333;\n",
      "}\n",
      "\n",
      ".navbar a {\n",
      "  float: left;\n",
      "  font-size: 16px;\n",
      "  color: white;\n",
      "  text-align: center;\n",
      "  padding: 14px 16px;\n",
      "  text-decoration: none;\n",
      "}\n",
      "\n",
      ".subnav {\n",
      "  float: left;\n",
      "  overflow: hidden;\n",
      "}\n",
      "\n",
      ".subnav .subnavbtn {\n",
      "  font-size: 16px;\n",
      "  border: none;\n",
      "  outline: none;\n",
      "  color: white;\n",
      "  padding: 14px 16px;\n",
      "  background-color: inherit;\n",
      "  font-family: inherit;\n",
      "  margin: 0;\n",
      "}\n",
      "\n",
      ".navbar a:hover, .subnav:hover .subnavbtn {\n",
      "  background-color: red;\n",
      "}\n",
      "\n",
      ".welcome-message {\n",
      "  font-size: 4em; \n",
      "  color: #fff; \n",
      "  text-shadow: 2px 2px 4px #000000; \n",
      "  text-align: center; \n",
      "  margin: 20px 0; \n",
      "  transition: transform 0.3s ease; \n",
      "}\n",
      "\n",
      ".welcome-message:hover {\n",
      "  transform: scale(1.1); \n",
      "}\n",
      "\n",
      ".welcome-container img {\n",
      "    max-width: 100%; \n",
      "    height: auto; \n",
      "}\n",
      "\n",
      "\n",
      ".images-container {\n",
      "    display: flex;\n",
      "    justify-content: center; \n",
      "    gap: 5px; \n",
      "    \n",
      "}\n",
      "\n",
      ".tech-image {\n",
      "    max-width: 10%; \n",
      "    height: auto; \n",
      "    max-height: 150px; \n",
      "  margin: 0;\n",
      "}\n",
      "\n",
      "\n",
      "\n",
      "\n",
      "\n",
      "\n",
      "\n",
      "\n",
      "</style>\n",
      "2\n"
     ]
    }
   ],
   "execution_count": 4
  },
  {
   "cell_type": "code",
   "id": "initial_id",
   "metadata": {
    "collapsed": true,
    "ExecuteTime": {
     "end_time": "2025-05-07T19:42:15.722379Z",
     "start_time": "2025-05-07T17:35:22.219368Z"
    }
   },
   "source": [
    "from utils.similarity import calculate_metrics\n",
    "from tqdm import tqdm\n",
    "\n",
    "similarities = []\n",
    "perceptual_losses = []\n",
    "\n",
    "for i in tqdm(range(len(htmls))):\n",
    "    expected_html = dataset[i]['html']\n",
    "    expected_html = expected_html.replace('http://localhost:3000/', '/')\n",
    "    predicted_html = htmls[i]\n",
    "    metrics = calculate_metrics(htmls[i], dataset[i]['html'], 1920, 1080)\n",
    "    if metrics is None:\n",
    "        continue\n",
    "    similarities.append(metrics['similarity'])\n",
    "    perceptual_losses.append(metrics['perceptual_loss'])"
   ],
   "outputs": [
    {
     "name": "stderr",
     "output_type": "stream",
     "text": [
      " 27%|██▋       | 239/884 [31:36<3:07:02, 17.40s/it]"
     ]
    },
    {
     "name": "stdout",
     "output_type": "stream",
     "text": [
      "Script failed with error: /Users/tcz/Dropbox/Reverse Browser/Models/.venv/lib/python3.9/site-packages/urllib3/__init__.py:35: NotOpenSSLWarning: urllib3 v2 only supports OpenSSL 1.1.1+, currently the 'ssl' module is compiled with 'LibreSSL 2.8.3'. See: https://github.com/urllib3/urllib3/issues/3020\n",
      "  warnings.warn(\n",
      "Traceback (most recent call last):\n",
      "  File \"/Users/tcz/Dropbox/Reverse Browser/Models/helm-generations/utils/similarity.py\", line 195, in <module>\n",
      "    take_screenshot(args.expected_url, args.expected_screenshot_path, args.viewport_width, args.viewport_height)\n",
      "  File \"/Users/tcz/Dropbox/Reverse Browser/Models/helm-generations/utils/similarity.py\", line 98, in take_screenshot\n",
      "    page.goto(url)\n",
      "  File \"/Users/tcz/Dropbox/Reverse Browser/Models/.venv/lib/python3.9/site-packages/playwright/sync_api/_generated.py\", line 9002, in goto\n",
      "    self._sync(\n",
      "  File \"/Users/tcz/Dropbox/Reverse Browser/Models/.venv/lib/python3.9/site-packages/playwright/_impl/_sync_base.py\", line 115, in _sync\n",
      "    return task.result()\n",
      "  File \"/Users/tcz/Dropbox/Reverse Browser/Models/.venv/lib/python3.9/site-packages/playwright/_impl/_page.py\", line 553, in goto\n",
      "    return await self._main_frame.goto(**locals_to_params(locals()))\n",
      "  File \"/Users/tcz/Dropbox/Reverse Browser/Models/.venv/lib/python3.9/site-packages/playwright/_impl/_frame.py\", line 145, in goto\n",
      "    await self._channel.send(\"goto\", locals_to_params(locals()))\n",
      "  File \"/Users/tcz/Dropbox/Reverse Browser/Models/.venv/lib/python3.9/site-packages/playwright/_impl/_connection.py\", line 59, in send\n",
      "    return await self._connection.wrap_api_call(\n",
      "  File \"/Users/tcz/Dropbox/Reverse Browser/Models/.venv/lib/python3.9/site-packages/playwright/_impl/_connection.py\", line 520, in wrap_api_call\n",
      "    raise rewrite_error(error, f\"{parsed_st['apiName']}: {error}\") from None\n",
      "playwright._impl._errors.TimeoutError: Page.goto: Timeout 30000ms exceeded.\n",
      "Call log:\n",
      "navigating to \"http://127.0.0.1:8895/expected.html\", waiting until \"load\"\n",
      "\n",
      "\n"
     ]
    },
    {
     "name": "stderr",
     "output_type": "stream",
     "text": [
      " 51%|█████     | 453/884 [1:06:04<2:15:29, 18.86s/it]"
     ]
    },
    {
     "name": "stdout",
     "output_type": "stream",
     "text": [
      "Script failed with error: /Users/tcz/Dropbox/Reverse Browser/Models/.venv/lib/python3.9/site-packages/urllib3/__init__.py:35: NotOpenSSLWarning: urllib3 v2 only supports OpenSSL 1.1.1+, currently the 'ssl' module is compiled with 'LibreSSL 2.8.3'. See: https://github.com/urllib3/urllib3/issues/3020\n",
      "  warnings.warn(\n",
      "Traceback (most recent call last):\n",
      "  File \"/Users/tcz/Dropbox/Reverse Browser/Models/helm-generations/utils/similarity.py\", line 194, in <module>\n",
      "    take_screenshot(args.predicted_url, args.predicted_screenshot_path, args.viewport_width, args.viewport_height)\n",
      "  File \"/Users/tcz/Dropbox/Reverse Browser/Models/helm-generations/utils/similarity.py\", line 98, in take_screenshot\n",
      "    page.goto(url)\n",
      "  File \"/Users/tcz/Dropbox/Reverse Browser/Models/.venv/lib/python3.9/site-packages/playwright/sync_api/_generated.py\", line 9002, in goto\n",
      "    self._sync(\n",
      "  File \"/Users/tcz/Dropbox/Reverse Browser/Models/.venv/lib/python3.9/site-packages/playwright/_impl/_sync_base.py\", line 115, in _sync\n",
      "    return task.result()\n",
      "  File \"/Users/tcz/Dropbox/Reverse Browser/Models/.venv/lib/python3.9/site-packages/playwright/_impl/_page.py\", line 553, in goto\n",
      "    return await self._main_frame.goto(**locals_to_params(locals()))\n",
      "  File \"/Users/tcz/Dropbox/Reverse Browser/Models/.venv/lib/python3.9/site-packages/playwright/_impl/_frame.py\", line 145, in goto\n",
      "    await self._channel.send(\"goto\", locals_to_params(locals()))\n",
      "  File \"/Users/tcz/Dropbox/Reverse Browser/Models/.venv/lib/python3.9/site-packages/playwright/_impl/_connection.py\", line 59, in send\n",
      "    return await self._connection.wrap_api_call(\n",
      "  File \"/Users/tcz/Dropbox/Reverse Browser/Models/.venv/lib/python3.9/site-packages/playwright/_impl/_connection.py\", line 520, in wrap_api_call\n",
      "    raise rewrite_error(error, f\"{parsed_st['apiName']}: {error}\") from None\n",
      "playwright._impl._errors.TimeoutError: Page.goto: Timeout 30000ms exceeded.\n",
      "Call log:\n",
      "navigating to \"http://127.0.0.1:8895/predicted.html\", waiting until \"load\"\n",
      "\n",
      "\n"
     ]
    },
    {
     "name": "stderr",
     "output_type": "stream",
     "text": [
      "100%|██████████| 884/884 [2:06:53<00:00,  8.61s/it]  \n"
     ]
    }
   ],
   "execution_count": 5
  },
  {
   "metadata": {
    "ExecuteTime": {
     "end_time": "2025-05-07T19:52:26.767550Z",
     "start_time": "2025-05-07T19:52:26.741038Z"
    }
   },
   "cell_type": "code",
   "source": [
    "# WARNING! This LPIPS model uses AlexNet. Image2Struct uses VGG. I performed a separate analysis on the obtained screenshots to calculate the perceptual loss published in the report.\n",
    "import numpy as np\n",
    "print(np.average(similarities))\n",
    "print(np.average(perceptual_losses))\n",
    "print(1-np.average(perceptual_losses))"
   ],
   "id": "b5b280b7133c47ac",
   "outputs": [
    {
     "name": "stdout",
     "output_type": "stream",
     "text": [
      "0.9005596071232098\n",
      "0.3141925214381888\n",
      "0.6858074785618111\n"
     ]
    }
   ],
   "execution_count": 9
  },
  {
   "metadata": {
    "ExecuteTime": {
     "end_time": "2025-05-07T19:52:30.240257Z",
     "start_time": "2025-05-07T19:52:30.163080Z"
    }
   },
   "cell_type": "code",
   "source": [
    "svg_count = 0\n",
    "for i in tqdm(range(len(htmls))):\n",
    "    if '<svg' in htmls[i].lower():\n",
    "        svg_count += 1\n",
    "print(svg_count)"
   ],
   "id": "fb1bb29c942571e1",
   "outputs": [
    {
     "name": "stderr",
     "output_type": "stream",
     "text": [
      "100%|██████████| 884/884 [00:00<00:00, 13821.53it/s]"
     ]
    },
    {
     "name": "stdout",
     "output_type": "stream",
     "text": [
      "20\n"
     ]
    },
    {
     "name": "stderr",
     "output_type": "stream",
     "text": [
      "\n"
     ]
    }
   ],
   "execution_count": 10
  },
  {
   "metadata": {
    "ExecuteTime": {
     "end_time": "2025-05-07T19:52:33.519005Z",
     "start_time": "2025-05-07T19:52:33.513293Z"
    }
   },
   "cell_type": "code",
   "source": [
    "import pickle\n",
    "\n",
    "with open('final_similarities.pkl', 'wb') as f:\n",
    "    pickle.dump([similarities, perceptual_losses], f)"
   ],
   "id": "3322807c757ea8e5",
   "outputs": [],
   "execution_count": 11
  },
  {
   "metadata": {
    "ExecuteTime": {
     "end_time": "2025-05-07T19:52:38.866799Z",
     "start_time": "2025-05-07T19:52:38.809889Z"
    }
   },
   "cell_type": "code",
   "source": [
    "from scipy.stats import pearsonr\n",
    "\n",
    "correlation, p_value = pearsonr(similarities, perceptual_losses)\n",
    "\n",
    "print(f\"Pearson correlation: {correlation}\")\n",
    "print(f\"P-value: {p_value}\")"
   ],
   "id": "ecfb560355295a0",
   "outputs": [
    {
     "name": "stdout",
     "output_type": "stream",
     "text": [
      "Pearson correlation: -0.6221970631253917\n",
      "P-value: 1.19455213718847e-95\n"
     ]
    }
   ],
   "execution_count": 12
  },
  {
   "metadata": {},
   "cell_type": "code",
   "outputs": [],
   "execution_count": null,
   "source": "",
   "id": "b26e0541d8e4226e"
  }
 ],
 "metadata": {
  "kernelspec": {
   "display_name": "Python 3",
   "language": "python",
   "name": "python3"
  },
  "language_info": {
   "codemirror_mode": {
    "name": "ipython",
    "version": 2
   },
   "file_extension": ".py",
   "mimetype": "text/x-python",
   "name": "python",
   "nbconvert_exporter": "python",
   "pygments_lexer": "ipython2",
   "version": "2.7.6"
  }
 },
 "nbformat": 4,
 "nbformat_minor": 5
}
