{
 "cells": [
  {
   "metadata": {
    "ExecuteTime": {
     "end_time": "2025-05-04T20:06:49.147170Z",
     "start_time": "2025-05-04T20:06:49.138474Z"
    }
   },
   "cell_type": "code",
   "source": [
    "import pickle\n",
    "objects = []\n",
    "with (open(\"generated_htmls.pkl\", \"rb\")) as f:\n",
    "    htmls = pickle.load(f)\n",
    "\n",
    "print(htmls[1])"
   ],
   "id": "6078641a305f090f",
   "outputs": [
    {
     "name": "stdout",
     "output_type": "stream",
     "text": [
      "<body><section class=\"conteudo-principal\"></section><h2 class=\"titulo-principal\">Meus Objetivos do ano <span>_</span></h2><div class=\"botoes\"><button class=\"botao\">Cursos na Alura</button> <button class=\"botao\">Criar projetos em JavaScript</button> <button></button> <button class=\"botao\">Criar um portfólio</button> <button class=\"botao\">Atualizar meu currículo</button></div></body>\n",
      "\n",
      "<style>\n",
      "\n",
      "@import url('https://fonts.googleapis.com/css2?family=Chakra+Petch:wght@300;400;500;600;700&display=swap');\n",
      "\n",
      "* {\n",
      "    margin: 0;\n",
      "    padding: 0;\n",
      "    box-sizing: border-box;\n",
      "}\n",
      "\n",
      "body {\n",
      "    background-color: #1e1e1e;\n",
      "    color: #fff;\n",
      "    font-family: 'Chakra Petch', sans-serif;\n",
      "}\n",
      "\n",
      ".conteudo-principal {\n",
      "    display: flex;\n",
      "    flex-direction: column;\n",
      "    align-items: center;\n",
      "    justify-content: center;\n",
      "    height: 100vh;\n",
      "    width: 100%;\n",
      "}\n",
      "\n",
      ".titulo-principal {\n",
      "    font-size: 2em;\n",
      "    margin-bottom: 20px;\n",
      "    color: #fff;\n",
      "}\n",
      "\n",
      ".titulo-principal span {\n",
      "    color: #6fff57;\n",
      "    animation: blink 1s infinite;\n",
      "}\n",
      "\n",
      "@keyframes blink {\n",
      "    0% {\n",
      "        opacity: 0;\n",
      "    }\n",
      "    50% {\n",
      "        opacity: 1;\n",
      "    }\n",
      "    100% {\n",
      "        opacity: 0;\n",
      "    }\n",
      "}\n",
      "\n",
      ".botoes {\n",
      "    display: flex;\n",
      "    gap: 16px;\n",
      "}\n",
      "\n",
      ".botao {\n",
      "    background-color: rgba(58, 55, 94, 0.5);\n",
      "    border: none;\n",
      "    padding: 10px 20px;\n",
      "    font-size: 1.1em;\n",
      "    font-family: '«Crakra Petch»', sans-serif;\n",
      "    cursor: pointer;\n",
      "    border-radius: 40px;\n",
      "    color: #fff;\n",
      "    border-top: 4px solid #3a375e;\n",
      "    border-bottom: 4px solid #3a375e;\n",
      "    border-left: 2px solid #3a375e;\n",
      "    border-right: 2px solid #3a375e;\n",
      "    transition: 0.3s ease;\n",
      "}\n",
      "\n",
      ".botao:hover {\n",
      "    background-color: rgba(58, 55, 94, 0.8);\n",
      "}\n",
      "\n",
      "</style>\n"
     ]
    }
   ],
   "execution_count": 1
  },
  {
   "metadata": {
    "ExecuteTime": {
     "end_time": "2025-05-04T20:06:50.428491Z",
     "start_time": "2025-05-04T20:06:50.068017Z"
    }
   },
   "cell_type": "code",
   "source": [
    "from datasets import load_from_disk\n",
    "dataset = load_from_disk('../playground/data-image2struct-2')\n",
    "dataset"
   ],
   "id": "3ef478ef98774af0",
   "outputs": [
    {
     "name": "stderr",
     "output_type": "stream",
     "text": [
      "/Users/tcz/Dropbox/Reverse Browser/Models/.venv/lib/python3.9/site-packages/urllib3/__init__.py:35: NotOpenSSLWarning: urllib3 v2 only supports OpenSSL 1.1.1+, currently the 'ssl' module is compiled with 'LibreSSL 2.8.3'. See: https://github.com/urllib3/urllib3/issues/3020\n",
      "  warnings.warn(\n"
     ]
    },
    {
     "data": {
      "text/plain": [
       "Dataset({\n",
       "    features: ['svg', 'html'],\n",
       "    num_rows: 884\n",
       "})"
      ]
     },
     "execution_count": 2,
     "metadata": {},
     "output_type": "execute_result"
    }
   ],
   "execution_count": 2
  },
  {
   "cell_type": "code",
   "id": "initial_id",
   "metadata": {
    "collapsed": true,
    "ExecuteTime": {
     "end_time": "2025-05-04T21:33:17.568176Z",
     "start_time": "2025-05-04T20:08:12.877696Z"
    }
   },
   "source": [
    "from utils.similarity import calculate_metrics\n",
    "from tqdm import tqdm\n",
    "\n",
    "similarities = []\n",
    "perceptual_losses = []\n",
    "\n",
    "for i in tqdm(range(len(htmls))):\n",
    "    metrics = calculate_metrics(htmls[i], dataset[i]['html'], 1920, 1080)\n",
    "    if metrics is None:\n",
    "        continue\n",
    "    similarities.append(metrics['similarity'])\n",
    "    perceptual_losses.append(metrics['perceptual_loss'])"
   ],
   "outputs": [
    {
     "name": "stderr",
     "output_type": "stream",
     "text": [
      " 27%|██▋       | 239/884 [27:12<2:23:34, 13.36s/it]"
     ]
    },
    {
     "name": "stdout",
     "output_type": "stream",
     "text": [
      "Script failed with error: /Users/tcz/Dropbox/Reverse Browser/Models/.venv/lib/python3.9/site-packages/urllib3/__init__.py:35: NotOpenSSLWarning: urllib3 v2 only supports OpenSSL 1.1.1+, currently the 'ssl' module is compiled with 'LibreSSL 2.8.3'. See: https://github.com/urllib3/urllib3/issues/3020\n",
      "  warnings.warn(\n",
      "Traceback (most recent call last):\n",
      "  File \"/Users/tcz/Dropbox/Reverse Browser/Models/helm-generations/utils/similarity.py\", line 195, in <module>\n",
      "    take_screenshot(args.expected_url, args.expected_screenshot_path, args.viewport_width, args.viewport_height)\n",
      "  File \"/Users/tcz/Dropbox/Reverse Browser/Models/helm-generations/utils/similarity.py\", line 98, in take_screenshot\n",
      "    page.goto(url)\n",
      "  File \"/Users/tcz/Dropbox/Reverse Browser/Models/.venv/lib/python3.9/site-packages/playwright/sync_api/_generated.py\", line 9002, in goto\n",
      "    self._sync(\n",
      "  File \"/Users/tcz/Dropbox/Reverse Browser/Models/.venv/lib/python3.9/site-packages/playwright/_impl/_sync_base.py\", line 115, in _sync\n",
      "    return task.result()\n",
      "  File \"/Users/tcz/Dropbox/Reverse Browser/Models/.venv/lib/python3.9/site-packages/playwright/_impl/_page.py\", line 553, in goto\n",
      "    return await self._main_frame.goto(**locals_to_params(locals()))\n",
      "  File \"/Users/tcz/Dropbox/Reverse Browser/Models/.venv/lib/python3.9/site-packages/playwright/_impl/_frame.py\", line 145, in goto\n",
      "    await self._channel.send(\"goto\", locals_to_params(locals()))\n",
      "  File \"/Users/tcz/Dropbox/Reverse Browser/Models/.venv/lib/python3.9/site-packages/playwright/_impl/_connection.py\", line 59, in send\n",
      "    return await self._connection.wrap_api_call(\n",
      "  File \"/Users/tcz/Dropbox/Reverse Browser/Models/.venv/lib/python3.9/site-packages/playwright/_impl/_connection.py\", line 520, in wrap_api_call\n",
      "    raise rewrite_error(error, f\"{parsed_st['apiName']}: {error}\") from None\n",
      "playwright._impl._errors.TimeoutError: Page.goto: Timeout 30000ms exceeded.\n",
      "Call log:\n",
      "navigating to \"http://127.0.0.1:8895/expected.html\", waiting until \"load\"\n",
      "\n",
      "\n"
     ]
    },
    {
     "name": "stderr",
     "output_type": "stream",
     "text": [
      " 42%|████▏     | 370/884 [38:37<1:53:09, 13.21s/it]"
     ]
    },
    {
     "name": "stdout",
     "output_type": "stream",
     "text": [
      "Script failed with error: /Users/tcz/Dropbox/Reverse Browser/Models/.venv/lib/python3.9/site-packages/urllib3/__init__.py:35: NotOpenSSLWarning: urllib3 v2 only supports OpenSSL 1.1.1+, currently the 'ssl' module is compiled with 'LibreSSL 2.8.3'. See: https://github.com/urllib3/urllib3/issues/3020\n",
      "  warnings.warn(\n",
      "Traceback (most recent call last):\n",
      "  File \"/Users/tcz/Dropbox/Reverse Browser/Models/helm-generations/utils/similarity.py\", line 194, in <module>\n",
      "    take_screenshot(args.predicted_url, args.predicted_screenshot_path, args.viewport_width, args.viewport_height)\n",
      "  File \"/Users/tcz/Dropbox/Reverse Browser/Models/helm-generations/utils/similarity.py\", line 98, in take_screenshot\n",
      "    page.goto(url)\n",
      "  File \"/Users/tcz/Dropbox/Reverse Browser/Models/.venv/lib/python3.9/site-packages/playwright/sync_api/_generated.py\", line 9002, in goto\n",
      "    self._sync(\n",
      "  File \"/Users/tcz/Dropbox/Reverse Browser/Models/.venv/lib/python3.9/site-packages/playwright/_impl/_sync_base.py\", line 115, in _sync\n",
      "    return task.result()\n",
      "  File \"/Users/tcz/Dropbox/Reverse Browser/Models/.venv/lib/python3.9/site-packages/playwright/_impl/_page.py\", line 553, in goto\n",
      "    return await self._main_frame.goto(**locals_to_params(locals()))\n",
      "  File \"/Users/tcz/Dropbox/Reverse Browser/Models/.venv/lib/python3.9/site-packages/playwright/_impl/_frame.py\", line 145, in goto\n",
      "    await self._channel.send(\"goto\", locals_to_params(locals()))\n",
      "  File \"/Users/tcz/Dropbox/Reverse Browser/Models/.venv/lib/python3.9/site-packages/playwright/_impl/_connection.py\", line 59, in send\n",
      "    return await self._connection.wrap_api_call(\n",
      "  File \"/Users/tcz/Dropbox/Reverse Browser/Models/.venv/lib/python3.9/site-packages/playwright/_impl/_connection.py\", line 520, in wrap_api_call\n",
      "    raise rewrite_error(error, f\"{parsed_st['apiName']}: {error}\") from None\n",
      "playwright._impl._errors.TimeoutError: Page.goto: Timeout 30000ms exceeded.\n",
      "Call log:\n",
      "navigating to \"http://127.0.0.1:8895/predicted.html\", waiting until \"load\"\n",
      "\n",
      "\n"
     ]
    },
    {
     "name": "stderr",
     "output_type": "stream",
     "text": [
      " 51%|█████     | 453/884 [46:49<1:45:53, 14.74s/it]"
     ]
    },
    {
     "name": "stdout",
     "output_type": "stream",
     "text": [
      "Script failed with error: /Users/tcz/Dropbox/Reverse Browser/Models/.venv/lib/python3.9/site-packages/urllib3/__init__.py:35: NotOpenSSLWarning: urllib3 v2 only supports OpenSSL 1.1.1+, currently the 'ssl' module is compiled with 'LibreSSL 2.8.3'. See: https://github.com/urllib3/urllib3/issues/3020\n",
      "  warnings.warn(\n",
      "Traceback (most recent call last):\n",
      "  File \"/Users/tcz/Dropbox/Reverse Browser/Models/helm-generations/utils/similarity.py\", line 194, in <module>\n",
      "    take_screenshot(args.predicted_url, args.predicted_screenshot_path, args.viewport_width, args.viewport_height)\n",
      "  File \"/Users/tcz/Dropbox/Reverse Browser/Models/helm-generations/utils/similarity.py\", line 98, in take_screenshot\n",
      "    page.goto(url)\n",
      "  File \"/Users/tcz/Dropbox/Reverse Browser/Models/.venv/lib/python3.9/site-packages/playwright/sync_api/_generated.py\", line 9002, in goto\n",
      "    self._sync(\n",
      "  File \"/Users/tcz/Dropbox/Reverse Browser/Models/.venv/lib/python3.9/site-packages/playwright/_impl/_sync_base.py\", line 115, in _sync\n",
      "    return task.result()\n",
      "  File \"/Users/tcz/Dropbox/Reverse Browser/Models/.venv/lib/python3.9/site-packages/playwright/_impl/_page.py\", line 553, in goto\n",
      "    return await self._main_frame.goto(**locals_to_params(locals()))\n",
      "  File \"/Users/tcz/Dropbox/Reverse Browser/Models/.venv/lib/python3.9/site-packages/playwright/_impl/_frame.py\", line 145, in goto\n",
      "    await self._channel.send(\"goto\", locals_to_params(locals()))\n",
      "  File \"/Users/tcz/Dropbox/Reverse Browser/Models/.venv/lib/python3.9/site-packages/playwright/_impl/_connection.py\", line 59, in send\n",
      "    return await self._connection.wrap_api_call(\n",
      "  File \"/Users/tcz/Dropbox/Reverse Browser/Models/.venv/lib/python3.9/site-packages/playwright/_impl/_connection.py\", line 520, in wrap_api_call\n",
      "    raise rewrite_error(error, f\"{parsed_st['apiName']}: {error}\") from None\n",
      "playwright._impl._errors.TimeoutError: Page.goto: Timeout 30000ms exceeded.\n",
      "Call log:\n",
      "navigating to \"http://127.0.0.1:8895/predicted.html\", waiting until \"load\"\n",
      "\n",
      "\n"
     ]
    },
    {
     "name": "stderr",
     "output_type": "stream",
     "text": [
      " 56%|█████▌    | 493/884 [51:23<1:35:16, 14.62s/it]"
     ]
    },
    {
     "name": "stdout",
     "output_type": "stream",
     "text": [
      "Script failed with error: /Users/tcz/Dropbox/Reverse Browser/Models/.venv/lib/python3.9/site-packages/urllib3/__init__.py:35: NotOpenSSLWarning: urllib3 v2 only supports OpenSSL 1.1.1+, currently the 'ssl' module is compiled with 'LibreSSL 2.8.3'. See: https://github.com/urllib3/urllib3/issues/3020\n",
      "  warnings.warn(\n",
      "Traceback (most recent call last):\n",
      "  File \"/Users/tcz/Dropbox/Reverse Browser/Models/helm-generations/utils/similarity.py\", line 195, in <module>\n",
      "    take_screenshot(args.expected_url, args.expected_screenshot_path, args.viewport_width, args.viewport_height)\n",
      "  File \"/Users/tcz/Dropbox/Reverse Browser/Models/helm-generations/utils/similarity.py\", line 98, in take_screenshot\n",
      "    page.goto(url)\n",
      "  File \"/Users/tcz/Dropbox/Reverse Browser/Models/.venv/lib/python3.9/site-packages/playwright/sync_api/_generated.py\", line 9002, in goto\n",
      "    self._sync(\n",
      "  File \"/Users/tcz/Dropbox/Reverse Browser/Models/.venv/lib/python3.9/site-packages/playwright/_impl/_sync_base.py\", line 115, in _sync\n",
      "    return task.result()\n",
      "  File \"/Users/tcz/Dropbox/Reverse Browser/Models/.venv/lib/python3.9/site-packages/playwright/_impl/_page.py\", line 553, in goto\n",
      "    return await self._main_frame.goto(**locals_to_params(locals()))\n",
      "  File \"/Users/tcz/Dropbox/Reverse Browser/Models/.venv/lib/python3.9/site-packages/playwright/_impl/_frame.py\", line 145, in goto\n",
      "    await self._channel.send(\"goto\", locals_to_params(locals()))\n",
      "  File \"/Users/tcz/Dropbox/Reverse Browser/Models/.venv/lib/python3.9/site-packages/playwright/_impl/_connection.py\", line 59, in send\n",
      "    return await self._connection.wrap_api_call(\n",
      "  File \"/Users/tcz/Dropbox/Reverse Browser/Models/.venv/lib/python3.9/site-packages/playwright/_impl/_connection.py\", line 520, in wrap_api_call\n",
      "    raise rewrite_error(error, f\"{parsed_st['apiName']}: {error}\") from None\n",
      "playwright._impl._errors.TimeoutError: Page.goto: Timeout 30000ms exceeded.\n",
      "Call log:\n",
      "navigating to \"http://127.0.0.1:8895/expected.html\", waiting until \"load\"\n",
      "\n",
      "\n"
     ]
    },
    {
     "name": "stderr",
     "output_type": "stream",
     "text": [
      "100%|██████████| 884/884 [1:25:03<00:00,  5.77s/it]\n"
     ]
    }
   ],
   "execution_count": 3
  },
  {
   "metadata": {
    "ExecuteTime": {
     "end_time": "2025-05-04T21:56:07.144578Z",
     "start_time": "2025-05-04T21:56:07.134369Z"
    }
   },
   "cell_type": "code",
   "source": [
    "import numpy as np\n",
    "print(np.average(similarities))\n",
    "print(np.average(perceptual_losses))\n",
    "print(1-np.average(perceptual_losses))"
   ],
   "id": "b5b280b7133c47ac",
   "outputs": [
    {
     "name": "stdout",
     "output_type": "stream",
     "text": [
      "0.8971978279186849\n",
      "0.29122588891418877\n",
      "0.7087741110858112\n"
     ]
    }
   ],
   "execution_count": 5
  },
  {
   "metadata": {
    "ExecuteTime": {
     "end_time": "2025-05-05T12:50:06.108284Z",
     "start_time": "2025-05-05T12:50:05.941501Z"
    }
   },
   "cell_type": "code",
   "source": [
    "svg_count = 0\n",
    "for i in tqdm(range(len(htmls))):\n",
    "    if '<svg' in htmls[i].lower():\n",
    "        svg_count += 1\n",
    "print(svg_count)"
   ],
   "id": "fb1bb29c942571e1",
   "outputs": [
    {
     "name": "stderr",
     "output_type": "stream",
     "text": [
      "100%|██████████| 884/884 [00:00<00:00, 7486.32it/s]"
     ]
    },
    {
     "name": "stdout",
     "output_type": "stream",
     "text": [
      "20\n"
     ]
    },
    {
     "name": "stderr",
     "output_type": "stream",
     "text": [
      "\n"
     ]
    }
   ],
   "execution_count": 6
  },
  {
   "metadata": {},
   "cell_type": "code",
   "outputs": [],
   "execution_count": null,
   "source": "",
   "id": "ecfb560355295a0"
  }
 ],
 "metadata": {
  "kernelspec": {
   "display_name": "Python 3",
   "language": "python",
   "name": "python3"
  },
  "language_info": {
   "codemirror_mode": {
    "name": "ipython",
    "version": 2
   },
   "file_extension": ".py",
   "mimetype": "text/x-python",
   "name": "python",
   "nbconvert_exporter": "python",
   "pygments_lexer": "ipython2",
   "version": "2.7.6"
  }
 },
 "nbformat": 4,
 "nbformat_minor": 5
}
