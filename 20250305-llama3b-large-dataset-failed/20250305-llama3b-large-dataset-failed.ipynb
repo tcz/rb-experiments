{
 "cells": [
  {
   "cell_type": "markdown",
   "id": "a5467970cf69d792",
   "metadata": {},
   "source": [
    "# Llama 3.2 3B fine tuning with large data set\n",
    "\n",
    "2025-03-05 10:36\n",
    "\n",
    "Running large dataset fine tuning. Loss at step 1 is huge, after that it's 0 and we are getting NAN gradient norm. Will  try a smaller learning rate and limit the gradient norm. Stopped training after <100 steps.\n",
    "\n",
    "Later it turned out that the issue was in the Unsloth library that updated to the head. I fixed the version to a specific commit in subsequent runs."
   ]
  },
  {
   "cell_type": "code",
   "execution_count": 1,
   "id": "ae539acb48bf192b",
   "metadata": {},
   "outputs": [
    {
     "name": "stdout",
     "output_type": "stream",
     "text": [
      "🦥 Unsloth: Will patch your computer to enable 2x faster free finetuning.\n",
      "🦥 Unsloth Zoo will now patch everything to make training faster!\n"
     ]
    }
   ],
   "source": [
    "import unsloth\n",
    "import os\n",
    "import numpy as np\n",
    "import pandas as pd\n",
    "\n",
    "import torch\n",
    "from trl import SFTTrainer\n",
    "from transformers import TrainingArguments, TextStreamer\n",
    "from unsloth.chat_templates import get_chat_template\n",
    "from unsloth import FastLanguageModel\n",
    "from datasets import Dataset\n",
    "from unsloth import is_bfloat16_supported\n",
    "\n",
    "# Saving model\n",
    "from transformers import AutoTokenizer, AutoModelForSequenceClassification\n",
    "\n",
    "# Warnings\n",
    "import warnings\n",
    "warnings.filterwarnings(\"ignore\")"
   ]
  },
  {
   "cell_type": "code",
   "execution_count": 2,
   "id": "a0b19b466d146db5",
   "metadata": {},
   "outputs": [],
   "source": [
    "max_seq_length = 50000\n",
    "\n",
    "def load_model():\n",
    "    model, tokenizer = FastLanguageModel.from_pretrained(\n",
    "        model_name=\"unsloth/Llama-3.2-3B-unsloth-bnb-4bit\",\n",
    "        max_seq_length=max_seq_length,\n",
    "        load_in_4bit=True,\n",
    "        dtype=None,\n",
    "    )\n",
    "    \n",
    "    model = FastLanguageModel.get_peft_model(\n",
    "        model,\n",
    "        r=16,\n",
    "        lora_alpha=16,\n",
    "        lora_dropout=0,\n",
    "        target_modules=[\"q_proj\", \"k_proj\", \"v_proj\", \"up_proj\", \"down_proj\", \"o_proj\", \"gate_proj\"],\n",
    "        use_rslora=True,\n",
    "        use_gradient_checkpointing=\"unsloth\",\n",
    "        random_state = 32,\n",
    "        loftq_config = None,\n",
    "    )\n",
    "    return model, tokenizer"
   ]
  },
  {
   "cell_type": "code",
   "execution_count": 3,
   "id": "167425bb45a12eb7",
   "metadata": {},
   "outputs": [],
   "source": [
    "def create_trainer(model, tokenizer, training_data, max_steps):\n",
    "    training_arguments = TrainingArguments(\n",
    "        learning_rate=3e-4,\n",
    "        lr_scheduler_type=\"linear\",\n",
    "        per_device_train_batch_size=8,\n",
    "        gradient_accumulation_steps=16,\n",
    "        num_train_epochs=40,\n",
    "        fp16=not is_bfloat16_supported(),\n",
    "        bf16=is_bfloat16_supported(),\n",
    "        logging_steps=1,\n",
    "        # max_steps=max_steps,\n",
    "        optim=\"adamw_8bit\",\n",
    "        weight_decay=0.01,\n",
    "        warmup_steps=150,\n",
    "        output_dir=\"output\",\n",
    "        seed=0,\n",
    "        save_total_limit=3,\n",
    "    )\n",
    "\n",
    "    if max_steps is not None:\n",
    "        training_arguments.max_steps = max_steps\n",
    "    \n",
    "    return SFTTrainer(\n",
    "        model=model,\n",
    "        tokenizer=tokenizer,\n",
    "        train_dataset=training_data,\n",
    "        dataset_text_field=\"text\",\n",
    "        max_seq_length=max_seq_length,\n",
    "        dataset_num_proc=10,\n",
    "        packing=True,\n",
    "        args=training_arguments,\n",
    "    )"
   ]
  },
  {
   "cell_type": "code",
   "execution_count": 4,
   "id": "954eacb08fd7d7f3",
   "metadata": {},
   "outputs": [],
   "source": [
    "import numpy as np\n",
    "from utils.similarity import calculate_metrics\n",
    "from torch.utils.tensorboard import SummaryWriter\n",
    "from PIL import Image\n",
    "import torch\n",
    "\n",
    "log_dir = 'output/runs'\n",
    "\n",
    "def add_image_to_tensorboard(name, step, img_path):\n",
    "    image = Image.open(img_path)\n",
    "    image = image.convert('RGB')\n",
    "    image_array = np.array(image)\n",
    "    image_tensor = torch.from_numpy(image_array)\n",
    "    image_tensor = image_tensor.permute(2, 0, 1)\n",
    "    image_tensor = image_tensor.float() / 255.0\n",
    "    \n",
    "    writer = SummaryWriter(log_dir=log_dir)\n",
    "    writer.add_image(name, image_tensor, step)\n",
    "    \n",
    "def add_text_to_tensorboard(name, step, text):\n",
    "    writer = SummaryWriter(log_dir=log_dir)\n",
    "    writer.add_text(name, text, step)\n",
    "\n",
    "def postprocess_text(preds, labels):\n",
    "    preds = [pred.strip().replace('<unk>', '') for pred in preds]\n",
    "    labels = [[label.strip().replace('<unk>', '')] for label in labels]\n",
    "\n",
    "    return preds, labels\n",
    "\n",
    "def compute_metrics(decoded_predictions, decoded_labels, steps):\n",
    "    similarity_scores = []\n",
    "    perceptual_losses = []\n",
    "    index = 1\n",
    "    \n",
    "    for prediction, label in zip(decoded_predictions, decoded_labels):\n",
    "        prediction = prediction.replace(tokenizer.eos_token, '')\n",
    "        \n",
    "        add_text_to_tensorboard(f'valid_{index}_label_text', steps, label)\n",
    "        add_text_to_tensorboard(f'valid_{index}_prediction_text', steps, prediction)\n",
    "        \n",
    "        metrics = calculate_metrics(prediction, label)\n",
    "        \n",
    "        if metrics is not None:\n",
    "            similarity_scores.append(metrics['similarity'])\n",
    "            perceptual_losses.append(metrics['perceptual_loss'])\n",
    "            \n",
    "            add_image_to_tensorboard(f'valid_{index}_expectation', steps, metrics['expected_screenshot_path'])\n",
    "            add_image_to_tensorboard(f'valid_{index}_prediction', steps, metrics['predicted_screenshot_path'])\n",
    "        \n",
    "        index += 1\n",
    "\n",
    "    results = {\n",
    "        \"similarity\": float(np.mean(similarity_scores)),\n",
    "        \"perceptual_loss\": float(np.mean(perceptual_losses)),\n",
    "    }\n",
    "    \n",
    "    writer = SummaryWriter(log_dir=log_dir)\n",
    "    writer.add_scalar('similarity', results['similarity'], steps)\n",
    "    writer.add_scalar('perceptual_loss', results['perceptual_loss'], steps)\n",
    "    \n",
    "    print(\"Similarity:\", results['similarity'])\n",
    "    print(\"Perceptual loss:\", results['perceptual_loss'])\n",
    "\n",
    "    return results\n",
    "\n",
    "def test_prediction(model, data, steps):\n",
    "    answers = []\n",
    "    labels = []\n",
    "    print(\"Generating predictions...\")\n",
    "    for row in data:\n",
    "        inputs = tokenizer(\n",
    "        [\n",
    "            data_prompt.format(\n",
    "                #instructions\n",
    "                row['svg'],\n",
    "                #answer\n",
    "                \"\",\n",
    "            )\n",
    "        ], return_tensors = \"pt\").to(\"cuda\")\n",
    "        \n",
    "        outputs = model.generate(**inputs, max_new_tokens = max_seq_length, use_cache = True)\n",
    "        answer = tokenizer.batch_decode(outputs)\n",
    "        answers.append(answer[0].split(\"### Response:\")[-1])\n",
    "        labels.append(row['html'])\n",
    "\n",
    "    print(\"Computing metrics...\")\n",
    "    return compute_metrics(answers, labels, steps)"
   ]
  },
  {
   "cell_type": "code",
   "execution_count": 5,
   "id": "3a9436b4-22de-4180-a7d6-9aad00934c23",
   "metadata": {},
   "outputs": [],
   "source": [
    "!rm -rf output"
   ]
  },
  {
   "cell_type": "code",
   "execution_count": 6,
   "id": "70c8b3c6163163d3",
   "metadata": {},
   "outputs": [
    {
     "name": "stdout",
     "output_type": "stream",
     "text": [
      "Reading package lists... Done\n",
      "Building dependency tree... Done\n",
      "Reading state information... Done\n",
      "The following additional packages will be installed:\n",
      "  unzip\n",
      "The following NEW packages will be installed:\n",
      "  unzip zip\n",
      "0 upgraded, 2 newly installed, 0 to remove and 53 not upgraded.\n",
      "Need to get 350 kB of archives.\n",
      "After this operation, 930 kB of additional disk space will be used.\n",
      "Get:1 http://archive.ubuntu.com/ubuntu jammy-updates/main amd64 unzip amd64 6.0-26ubuntu3.2 [175 kB]\n",
      "Get:2 http://archive.ubuntu.com/ubuntu jammy/main amd64 zip amd64 3.0-12build2 [176 kB]\n",
      "Fetched 350 kB in 1s (334 kB/s)m\u001B[33m\n",
      "debconf: delaying package configuration, since apt-utils is not installed\n",
      "\n",
      "\u001B7\u001B[0;23r\u001B8\u001B[1ASelecting previously unselected package unzip.\n",
      "(Reading database ... 36713 files and directories currently installed.)\n",
      "Preparing to unpack .../unzip_6.0-26ubuntu3.2_amd64.deb ...\n",
      "\u001B7\u001B[24;0f\u001B[42m\u001B[30mProgress: [  0%]\u001B[49m\u001B[39m [..........................................................] \u001B8\u001B7\u001B[24;0f\u001B[42m\u001B[30mProgress: [ 11%]\u001B[49m\u001B[39m [######....................................................] \u001B8Unpacking unzip (6.0-26ubuntu3.2) ...\n",
      "\u001B7\u001B[24;0f\u001B[42m\u001B[30mProgress: [ 22%]\u001B[49m\u001B[39m [############..............................................] \u001B8Selecting previously unselected package zip.\n",
      "Preparing to unpack .../zip_3.0-12build2_amd64.deb ...\n",
      "\u001B7\u001B[24;0f\u001B[42m\u001B[30mProgress: [ 33%]\u001B[49m\u001B[39m [###################.......................................] \u001B8Unpacking zip (3.0-12build2) ...\n",
      "\u001B7\u001B[24;0f\u001B[42m\u001B[30mProgress: [ 44%]\u001B[49m\u001B[39m [#########################.................................] \u001B8Setting up unzip (6.0-26ubuntu3.2) ...\n",
      "\u001B7\u001B[24;0f\u001B[42m\u001B[30mProgress: [ 56%]\u001B[49m\u001B[39m [################################..........................] \u001B8\u001B7\u001B[24;0f\u001B[42m\u001B[30mProgress: [ 67%]\u001B[49m\u001B[39m [######################################....................] \u001B8Setting up zip (3.0-12build2) ...\n",
      "\u001B7\u001B[24;0f\u001B[42m\u001B[30mProgress: [ 78%]\u001B[49m\u001B[39m [#############################################.............] \u001B8\u001B7\u001B[24;0f\u001B[42m\u001B[30mProgress: [ 89%]\u001B[49m\u001B[39m [###################################################.......] \u001B8\n",
      "\u001B7\u001B[0;24r\u001B8\u001B[1A\u001B[J--2025-03-03 09:37:03--  https://www.dropbox.com/scl/fi/868hi141d4hrzwntxxih3/data-rb-large-with-tokenizer.zip?rlkey=md8iq2htminafzqcol3tzfbva&dl=1\n",
      "Resolving www.dropbox.com (www.dropbox.com)... 162.125.13.18, 2620:100:6057:18::a27d:d12\n",
      "Connecting to www.dropbox.com (www.dropbox.com)|162.125.13.18|:443... connected.\n",
      "HTTP request sent, awaiting response... 302 Found\n",
      "Location: https://uc505f4981c8af196c15662749a1.dl.dropboxusercontent.com/cd/0/inline/ClKLOlkXn9CvD2TsOkplG0xaIhk0X-Fkur51zg9wkxKrDmdAUcAMdVItcI7Zva3SgmTIyRpfa2A1x3a5MqqyRHdPe1LFZ9JN2Hy7M373dIGFZgO4upKPvS9BpKohvYHs464/file?dl=1# [following]\n",
      "--2025-03-03 09:37:04--  https://uc505f4981c8af196c15662749a1.dl.dropboxusercontent.com/cd/0/inline/ClKLOlkXn9CvD2TsOkplG0xaIhk0X-Fkur51zg9wkxKrDmdAUcAMdVItcI7Zva3SgmTIyRpfa2A1x3a5MqqyRHdPe1LFZ9JN2Hy7M373dIGFZgO4upKPvS9BpKohvYHs464/file?dl=1\n",
      "Resolving uc505f4981c8af196c15662749a1.dl.dropboxusercontent.com (uc505f4981c8af196c15662749a1.dl.dropboxusercontent.com)... 162.125.13.15, 2620:100:6057:15::a27d:d0f\n",
      "Connecting to uc505f4981c8af196c15662749a1.dl.dropboxusercontent.com (uc505f4981c8af196c15662749a1.dl.dropboxusercontent.com)|162.125.13.15|:443... connected.\n",
      "HTTP request sent, awaiting response... 302 Found\n",
      "Location: /cd/0/inline2/ClKVoF52M9XGgjx2suPAfD1V2m7RTV7FhrYRhmqauRoB1nnP6Y7KwjkClLq6s2IfJJ9BbzK6wa5Ih9mjXLj5OOxKHK_Th-rowEn69So7MwKSZJ6Zg7mTblYjo7ET04IF4rzomBvQrL4AGIBJ6s7E0xf-DwTrhQiIxZ3n5UCh85bjiJqXE41eDRpYfMKPOTiP-ugLnlYaeKbII9IpBn2cEq-_eNEx0zr6ckL3IyJQeU_mH8X9Y8Q0HTXOQneNQPKA4-Ne6iHGkHJ3uEWWa2ROQYKEr-GiLVBZtMuB_VwUBxhQx6e6SoNWC1Qubcuk997bW_iQ9TwzS4TQ3REZBWsS9_QF-r1rB37IXtbhsRtTRsS-uw/file?dl=1 [following]\n",
      "--2025-03-03 09:37:05--  https://uc505f4981c8af196c15662749a1.dl.dropboxusercontent.com/cd/0/inline2/ClKVoF52M9XGgjx2suPAfD1V2m7RTV7FhrYRhmqauRoB1nnP6Y7KwjkClLq6s2IfJJ9BbzK6wa5Ih9mjXLj5OOxKHK_Th-rowEn69So7MwKSZJ6Zg7mTblYjo7ET04IF4rzomBvQrL4AGIBJ6s7E0xf-DwTrhQiIxZ3n5UCh85bjiJqXE41eDRpYfMKPOTiP-ugLnlYaeKbII9IpBn2cEq-_eNEx0zr6ckL3IyJQeU_mH8X9Y8Q0HTXOQneNQPKA4-Ne6iHGkHJ3uEWWa2ROQYKEr-GiLVBZtMuB_VwUBxhQx6e6SoNWC1Qubcuk997bW_iQ9TwzS4TQ3REZBWsS9_QF-r1rB37IXtbhsRtTRsS-uw/file?dl=1\n",
      "Reusing existing connection to uc505f4981c8af196c15662749a1.dl.dropboxusercontent.com:443.\n",
      "HTTP request sent, awaiting response... 200 OK\n",
      "Length: 8826087549 (8.2G) [application/binary]\n",
      "Saving to: ‘model.zip’\n",
      "\n",
      "model.zip           100%[===================>]   8.22G  16.8MB/s    in 7m 36s  \n",
      "\n",
      "2025-03-03 09:44:41 (18.5 MB/s) - ‘model.zip’ saved [8826087549/8826087549]\n",
      "\n",
      "Archive:  model.zip\n",
      "  inflating: data-rb-large/data-00018-of-00137.arrow  \n",
      "  inflating: data-rb-large/data-00083-of-00137.arrow  \n",
      "  inflating: data-rb-large/data-00096-of-00137.arrow  \n",
      "  inflating: data-rb-large/data-00069-of-00137.arrow  \n",
      "  inflating: data-rb-large/data-00074-of-00137.arrow  \n",
      "  inflating: data-rb-large/data-00061-of-00137.arrow  \n",
      "  inflating: data-rb-large/data-00106-of-00137.arrow  \n",
      "  inflating: data-rb-large/data-00113-of-00137.arrow  \n",
      "  inflating: data-rb-large/data-00010-of-00137.arrow  \n",
      "  inflating: data-rb-large/data-00005-of-00137.arrow  \n",
      "  inflating: data-rb-large/data-00109-of-00137.arrow  \n",
      "  inflating: data-rb-large/data-00091-of-00137.arrow  \n",
      "  inflating: data-rb-large/data-00084-of-00137.arrow  \n",
      "  inflating: data-rb-large/data-00066-of-00137.arrow  \n",
      "  inflating: data-rb-large/data-00073-of-00137.arrow  \n",
      "  inflating: data-rb-large/data-00002-of-00137.arrow  \n",
      "  inflating: data-rb-large/data-00017-of-00137.arrow  \n",
      "  inflating: data-rb-large/data-00099-of-00137.arrow  \n",
      "  inflating: data-rb-large/data-00114-of-00137.arrow  \n",
      "  inflating: data-rb-large/data-00101-of-00137.arrow  \n",
      "  inflating: data-rb-large/data-00072-of-00137.arrow  \n",
      "  inflating: data-rb-large/data-00067-of-00137.arrow  \n",
      "  inflating: data-rb-large/data-00100-of-00137.arrow  \n",
      "  inflating: data-rb-large/data-00115-of-00137.arrow  \n",
      "  inflating: data-rb-large/data-00098-of-00137.arrow  \n",
      "  inflating: data-rb-large/data-00016-of-00137.arrow  \n",
      "  inflating: data-rb-large/data-00003-of-00137.arrow  \n",
      "  inflating: data-rb-large/state.json  \n",
      "  inflating: data-rb-large/data-00085-of-00137.arrow  \n",
      "  inflating: data-rb-large/data-00090-of-00137.arrow  \n",
      "  inflating: data-rb-large/data-00108-of-00137.arrow  \n",
      "  inflating: data-rb-large/data-00060-of-00137.arrow  \n",
      "  inflating: data-rb-large/data-00075-of-00137.arrow  \n",
      "  inflating: data-rb-large/data-00004-of-00137.arrow  \n",
      "  inflating: data-rb-large/data-00011-of-00137.arrow  \n",
      "  inflating: data-rb-large/data-00112-of-00137.arrow  \n",
      "  inflating: data-rb-large/data-00107-of-00137.arrow  \n",
      "  inflating: data-rb-large/data-00097-of-00137.arrow  \n",
      "  inflating: data-rb-large/data-00082-of-00137.arrow  \n",
      "  inflating: data-rb-large/data-00019-of-00137.arrow  \n",
      "  inflating: data-rb-large/data-00068-of-00137.arrow  \n",
      "  inflating: data-rb-large/data-00110-of-00137.arrow  \n",
      "  inflating: data-rb-large/data-00105-of-00137.arrow  \n",
      "  inflating: data-rb-large/data-00088-of-00137.arrow  \n",
      "  inflating: data-rb-large/data-00006-of-00137.arrow  \n",
      "  inflating: data-rb-large/data-00013-of-00137.arrow  \n",
      "  inflating: data-rb-large/data-00062-of-00137.arrow  \n",
      "  inflating: data-rb-large/data-00077-of-00137.arrow  \n",
      "  inflating: data-rb-large/data-00095-of-00137.arrow  \n",
      "  inflating: data-rb-large/data-00080-of-00137.arrow  \n",
      "  inflating: data-rb-large/data-00118-of-00137.arrow  \n",
      "  inflating: data-rb-large/data-00014-of-00137.arrow  \n",
      "  inflating: data-rb-large/data-00001-of-00137.arrow  \n",
      "  inflating: data-rb-large/data-00102-of-00137.arrow  \n",
      "  inflating: data-rb-large/data-00117-of-00137.arrow  \n",
      "  inflating: data-rb-large/data-00070-of-00137.arrow  \n",
      "  inflating: data-rb-large/data-00065-of-00137.arrow  \n",
      "  inflating: data-rb-large/data-00078-of-00137.arrow  \n",
      "  inflating: data-rb-large/tokenizer.json  \n",
      "  inflating: data-rb-large/data-00087-of-00137.arrow  \n",
      "  inflating: data-rb-large/data-00092-of-00137.arrow  \n",
      "  inflating: data-rb-large/data-00009-of-00137.arrow  \n",
      "  inflating: data-rb-large/data-00079-of-00137.arrow  \n",
      "  inflating: data-rb-large/data-00008-of-00137.arrow  \n",
      "  inflating: data-rb-large/data-00093-of-00137.arrow  \n",
      "  inflating: data-rb-large/data-00086-of-00137.arrow  \n",
      "  inflating: data-rb-large/data-00116-of-00137.arrow  \n",
      "  inflating: data-rb-large/data-00103-of-00137.arrow  \n",
      "  inflating: data-rb-large/data-00000-of-00137.arrow  \n",
      "  inflating: data-rb-large/data-00015-of-00137.arrow  \n",
      "  inflating: data-rb-large/data-00064-of-00137.arrow  \n",
      "  inflating: data-rb-large/data-00071-of-00137.arrow  \n",
      "  inflating: data-rb-large/data-00119-of-00137.arrow  \n",
      "  inflating: data-rb-large/data-00081-of-00137.arrow  \n",
      "  inflating: data-rb-large/data-00094-of-00137.arrow  \n",
      "  inflating: data-rb-large/data-00012-of-00137.arrow  \n",
      "  inflating: data-rb-large/data-00007-of-00137.arrow  \n",
      "  inflating: data-rb-large/data-00089-of-00137.arrow  \n",
      "  inflating: data-rb-large/data-00104-of-00137.arrow  \n",
      "  inflating: data-rb-large/data-00111-of-00137.arrow  \n",
      "  inflating: data-rb-large/data-00076-of-00137.arrow  \n",
      "  inflating: data-rb-large/data-00063-of-00137.arrow  \n",
      "  inflating: data-rb-large/data-00130-of-00137.arrow  \n",
      "  inflating: data-rb-large/data-00125-of-00137.arrow  \n",
      "  inflating: data-rb-large/data-00026-of-00137.arrow  \n",
      "  inflating: data-rb-large/data-00033-of-00137.arrow  \n",
      "  inflating: data-rb-large/dataset_info.json  \n",
      "  inflating: data-rb-large/data-00042-of-00137.arrow  \n",
      "  inflating: data-rb-large/data-00057-of-00137.arrow  \n",
      "  inflating: data-rb-large/data-00058-of-00137.arrow  \n",
      "  inflating: data-rb-large/data-00029-of-00137.arrow  \n",
      "  inflating: data-rb-large/data-00034-of-00137.arrow  \n",
      "  inflating: data-rb-large/data-00021-of-00137.arrow  \n",
      "  inflating: data-rb-large/data-00122-of-00137.arrow  \n",
      "  inflating: data-rb-large/data-00050-of-00137.arrow  \n",
      "  inflating: data-rb-large/data-00045-of-00137.arrow  \n",
      "  inflating: data-rb-large/data-00136-of-00137.arrow  \n",
      "  inflating: data-rb-large/data-00123-of-00137.arrow  \n",
      "  inflating: data-rb-large/data-00020-of-00137.arrow  \n",
      "  inflating: data-rb-large/data-00035-of-00137.arrow  \n",
      "  inflating: data-rb-large/data-00044-of-00137.arrow  \n",
      "  inflating: data-rb-large/data-00051-of-00137.arrow  \n",
      "  inflating: data-rb-large/data-00059-of-00137.arrow  \n",
      "  inflating: data-rb-large/data-00028-of-00137.arrow  \n",
      "  inflating: data-rb-large/data-00032-of-00137.arrow  \n",
      "  inflating: data-rb-large/data-00027-of-00137.arrow  \n",
      "  inflating: data-rb-large/data-00124-of-00137.arrow  \n",
      "  inflating: data-rb-large/data-00131-of-00137.arrow  \n",
      "  inflating: data-rb-large/data-00056-of-00137.arrow  \n",
      "  inflating: data-rb-large/data-00043-of-00137.arrow  \n",
      "  inflating: data-rb-large/data-00054-of-00137.arrow  \n",
      "  inflating: data-rb-large/data-00041-of-00137.arrow  \n",
      "  inflating: data-rb-large/data-00126-of-00137.arrow  \n",
      "  inflating: data-rb-large/data-00133-of-00137.arrow  \n",
      "  inflating: data-rb-large/data-00030-of-00137.arrow  \n",
      "  inflating: data-rb-large/data-00025-of-00137.arrow  \n",
      "  inflating: data-rb-large/data-00038-of-00137.arrow  \n",
      "  inflating: data-rb-large/data-00049-of-00137.arrow  \n",
      "  inflating: data-rb-large/data-00046-of-00137.arrow  \n",
      "  inflating: data-rb-large/data-00053-of-00137.arrow  \n",
      "  inflating: data-rb-large/data-00000-of-00001.arrow  \n",
      "  inflating: data-rb-large/data-00022-of-00137.arrow  \n",
      "  inflating: data-rb-large/data-00037-of-00137.arrow  \n",
      "  inflating: data-rb-large/data-00134-of-00137.arrow  \n",
      "  inflating: data-rb-large/data-00121-of-00137.arrow  \n",
      "  inflating: data-rb-large/data-00129-of-00137.arrow  \n",
      "  inflating: data-rb-large/data-00128-of-00137.arrow  \n",
      "  inflating: data-rb-large/data-00052-of-00137.arrow  \n",
      "  inflating: data-rb-large/data-00047-of-00137.arrow  \n",
      "  inflating: data-rb-large/data-00120-of-00137.arrow  \n",
      "  inflating: data-rb-large/data-00135-of-00137.arrow  \n",
      "  inflating: data-rb-large/data-00036-of-00137.arrow  \n",
      "  inflating: data-rb-large/data-00023-of-00137.arrow  \n",
      "  inflating: data-rb-large/data-00039-of-00137.arrow  \n",
      "  inflating: data-rb-large/data-00048-of-00137.arrow  \n",
      "  inflating: data-rb-large/data-00040-of-00137.arrow  \n",
      "  inflating: data-rb-large/data-00055-of-00137.arrow  \n",
      "  inflating: data-rb-large/data-00024-of-00137.arrow  \n",
      "  inflating: data-rb-large/data-00031-of-00137.arrow  \n",
      "  inflating: data-rb-large/data-00132-of-00137.arrow  \n",
      "  inflating: data-rb-large/data-00127-of-00137.arrow  \n",
      "--2025-03-03 09:49:25--  https://www.dropbox.com/scl/fi/5szml8y5l248mcabj9rqg/verify-dataset.zip?rlkey=se33rwtxgngn0ts1i0pc8f6wk&st=1d68x9zt&dl=1\n",
      "Resolving www.dropbox.com (www.dropbox.com)... 162.125.13.18, 2620:100:6057:18::a27d:d12\n",
      "Connecting to www.dropbox.com (www.dropbox.com)|162.125.13.18|:443... connected.\n",
      "HTTP request sent, awaiting response... 302 Found\n",
      "Location: https://uce6dad2fda295c40dd838fc2eee.dl.dropboxusercontent.com/cd/0/inline/ClLMtYr_832ymK78PWu8QcGz2sLt095Kx8dyca5Ig4EU0ZZEZNlJddc_Vtp67ZdURvIysZFX63YSNovMCc38Ejg0RbrRgtSJ_OxIxAtpOH8z0HVXoSVSNf-7SNMjQSxx3jk/file?dl=1# [following]\n",
      "--2025-03-03 09:49:26--  https://uce6dad2fda295c40dd838fc2eee.dl.dropboxusercontent.com/cd/0/inline/ClLMtYr_832ymK78PWu8QcGz2sLt095Kx8dyca5Ig4EU0ZZEZNlJddc_Vtp67ZdURvIysZFX63YSNovMCc38Ejg0RbrRgtSJ_OxIxAtpOH8z0HVXoSVSNf-7SNMjQSxx3jk/file?dl=1\n",
      "Resolving uce6dad2fda295c40dd838fc2eee.dl.dropboxusercontent.com (uce6dad2fda295c40dd838fc2eee.dl.dropboxusercontent.com)... 162.125.13.15, 2620:100:6057:15::a27d:d0f\n",
      "Connecting to uce6dad2fda295c40dd838fc2eee.dl.dropboxusercontent.com (uce6dad2fda295c40dd838fc2eee.dl.dropboxusercontent.com)|162.125.13.15|:443... connected.\n",
      "HTTP request sent, awaiting response... 302 Found\n",
      "Location: /cd/0/inline2/ClLA_fv-uDMRf911IbnuUMxng88G-lxUlg0iep_Pd_KfKLbo7IV0BWuQeQdFCSfQioA1Ds328sMzzWacZtoiRQZKCyCajeyIiOkolt1OxeBY6cClDli2iv7YC6yRjAQQiZ6FbPGUEgCqu8IIKTdA6VYUcx0VV-Yu65B0bmrxLmvy2BJ1YcO0d2HnSnZkq7XXdzCIxlGXHskm_Kn_yh1xJjaPwk6oGlsJg5q7-UmjYpkW3a5ZFGn5bNnMGFQ8hwZP5bapQYu0bdjNjuD85C3nEM83N-rGZpABMabJJQdAjFsXU59TesTRhNXoii6o4qaP8cfWrf3DmbDOPW9RPdXl8FmN353ncJbivgAJg4r6wmWNFA/file?dl=1 [following]\n",
      "--2025-03-03 09:49:27--  https://uce6dad2fda295c40dd838fc2eee.dl.dropboxusercontent.com/cd/0/inline2/ClLA_fv-uDMRf911IbnuUMxng88G-lxUlg0iep_Pd_KfKLbo7IV0BWuQeQdFCSfQioA1Ds328sMzzWacZtoiRQZKCyCajeyIiOkolt1OxeBY6cClDli2iv7YC6yRjAQQiZ6FbPGUEgCqu8IIKTdA6VYUcx0VV-Yu65B0bmrxLmvy2BJ1YcO0d2HnSnZkq7XXdzCIxlGXHskm_Kn_yh1xJjaPwk6oGlsJg5q7-UmjYpkW3a5ZFGn5bNnMGFQ8hwZP5bapQYu0bdjNjuD85C3nEM83N-rGZpABMabJJQdAjFsXU59TesTRhNXoii6o4qaP8cfWrf3DmbDOPW9RPdXl8FmN353ncJbivgAJg4r6wmWNFA/file?dl=1\n",
      "Reusing existing connection to uce6dad2fda295c40dd838fc2eee.dl.dropboxusercontent.com:443.\n",
      "HTTP request sent, awaiting response... 200 OK\n",
      "Length: 238890 (233K) [application/binary]\n",
      "Saving to: ‘validate.zip’\n",
      "\n",
      "validate.zip        100%[===================>] 233.29K   383KB/s    in 0.6s    \n",
      "\n",
      "2025-03-03 09:49:28 (383 KB/s) - ‘validate.zip’ saved [238890/238890]\n",
      "\n",
      "Archive:  validate.zip\n",
      "  inflating: data-rb-validate/1aaaf27b.webp  \n",
      "  inflating: data-rb-validate/__MACOSX/._1aaaf27b.webp  \n",
      "  inflating: data-rb-validate/1c52383e.webp  \n",
      "  inflating: data-rb-validate/__MACOSX/._1c52383e.webp  \n",
      "  inflating: data-rb-validate/3e290f44.webp  \n",
      "  inflating: data-rb-validate/__MACOSX/._3e290f44.webp  \n",
      "  inflating: data-rb-validate/4fb8a91d.svg  \n",
      "  inflating: data-rb-validate/__MACOSX/._4fb8a91d.svg  \n",
      "  inflating: data-rb-validate/5bcd31b6.svg  \n",
      "  inflating: data-rb-validate/__MACOSX/._5bcd31b6.svg  \n",
      "  inflating: data-rb-validate/6e16da92.webp  \n",
      "  inflating: data-rb-validate/__MACOSX/._6e16da92.webp  \n",
      "  inflating: data-rb-validate/8a2b68c6.png  \n",
      "  inflating: data-rb-validate/__MACOSX/._8a2b68c6.png  \n",
      "  inflating: data-rb-validate/9ecf718d.webp  \n",
      "  inflating: data-rb-validate/__MACOSX/._9ecf718d.webp  \n",
      "  inflating: data-rb-validate/23d48054.svg  \n",
      "  inflating: data-rb-validate/__MACOSX/._23d48054.svg  \n",
      "  inflating: data-rb-validate/98c84b88.svg  \n",
      "  inflating: data-rb-validate/__MACOSX/._98c84b88.svg  \n",
      "  inflating: data-rb-validate/856c44ec.webp  \n",
      "  inflating: data-rb-validate/__MACOSX/._856c44ec.webp  \n",
      "  inflating: data-rb-validate/984b9c32.svg  \n",
      "  inflating: data-rb-validate/__MACOSX/._984b9c32.svg  \n",
      "  inflating: data-rb-validate/601060ec.webp  \n",
      "  inflating: data-rb-validate/__MACOSX/._601060ec.webp  \n",
      "  inflating: data-rb-validate/892130e0.webp  \n",
      "  inflating: data-rb-validate/__MACOSX/._892130e0.webp  \n",
      "  inflating: data-rb-validate/02836284.webp  \n",
      "  inflating: data-rb-validate/__MACOSX/._02836284.webp  \n",
      "  inflating: data-rb-validate/5252267a.png  \n",
      "  inflating: data-rb-validate/__MACOSX/._5252267a.png  \n",
      "  inflating: data-rb-validate/a5b2d81a.png  \n",
      "  inflating: data-rb-validate/__MACOSX/._a5b2d81a.png  \n",
      "  inflating: data-rb-validate/a6ead9ac.png  \n",
      "  inflating: data-rb-validate/__MACOSX/._a6ead9ac.png  \n",
      "  inflating: data-rb-validate/a717d05d.webp  \n",
      "  inflating: data-rb-validate/__MACOSX/._a717d05d.webp  \n",
      "  inflating: data-rb-validate/ab9a847d.svg  \n",
      "  inflating: data-rb-validate/__MACOSX/._ab9a847d.svg  \n",
      "  inflating: data-rb-validate/ab484cc8.webp  \n",
      "  inflating: data-rb-validate/__MACOSX/._ab484cc8.webp  \n",
      "  inflating: data-rb-validate/af2a513d.svg  \n",
      "  inflating: data-rb-validate/__MACOSX/._af2a513d.svg  \n",
      "  inflating: data-rb-validate/b1b77f6b.webp  \n",
      "  inflating: data-rb-validate/__MACOSX/._b1b77f6b.webp  \n",
      "  inflating: data-rb-validate/b0870752.svg  \n",
      "  inflating: data-rb-validate/__MACOSX/._b0870752.svg  \n",
      "  inflating: data-rb-validate/baa1933a.svg  \n",
      "  inflating: data-rb-validate/__MACOSX/._baa1933a.svg  \n",
      "  inflating: data-rb-validate/d06fd4eb.webp  \n",
      "  inflating: data-rb-validate/__MACOSX/._d06fd4eb.webp  \n",
      "  inflating: data-rb-validate/d7e122fe.svg  \n",
      "  inflating: data-rb-validate/__MACOSX/._d7e122fe.svg  \n",
      "  inflating: data-rb-validate/d62090d3.webp  \n",
      "  inflating: data-rb-validate/__MACOSX/._d62090d3.webp  \n",
      "  inflating: data-rb-validate/da43c904.webp  \n",
      "  inflating: data-rb-validate/__MACOSX/._da43c904.webp  \n",
      "  inflating: data-rb-validate/data-00000-of-00001.arrow  \n",
      "  inflating: data-rb-validate/__MACOSX/._data-00000-of-00001.arrow  \n",
      "  inflating: data-rb-validate/dataset_info.json  \n",
      "  inflating: data-rb-validate/__MACOSX/._dataset_info.json  \n",
      "  inflating: data-rb-validate/dataset.json  \n",
      "  inflating: data-rb-validate/__MACOSX/._dataset.json  \n",
      "  inflating: data-rb-validate/db5da240.jpeg  \n",
      "  inflating: data-rb-validate/__MACOSX/._db5da240.jpeg  \n",
      "  inflating: data-rb-validate/e382e81f.svg  \n",
      "  inflating: data-rb-validate/__MACOSX/._e382e81f.svg  \n",
      "  inflating: data-rb-validate/eb6efbc1.webp  \n",
      "  inflating: data-rb-validate/__MACOSX/._eb6efbc1.webp  \n",
      "  inflating: data-rb-validate/ed34bf8f.webp  \n",
      "  inflating: data-rb-validate/__MACOSX/._ed34bf8f.webp  \n",
      "  inflating: data-rb-validate/f778a87c.svg  \n",
      "  inflating: data-rb-validate/__MACOSX/._f778a87c.svg  \n",
      "  inflating: data-rb-validate/SDK_CRAWLER_STATISTICS_0.json  \n",
      "  inflating: data-rb-validate/__MACOSX/._SDK_CRAWLER_STATISTICS_0.json  \n",
      "  inflating: data-rb-validate/SDK_SESSION_POOL_STATE.json  \n",
      "  inflating: data-rb-validate/__MACOSX/._SDK_SESSION_POOL_STATE.json  \n",
      "  inflating: data-rb-validate/state.json  \n",
      "  inflating: data-rb-validate/__MACOSX/._state.json  \n"
     ]
    }
   ],
   "source": [
    "!apt install zip -y\n",
    "!rm -rf data-rb-large\n",
    "!mkdir -p data-rb-large\n",
    "!wget \"https://www.dropbox.com/scl/fi/868hi141d4hrzwntxxih3/data-rb-large-with-tokenizer.zip?rlkey=md8iq2htminafzqcol3tzfbva&dl=1\" -O model.zip\n",
    "!unzip model.zip -d data-rb-large\n",
    "\n",
    "!rm -rf data-rb-validate\n",
    "!mkdir -p data-rb-validate\n",
    "!wget \"https://www.dropbox.com/scl/fi/5szml8y5l248mcabj9rqg/verify-dataset.zip?rlkey=se33rwtxgngn0ts1i0pc8f6wk&st=1d68x9zt&dl=1\" -O validate.zip\n",
    "!unzip validate.zip -d data-rb-validate"
   ]
  },
  {
   "cell_type": "code",
   "execution_count": 7,
   "id": "43f3d9ae5b9b9f7e",
   "metadata": {},
   "outputs": [
    {
     "data": {
      "application/vnd.jupyter.widget-view+json": {
       "model_id": "5b1f22cbd45748448267fa489cae0a1e",
       "version_major": 2,
       "version_minor": 0
      },
      "text/plain": [
       "Loading dataset from disk:   0%|          | 0/137 [00:00<?, ?it/s]"
      ]
     },
     "metadata": {},
     "output_type": "display_data"
    }
   ],
   "source": [
    "from datasets import load_from_disk, DatasetDict\n",
    "dataset = load_from_disk('data-rb-large')\n",
    "visual_validation_dataset = load_from_disk('data-rb-validate')\n",
    "\n",
    "train_test_split = dataset.train_test_split(test_size=100/len(dataset)) \n",
    "train_dataset = train_test_split[\"train\"]\n",
    "temp_dataset = train_test_split[\"test\"]\n",
    "\n",
    "dataset = DatasetDict({\n",
    "    \"train\": train_test_split[\"train\"],\n",
    "    \"valid\": visual_validation_dataset,\n",
    "    \"test\": train_test_split[\"test\"],\n",
    "})"
   ]
  },
  {
   "cell_type": "code",
   "execution_count": 12,
   "id": "5c684fe8-032a-4c0d-b9ba-cb652ded3766",
   "metadata": {},
   "outputs": [
    {
     "data": {
      "text/plain": [
       "DatasetDict({\n",
       "    train: Dataset({\n",
       "        features: ['svg', 'html'],\n",
       "        num_rows: 422192\n",
       "    })\n",
       "    valid: Dataset({\n",
       "        features: ['svg', 'html'],\n",
       "        num_rows: 5\n",
       "    })\n",
       "    test: Dataset({\n",
       "        features: ['svg', 'html'],\n",
       "        num_rows: 100\n",
       "    })\n",
       "})"
      ]
     },
     "execution_count": 12,
     "metadata": {},
     "output_type": "execute_result"
    }
   ],
   "source": [
    "dataset"
   ]
  },
  {
   "cell_type": "code",
   "execution_count": 9,
   "id": "33bf3a2cdcc7b19c",
   "metadata": {},
   "outputs": [
    {
     "name": "stdout",
     "output_type": "stream",
     "text": [
      "==((====))==  Unsloth 2025.3.1: Fast Llama patching. Transformers: 4.46.3.\n",
      "   \\\\   /|    GPU: NVIDIA H100 NVL. Max memory: 93.111 GB. Platform: Linux.\n",
      "O^O/ \\_/ \\    Torch: 2.5.1+cu124. CUDA: 9.0. CUDA Toolkit: 12.4. Triton: 3.1.0\n",
      "\\        /    Bfloat16 = TRUE. FA [Xformers = 0.0.28.post3. FA2 = False]\n",
      " \"-____-\"     Free Apache license: http://github.com/unslothai/unsloth\n",
      "Unsloth: Fast downloading is enabled - ignore downloading bars which are red colored!\n"
     ]
    },
    {
     "data": {
      "application/vnd.jupyter.widget-view+json": {
       "model_id": "5027e1addf0149588ebd5e7db1f90955",
       "version_major": 2,
       "version_minor": 0
      },
      "text/plain": [
       "model.safetensors:   0%|          | 0.00/2.35G [00:00<?, ?B/s]"
      ]
     },
     "metadata": {},
     "output_type": "display_data"
    },
    {
     "data": {
      "application/vnd.jupyter.widget-view+json": {
       "model_id": "dd9a0bab073b4ad19f01d8f860ae13eb",
       "version_major": 2,
       "version_minor": 0
      },
      "text/plain": [
       "generation_config.json:   0%|          | 0.00/230 [00:00<?, ?B/s]"
      ]
     },
     "metadata": {},
     "output_type": "display_data"
    },
    {
     "data": {
      "application/vnd.jupyter.widget-view+json": {
       "model_id": "04ad5e472cdd46a0b324840d2d0e66a1",
       "version_major": 2,
       "version_minor": 0
      },
      "text/plain": [
       "tokenizer_config.json:   0%|          | 0.00/50.6k [00:00<?, ?B/s]"
      ]
     },
     "metadata": {},
     "output_type": "display_data"
    },
    {
     "data": {
      "application/vnd.jupyter.widget-view+json": {
       "model_id": "4487aee957864cef99de8f45fe72e6d6",
       "version_major": 2,
       "version_minor": 0
      },
      "text/plain": [
       "tokenizer.json:   0%|          | 0.00/17.2M [00:00<?, ?B/s]"
      ]
     },
     "metadata": {},
     "output_type": "display_data"
    },
    {
     "data": {
      "application/vnd.jupyter.widget-view+json": {
       "model_id": "36cf1cb116a44a7a833c053598590c5a",
       "version_major": 2,
       "version_minor": 0
      },
      "text/plain": [
       "special_tokens_map.json:   0%|          | 0.00/459 [00:00<?, ?B/s]"
      ]
     },
     "metadata": {},
     "output_type": "display_data"
    },
    {
     "name": "stderr",
     "output_type": "stream",
     "text": [
      "Unsloth 2025.3.1 patched 28 layers with 28 QKV layers, 28 O layers and 28 MLP layers.\n"
     ]
    }
   ],
   "source": [
    "model, tokenizer = load_model()\n",
    "\n",
    "data_prompt = \"\"\"Your job is to take an SVG file of a web design and convert it into a pixel-perfect HTML and CSS markup and stylesheet.\n",
    "\n",
    "### Input:\n",
    "{}\n",
    "\n",
    "### Response:\n",
    "{}\"\"\"\n",
    "\n",
    "EOS_TOKEN = tokenizer.eos_token\n",
    "def formatting_prompt(examples):\n",
    "    inputs       = examples[\"svg\"]\n",
    "    outputs      = examples[\"html\"]\n",
    "    texts = []\n",
    "    for input_, output in zip(inputs, outputs):\n",
    "        text = data_prompt.format(input_, output) + EOS_TOKEN\n",
    "        texts.append(text)\n",
    "    return { \"text\" : texts, }\n",
    "\n"
   ]
  },
  {
   "cell_type": "code",
   "execution_count": 10,
   "id": "f57abcb9-04a6-4ad6-91af-7fd09e7118ce",
   "metadata": {},
   "outputs": [
    {
     "data": {
      "application/vnd.jupyter.widget-view+json": {
       "model_id": "98f9a9bd78fb40f6b5985a551eb8182d",
       "version_major": 2,
       "version_minor": 0
      },
      "text/plain": [
       "Map:   0%|          | 0/422192 [00:00<?, ? examples/s]"
      ]
     },
     "metadata": {},
     "output_type": "display_data"
    },
    {
     "data": {
      "application/vnd.jupyter.widget-view+json": {
       "model_id": "77ff703b746e4454a99c0f135256934d",
       "version_major": 2,
       "version_minor": 0
      },
      "text/plain": [
       "Map:   0%|          | 0/5 [00:00<?, ? examples/s]"
      ]
     },
     "metadata": {},
     "output_type": "display_data"
    },
    {
     "data": {
      "application/vnd.jupyter.widget-view+json": {
       "model_id": "4b3991dd11214217b98b7083dfe77e95",
       "version_major": 2,
       "version_minor": 0
      },
      "text/plain": [
       "Map:   0%|          | 0/100 [00:00<?, ? examples/s]"
      ]
     },
     "metadata": {},
     "output_type": "display_data"
    }
   ],
   "source": [
    "training_data = dataset.map(formatting_prompt, batched=True)"
   ]
  },
  {
   "cell_type": "code",
   "execution_count": 13,
   "id": "335b25f6-18b9-4ac9-bad7-2d6ccfe2355b",
   "metadata": {},
   "outputs": [
    {
     "data": {
      "text/plain": [
       "DatasetDict({\n",
       "    train: Dataset({\n",
       "        features: ['svg', 'html', 'text'],\n",
       "        num_rows: 422192\n",
       "    })\n",
       "    valid: Dataset({\n",
       "        features: ['svg', 'html', 'text'],\n",
       "        num_rows: 5\n",
       "    })\n",
       "    test: Dataset({\n",
       "        features: ['svg', 'html', 'text'],\n",
       "        num_rows: 100\n",
       "    })\n",
       "})"
      ]
     },
     "execution_count": 13,
     "metadata": {},
     "output_type": "execute_result"
    }
   ],
   "source": [
    "training_data"
   ]
  },
  {
   "cell_type": "code",
   "execution_count": 14,
   "id": "8289ee3c-34eb-4ca3-b69b-2e7a2828a418",
   "metadata": {},
   "outputs": [
    {
     "data": {
      "application/vnd.jupyter.widget-view+json": {
       "model_id": "323512592a664157803139cad0739b5f",
       "version_major": 2,
       "version_minor": 0
      },
      "text/plain": [
       "Map:   0%|          | 0/422192 [00:00<?, ? examples/s]"
      ]
     },
     "metadata": {},
     "output_type": "display_data"
    },
    {
     "data": {
      "application/vnd.jupyter.widget-view+json": {
       "model_id": "9c14460858b2423bacbff43d71b10860",
       "version_major": 2,
       "version_minor": 0
      },
      "text/plain": [
       "Map:   0%|          | 0/5 [00:00<?, ? examples/s]"
      ]
     },
     "metadata": {},
     "output_type": "display_data"
    },
    {
     "data": {
      "application/vnd.jupyter.widget-view+json": {
       "model_id": "643c564b778744bc8de8c5eca92eda33",
       "version_major": 2,
       "version_minor": 0
      },
      "text/plain": [
       "Map:   0%|          | 0/100 [00:00<?, ? examples/s]"
      ]
     },
     "metadata": {},
     "output_type": "display_data"
    },
    {
     "data": {
      "application/vnd.jupyter.widget-view+json": {
       "model_id": "1a0e5a86c55044098e11ee3e424959cb",
       "version_major": 2,
       "version_minor": 0
      },
      "text/plain": [
       "Filter:   0%|          | 0/422192 [00:00<?, ? examples/s]"
      ]
     },
     "metadata": {},
     "output_type": "display_data"
    },
    {
     "data": {
      "application/vnd.jupyter.widget-view+json": {
       "model_id": "76f300f532fe40b69f87ce89d2ec1253",
       "version_major": 2,
       "version_minor": 0
      },
      "text/plain": [
       "Filter:   0%|          | 0/5 [00:00<?, ? examples/s]"
      ]
     },
     "metadata": {},
     "output_type": "display_data"
    },
    {
     "data": {
      "application/vnd.jupyter.widget-view+json": {
       "model_id": "5eb93c270eb54ca7a49527dfd43a655d",
       "version_major": 2,
       "version_minor": 0
      },
      "text/plain": [
       "Filter:   0%|          | 0/100 [00:00<?, ? examples/s]"
      ]
     },
     "metadata": {},
     "output_type": "display_data"
    },
    {
     "name": "stdout",
     "output_type": "stream",
     "text": [
      "DatasetDict({\n",
      "    train: Dataset({\n",
      "        features: ['svg', 'html', 'text', 'input_ids', 'attention_mask', 'length'],\n",
      "        num_rows: 293102\n",
      "    })\n",
      "    valid: Dataset({\n",
      "        features: ['svg', 'html', 'text', 'input_ids', 'attention_mask', 'length'],\n",
      "        num_rows: 4\n",
      "    })\n",
      "    test: Dataset({\n",
      "        features: ['svg', 'html', 'text', 'input_ids', 'attention_mask', 'length'],\n",
      "        num_rows: 65\n",
      "    })\n",
      "})\n"
     ]
    }
   ],
   "source": [
    "def get_token_lengths(examples):\n",
    "    inputs = tokenizer(\n",
    "        examples['text'],\n",
    "        truncation=False,  # Don't truncate yet\n",
    "        padding=False,     # Don't pad yet\n",
    "        return_length=True,\n",
    "    )\n",
    "\n",
    "    return inputs\n",
    "\n",
    "tokenized_data = training_data.map(get_token_lengths, batched=True)\n",
    "\n",
    "def filter_function(example):\n",
    "    return example['length'] <= max_seq_length\n",
    "\n",
    "filtered_data = tokenized_data.filter(filter_function)\n",
    "\n",
    "print(filtered_data)"
   ]
  },
  {
   "cell_type": "code",
   "execution_count": 15,
   "id": "90aeb44b-e661-4d7b-8a56-995d7e115332",
   "metadata": {},
   "outputs": [
    {
     "data": {
      "application/vnd.jupyter.widget-view+json": {
       "model_id": "501d03830e2444fda48571fbd7cf491c",
       "version_major": 2,
       "version_minor": 0
      },
      "text/plain": [
       "Saving the dataset (0/190 shards):   0%|          | 0/293102 [00:00<?, ? examples/s]"
      ]
     },
     "metadata": {},
     "output_type": "display_data"
    },
    {
     "data": {
      "application/vnd.jupyter.widget-view+json": {
       "model_id": "78e8b335dc854cc1a15051325a937510",
       "version_major": 2,
       "version_minor": 0
      },
      "text/plain": [
       "Saving the dataset (0/1 shards):   0%|          | 0/4 [00:00<?, ? examples/s]"
      ]
     },
     "metadata": {},
     "output_type": "display_data"
    },
    {
     "data": {
      "application/vnd.jupyter.widget-view+json": {
       "model_id": "0ff6984c988e41c2b4747b11cc2d8716",
       "version_major": 2,
       "version_minor": 0
      },
      "text/plain": [
       "Saving the dataset (0/1 shards):   0%|          | 0/65 [00:00<?, ? examples/s]"
      ]
     },
     "metadata": {},
     "output_type": "display_data"
    }
   ],
   "source": [
    "filtered_data = filtered_data.remove_columns([\"input_ids\", \"attention_mask\", \"length\"])\n",
    "filtered_data.save_to_disk('data-rb-large-filtered-' + str(max_seq_length))"
   ]
  },
  {
   "cell_type": "code",
   "execution_count": 16,
   "id": "e4f049b9-5e8c-4b01-aaa1-bf0b9024d654",
   "metadata": {},
   "outputs": [
    {
     "data": {
      "application/vnd.jupyter.widget-view+json": {
       "model_id": "04a8fb2855a7466386f870d38c08962a",
       "version_major": 2,
       "version_minor": 0
      },
      "text/plain": [
       "Loading dataset from disk:   0%|          | 0/190 [00:00<?, ?it/s]"
      ]
     },
     "metadata": {},
     "output_type": "display_data"
    },
    {
     "data": {
      "text/plain": [
       "DatasetDict({\n",
       "    train: Dataset({\n",
       "        features: ['svg', 'html', 'text'],\n",
       "        num_rows: 293102\n",
       "    })\n",
       "    valid: Dataset({\n",
       "        features: ['svg', 'html', 'text'],\n",
       "        num_rows: 4\n",
       "    })\n",
       "    test: Dataset({\n",
       "        features: ['svg', 'html', 'text'],\n",
       "        num_rows: 65\n",
       "    })\n",
       "})"
      ]
     },
     "execution_count": 16,
     "metadata": {},
     "output_type": "execute_result"
    }
   ],
   "source": [
    "from datasets import load_from_disk\n",
    "\n",
    "filtered_data = load_from_disk('data-rb-large-filtered-' + str(max_seq_length))\n",
    "\n",
    "filtered_data"
   ]
  },
  {
   "cell_type": "code",
   "execution_count": 17,
   "id": "eae39d89303cb7b",
   "metadata": {},
   "outputs": [
    {
     "name": "stderr",
     "output_type": "stream",
     "text": [
      "  0%|          | 0/30 [00:00<?, ?it/s]"
     ]
    },
    {
     "name": "stdout",
     "output_type": "stream",
     "text": [
      "Steps: 0\n",
      "Generating predictions...\n",
      "Computing metrics...\n"
     ]
    },
    {
     "name": "stderr",
     "output_type": "stream",
     "text": [
      "  3%|▎         | 1/30 [30:12<14:36:07, 1812.67s/it]"
     ]
    },
    {
     "name": "stdout",
     "output_type": "stream",
     "text": [
      "Similarity: 0.6130016818642616\n",
      "Perceptual loss: 0.6515122056007385\n",
      "Steps: 50\n"
     ]
    },
    {
     "data": {
      "application/vnd.jupyter.widget-view+json": {
       "model_id": "5ccf1e2d11934f7281347ad9ee44a36b",
       "version_major": 2,
       "version_minor": 0
      },
      "text/plain": [
       "Generating train split: 0 examples [00:00, ? examples/s]"
      ]
     },
     "metadata": {},
     "output_type": "display_data"
    },
    {
     "data": {
      "application/vnd.jupyter.widget-view+json": {
       "model_id": "2b9f643c43fc45dcb23e112aa5c671aa",
       "version_major": 2,
       "version_minor": 0
      },
      "text/plain": [
       "Loading dataset shards:   0%|          | 0/110 [00:00<?, ?it/s]"
      ]
     },
     "metadata": {},
     "output_type": "display_data"
    },
    {
     "name": "stderr",
     "output_type": "stream",
     "text": [
      "max_steps is given, it will override any value given in num_train_epochs\n",
      "==((====))==  Unsloth - 2x faster free finetuning | Num GPUs = 1\n",
      "   \\\\   /|    Num examples = 109,974 | Num Epochs = 1\n",
      "O^O/ \\_/ \\    Batch size per device = 8 | Gradient Accumulation steps = 16\n",
      "\\        /    Total batch size = 128 | Total steps = 50\n",
      " \"-____-\"     Number of trainable parameters = 24,313,856\n"
     ]
    },
    {
     "data": {
      "text/html": [
       "\n",
       "    <div>\n",
       "      \n",
       "      <progress value='50' max='50' style='width:300px; height:20px; vertical-align: middle;'></progress>\n",
       "      [50/50 18:06:00, Epoch 0/1]\n",
       "    </div>\n",
       "    <table border=\"1\" class=\"dataframe\">\n",
       "  <thead>\n",
       " <tr style=\"text-align: left;\">\n",
       "      <th>Step</th>\n",
       "      <th>Training Loss</th>\n",
       "    </tr>\n",
       "  </thead>\n",
       "  <tbody>\n",
       "    <tr>\n",
       "      <td>1</td>\n",
       "      <td>14771.366200</td>\n",
       "    </tr>\n",
       "    <tr>\n",
       "      <td>2</td>\n",
       "      <td>0.000000</td>\n",
       "    </tr>\n",
       "    <tr>\n",
       "      <td>3</td>\n",
       "      <td>0.000000</td>\n",
       "    </tr>\n",
       "    <tr>\n",
       "      <td>4</td>\n",
       "      <td>0.000000</td>\n",
       "    </tr>\n",
       "    <tr>\n",
       "      <td>5</td>\n",
       "      <td>0.000000</td>\n",
       "    </tr>\n",
       "    <tr>\n",
       "      <td>6</td>\n",
       "      <td>0.000000</td>\n",
       "    </tr>\n",
       "    <tr>\n",
       "      <td>7</td>\n",
       "      <td>0.000000</td>\n",
       "    </tr>\n",
       "    <tr>\n",
       "      <td>8</td>\n",
       "      <td>0.000000</td>\n",
       "    </tr>\n",
       "    <tr>\n",
       "      <td>9</td>\n",
       "      <td>0.000000</td>\n",
       "    </tr>\n",
       "    <tr>\n",
       "      <td>10</td>\n",
       "      <td>0.000000</td>\n",
       "    </tr>\n",
       "    <tr>\n",
       "      <td>11</td>\n",
       "      <td>0.000000</td>\n",
       "    </tr>\n",
       "    <tr>\n",
       "      <td>12</td>\n",
       "      <td>0.000000</td>\n",
       "    </tr>\n",
       "    <tr>\n",
       "      <td>13</td>\n",
       "      <td>0.000000</td>\n",
       "    </tr>\n",
       "    <tr>\n",
       "      <td>14</td>\n",
       "      <td>0.000000</td>\n",
       "    </tr>\n",
       "    <tr>\n",
       "      <td>15</td>\n",
       "      <td>0.000000</td>\n",
       "    </tr>\n",
       "    <tr>\n",
       "      <td>16</td>\n",
       "      <td>0.000000</td>\n",
       "    </tr>\n",
       "    <tr>\n",
       "      <td>17</td>\n",
       "      <td>0.000000</td>\n",
       "    </tr>\n",
       "    <tr>\n",
       "      <td>18</td>\n",
       "      <td>0.000000</td>\n",
       "    </tr>\n",
       "    <tr>\n",
       "      <td>19</td>\n",
       "      <td>0.000000</td>\n",
       "    </tr>\n",
       "    <tr>\n",
       "      <td>20</td>\n",
       "      <td>0.000000</td>\n",
       "    </tr>\n",
       "    <tr>\n",
       "      <td>21</td>\n",
       "      <td>0.000000</td>\n",
       "    </tr>\n",
       "    <tr>\n",
       "      <td>22</td>\n",
       "      <td>0.000000</td>\n",
       "    </tr>\n",
       "    <tr>\n",
       "      <td>23</td>\n",
       "      <td>0.000000</td>\n",
       "    </tr>\n",
       "    <tr>\n",
       "      <td>24</td>\n",
       "      <td>0.000000</td>\n",
       "    </tr>\n",
       "    <tr>\n",
       "      <td>25</td>\n",
       "      <td>0.000000</td>\n",
       "    </tr>\n",
       "    <tr>\n",
       "      <td>26</td>\n",
       "      <td>0.000000</td>\n",
       "    </tr>\n",
       "    <tr>\n",
       "      <td>27</td>\n",
       "      <td>0.000000</td>\n",
       "    </tr>\n",
       "    <tr>\n",
       "      <td>28</td>\n",
       "      <td>0.000000</td>\n",
       "    </tr>\n",
       "    <tr>\n",
       "      <td>29</td>\n",
       "      <td>0.000000</td>\n",
       "    </tr>\n",
       "    <tr>\n",
       "      <td>30</td>\n",
       "      <td>0.000000</td>\n",
       "    </tr>\n",
       "    <tr>\n",
       "      <td>31</td>\n",
       "      <td>0.000000</td>\n",
       "    </tr>\n",
       "    <tr>\n",
       "      <td>32</td>\n",
       "      <td>0.000000</td>\n",
       "    </tr>\n",
       "    <tr>\n",
       "      <td>33</td>\n",
       "      <td>0.000000</td>\n",
       "    </tr>\n",
       "    <tr>\n",
       "      <td>34</td>\n",
       "      <td>0.000000</td>\n",
       "    </tr>\n",
       "    <tr>\n",
       "      <td>35</td>\n",
       "      <td>0.000000</td>\n",
       "    </tr>\n",
       "    <tr>\n",
       "      <td>36</td>\n",
       "      <td>0.000000</td>\n",
       "    </tr>\n",
       "    <tr>\n",
       "      <td>37</td>\n",
       "      <td>0.000000</td>\n",
       "    </tr>\n",
       "    <tr>\n",
       "      <td>38</td>\n",
       "      <td>0.000000</td>\n",
       "    </tr>\n",
       "    <tr>\n",
       "      <td>39</td>\n",
       "      <td>0.000000</td>\n",
       "    </tr>\n",
       "    <tr>\n",
       "      <td>40</td>\n",
       "      <td>0.000000</td>\n",
       "    </tr>\n",
       "    <tr>\n",
       "      <td>41</td>\n",
       "      <td>0.000000</td>\n",
       "    </tr>\n",
       "    <tr>\n",
       "      <td>42</td>\n",
       "      <td>0.000000</td>\n",
       "    </tr>\n",
       "    <tr>\n",
       "      <td>43</td>\n",
       "      <td>0.000000</td>\n",
       "    </tr>\n",
       "    <tr>\n",
       "      <td>44</td>\n",
       "      <td>0.000000</td>\n",
       "    </tr>\n",
       "    <tr>\n",
       "      <td>45</td>\n",
       "      <td>0.000000</td>\n",
       "    </tr>\n",
       "    <tr>\n",
       "      <td>46</td>\n",
       "      <td>0.000000</td>\n",
       "    </tr>\n",
       "    <tr>\n",
       "      <td>47</td>\n",
       "      <td>0.000000</td>\n",
       "    </tr>\n",
       "    <tr>\n",
       "      <td>48</td>\n",
       "      <td>0.000000</td>\n",
       "    </tr>\n",
       "    <tr>\n",
       "      <td>49</td>\n",
       "      <td>0.000000</td>\n",
       "    </tr>\n",
       "    <tr>\n",
       "      <td>50</td>\n",
       "      <td>0.000000</td>\n",
       "    </tr>\n",
       "  </tbody>\n",
       "</table><p>"
      ],
      "text/plain": [
       "<IPython.core.display.HTML object>"
      ]
     },
     "metadata": {},
     "output_type": "display_data"
    },
    {
     "name": "stdout",
     "output_type": "stream",
     "text": [
      "Generating predictions...\n",
      "Computing metrics...\n"
     ]
    },
    {
     "name": "stderr",
     "output_type": "stream",
     "text": [
      "  7%|▋         | 2/30 [20:50:19<340:44:22, 43809.37s/it]"
     ]
    },
    {
     "name": "stdout",
     "output_type": "stream",
     "text": [
      "Similarity: 0.6635512456465221\n",
      "Perceptual loss: 0.6742164254683303\n",
      "Steps: 100\n"
     ]
    },
    {
     "data": {
      "application/vnd.jupyter.widget-view+json": {
       "model_id": "61e42c128f6142119b7cb7e3baade98d",
       "version_major": 2,
       "version_minor": 0
      },
      "text/plain": [
       "Generating train split: 0 examples [00:00, ? examples/s]"
      ]
     },
     "metadata": {},
     "output_type": "display_data"
    },
    {
     "data": {
      "application/vnd.jupyter.widget-view+json": {
       "model_id": "337e5f888436450bb44b1bd1fbbcae53",
       "version_major": 2,
       "version_minor": 0
      },
      "text/plain": [
       "Loading dataset shards:   0%|          | 0/110 [00:00<?, ?it/s]"
      ]
     },
     "metadata": {},
     "output_type": "display_data"
    },
    {
     "name": "stderr",
     "output_type": "stream",
     "text": [
      "max_steps is given, it will override any value given in num_train_epochs\n",
      "==((====))==  Unsloth - 2x faster free finetuning | Num GPUs = 1\n",
      "   \\\\   /|    Num examples = 109,974 | Num Epochs = 1\n",
      "O^O/ \\_/ \\    Batch size per device = 8 | Gradient Accumulation steps = 16\n",
      "\\        /    Total batch size = 128 | Total steps = 100\n",
      " \"-____-\"     Number of trainable parameters = 24,313,856\n"
     ]
    },
    {
     "data": {
      "text/html": [
       "\n",
       "    <div>\n",
       "      \n",
       "      <progress value='78' max='100' style='width:300px; height:20px; vertical-align: middle;'></progress>\n",
       "      [ 78/100 9:41:48 < 8:12:17, 0.00 it/s, Epoch 0.09/1]\n",
       "    </div>\n",
       "    <table border=\"1\" class=\"dataframe\">\n",
       "  <thead>\n",
       " <tr style=\"text-align: left;\">\n",
       "      <th>Step</th>\n",
       "      <th>Training Loss</th>\n",
       "    </tr>\n",
       "  </thead>\n",
       "  <tbody>\n",
       "    <tr>\n",
       "      <td>51</td>\n",
       "      <td>14799.028300</td>\n",
       "    </tr>\n",
       "    <tr>\n",
       "      <td>52</td>\n",
       "      <td>0.000000</td>\n",
       "    </tr>\n",
       "    <tr>\n",
       "      <td>53</td>\n",
       "      <td>0.000000</td>\n",
       "    </tr>\n",
       "    <tr>\n",
       "      <td>54</td>\n",
       "      <td>0.000000</td>\n",
       "    </tr>\n",
       "    <tr>\n",
       "      <td>55</td>\n",
       "      <td>0.000000</td>\n",
       "    </tr>\n",
       "    <tr>\n",
       "      <td>56</td>\n",
       "      <td>0.000000</td>\n",
       "    </tr>\n",
       "    <tr>\n",
       "      <td>57</td>\n",
       "      <td>0.000000</td>\n",
       "    </tr>\n",
       "    <tr>\n",
       "      <td>58</td>\n",
       "      <td>0.000000</td>\n",
       "    </tr>\n",
       "    <tr>\n",
       "      <td>59</td>\n",
       "      <td>0.000000</td>\n",
       "    </tr>\n",
       "    <tr>\n",
       "      <td>60</td>\n",
       "      <td>0.000000</td>\n",
       "    </tr>\n",
       "    <tr>\n",
       "      <td>61</td>\n",
       "      <td>0.000000</td>\n",
       "    </tr>\n",
       "    <tr>\n",
       "      <td>62</td>\n",
       "      <td>0.000000</td>\n",
       "    </tr>\n",
       "    <tr>\n",
       "      <td>63</td>\n",
       "      <td>0.000000</td>\n",
       "    </tr>\n",
       "    <tr>\n",
       "      <td>64</td>\n",
       "      <td>0.000000</td>\n",
       "    </tr>\n",
       "    <tr>\n",
       "      <td>65</td>\n",
       "      <td>0.000000</td>\n",
       "    </tr>\n",
       "    <tr>\n",
       "      <td>66</td>\n",
       "      <td>0.000000</td>\n",
       "    </tr>\n",
       "    <tr>\n",
       "      <td>67</td>\n",
       "      <td>0.000000</td>\n",
       "    </tr>\n",
       "    <tr>\n",
       "      <td>68</td>\n",
       "      <td>0.000000</td>\n",
       "    </tr>\n",
       "    <tr>\n",
       "      <td>69</td>\n",
       "      <td>0.000000</td>\n",
       "    </tr>\n",
       "    <tr>\n",
       "      <td>70</td>\n",
       "      <td>0.000000</td>\n",
       "    </tr>\n",
       "    <tr>\n",
       "      <td>71</td>\n",
       "      <td>0.000000</td>\n",
       "    </tr>\n",
       "    <tr>\n",
       "      <td>72</td>\n",
       "      <td>0.000000</td>\n",
       "    </tr>\n",
       "    <tr>\n",
       "      <td>73</td>\n",
       "      <td>0.000000</td>\n",
       "    </tr>\n",
       "    <tr>\n",
       "      <td>74</td>\n",
       "      <td>0.000000</td>\n",
       "    </tr>\n",
       "    <tr>\n",
       "      <td>75</td>\n",
       "      <td>0.000000</td>\n",
       "    </tr>\n",
       "    <tr>\n",
       "      <td>76</td>\n",
       "      <td>0.000000</td>\n",
       "    </tr>\n",
       "  </tbody>\n",
       "</table><p>"
      ],
      "text/plain": [
       "<IPython.core.display.HTML object>"
      ]
     },
     "metadata": {},
     "output_type": "display_data"
    },
    {
     "name": "stderr",
     "output_type": "stream",
     "text": [
      "  7%|▋         | 2/30 [31:58:59<447:45:59, 57569.97s/it]\n"
     ]
    },
    {
     "ename": "KeyboardInterrupt",
     "evalue": "",
     "output_type": "error",
     "traceback": [
      "\u001B[0;31m---------------------------------------------------------------------------\u001B[0m",
      "\u001B[0;31mKeyboardInterrupt\u001B[0m                         Traceback (most recent call last)",
      "Cell \u001B[0;32mIn[17], line 12\u001B[0m\n\u001B[1;32m     10\u001B[0m trainer \u001B[38;5;241m=\u001B[39m create_trainer(model, tokenizer, filtered_data[\u001B[38;5;124m'\u001B[39m\u001B[38;5;124mtrain\u001B[39m\u001B[38;5;124m'\u001B[39m], steps)\n\u001B[1;32m     11\u001B[0m \u001B[38;5;28;01mif\u001B[39;00m resume:\n\u001B[0;32m---> 12\u001B[0m     trainer\u001B[38;5;241m.\u001B[39mtrain(resume_from_checkpoint\u001B[38;5;241m=\u001B[39m\u001B[38;5;28;01mTrue\u001B[39;00m)\n\u001B[1;32m     13\u001B[0m \u001B[38;5;28;01melse\u001B[39;00m:\n\u001B[1;32m     14\u001B[0m     trainer\u001B[38;5;241m.\u001B[39mtrain()\n",
      "File \u001B[0;32m/opt/conda/lib/python3.11/site-packages/transformers/trainer.py:2123\u001B[0m, in \u001B[0;36mTrainer.train\u001B[0;34m(self, resume_from_checkpoint, trial, ignore_keys_for_eval, **kwargs)\u001B[0m\n\u001B[1;32m   2121\u001B[0m         hf_hub_utils\u001B[38;5;241m.\u001B[39menable_progress_bars()\n\u001B[1;32m   2122\u001B[0m \u001B[38;5;28;01melse\u001B[39;00m:\n\u001B[0;32m-> 2123\u001B[0m     \u001B[38;5;28;01mreturn\u001B[39;00m inner_training_loop(\n\u001B[1;32m   2124\u001B[0m         args\u001B[38;5;241m=\u001B[39margs,\n\u001B[1;32m   2125\u001B[0m         resume_from_checkpoint\u001B[38;5;241m=\u001B[39mresume_from_checkpoint,\n\u001B[1;32m   2126\u001B[0m         trial\u001B[38;5;241m=\u001B[39mtrial,\n\u001B[1;32m   2127\u001B[0m         ignore_keys_for_eval\u001B[38;5;241m=\u001B[39mignore_keys_for_eval,\n\u001B[1;32m   2128\u001B[0m     )\n",
      "File \u001B[0;32m<string>:357\u001B[0m, in \u001B[0;36m_fast_inner_training_loop\u001B[0;34m(self, batch_size, args, resume_from_checkpoint, trial, ignore_keys_for_eval)\u001B[0m\n",
      "File \u001B[0;32m<string>:31\u001B[0m, in \u001B[0;36m_unsloth_training_step\u001B[0;34m(self, model, inputs, num_items_in_batch)\u001B[0m\n",
      "File \u001B[0;32m/opt/conda/lib/python3.11/site-packages/unsloth/models/_utils.py:1060\u001B[0m, in \u001B[0;36m_unsloth_pre_compute_loss\u001B[0;34m(self, model, inputs, *args, **kwargs)\u001B[0m\n\u001B[1;32m   1054\u001B[0m     logger\u001B[38;5;241m.\u001B[39mwarning_once(\n\u001B[1;32m   1055\u001B[0m         \u001B[38;5;124mf\u001B[39m\u001B[38;5;124m\"\u001B[39m\u001B[38;5;124mUnsloth: Not an error, but \u001B[39m\u001B[38;5;132;01m{\u001B[39;00mname\u001B[38;5;132;01m}\u001B[39;00m\u001B[38;5;124m does not accept `num_items_in_batch`.\u001B[39m\u001B[38;5;130;01m\\n\u001B[39;00m\u001B[38;5;124m\"\u001B[39m\\\n\u001B[1;32m   1056\u001B[0m         \u001B[38;5;124m\"\u001B[39m\u001B[38;5;124mUsing gradient accumulation will be very slightly less accurate.\u001B[39m\u001B[38;5;130;01m\\n\u001B[39;00m\u001B[38;5;124m\"\u001B[39m\\\n\u001B[1;32m   1057\u001B[0m         \u001B[38;5;124m\"\u001B[39m\u001B[38;5;124mRead more on gradient accumulation issues here: https://unsloth.ai/blog/gradient\u001B[39m\u001B[38;5;124m\"\u001B[39m\n\u001B[1;32m   1058\u001B[0m     )\n\u001B[1;32m   1059\u001B[0m \u001B[38;5;28;01mpass\u001B[39;00m\n\u001B[0;32m-> 1060\u001B[0m \u001B[38;5;28;01mreturn\u001B[39;00m \u001B[38;5;28mself\u001B[39m\u001B[38;5;241m.\u001B[39m_old_compute_loss(model, inputs, \u001B[38;5;241m*\u001B[39margs, \u001B[38;5;241m*\u001B[39m\u001B[38;5;241m*\u001B[39mkwargs)\n",
      "File \u001B[0;32m/opt/conda/lib/python3.11/site-packages/transformers/trainer.py:3633\u001B[0m, in \u001B[0;36mTrainer.compute_loss\u001B[0;34m(self, model, inputs, return_outputs, num_items_in_batch)\u001B[0m\n\u001B[1;32m   3631\u001B[0m         loss_kwargs[\u001B[38;5;124m\"\u001B[39m\u001B[38;5;124mnum_items_in_batch\u001B[39m\u001B[38;5;124m\"\u001B[39m] \u001B[38;5;241m=\u001B[39m num_items_in_batch\n\u001B[1;32m   3632\u001B[0m     inputs \u001B[38;5;241m=\u001B[39m {\u001B[38;5;241m*\u001B[39m\u001B[38;5;241m*\u001B[39minputs, \u001B[38;5;241m*\u001B[39m\u001B[38;5;241m*\u001B[39mloss_kwargs}\n\u001B[0;32m-> 3633\u001B[0m outputs \u001B[38;5;241m=\u001B[39m model(\u001B[38;5;241m*\u001B[39m\u001B[38;5;241m*\u001B[39minputs)\n\u001B[1;32m   3634\u001B[0m \u001B[38;5;66;03m# Save past state if it exists\u001B[39;00m\n\u001B[1;32m   3635\u001B[0m \u001B[38;5;66;03m# TODO: this needs to be fixed and made cleaner later.\u001B[39;00m\n\u001B[1;32m   3636\u001B[0m \u001B[38;5;28;01mif\u001B[39;00m \u001B[38;5;28mself\u001B[39m\u001B[38;5;241m.\u001B[39margs\u001B[38;5;241m.\u001B[39mpast_index \u001B[38;5;241m>\u001B[39m\u001B[38;5;241m=\u001B[39m \u001B[38;5;241m0\u001B[39m:\n",
      "File \u001B[0;32m/opt/conda/lib/python3.11/site-packages/torch/nn/modules/module.py:1736\u001B[0m, in \u001B[0;36mModule._wrapped_call_impl\u001B[0;34m(self, *args, **kwargs)\u001B[0m\n\u001B[1;32m   1734\u001B[0m     \u001B[38;5;28;01mreturn\u001B[39;00m \u001B[38;5;28mself\u001B[39m\u001B[38;5;241m.\u001B[39m_compiled_call_impl(\u001B[38;5;241m*\u001B[39margs, \u001B[38;5;241m*\u001B[39m\u001B[38;5;241m*\u001B[39mkwargs)  \u001B[38;5;66;03m# type: ignore[misc]\u001B[39;00m\n\u001B[1;32m   1735\u001B[0m \u001B[38;5;28;01melse\u001B[39;00m:\n\u001B[0;32m-> 1736\u001B[0m     \u001B[38;5;28;01mreturn\u001B[39;00m \u001B[38;5;28mself\u001B[39m\u001B[38;5;241m.\u001B[39m_call_impl(\u001B[38;5;241m*\u001B[39margs, \u001B[38;5;241m*\u001B[39m\u001B[38;5;241m*\u001B[39mkwargs)\n",
      "File \u001B[0;32m/opt/conda/lib/python3.11/site-packages/torch/nn/modules/module.py:1747\u001B[0m, in \u001B[0;36mModule._call_impl\u001B[0;34m(self, *args, **kwargs)\u001B[0m\n\u001B[1;32m   1742\u001B[0m \u001B[38;5;66;03m# If we don't have any hooks, we want to skip the rest of the logic in\u001B[39;00m\n\u001B[1;32m   1743\u001B[0m \u001B[38;5;66;03m# this function, and just call forward.\u001B[39;00m\n\u001B[1;32m   1744\u001B[0m \u001B[38;5;28;01mif\u001B[39;00m \u001B[38;5;129;01mnot\u001B[39;00m (\u001B[38;5;28mself\u001B[39m\u001B[38;5;241m.\u001B[39m_backward_hooks \u001B[38;5;129;01mor\u001B[39;00m \u001B[38;5;28mself\u001B[39m\u001B[38;5;241m.\u001B[39m_backward_pre_hooks \u001B[38;5;129;01mor\u001B[39;00m \u001B[38;5;28mself\u001B[39m\u001B[38;5;241m.\u001B[39m_forward_hooks \u001B[38;5;129;01mor\u001B[39;00m \u001B[38;5;28mself\u001B[39m\u001B[38;5;241m.\u001B[39m_forward_pre_hooks\n\u001B[1;32m   1745\u001B[0m         \u001B[38;5;129;01mor\u001B[39;00m _global_backward_pre_hooks \u001B[38;5;129;01mor\u001B[39;00m _global_backward_hooks\n\u001B[1;32m   1746\u001B[0m         \u001B[38;5;129;01mor\u001B[39;00m _global_forward_hooks \u001B[38;5;129;01mor\u001B[39;00m _global_forward_pre_hooks):\n\u001B[0;32m-> 1747\u001B[0m     \u001B[38;5;28;01mreturn\u001B[39;00m forward_call(\u001B[38;5;241m*\u001B[39margs, \u001B[38;5;241m*\u001B[39m\u001B[38;5;241m*\u001B[39mkwargs)\n\u001B[1;32m   1749\u001B[0m result \u001B[38;5;241m=\u001B[39m \u001B[38;5;28;01mNone\u001B[39;00m\n\u001B[1;32m   1750\u001B[0m called_always_called_hooks \u001B[38;5;241m=\u001B[39m \u001B[38;5;28mset\u001B[39m()\n",
      "File \u001B[0;32m/opt/conda/lib/python3.11/site-packages/accelerate/utils/operations.py:823\u001B[0m, in \u001B[0;36mconvert_outputs_to_fp32.<locals>.forward\u001B[0;34m(*args, **kwargs)\u001B[0m\n\u001B[1;32m    822\u001B[0m \u001B[38;5;28;01mdef\u001B[39;00m \u001B[38;5;21mforward\u001B[39m(\u001B[38;5;241m*\u001B[39margs, \u001B[38;5;241m*\u001B[39m\u001B[38;5;241m*\u001B[39mkwargs):\n\u001B[0;32m--> 823\u001B[0m     \u001B[38;5;28;01mreturn\u001B[39;00m model_forward(\u001B[38;5;241m*\u001B[39margs, \u001B[38;5;241m*\u001B[39m\u001B[38;5;241m*\u001B[39mkwargs)\n",
      "File \u001B[0;32m/opt/conda/lib/python3.11/site-packages/accelerate/utils/operations.py:811\u001B[0m, in \u001B[0;36mConvertOutputsToFp32.__call__\u001B[0;34m(self, *args, **kwargs)\u001B[0m\n\u001B[1;32m    810\u001B[0m \u001B[38;5;28;01mdef\u001B[39;00m \u001B[38;5;21m__call__\u001B[39m(\u001B[38;5;28mself\u001B[39m, \u001B[38;5;241m*\u001B[39margs, \u001B[38;5;241m*\u001B[39m\u001B[38;5;241m*\u001B[39mkwargs):\n\u001B[0;32m--> 811\u001B[0m     \u001B[38;5;28;01mreturn\u001B[39;00m convert_to_fp32(\u001B[38;5;28mself\u001B[39m\u001B[38;5;241m.\u001B[39mmodel_forward(\u001B[38;5;241m*\u001B[39margs, \u001B[38;5;241m*\u001B[39m\u001B[38;5;241m*\u001B[39mkwargs))\n",
      "File \u001B[0;32m/opt/conda/lib/python3.11/site-packages/torch/amp/autocast_mode.py:44\u001B[0m, in \u001B[0;36mautocast_decorator.<locals>.decorate_autocast\u001B[0;34m(*args, **kwargs)\u001B[0m\n\u001B[1;32m     41\u001B[0m \u001B[38;5;129m@functools\u001B[39m\u001B[38;5;241m.\u001B[39mwraps(func)\n\u001B[1;32m     42\u001B[0m \u001B[38;5;28;01mdef\u001B[39;00m \u001B[38;5;21mdecorate_autocast\u001B[39m(\u001B[38;5;241m*\u001B[39margs, \u001B[38;5;241m*\u001B[39m\u001B[38;5;241m*\u001B[39mkwargs):\n\u001B[1;32m     43\u001B[0m     \u001B[38;5;28;01mwith\u001B[39;00m autocast_instance:\n\u001B[0;32m---> 44\u001B[0m         \u001B[38;5;28;01mreturn\u001B[39;00m func(\u001B[38;5;241m*\u001B[39margs, \u001B[38;5;241m*\u001B[39m\u001B[38;5;241m*\u001B[39mkwargs)\n",
      "File \u001B[0;32m/opt/conda/lib/python3.11/site-packages/accelerate/utils/operations.py:823\u001B[0m, in \u001B[0;36mconvert_outputs_to_fp32.<locals>.forward\u001B[0;34m(*args, **kwargs)\u001B[0m\n\u001B[1;32m    822\u001B[0m \u001B[38;5;28;01mdef\u001B[39;00m \u001B[38;5;21mforward\u001B[39m(\u001B[38;5;241m*\u001B[39margs, \u001B[38;5;241m*\u001B[39m\u001B[38;5;241m*\u001B[39mkwargs):\n\u001B[0;32m--> 823\u001B[0m     \u001B[38;5;28;01mreturn\u001B[39;00m model_forward(\u001B[38;5;241m*\u001B[39margs, \u001B[38;5;241m*\u001B[39m\u001B[38;5;241m*\u001B[39mkwargs)\n",
      "File \u001B[0;32m/opt/conda/lib/python3.11/site-packages/accelerate/utils/operations.py:811\u001B[0m, in \u001B[0;36mConvertOutputsToFp32.__call__\u001B[0;34m(self, *args, **kwargs)\u001B[0m\n\u001B[1;32m    810\u001B[0m \u001B[38;5;28;01mdef\u001B[39;00m \u001B[38;5;21m__call__\u001B[39m(\u001B[38;5;28mself\u001B[39m, \u001B[38;5;241m*\u001B[39margs, \u001B[38;5;241m*\u001B[39m\u001B[38;5;241m*\u001B[39mkwargs):\n\u001B[0;32m--> 811\u001B[0m     \u001B[38;5;28;01mreturn\u001B[39;00m convert_to_fp32(\u001B[38;5;28mself\u001B[39m\u001B[38;5;241m.\u001B[39mmodel_forward(\u001B[38;5;241m*\u001B[39margs, \u001B[38;5;241m*\u001B[39m\u001B[38;5;241m*\u001B[39mkwargs))\n",
      "File \u001B[0;32m/opt/conda/lib/python3.11/site-packages/torch/amp/autocast_mode.py:44\u001B[0m, in \u001B[0;36mautocast_decorator.<locals>.decorate_autocast\u001B[0;34m(*args, **kwargs)\u001B[0m\n\u001B[1;32m     41\u001B[0m \u001B[38;5;129m@functools\u001B[39m\u001B[38;5;241m.\u001B[39mwraps(func)\n\u001B[1;32m     42\u001B[0m \u001B[38;5;28;01mdef\u001B[39;00m \u001B[38;5;21mdecorate_autocast\u001B[39m(\u001B[38;5;241m*\u001B[39margs, \u001B[38;5;241m*\u001B[39m\u001B[38;5;241m*\u001B[39mkwargs):\n\u001B[1;32m     43\u001B[0m     \u001B[38;5;28;01mwith\u001B[39;00m autocast_instance:\n\u001B[0;32m---> 44\u001B[0m         \u001B[38;5;28;01mreturn\u001B[39;00m func(\u001B[38;5;241m*\u001B[39margs, \u001B[38;5;241m*\u001B[39m\u001B[38;5;241m*\u001B[39mkwargs)\n",
      "File \u001B[0;32m/opt/conda/lib/python3.11/site-packages/torch/_compile.py:32\u001B[0m, in \u001B[0;36m_disable_dynamo.<locals>.inner\u001B[0;34m(*args, **kwargs)\u001B[0m\n\u001B[1;32m     29\u001B[0m     disable_fn \u001B[38;5;241m=\u001B[39m torch\u001B[38;5;241m.\u001B[39m_dynamo\u001B[38;5;241m.\u001B[39mdisable(fn, recursive)\n\u001B[1;32m     30\u001B[0m     fn\u001B[38;5;241m.\u001B[39m__dynamo_disable \u001B[38;5;241m=\u001B[39m disable_fn\n\u001B[0;32m---> 32\u001B[0m \u001B[38;5;28;01mreturn\u001B[39;00m disable_fn(\u001B[38;5;241m*\u001B[39margs, \u001B[38;5;241m*\u001B[39m\u001B[38;5;241m*\u001B[39mkwargs)\n",
      "File \u001B[0;32m/opt/conda/lib/python3.11/site-packages/torch/_dynamo/eval_frame.py:632\u001B[0m, in \u001B[0;36mDisableContext.__call__.<locals>._fn\u001B[0;34m(*args, **kwargs)\u001B[0m\n\u001B[1;32m    630\u001B[0m prior \u001B[38;5;241m=\u001B[39m _maybe_set_eval_frame(callback)\n\u001B[1;32m    631\u001B[0m \u001B[38;5;28;01mtry\u001B[39;00m:\n\u001B[0;32m--> 632\u001B[0m     \u001B[38;5;28;01mreturn\u001B[39;00m fn(\u001B[38;5;241m*\u001B[39margs, \u001B[38;5;241m*\u001B[39m\u001B[38;5;241m*\u001B[39mkwargs)\n\u001B[1;32m    633\u001B[0m \u001B[38;5;28;01mfinally\u001B[39;00m:\n\u001B[1;32m    634\u001B[0m     _maybe_set_eval_frame(prior)\n",
      "File \u001B[0;32m/opt/conda/lib/python3.11/site-packages/unsloth/models/llama.py:1226\u001B[0m, in \u001B[0;36mPeftModelForCausalLM_fast_forward\u001B[0;34m(self, input_ids, causal_mask, attention_mask, inputs_embeds, labels, output_attentions, output_hidden_states, return_dict, task_ids, num_logits_to_keep, logits_to_keep, **kwargs)\u001B[0m\n\u001B[1;32m   1210\u001B[0m \u001B[38;5;129m@torch\u001B[39m\u001B[38;5;241m.\u001B[39m_disable_dynamo\n\u001B[1;32m   1211\u001B[0m \u001B[38;5;28;01mdef\u001B[39;00m \u001B[38;5;21mPeftModelForCausalLM_fast_forward\u001B[39m(\n\u001B[1;32m   1212\u001B[0m     \u001B[38;5;28mself\u001B[39m,\n\u001B[0;32m   (...)\u001B[0m\n\u001B[1;32m   1224\u001B[0m     \u001B[38;5;241m*\u001B[39m\u001B[38;5;241m*\u001B[39mkwargs,\n\u001B[1;32m   1225\u001B[0m ):\n\u001B[0;32m-> 1226\u001B[0m     \u001B[38;5;28;01mreturn\u001B[39;00m \u001B[38;5;28mself\u001B[39m\u001B[38;5;241m.\u001B[39mbase_model(\n\u001B[1;32m   1227\u001B[0m         input_ids \u001B[38;5;241m=\u001B[39m input_ids,\n\u001B[1;32m   1228\u001B[0m         causal_mask \u001B[38;5;241m=\u001B[39m causal_mask,\n\u001B[1;32m   1229\u001B[0m         attention_mask \u001B[38;5;241m=\u001B[39m attention_mask,\n\u001B[1;32m   1230\u001B[0m         inputs_embeds \u001B[38;5;241m=\u001B[39m inputs_embeds,\n\u001B[1;32m   1231\u001B[0m         labels \u001B[38;5;241m=\u001B[39m labels,\n\u001B[1;32m   1232\u001B[0m         output_attentions \u001B[38;5;241m=\u001B[39m output_attentions,\n\u001B[1;32m   1233\u001B[0m         output_hidden_states \u001B[38;5;241m=\u001B[39m output_hidden_states,\n\u001B[1;32m   1234\u001B[0m         return_dict \u001B[38;5;241m=\u001B[39m return_dict,\n\u001B[1;32m   1235\u001B[0m         num_logits_to_keep \u001B[38;5;241m=\u001B[39m num_logits_to_keep,\n\u001B[1;32m   1236\u001B[0m         logits_to_keep \u001B[38;5;241m=\u001B[39m logits_to_keep,\n\u001B[1;32m   1237\u001B[0m         \u001B[38;5;241m*\u001B[39m\u001B[38;5;241m*\u001B[39mkwargs,\n\u001B[1;32m   1238\u001B[0m     )\n",
      "File \u001B[0;32m/opt/conda/lib/python3.11/site-packages/torch/nn/modules/module.py:1736\u001B[0m, in \u001B[0;36mModule._wrapped_call_impl\u001B[0;34m(self, *args, **kwargs)\u001B[0m\n\u001B[1;32m   1734\u001B[0m     \u001B[38;5;28;01mreturn\u001B[39;00m \u001B[38;5;28mself\u001B[39m\u001B[38;5;241m.\u001B[39m_compiled_call_impl(\u001B[38;5;241m*\u001B[39margs, \u001B[38;5;241m*\u001B[39m\u001B[38;5;241m*\u001B[39mkwargs)  \u001B[38;5;66;03m# type: ignore[misc]\u001B[39;00m\n\u001B[1;32m   1735\u001B[0m \u001B[38;5;28;01melse\u001B[39;00m:\n\u001B[0;32m-> 1736\u001B[0m     \u001B[38;5;28;01mreturn\u001B[39;00m \u001B[38;5;28mself\u001B[39m\u001B[38;5;241m.\u001B[39m_call_impl(\u001B[38;5;241m*\u001B[39margs, \u001B[38;5;241m*\u001B[39m\u001B[38;5;241m*\u001B[39mkwargs)\n",
      "File \u001B[0;32m/opt/conda/lib/python3.11/site-packages/torch/nn/modules/module.py:1747\u001B[0m, in \u001B[0;36mModule._call_impl\u001B[0;34m(self, *args, **kwargs)\u001B[0m\n\u001B[1;32m   1742\u001B[0m \u001B[38;5;66;03m# If we don't have any hooks, we want to skip the rest of the logic in\u001B[39;00m\n\u001B[1;32m   1743\u001B[0m \u001B[38;5;66;03m# this function, and just call forward.\u001B[39;00m\n\u001B[1;32m   1744\u001B[0m \u001B[38;5;28;01mif\u001B[39;00m \u001B[38;5;129;01mnot\u001B[39;00m (\u001B[38;5;28mself\u001B[39m\u001B[38;5;241m.\u001B[39m_backward_hooks \u001B[38;5;129;01mor\u001B[39;00m \u001B[38;5;28mself\u001B[39m\u001B[38;5;241m.\u001B[39m_backward_pre_hooks \u001B[38;5;129;01mor\u001B[39;00m \u001B[38;5;28mself\u001B[39m\u001B[38;5;241m.\u001B[39m_forward_hooks \u001B[38;5;129;01mor\u001B[39;00m \u001B[38;5;28mself\u001B[39m\u001B[38;5;241m.\u001B[39m_forward_pre_hooks\n\u001B[1;32m   1745\u001B[0m         \u001B[38;5;129;01mor\u001B[39;00m _global_backward_pre_hooks \u001B[38;5;129;01mor\u001B[39;00m _global_backward_hooks\n\u001B[1;32m   1746\u001B[0m         \u001B[38;5;129;01mor\u001B[39;00m _global_forward_hooks \u001B[38;5;129;01mor\u001B[39;00m _global_forward_pre_hooks):\n\u001B[0;32m-> 1747\u001B[0m     \u001B[38;5;28;01mreturn\u001B[39;00m forward_call(\u001B[38;5;241m*\u001B[39margs, \u001B[38;5;241m*\u001B[39m\u001B[38;5;241m*\u001B[39mkwargs)\n\u001B[1;32m   1749\u001B[0m result \u001B[38;5;241m=\u001B[39m \u001B[38;5;28;01mNone\u001B[39;00m\n\u001B[1;32m   1750\u001B[0m called_always_called_hooks \u001B[38;5;241m=\u001B[39m \u001B[38;5;28mset\u001B[39m()\n",
      "File \u001B[0;32m/opt/conda/lib/python3.11/site-packages/peft/tuners/tuners_utils.py:197\u001B[0m, in \u001B[0;36mBaseTuner.forward\u001B[0;34m(self, *args, **kwargs)\u001B[0m\n\u001B[1;32m    196\u001B[0m \u001B[38;5;28;01mdef\u001B[39;00m \u001B[38;5;21mforward\u001B[39m(\u001B[38;5;28mself\u001B[39m, \u001B[38;5;241m*\u001B[39margs: Any, \u001B[38;5;241m*\u001B[39m\u001B[38;5;241m*\u001B[39mkwargs: Any):\n\u001B[0;32m--> 197\u001B[0m     \u001B[38;5;28;01mreturn\u001B[39;00m \u001B[38;5;28mself\u001B[39m\u001B[38;5;241m.\u001B[39mmodel\u001B[38;5;241m.\u001B[39mforward(\u001B[38;5;241m*\u001B[39margs, \u001B[38;5;241m*\u001B[39m\u001B[38;5;241m*\u001B[39mkwargs)\n",
      "File \u001B[0;32m/opt/conda/lib/python3.11/site-packages/unsloth/models/llama.py:1116\u001B[0m, in \u001B[0;36mCausalLM_fast_forward.<locals>._CausalLM_fast_forward\u001B[0;34m(self, input_ids, causal_mask, attention_mask, position_ids, past_key_values, inputs_embeds, labels, use_cache, output_attentions, output_hidden_states, return_dict, num_logits_to_keep, logits_to_keep, *args, **kwargs)\u001B[0m\n\u001B[1;32m   1113\u001B[0m \u001B[38;5;28;01mif\u001B[39;00m \u001B[38;5;129;01mnot\u001B[39;00m RETURN_LOGITS \u001B[38;5;129;01mand\u001B[39;00m HAS_CUT_CROSS_ENTROPY \u001B[38;5;129;01mand\u001B[39;00m labels \u001B[38;5;129;01mis\u001B[39;00m \u001B[38;5;129;01mnot\u001B[39;00m \u001B[38;5;28;01mNone\u001B[39;00m:\n\u001B[1;32m   1115\u001B[0m     n_items \u001B[38;5;241m=\u001B[39m kwargs\u001B[38;5;241m.\u001B[39mget(\u001B[38;5;124m\"\u001B[39m\u001B[38;5;124mnum_items_in_batch\u001B[39m\u001B[38;5;124m\"\u001B[39m, \u001B[38;5;28;01mNone\u001B[39;00m) \u001B[38;5;129;01mor\u001B[39;00m kwargs\u001B[38;5;241m.\u001B[39mget(\u001B[38;5;124m\"\u001B[39m\u001B[38;5;124mn_items\u001B[39m\u001B[38;5;124m\"\u001B[39m, \u001B[38;5;28;01mNone\u001B[39;00m)\n\u001B[0;32m-> 1116\u001B[0m     loss \u001B[38;5;241m=\u001B[39m fused_linear_cross_entropy(\n\u001B[1;32m   1117\u001B[0m         hidden_states      \u001B[38;5;241m=\u001B[39m hidden_states,\n\u001B[1;32m   1118\u001B[0m         lm_weight          \u001B[38;5;241m=\u001B[39m lm_head,\n\u001B[1;32m   1119\u001B[0m         labels             \u001B[38;5;241m=\u001B[39m labels,\n\u001B[1;32m   1120\u001B[0m         num_items_in_batch \u001B[38;5;241m=\u001B[39m n_items,\n\u001B[1;32m   1121\u001B[0m         logit_softcapping  \u001B[38;5;241m=\u001B[39m logit_softcapping,\n\u001B[1;32m   1122\u001B[0m     )\n\u001B[1;32m   1123\u001B[0m     \u001B[38;5;28;01mif\u001B[39;00m \u001B[38;5;129;01mnot\u001B[39;00m return_dict:\n\u001B[1;32m   1124\u001B[0m         output \u001B[38;5;241m=\u001B[39m (logits,) \u001B[38;5;241m+\u001B[39m outputs[\u001B[38;5;241m1\u001B[39m:]\n",
      "File \u001B[0;32m/opt/conda/lib/python3.11/site-packages/unsloth_zoo/loss_utils.py:154\u001B[0m, in \u001B[0;36mfused_linear_cross_entropy\u001B[0;34m(hidden_states, lm_weight, labels, num_items_in_batch, ignore_index, reduction, logit_softcapping, accuracy_threshold)\u001B[0m\n\u001B[1;32m    152\u001B[0m reduction \u001B[38;5;241m=\u001B[39m \u001B[38;5;124m\"\u001B[39m\u001B[38;5;124msum\u001B[39m\u001B[38;5;124m\"\u001B[39m \u001B[38;5;28;01mif\u001B[39;00m num_items_in_batch \u001B[38;5;129;01mis\u001B[39;00m \u001B[38;5;129;01mnot\u001B[39;00m \u001B[38;5;28;01mNone\u001B[39;00m \u001B[38;5;28;01melse\u001B[39;00m \u001B[38;5;124m\"\u001B[39m\u001B[38;5;124mmean\u001B[39m\u001B[38;5;124m\"\u001B[39m\n\u001B[1;32m    153\u001B[0m \u001B[38;5;28;01mif\u001B[39;00m logit_softcapping \u001B[38;5;241m==\u001B[39m \u001B[38;5;241m0\u001B[39m: logit_softcapping \u001B[38;5;241m=\u001B[39m \u001B[38;5;28;01mNone\u001B[39;00m\n\u001B[0;32m--> 154\u001B[0m loss \u001B[38;5;241m=\u001B[39m linear_cross_entropy(\n\u001B[1;32m    155\u001B[0m     hidden_states,\n\u001B[1;32m    156\u001B[0m     lm_weight,\n\u001B[1;32m    157\u001B[0m     targets      \u001B[38;5;241m=\u001B[39m labels,\n\u001B[1;32m    158\u001B[0m     ignore_index \u001B[38;5;241m=\u001B[39m ignore_index,\n\u001B[1;32m    159\u001B[0m     softcap      \u001B[38;5;241m=\u001B[39m logit_softcapping,\n\u001B[1;32m    160\u001B[0m     reduction    \u001B[38;5;241m=\u001B[39m reduction,\n\u001B[1;32m    161\u001B[0m     shift        \u001B[38;5;241m=\u001B[39m \u001B[38;5;28;01mTrue\u001B[39;00m,\n\u001B[1;32m    162\u001B[0m     filter_eps   \u001B[38;5;241m=\u001B[39m accuracy_threshold,\n\u001B[1;32m    163\u001B[0m )\n\u001B[1;32m    164\u001B[0m \u001B[38;5;28;01mif\u001B[39;00m num_items_in_batch \u001B[38;5;129;01mis\u001B[39;00m \u001B[38;5;129;01mnot\u001B[39;00m \u001B[38;5;28;01mNone\u001B[39;00m: loss \u001B[38;5;241m=\u001B[39m loss \u001B[38;5;241m/\u001B[39m num_items_in_batch\n\u001B[1;32m    165\u001B[0m \u001B[38;5;28;01mreturn\u001B[39;00m loss\n",
      "File \u001B[0;32m/opt/conda/lib/python3.11/site-packages/cut_cross_entropy/linear_cross_entropy.py:58\u001B[0m, in \u001B[0;36mlinear_cross_entropy\u001B[0;34m(e, c, targets, ignore_index, softcap, reduction, shift, filter_eps, impl)\u001B[0m\n\u001B[1;32m     47\u001B[0m \u001B[38;5;28;01mif\u001B[39;00m \u001B[38;5;28misinstance\u001B[39m(impl, LinearCrossEntropyImpl):\n\u001B[1;32m     48\u001B[0m     impl \u001B[38;5;241m=\u001B[39m impl\u001B[38;5;241m.\u001B[39mname\u001B[38;5;241m.\u001B[39mlower()\n\u001B[1;32m     50\u001B[0m \u001B[38;5;28;01mmatch\u001B[39;00m impl:\n\u001B[1;32m     51\u001B[0m     \u001B[38;5;28;01mcase\u001B[39;00m \u001B[38;5;124m\"\u001B[39m\u001B[38;5;124mcce\u001B[39m\u001B[38;5;124m\"\u001B[39m:\n\u001B[1;32m     52\u001B[0m         \u001B[38;5;28;01mif\u001B[39;00m PLATFORM_SYSTEM \u001B[38;5;241m==\u001B[39m \u001B[38;5;124m\"\u001B[39m\u001B[38;5;124mDarwin\u001B[39m\u001B[38;5;124m\"\u001B[39m:\n\u001B[1;32m     53\u001B[0m             \u001B[38;5;28;01mraise\u001B[39;00m \u001B[38;5;167;01mRuntimeError\u001B[39;00m(\n\u001B[1;32m     54\u001B[0m                 \u001B[38;5;124m\"\u001B[39m\u001B[38;5;124mCCE does not support MacOS. Please use torch_compile when running on MacOS instead.\u001B[39m\u001B[38;5;124m\"\u001B[39m\n\u001B[1;32m     55\u001B[0m             )\n\u001B[1;32m     56\u001B[0m \n\u001B[1;32m     57\u001B[0m         \u001B[38;5;28;01massert\u001B[39;00m cce_linear_cross_entropy \u001B[38;5;129;01mis\u001B[39;00m \u001B[38;5;129;01mnot\u001B[39;00m \u001B[38;5;28;01mNone\u001B[39;00m\n\u001B[0;32m---> 58\u001B[0m         \u001B[38;5;28;01mreturn\u001B[39;00m cce_linear_cross_entropy(\n\u001B[1;32m     59\u001B[0m             e, c, targets, ignore_index, softcap, reduction, shift, filter_eps\n\u001B[1;32m     60\u001B[0m         )\n\u001B[1;32m     61\u001B[0m     \u001B[38;5;28;01mcase\u001B[39;00m \u001B[38;5;124m\"\u001B[39m\u001B[38;5;124mtorch_compile\u001B[39m\u001B[38;5;124m\"\u001B[39m:\n\u001B[1;32m     62\u001B[0m         \u001B[38;5;28;01mreturn\u001B[39;00m torch_compile_linear_cross_entropy(\n\u001B[1;32m     63\u001B[0m             e, c, targets, ignore_index, softcap, reduction, shift\n\u001B[1;32m     64\u001B[0m         )\n\u001B[1;32m     65\u001B[0m     \u001B[38;5;28;01mcase\u001B[39;00m\u001B[38;5;250m \u001B[39m\u001B[38;5;28;01m_\u001B[39;00m:\n\u001B[1;32m     66\u001B[0m         \u001B[38;5;28;01mraise\u001B[39;00m \u001B[38;5;167;01mNotImplementedError\u001B[39;00m(\u001B[38;5;124mf\u001B[39m\u001B[38;5;124m\"\u001B[39m\u001B[38;5;132;01m{\u001B[39;00mimpl\u001B[38;5;132;01m}\u001B[39;00m\u001B[38;5;124m is not implemented.\u001B[39m\u001B[38;5;124m\"\u001B[39m)\n",
      "File \u001B[0;32m/opt/conda/lib/python3.11/site-packages/cut_cross_entropy/cce.py:163\u001B[0m, in \u001B[0;36mcce_linear_cross_entropy\u001B[0;34m(e, c, targets, ignore_index, softcap, reduction, shift, filter_eps)\u001B[0m\n\u001B[1;32m    160\u001B[0m e \u001B[38;5;241m=\u001B[39m e\u001B[38;5;241m.\u001B[39mcontiguous()\n\u001B[1;32m    161\u001B[0m targets \u001B[38;5;241m=\u001B[39m targets\u001B[38;5;241m.\u001B[39mcontiguous()\n\u001B[0;32m--> 163\u001B[0m valids \u001B[38;5;241m=\u001B[39m _build_flat_valids(targets, ignore_index, shift)\n\u001B[1;32m    165\u001B[0m e \u001B[38;5;241m=\u001B[39m e\u001B[38;5;241m.\u001B[39mflatten(\u001B[38;5;241m0\u001B[39m, \u001B[38;5;241m-\u001B[39m\u001B[38;5;241m2\u001B[39m)\n\u001B[1;32m    166\u001B[0m targets \u001B[38;5;241m=\u001B[39m targets\u001B[38;5;241m.\u001B[39mflatten()\n",
      "File \u001B[0;32m/opt/conda/lib/python3.11/site-packages/cut_cross_entropy/utils.py:38\u001B[0m, in \u001B[0;36m_build_flat_valids\u001B[0;34m(targets, ignore_index, shift)\u001B[0m\n\u001B[1;32m     35\u001B[0m \u001B[38;5;28;01melse\u001B[39;00m:\n\u001B[1;32m     36\u001B[0m     targets \u001B[38;5;241m=\u001B[39m targets\u001B[38;5;241m.\u001B[39mflatten()\n\u001B[0;32m---> 38\u001B[0m valids \u001B[38;5;241m=\u001B[39m (targets \u001B[38;5;241m!=\u001B[39m ignore_index)\u001B[38;5;241m.\u001B[39mnonzero()\u001B[38;5;241m.\u001B[39mto(torch\u001B[38;5;241m.\u001B[39mint32)\n\u001B[1;32m     40\u001B[0m \u001B[38;5;28;01mif\u001B[39;00m \u001B[38;5;129;01mnot\u001B[39;00m shift:\n\u001B[1;32m     41\u001B[0m     \u001B[38;5;28;01massert\u001B[39;00m valids\u001B[38;5;241m.\u001B[39msize(\u001B[38;5;241m1\u001B[39m) \u001B[38;5;241m==\u001B[39m \u001B[38;5;241m1\u001B[39m\n",
      "\u001B[0;31mKeyboardInterrupt\u001B[0m: "
     ]
    }
   ],
   "source": [
    "import torch\n",
    "from tqdm import tqdm\n",
    "\n",
    "resume = False\n",
    "\n",
    "for steps in tqdm(range(0, 1500, 50)):\n",
    "    print(f\"Steps: {steps}\")\n",
    "\n",
    "    if steps > 0:\n",
    "        trainer = create_trainer(model, tokenizer, filtered_data['train'], steps)\n",
    "        if resume:\n",
    "            trainer.train(resume_from_checkpoint=True)\n",
    "        else:\n",
    "            trainer.train()\n",
    "            resume = True\n",
    "        \n",
    "    model = FastLanguageModel.for_inference(model)\n",
    "\n",
    "    results = test_prediction(model, filtered_data['valid'], steps)\n",
    "\n",
    "    if results is not None and results['perceptual_loss'] == 0.0:\n",
    "        break\n",
    "\n",
    "    model = FastLanguageModel.for_training(model)\n",
    "\n",
    "    "
   ]
  },
  {
   "cell_type": "code",
   "execution_count": 18,
   "id": "14378b83-4627-4812-aebd-07bdcc899bcd",
   "metadata": {},
   "outputs": [
    {
     "name": "stdout",
     "output_type": "stream",
     "text": [
      "<svg xmlns=\"http://www.w3.org/2000/svg\" xmlns:xlink=\"http://www.w3.org/1999/xlink\" width=\"393\" height=\"884\" viewBox=\"0 0 393 884\"><g id=\"html1\"><g data-tag=\"head\" id=\"head1\" data-z-index=\"auto\" data-stacking-context=\"true\" aria-owns=\"script1\"><g data-tag=\"script\" id=\"script1\" data-z-index=\"auto\" data-stacking-context=\"true\"/></g><g data-tag=\"body\" id=\"--color-scheme-wireframe1\" class=\"--color-scheme-wireframe --template-the-o-g-profile identity-body tw-bg-template-background\" data-z-index=\"auto\" data-stacking-context=\"true\" role=\"document\" aria-owns=\"turbo-cable-stream-source1 div1 profile_hover_card main-content style1\"><g data-stacking-layer=\"rootBackgroundAndBorders\"><rect width=\"393\" height=\"916\" x=\"0\" y=\"0\" fill=\"rgb(255, 255, 255)\"/></g><g data-stacking-layer=\"childStackingContextsWithPositiveStackLevels\"><g data-tag=\"div\" id=\"profile_hover_card\" class=\"popover-profile-card-container\" data-z-index=\"1070\" data-stacking-context=\"true\"/></g><g data-tag=\"turbo-cable-stream-source\" id=\"turbo-cable-stream-source1\" data-z-index=\"auto\" data-stacking-context=\"true\"/><g data-tag=\"div\" id=\"div1\" data-z-index=\"auto\" data-stacking-context=\"true\"/><g data-tag=\"main\" id=\"main-content\" class=\"w-100\" data-z-index=\"auto\" data-stacking-context=\"true\" role=\"main\" aria-owns=\"navbar1 identity__page-header1\"><g data-tag=\"nav\" id=\"navbar1\" class=\"navbar py-3 py-lg-5\" data-z-index=\"auto\" data-stacking-context=\"true\" role=\"navigation\"/><g data-tag=\"div\" id=\"identity__page-header1\" class=\"identity__page-header\" data-z-index=\"auto\" data-stacking-context=\"true\" aria-owns=\"w-1001\"><g data-tag=\"header\" id=\"w-1001\" class=\"w-100 m-auto mw-800px pt-8 px-4 px-md-0\" data-z-index=\"auto\" data-stacking-context=\"true\" aria-owns=\"d-flex1\"><g data-tag=\"div\" id=\"d-flex1\" class=\"d-flex justify-content-between flex-grow-1 tw-relative\" data-z-index=\"auto\" data-stacking-context=\"true\" aria-owns=\"div2\"><g data-tag=\"div\" id=\"div2\" data-z-index=\"auto\" data-stacking-context=\"true\" aria-owns=\"identity-header-section-wrapper1 identity-header-section-wrapper2\"><g data-stacking-layer=\"childStackingContextsWithPositiveStackLevels\"><g data-tag=\"div\" id=\"identity-header-section-wrapper1\" class=\"identity-header-section-wrapper identity-profile-details-608436-section identity-profile-details-section identity-profile-headline-section z-index-1000\" data-z-index=\"1000\" data-stacking-context=\"true\" aria-owns=\"div3\"><g data-tag=\"div\" id=\"div3\" data-z-index=\"auto\" data-stacking-context=\"true\" aria-owns=\"p-01 d-flex2 reveal--color-FFF1F12\"><g data-tag=\"div\" id=\"p-01\" class=\"p-0 position-relative\" data-z-index=\"auto\" data-stacking-context=\"true\" aria-owns=\"rounded-circle1\"><g data-tag=\"div\" id=\"rounded-circle1\" class=\"rounded-circle avatar-background avatar-background-size-xl-5\" data-z-index=\"auto\" data-stacking-context=\"true\" aria-owns=\"reveal--color-FFF1F11\"><g data-tag=\"div\" id=\"reveal--color-FFF1F11\" class=\"reveal--color-FFF1F1 avatar avatar-size-xl-5 reveal--TTB-on-trigger rounded-circle\" data-z-index=\"auto\" data-stacking-context=\"true\" aria-owns=\"avatar-image1\"><g data-stacking-layer=\"rootBackgroundAndBorders\"><rect width=\"128\" height=\"128\" x=\"24\" y=\"104\" fill=\"rgba(88, 43, 232, 0.1)\" rx=\"64\" ry=\"64\"/></g><g data-tag=\"span\" id=\"avatar-image1\" class=\"avatar-image\" data-z-index=\"auto\" data-stacking-context=\"true\"/></g></g></g><g data-tag=\"div\" id=\"d-flex2\" class=\"d-flex justify-content-between mt-2\" data-z-index=\"auto\" data-stacking-context=\"true\" aria-owns=\"align-items-center1\"><g data-tag=\"div\" id=\"align-items-center1\" class=\"align-items-center d-inline-flex reveal--RTL-on-trigger reveal--color-FFF1F1\" data-z-index=\"auto\" data-stacking-context=\"true\" aria-owns=\"profile_display_name\"><g data-tag=\"turbo-frame\" id=\"profile_display_name\" data-z-index=\"auto\" data-stacking-context=\"true\" aria-owns=\"profile-name\"><g data-tag=\"div\" id=\"profile-name\" class=\"display-1 tw-text-template-lead\" data-z-index=\"auto\" data-stacking-context=\"true\"><text color=\"rgb(51, 51, 66)\" dominant-baseline=\"text-after-edge\" font-family=\"&quot;DM Sans&quot;\" font-size=\"24px\" font-size-adjust=\"none\" font-stretch=\"100%\" font-style=\"normal\" font-variant=\"normal\" font-weight=\"700\" direction=\"ltr\" letter-spacing=\"normal\" text-decoration=\"none solid rgb(51, 51, 66)\" text-anchor=\"start\" text-rendering=\"optimizelegibility\" unicode-bidi=\"isolate\" word-spacing=\"0px\" writing-mode=\"horizontal-tb\" user-select=\"auto\" fill=\"rgb(51, 51, 66)\"><tspan xml:space=\"preserve\" x=\"24\" y=\"266\" textLength=\"145.984375\" lengthAdjust=\"spacingAndGlyphs\">Fawaz Alesayi</tspan></text></g></g></g></g><g data-tag=\"div\" id=\"reveal--color-FFF1F12\" class=\"reveal--color-FFF1F1 reveal--LTR-on-trigger tw-mb-4 tw-mt-2 width-fit-content\" data-z-index=\"auto\" data-stacking-context=\"true\" aria-owns=\"tw-text-template-text1\"><g data-tag=\"ul\" id=\"tw-text-template-text1\" class=\"tw-text-template-text list-inline mb-0\" data-z-index=\"auto\" data-stacking-context=\"true\" role=\"list\" aria-owns=\"profile-username d-inline1\"><g data-tag=\"li\" id=\"profile-username\" class=\"d-inline list-inline-item\" data-z-index=\"auto\" data-stacking-context=\"true\" role=\"listitem\" aria-owns=\"tw-text-template-text2 span1\"><g data-tag=\"span\" id=\"tw-text-template-text2\" class=\"tw-text-template-text\" data-z-index=\"auto\" data-stacking-context=\"true\"><text color=\"rgb(51, 51, 66)\" dominant-baseline=\"text-after-edge\" font-family=\"&quot;DM Sans&quot;\" font-size=\"14px\" font-size-adjust=\"none\" font-stretch=\"100%\" font-style=\"normal\" font-variant=\"normal\" font-weight=\"400\" direction=\"ltr\" letter-spacing=\"normal\" text-decoration=\"none solid rgb(51, 51, 66)\" text-anchor=\"start\" text-rendering=\"optimizelegibility\" unicode-bidi=\"normal\" word-spacing=\"0px\" writing-mode=\"horizontal-tb\" user-select=\"auto\" fill=\"rgb(51, 51, 66)\"><tspan xml:space=\"preserve\" x=\"24\" y=\"292.390625\" textLength=\"46.3125\" lengthAdjust=\"spacingAndGlyphs\">@fawaz</tspan></text></g><g data-tag=\"span\" id=\"span1\" data-z-index=\"auto\" data-stacking-context=\"true\"><text color=\"rgb(51, 51, 66)\" dominant-baseline=\"text-after-edge\" font-family=\"&quot;DM Sans&quot;\" font-size=\"14px\" font-size-adjust=\"none\" font-stretch=\"100%\" font-style=\"normal\" font-variant=\"normal\" font-weight=\"400\" direction=\"ltr\" letter-spacing=\"normal\" text-decoration=\"none solid rgb(51, 51, 66)\" text-anchor=\"start\" text-rendering=\"optimizelegibility\" unicode-bidi=\"normal\" word-spacing=\"0px\" writing-mode=\"horizontal-tb\" user-select=\"auto\" fill=\"rgb(51, 51, 66)\"><tspan xml:space=\"preserve\" x=\"76.3125\" y=\"292.390625\" textLength=\"3.5\" lengthAdjust=\"spacingAndGlyphs\">·</tspan></text></g></g><g data-tag=\"li\" id=\"d-inline1\" class=\"d-inline list-inline-item\" data-z-index=\"auto\" data-stacking-context=\"true\" role=\"listitem\"><text color=\"rgb(51, 51, 66)\" dominant-baseline=\"text-after-edge\" font-family=\"&quot;DM Sans&quot;\" font-size=\"14px\" font-size-adjust=\"none\" font-stretch=\"100%\" font-style=\"normal\" font-variant=\"normal\" font-weight=\"400\" direction=\"ltr\" letter-spacing=\"normal\" text-decoration=\"none solid rgb(51, 51, 66)\" text-anchor=\"start\" text-rendering=\"optimizelegibility\" unicode-bidi=\"isolate\" word-spacing=\"0px\" writing-mode=\"horizontal-tb\" user-select=\"auto\" fill=\"rgb(51, 51, 66)\"><tspan xml:space=\"preserve\" x=\"85.8125\" y=\"292.390625\" textLength=\"45.109375\" lengthAdjust=\"spacingAndGlyphs\">He/Him</tspan></text></g></g></g></g></g></g><g data-tag=\"div\" id=\"identity-header-section-wrapper2\" class=\"identity-header-section-wrapper identity-profile-badges-608431-section identity-profile-badges-section\" data-z-index=\"auto\" data-stacking-context=\"true\" aria-owns=\"div4\"><g data-tag=\"div\" id=\"div4\" data-z-index=\"auto\" data-stacking-context=\"true\" aria-owns=\"profile-badges-panel\"><g data-tag=\"div\" id=\"profile-badges-panel\" class=\"d-flex justify-content-between align-items-baseline min-w-0 reveal--RTL-on-trigger reveal--color-FFF5E5\" data-z-index=\"auto\" data-stacking-context=\"true\" aria-owns=\"d-flex3\"><g data-tag=\"div\" id=\"d-flex3\" class=\"d-flex badge-pill-group flex-wrap\" data-z-index=\"auto\" data-stacking-context=\"true\" aria-owns=\"ellipsable1 ellipsable3 ellipsable5 ellipsable7 ellipsable9\"><g data-tag=\"div\" id=\"ellipsable1\" class=\"ellipsable\" data-z-index=\"auto\" data-stacking-context=\"true\" mask=\"url(#mask-for-ellipsable11)\" aria-owns=\"align-items-center2\"><mask id=\"mask-for-ellipsable11\"><rect width=\"197.515625\" height=\"50\" x=\"20\" y=\"323.390625\" fill=\"#ffffff\"/></mask><g data-tag=\"label\" id=\"align-items-center2\" class=\"align-items-center d-inline-flex badge badge-pill mw-100 tw-border-template-stroke\" data-z-index=\"auto\" data-stacking-context=\"true\" aria-owns=\"badge-pill-icon1 ellipsable2\"><g data-stacking-layer=\"rootBackgroundAndBorders\"><rect width=\"189.515625\" height=\"42\" x=\"24\" y=\"327.390625\" fill=\"rgba(0, 0, 0, 0)\" stroke=\"rgb(228, 232, 241)\" stroke-width=\"1px\" rx=\"21\" ry=\"21\"/></g><g data-tag=\"svg\" id=\"badge-pill-icon1\" class=\"badge-pill-icon mr-2 pw-icon pw-icon--wide pw-icon-code text-blue\" data-z-index=\"auto\" data-stacking-context=\"true\" mask=\"url(#mask-for-badge-pill-icon11)\"><g data-stacking-layer=\"rootBackgroundAndBorders\"/><g data-stacking-layer=\"childStackingContextsWithNegativeStackLevels\"/><g data-stacking-layer=\"inFlowNonInlineNonPositionedDescendants\"/><g data-stacking-layer=\"nonPositionedFloats\"/><g data-stacking-layer=\"inFlowInlineLevelNonPositionedDescendants\"/><g data-stacking-layer=\"childStackingContextsWithStackLevelZeroAndPositionedDescendantsWithStackLevelZero\"/><g data-stacking-layer=\"childStackingContextsWithPositiveStackLevels\"/><mask id=\"mask-for-badge-pill-icon11\"><rect width=\"17.5\" height=\"14\" x=\"41\" y=\"341.390625\" fill=\"#ffffff\"/></mask><g class=\"svg-content badge-pill-icon mr-2 pw-icon pw-icon--wide pw-icon-code text-blue\" data-view-box=\"0 0 640 512\" data-width=\"\" data-height=\"\" transform=\"matrix(0.0273438 0 0 0.0273438 41 341.391)\"><path d=\"M278.9 511.5l-61-17.7c-6.4-1.8-10-8.5-8.2-14.9L346.2 8.7c1.8-6.4 8.5-10 14.9-8.2l61 17.7c6.4 1.8 10 8.5 8.2 14.9L293.8 503.3c-1.9 6.4-8.5 10.1-14.9 8.2zm-114-112.2l43.5-46.4c4.6-4.9 4.3-12.7-.8-17.2L117 256l90.6-79.7c5.1-4.5 5.5-12.3.8-17.2l-43.5-46.4c-4.5-4.8-12.1-5.1-17-.5L3.8 247.2c-5.1 4.7-5.1 12.8 0 17.5l144.1 135.1c4.9 4.6 12.5 4.4 17-.5zm327.2.6l144.1-135.1c5.1-4.7 5.1-12.8 0-17.5L492.1 112.1c-4.8-4.5-12.4-4.3-17 .5L431.6 159c-4.6 4.9-4.3 12.7.8 17.2L523 256l-90.6 79.7c-5.1 4.5-5.5 12.3-.8 17.2l43.5 46.4c4.5 4.9 12.1 5.1 17 .6z\" color=\"rgb(50, 138, 255)\" fill=\"rgb(50, 138, 255)\" stroke=\"none\"/></g></g><g data-tag=\"span\" id=\"ellipsable2\" class=\"ellipsable tw-text-template-text\" data-z-index=\"auto\" data-stacking-context=\"true\" mask=\"url(#mask-for-ellipsable21)\"><mask id=\"mask-for-ellipsable21\"><rect width=\"130.015625\" height=\"20\" x=\"66.5\" y=\"338.390625\" fill=\"#ffffff\"/></mask><text color=\"rgb(51, 51, 66)\" dominant-baseline=\"text-after-edge\" font-family=\"&quot;DM Sans&quot;\" font-size=\"14px\" font-size-adjust=\"none\" font-stretch=\"100%\" font-style=\"normal\" font-variant=\"normal\" font-weight=\"600\" direction=\"ltr\" letter-spacing=\"normal\" text-decoration=\"none solid rgb(51, 51, 66)\" text-anchor=\"start\" text-rendering=\"optimizelegibility\" unicode-bidi=\"normal\" word-spacing=\"0px\" writing-mode=\"horizontal-tb\" user-select=\"auto\" fill=\"rgb(51, 51, 66)\"><tspan xml:space=\"preserve\" x=\"66.5\" y=\"355.390625\" textLength=\"130.015625\" lengthAdjust=\"spacingAndGlyphs\">Software Engineering</tspan></text></g></g></g><g data-tag=\"div\" id=\"ellipsable3\" class=\"ellipsable\" data-z-index=\"auto\" data-stacking-context=\"true\" mask=\"url(#mask-for-ellipsable31)\" aria-owns=\"align-items-center3\"><mask id=\"mask-for-ellipsable31\"><rect width=\"114.953125\" height=\"50\" x=\"217.515625\" y=\"323.390625\" fill=\"#ffffff\"/></mask><g data-tag=\"label\" id=\"align-items-center3\" class=\"align-items-center d-inline-flex badge badge-pill mw-100 tw-border-template-stroke\" data-z-index=\"auto\" data-stacking-context=\"true\" aria-owns=\"badge-pill-icon2 ellipsable4\"><g data-stacking-layer=\"rootBackgroundAndBorders\"><rect width=\"106.953125\" height=\"42\" x=\"221.515625\" y=\"327.390625\" fill=\"rgba(0, 0, 0, 0)\" stroke=\"rgb(228, 232, 241)\" stroke-width=\"1px\" rx=\"21\" ry=\"21\"/></g><g data-tag=\"svg\" id=\"badge-pill-icon2\" class=\"badge-pill-icon mr-2 pw-icon pw-icon--wide pw-icon-infinity text-turquoise\" data-z-index=\"auto\" data-stacking-context=\"true\" mask=\"url(#mask-for-badge-pill-icon21)\"><g data-stacking-layer=\"rootBackgroundAndBorders\"/><g data-stacking-layer=\"childStackingContextsWithNegativeStackLevels\"/><g data-stacking-layer=\"inFlowNonInlineNonPositionedDescendants\"/><g data-stacking-layer=\"nonPositionedFloats\"/><g data-stacking-layer=\"inFlowInlineLevelNonPositionedDescendants\"/><g data-stacking-layer=\"childStackingContextsWithStackLevelZeroAndPositionedDescendantsWithStackLevelZero\"/><g data-stacking-layer=\"childStackingContextsWithPositiveStackLevels\"/><mask id=\"mask-for-badge-pill-icon21\"><rect width=\"17.5\" height=\"14\" x=\"238.515625\" y=\"341.390625\" fill=\"#ffffff\"/></mask><g class=\"svg-content badge-pill-icon mr-2 pw-icon pw-icon--wide pw-icon-infinity text-turquoise\" data-view-box=\"0 0 640 512\" data-width=\"\" data-height=\"\" transform=\"matrix(0.0273438 0 0 0.0273438 238.516 341.391)\"><path d=\"M471.1 96C405 96 353.3 137.3 320 174.6 286.7 137.3 235 96 168.9 96 75.8 96 0 167.8 0 256s75.8 160 168.9 160c66.1 0 117.8-41.3 151.1-78.6 33.3 37.3 85 78.6 151.1 78.6 93.1 0 168.9-71.8 168.9-160S564.2 96 471.1 96zM168.9 320c-40.2 0-72.9-28.7-72.9-64s32.7-64 72.9-64c38.2 0 73.4 36.1 94 64-20.4 27.6-55.9 64-94 64zm302.2 0c-38.2 0-73.4-36.1-94-64 20.4-27.6 55.9-64 94-64 40.2 0 72.9 28.7 72.9 64s-32.7 64-72.9 64z\" color=\"rgb(55, 197, 171)\" fill=\"rgb(55, 197, 171)\" stroke=\"none\"/></g></g><g data-tag=\"span\" id=\"ellipsable4\" class=\"ellipsable tw-text-template-text\" data-z-index=\"auto\" data-stacking-context=\"true\" mask=\"url(#mask-for-ellipsable41)\"><mask id=\"mask-for-ellipsable41\"><rect width=\"47.453125\" height=\"20\" x=\"264.015625\" y=\"338.390625\" fill=\"#ffffff\"/></mask><text color=\"rgb(51, 51, 66)\" dominant-baseline=\"text-after-edge\" font-family=\"&quot;DM Sans&quot;\" font-size=\"14px\" font-size-adjust=\"none\" font-stretch=\"100%\" font-style=\"normal\" font-variant=\"normal\" font-weight=\"600\" direction=\"ltr\" letter-spacing=\"normal\" text-decoration=\"none solid rgb(51, 51, 66)\" text-anchor=\"start\" text-rendering=\"optimizelegibility\" unicode-bidi=\"normal\" word-spacing=\"0px\" writing-mode=\"horizontal-tb\" user-select=\"auto\" fill=\"rgb(51, 51, 66)\"><tspan xml:space=\"preserve\" x=\"264.015625\" y=\"355.390625\" textLength=\"47.453125\" lengthAdjust=\"spacingAndGlyphs\">DevOps</tspan></text></g></g></g><g data-tag=\"div\" id=\"ellipsable5\" class=\"ellipsable\" data-z-index=\"auto\" data-stacking-context=\"true\" mask=\"url(#mask-for-ellipsable51)\" aria-owns=\"align-items-center4\"><mask id=\"mask-for-ellipsable51\"><rect width=\"112.59375\" height=\"50\" x=\"20\" y=\"373.390625\" fill=\"#ffffff\"/></mask><g data-tag=\"label\" id=\"align-items-center4\" class=\"align-items-center d-inline-flex badge badge-pill mw-100 tw-border-template-stroke\" data-z-index=\"auto\" data-stacking-context=\"true\" aria-owns=\"badge-pill-icon3 ellipsable6\"><g data-stacking-layer=\"rootBackgroundAndBorders\"><rect width=\"104.59375\" height=\"42\" x=\"24\" y=\"377.390625\" fill=\"rgba(0, 0, 0, 0)\" stroke=\"rgb(228, 232, 241)\" stroke-width=\"1px\" rx=\"21\" ry=\"21\"/></g><g data-tag=\"svg\" id=\"badge-pill-icon3\" class=\"badge-pill-icon mr-2 pw-icon pw-icon--wide text-yellow pw-icon-coffee\" data-z-index=\"auto\" data-stacking-context=\"true\" mask=\"url(#mask-for-badge-pill-icon31)\"><g data-stacking-layer=\"rootBackgroundAndBorders\"/><g data-stacking-layer=\"childStackingContextsWithNegativeStackLevels\"/><g data-stacking-layer=\"inFlowNonInlineNonPositionedDescendants\"/><g data-stacking-layer=\"nonPositionedFloats\"/><g data-stacking-layer=\"inFlowInlineLevelNonPositionedDescendants\"/><g data-stacking-layer=\"childStackingContextsWithStackLevelZeroAndPositionedDescendantsWithStackLevelZero\"/><g data-stacking-layer=\"childStackingContextsWithPositiveStackLevels\"/><mask id=\"mask-for-badge-pill-icon31\"><rect width=\"17.5\" height=\"14\" x=\"41\" y=\"391.390625\" fill=\"#ffffff\"/></mask><g class=\"svg-content badge-pill-icon mr-2 pw-icon pw-icon--wide text-yellow pw-icon-coffee\" data-view-box=\"0 0 640 512\" data-width=\"\" data-height=\"\" transform=\"matrix(0.0273438 0 0 0.0273438 41 391.391)\"><path d=\"M192 384h192c53 0 96-43 96-96h32c70.6 0 128-57.4 128-128S582.6 32 512 32H120c-13.3 0-24 10.7-24 24v232c0 53 43 96 96 96zM512 96c35.3 0 64 28.7 64 64s-28.7 64-64 64h-32V96h32zm47.7 384H48.3c-47.6 0-61-64-36-64h583.3c25 0 11.8 64-35.9 64z\" color=\"rgb(253, 154, 0)\" fill=\"rgb(253, 154, 0)\" stroke=\"none\"/></g></g><g data-tag=\"span\" id=\"ellipsable6\" class=\"ellipsable tw-text-template-text\" data-z-index=\"auto\" data-stacking-context=\"true\" mask=\"url(#mask-for-ellipsable61)\"><mask id=\"mask-for-ellipsable61\"><rect width=\"45.09375\" height=\"20\" x=\"66.5\" y=\"388.390625\" fill=\"#ffffff\"/></mask><text color=\"rgb(51, 51, 66)\" dominant-baseline=\"text-after-edge\" font-family=\"&quot;DM Sans&quot;\" font-size=\"14px\" font-size-adjust=\"none\" font-stretch=\"100%\" font-style=\"normal\" font-variant=\"normal\" font-weight=\"600\" direction=\"ltr\" letter-spacing=\"normal\" text-decoration=\"none solid rgb(51, 51, 66)\" text-anchor=\"start\" text-rendering=\"optimizelegibility\" unicode-bidi=\"normal\" word-spacing=\"0px\" writing-mode=\"horizontal-tb\" user-select=\"auto\" fill=\"rgb(51, 51, 66)\"><tspan xml:space=\"preserve\" x=\"66.5\" y=\"405.390625\" textLength=\"45.09375\" lengthAdjust=\"spacingAndGlyphs\">Mentor</tspan></text></g></g></g><g data-tag=\"div\" id=\"ellipsable7\" class=\"ellipsable\" data-z-index=\"auto\" data-stacking-context=\"true\" mask=\"url(#mask-for-ellipsable71)\" aria-owns=\"align-items-center5\"><mask id=\"mask-for-ellipsable71\"><rect width=\"114.1875\" height=\"50\" x=\"132.59375\" y=\"373.390625\" fill=\"#ffffff\"/></mask><g data-tag=\"label\" id=\"align-items-center5\" class=\"align-items-center d-inline-flex badge badge-pill mw-100 tw-border-template-stroke\" data-z-index=\"auto\" data-stacking-context=\"true\" aria-owns=\"badge-pill-icon4 ellipsable8\"><g data-stacking-layer=\"rootBackgroundAndBorders\"><rect width=\"106.1875\" height=\"42\" x=\"136.59375\" y=\"377.390625\" fill=\"rgba(0, 0, 0, 0)\" stroke=\"rgb(228, 232, 241)\" stroke-width=\"1px\" rx=\"21\" ry=\"21\"/></g><g data-tag=\"svg\" id=\"badge-pill-icon4\" class=\"badge-pill-icon mr-2 pw-icon pw-icon--wide pw-icon-book-open text-green\" data-z-index=\"auto\" data-stacking-context=\"true\" mask=\"url(#mask-for-badge-pill-icon41)\"><g data-stacking-layer=\"rootBackgroundAndBorders\"/><g data-stacking-layer=\"childStackingContextsWithNegativeStackLevels\"/><g data-stacking-layer=\"inFlowNonInlineNonPositionedDescendants\"/><g data-stacking-layer=\"nonPositionedFloats\"/><g data-stacking-layer=\"inFlowInlineLevelNonPositionedDescendants\"/><g data-stacking-layer=\"childStackingContextsWithStackLevelZeroAndPositionedDescendantsWithStackLevelZero\"/><g data-stacking-layer=\"childStackingContextsWithPositiveStackLevels\"/><mask id=\"mask-for-badge-pill-icon41\"><rect width=\"17.5\" height=\"14\" x=\"153.59375\" y=\"391.390625\" fill=\"#ffffff\"/></mask><g class=\"svg-content badge-pill-icon mr-2 pw-icon pw-icon--wide pw-icon-book-open text-green\" data-view-box=\"0 0 576 512\" data-width=\"\" data-height=\"\" transform=\"matrix(0.0273438 0 0 0.0273438 154.469 391.391)\"><path d=\"M542.22 32.05c-54.8 3.11-163.72 14.43-230.96 55.59-4.64 2.84-7.27 7.89-7.27 13.17v363.87c0 11.55 12.63 18.85 23.28 13.49 69.18-34.82 169.23-44.32 218.7-46.92 16.89-.89 30.02-14.43 30.02-30.66V62.75c.01-17.71-15.35-31.74-33.77-30.7zM264.73 87.64C197.5 46.48 88.58 35.17 33.78 32.05 15.36 31.01 0 45.04 0 62.75V400.6c0 16.24 13.13 29.78 30.02 30.66 49.49 2.6 149.59 12.11 218.77 46.95 10.62 5.35 23.21-1.94 23.21-13.46V100.63c0-5.29-2.62-10.14-7.27-12.99z\" color=\"rgb(0, 184, 92)\" fill=\"rgb(0, 184, 92)\" stroke=\"none\"/></g></g><g data-tag=\"span\" id=\"ellipsable8\" class=\"ellipsable tw-text-template-text\" data-z-index=\"auto\" data-stacking-context=\"true\" mask=\"url(#mask-for-ellipsable81)\"><mask id=\"mask-for-ellipsable81\"><rect width=\"46.6875\" height=\"20\" x=\"179.09375\" y=\"388.390625\" fill=\"#ffffff\"/></mask><text color=\"rgb(51, 51, 66)\" dominant-baseline=\"text-after-edge\" font-family=\"&quot;DM Sans&quot;\" font-size=\"14px\" font-size-adjust=\"none\" font-stretch=\"100%\" font-style=\"normal\" font-variant=\"normal\" font-weight=\"600\" direction=\"ltr\" letter-spacing=\"normal\" text-decoration=\"none solid rgb(51, 51, 66)\" text-anchor=\"start\" text-rendering=\"optimizelegibility\" unicode-bidi=\"normal\" word-spacing=\"0px\" writing-mode=\"horizontal-tb\" user-select=\"auto\" fill=\"rgb(51, 51, 66)\"><tspan xml:space=\"preserve\" x=\"179.09375\" y=\"405.390625\" textLength=\"46.6875\" lengthAdjust=\"spacingAndGlyphs\">Student</tspan></text></g></g></g><g data-tag=\"div\" id=\"ellipsable9\" class=\"ellipsable\" data-z-index=\"auto\" data-stacking-context=\"true\" mask=\"url(#mask-for-ellipsable91)\" aria-owns=\"align-items-center6\"><mask id=\"mask-for-ellipsable91\"><rect width=\"97.859375\" height=\"50\" x=\"246.78125\" y=\"373.390625\" fill=\"#ffffff\"/></mask><g data-tag=\"label\" id=\"align-items-center6\" class=\"align-items-center d-inline-flex badge badge-pill mw-100 tw-border-template-stroke\" data-z-index=\"auto\" data-stacking-context=\"true\" aria-owns=\"badge-pill-icon5 ellipsable10\"><g data-stacking-layer=\"rootBackgroundAndBorders\"><rect width=\"89.859375\" height=\"42\" x=\"250.78125\" y=\"377.390625\" fill=\"rgba(0, 0, 0, 0)\" stroke=\"rgb(228, 232, 241)\" stroke-width=\"1px\" rx=\"21\" ry=\"21\"/></g><g data-tag=\"svg\" id=\"badge-pill-icon5\" class=\"badge-pill-icon mr-2 pw-icon pw-icon--wide text-yellow pw-icon-server\" data-z-index=\"auto\" data-stacking-context=\"true\" mask=\"url(#mask-for-badge-pill-icon51)\"><g data-stacking-layer=\"rootBackgroundAndBorders\"/><g data-stacking-layer=\"childStackingContextsWithNegativeStackLevels\"/><g data-stacking-layer=\"inFlowNonInlineNonPositionedDescendants\"/><g data-stacking-layer=\"nonPositionedFloats\"/><g data-stacking-layer=\"inFlowInlineLevelNonPositionedDescendants\"/><g data-stacking-layer=\"childStackingContextsWithStackLevelZeroAndPositionedDescendantsWithStackLevelZero\"/><g data-stacking-layer=\"childStackingContextsWithPositiveStackLevels\"/><mask id=\"mask-for-badge-pill-icon51\"><rect width=\"17.5\" height=\"14\" x=\"267.78125\" y=\"391.390625\" fill=\"#ffffff\"/></mask><g class=\"svg-content badge-pill-icon mr-2 pw-icon pw-icon--wide text-yellow pw-icon-server\" data-view-box=\"0 0 512 512\" data-width=\"\" data-height=\"\" transform=\"matrix(0.0273438 0 0 0.0273438 269.531 391.391)\"><path d=\"M480 160H32c-17.673 0-32-14.327-32-32V64c0-17.673 14.327-32 32-32h448c17.673 0 32 14.327 32 32v64c0 17.673-14.327 32-32 32zm-48-88c-13.255 0-24 10.745-24 24s10.745 24 24 24 24-10.745 24-24-10.745-24-24-24zm-64 0c-13.255 0-24 10.745-24 24s10.745 24 24 24 24-10.745 24-24-10.745-24-24-24zm112 248H32c-17.673 0-32-14.327-32-32v-64c0-17.673 14.327-32 32-32h448c17.673 0 32 14.327 32 32v64c0 17.673-14.327 32-32 32zm-48-88c-13.255 0-24 10.745-24 24s10.745 24 24 24 24-10.745 24-24-10.745-24-24-24zm-64 0c-13.255 0-24 10.745-24 24s10.745 24 24 24 24-10.745 24-24-10.745-24-24-24zm112 248H32c-17.673 0-32-14.327-32-32v-64c0-17.673 14.327-32 32-32h448c17.673 0 32 14.327 32 32v64c0 17.673-14.327 32-32 32zm-48-88c-13.255 0-24 10.745-24 24s10.745 24 24 24 24-10.745 24-24-10.745-24-24-24zm-64 0c-13.255 0-24 10.745-24 24s10.745 24 24 24 24-10.745 24-24-10.745-24-24-24z\" color=\"rgb(253, 154, 0)\" fill=\"rgb(253, 154, 0)\" stroke=\"none\"/></g></g><g data-tag=\"span\" id=\"ellipsable10\" class=\"ellipsable tw-text-template-text\" data-z-index=\"auto\" data-stacking-context=\"true\" mask=\"url(#mask-for-ellipsable101)\"><mask id=\"mask-for-ellipsable101\"><rect width=\"30.359375\" height=\"20\" x=\"293.28125\" y=\"388.390625\" fill=\"#ffffff\"/></mask><text color=\"rgb(51, 51, 66)\" dominant-baseline=\"text-after-edge\" font-family=\"&quot;DM Sans&quot;\" font-size=\"14px\" font-size-adjust=\"none\" font-stretch=\"100%\" font-style=\"normal\" font-variant=\"normal\" font-weight=\"600\" direction=\"ltr\" letter-spacing=\"normal\" text-decoration=\"none solid rgb(51, 51, 66)\" text-anchor=\"start\" text-rendering=\"optimizelegibility\" unicode-bidi=\"normal\" word-spacing=\"0px\" writing-mode=\"horizontal-tb\" user-select=\"auto\" fill=\"rgb(51, 51, 66)\"><tspan xml:space=\"preserve\" x=\"293.28125\" y=\"405.390625\" textLength=\"30.359375\" lengthAdjust=\"spacingAndGlyphs\">AWS</tspan></text></g></g></g></g></g></g></g></g></g></g></g></g><g data-tag=\"style\" id=\"style1\" data-z-index=\"auto\" data-stacking-context=\"true\"/></g></g></svg>\n",
      "<body class=\"--color-scheme-wireframe --template-the-o-g-profile identity-body tw-bg-template-background\" data-controller=\"profile-hover-card prevent-frames-reloading toast-insertion navbar-notifications facebook-sdk font-loader timezone-cookie scroll-to-top-button message-to-event-handler\" data-font-loader-fonts-value=\"{&quot;Sohne&quot;:[400,600,700,800]}\" data-navbar-notifications-hide-icon-class=\"d-none\" data-profile-edit-modal-enable-modal-toggle-value=\"true\" data-scroll-to-top-button-show-button-class=\"btn-scroll-top-visible\" data-toast-insertion-toast-text-class=\"toast-text\"><turbo-cable-stream-source __unsafe__=\"false\" channel=\"Turbo::StreamsChannel\" signed-stream-name=\"IjU3NzBiYzM5LTlhOWEtNDNmNS1iMTZhLWNlZTE4ZDdhNWJjMzpuYXZiYXIi--3690dee7c24c7bad5ace4915f1a3cfe32085a32eca61458d9473f3622bd17031\"></turbo-cable-stream-source><div></div><div class=\"popover-profile-card-container\" id=\"profile_hover_card\" data-profile-hover-card-target=\"container\"></div><main class=\"w-100\" data-test=\"main-content\" id=\"main-content\" role=\"main\" style=\"\"><nav class=\"navbar py-3 py-lg-5\"></nav><div class=\"identity__page-header\"><header class=\"w-100 m-auto mw-800px pt-8 px-4 px-md-0\" data-controller=\"profile-template-preview-reveal-on-scroll\"><div class=\"d-flex justify-content-between flex-grow-1 tw-relative\"><div><div class=\"identity-header-section-wrapper identity-profile-details-608436-section identity-profile-details-section identity-profile-headline-section z-index-1000\" data-action=\"message-to-event-handler:activate-details-section@window->action-on-event#addClass message-to-event-handler:deactivate-details-section@window->action-on-event#removeClass\" data-controller=\"action-on-event\" data-action-on-event-action-class=\"active\"><div class=\"\"><div class=\"p-0 position-relative\"><div class=\"rounded-circle avatar-background avatar-background-size-xl-5\"><div class=\"reveal--color-FFF1F1 avatar avatar-size-xl-5 reveal--TTB-on-trigger rounded-circle\"><span class=\"avatar-image\"></span></div></div></div><div class=\"d-flex justify-content-between mt-2\"><div class=\"align-items-center d-inline-flex reveal--RTL-on-trigger reveal--color-FFF1F1\"><turbo-frame id=\"profile_display_name\"><div class=\"display-1 tw-text-template-lead\" id=\"profile-name\">Fawaz Alesayi</div></turbo-frame></div></div><div class=\"reveal--color-FFF1F1 reveal--LTR-on-trigger tw-mb-4 tw-mt-2 width-fit-content\"><ul class=\"tw-text-template-text list-inline mb-0\"><li class=\"d-inline list-inline-item\" id=\"profile-username\"><span class=\"tw-text-template-text\">@fawaz</span></li><li class=\"d-inline list-inline-item\">He/Him</li></ul></div></div></div><div class=\"identity-header-section-wrapper identity-profile-badges-608431-section identity-profile-badges-section\"><div class=\"\"><div class=\"d-flex justify-content-between align-items-baseline min-w-0 reveal--RTL-on-trigger reveal--color-FFF5E5\" id=\"profile-badges-panel\"><div class=\"d-flex badge-pill-group flex-wrap\" data-badges-list-target=\"badgesContainer\" data-action=\"resize@window->badges-list#screenResize\" data-badges-list-expanded-value=\"false\" data-badges-list-hidden-badge-class=\"d-none\" data-badges-list-max-row-count-value=\"2\" data-badges-list-mobile-max-row-count-value=\"2\" data-badges-list-show-less-value=\"Show less\" data-controller=\"badges-list\"><div class=\"ellipsable\" data-badges-list-target=\"badge\"><label class=\"align-items-center d-inline-flex badge badge-pill mw-100 tw-border-template-stroke\"><svg class=\"badge-pill-icon mr-2 pw-icon pw-icon--wide pw-icon-code text-blue\" fill=\"currentColor\" viewBox=\"0 0 640 512\" xmlns=\"http://www.w3.org/2000/svg\"><path d=\"M278.9 511.5l-61-17.7c-6.4-1.8-10-8.5-8.2-14.9L346.2 8.7c1.8-6.4 8.5-10 14.9-8.2l61 17.7c6.4 1.8 10 8.5 8.2 14.9L293.8 503.3c-1.9 6.4-8.5 10.1-14.9 8.2zm-114-112.2l43.5-46.4c4.6-4.9 4.3-12.7-.8-17.2L117 256l90.6-79.7c5.1-4.5 5.5-12.3.8-17.2l-43.5-46.4c-4.5-4.8-12.1-5.1-17-.5L3.8 247.2c-5.1 4.7-5.1 12.8 0 17.5l144.1 135.1c4.9 4.6 12.5 4.4 17-.5zm327.2.6l144.1-135.1c5.1-4.7 5.1-12.8 0-17.5L492.1 112.1c-4.8-4.5-12.4-4.3-17 .5L431.6 159c-4.6 4.9-4.3 12.7.8 17.2L523 256l-90.6 79.7c-5.1 4.5-5.5 12.3-.8 17.2l43.5 46.4c4.5 4.9 12.1 5.1 17 .6z\"></path></svg> <span class=\"ellipsable tw-text-template-text\">Software Engineering</span></label></div><div class=\"ellipsable\" data-badges-list-target=\"badge\"><label class=\"align-items-center d-inline-flex badge badge-pill mw-100 tw-border-template-stroke\"><svg class=\"badge-pill-icon mr-2 pw-icon pw-icon--wide pw-icon-infinity text-turquoise\" fill=\"currentColor\" viewBox=\"0 0 640 512\" xmlns=\"http://www.w3.org/2000/svg\"><path d=\"M471.1 96C405 96 353.3 137.3 320 174.6 286.7 137.3 235 96 168.9 96 75.8 96 0 167.8 0 256s75.8 160 168.9 160c66.1 0 117.8-41.3 151.1-78.6 33.3 37.3 85 78.6 151.1 78.6 93.1 0 168.9-71.8 168.9-160S564.2 96 471.1 96zM168.9 320c-40.2 0-72.9-28.7-72.9-64s32.7-64 72.9-64c38.2 0 73.4 36.1 94 64-20.4 27.6-55.9 64-94 64zm302.2 0c-38.2 0-73.4-36.1-94-64 20.4-27.6 55.9-64 94-64 40.2 0 72.9 28.7 72.9 64s-32.7 64-72.9 64z\"></path></svg> <span class=\"ellipsable tw-text-template-text\">DevOps</span></label></div><div class=\"ellipsable\" data-badges-list-target=\"badge\"><label class=\"align-items-center d-inline-flex badge badge-pill mw-100 tw-border-template-stroke\"><svg class=\"badge-pill-icon mr-2 pw-icon pw-icon--wide text-yellow pw-icon-coffee\" fill=\"currentColor\" viewBox=\"0 0 640 512\" xmlns=\"http://www.w3.org/2000/svg\"><path d=\"M192 384h192c53 0 96-43 96-96h32c70.6 0 128-57.4 128-128S582.6 32 512 32H120c-13.3 0-24 10.7-24 24v232c0 53 43 96 96 96zM512 96c35.3 0 64 28.7 64 64s-28.7 64-64 64h-32V96h32zm47.7 384H48.3c-47.6 0-61-64-36-64h583.3c25 0 11.8 64-35.9 64z\"></path></svg> <span class=\"ellipsable tw-text-template-text\">Mentor</span></label></div><div class=\"ellipsable\" data-badges-list-target=\"badge\"><label class=\"align-items-center d-inline-flex badge badge-pill mw-100 tw-border-template-stroke\"><svg class=\"badge-pill-icon mr-2 pw-icon pw-icon--wide pw-icon-book-open text-green\" fill=\"currentColor\" viewBox=\"0 0 576 512\" xmlns=\"http://www.w3.org/2000/svg\"><path d=\"M542.22 32.05c-54.8 3.11-163.72 14.43-230.96 55.59-4.64 2.84-7.27 7.89-7.27 13.17v363.87c0 11.55 12.63 18.85 23.28 13.49 69.18-34.82 169.23-44.32 218.7-46.92 16.89-.89 30.02-14.43 30.02-30.66V62.75c.01-17.71-15.35-31.74-33.77-30.7zM264.73 87.64C197.5 46.48 88.58 35.17 33.78 32.05 15.36 31.01 0 45.04 0 62.75V400.6c0 16.24 13.13 29.78 30.02 30.66 49.49 2.6 149.59 12.11 218.77 46.95 10.62 5.35 23.21-1.94 23.21-13.46V100.63c0-5.29-2.62-10.14-7.27-12.99z\"></path></svg> <span class=\"ellipsable tw-text-template-text\">Student</span></label></div><div class=\"ellipsable\" data-badges-list-target=\"badge\"><label class=\"align-items-center d-inline-flex badge badge-pill mw-100 tw-border-template-stroke\"><svg class=\"badge-pill-icon mr-2 pw-icon pw-icon--wide text-yellow pw-icon-server\" fill=\"currentColor\" viewBox=\"0 0 512 512\" xmlns=\"http://www.w3.org/2000/svg\"><path d=\"M480 160H32c-17.673 0-32-14.327-32-32V64c0-17.673 14.327-32 32-32h448c17.673 0 32 14.327 32 32v64c0 17.673-14.327 32-32 32zm-48-88c-13.255 0-24 10.745-24 24s10.745 24 24 24 24-10.745 24-24-10.745-24-24-24zm-64 0c-13.255 0-24 10.745-24 24s10.745 24 24 24 24-10.745 24-24-10.745-24-24-24zm112 248H32c-17.673 0-32-14.327-32-32v-64c0-17.673 14.327-32 32-32h448c17.673 0 32 14.327 32 32v64c0 17.673-14.327 32-32 32zm-48-88c-13.255 0-24 10.745-24 24s10.745 24 24 24 24-10.745 24-24-10.745-24-24-24zm-64 0c-13.255 0-24 10.745-24 24s10.745 24 24 24 24-10.745 24-24-10.745-24-24-24zm112 248H32c-17.673 0-32-14.327-32-32v-64c0-17.673 14.327-32 32-32h448c17.673 0 32 14.327 32 32v64c0 17.673-14.327 32-32 32zm-48-88c-13.255 0-24 10.745-24 24s10.745 24 24 24 24-10.745 24-24-10.745-24-24-24zm-64 0c-13.255 0-24 10.745-24 24s10.745 24 24 24 24-10.745 24-24-10.745-24-24-24z\"></path></svg> <span class=\"ellipsable tw-text-template-text\">AWS</span></label></div></div></div></div></div></div></div></header></div></main></body>\n",
      "\n",
      "<style>\n",
      "\n",
      "*,:after,:before{box-sizing:border-box;border:0 solid #e5e7eb}:after,:before{}body{margin:0;line-height:inherit}::-webkit-inner-spin-button,::-webkit-outer-spin-button{height:auto}::-webkit-search-decoration{-webkit-appearance:none}::-webkit-file-upload-button{-webkit-appearance:button;font:inherit}ul{list-style:none;margin:0;padding:0}svg{display:block;vertical-align:middle}*,:after,:before{}::backdrop{}.tw-relative{position:relative!important}.tw-mb-4{margin-bottom:1rem!important}.tw-mt-2{margin-top:.5rem!important}.tw-border-template-stroke{border-color:var(--template-stroke)!important}.tw-bg-template-background{background-color:var(--template-background)!important}.tw-text-template-lead{color:var(--template-lead)!important}.tw-text-template-text{color:var(--template-text)!important}\n",
      "\n",
      "\n",
      "\n",
      "  :root {\n",
      "    --template-background: rgb(255, 255, 255);\n",
      "    --template-stroke: rgb(228, 232, 241);\n",
      "    --template-text: rgb(51, 51, 66);\n",
      "    --template-lead: rgb(51, 51, 66);\n",
      "  }\n",
      "\n",
      "\n",
      "@import url(https://polywork.fawazalesayi.com/assets/quill/dist/quill.core-bcc2b8a44b9fb712ce511146bf2d95bf1ee71ceb3e8f73d9ed3b2549567b8f85.css);@import url(https://polywork.fawazalesayi.com/assets/animate.css/animate.min-f2a2e8fd36c2f66fe064015fd419ab7964e3ed27bcbd968031dc35997329825e.css);@font-face{font-family:\"Sohne\";font-style:normal;font-weight:400;font-display:swap;src:url(https://polywork.fawazalesayi.com/assets/Sohne-Buch-f16370b65fc2231e5117cecd130c7587ad68da2107b0316407906aaf065e1889.otf) format(\"truetype\")}@font-face{font-family:\"Sohne\";font-style:normal;font-weight:600;font-display:swap;src:url(https://polywork.fawazalesayi.com/assets/Sohne-Halbfett-c754d4f17758a6f063b8f6ec299a03e8b76ab55099221c077a0670250dab8855.otf) format(\"truetype\")}@font-face{font-family:\"Sohne\";font-style:normal;font-weight:700;font-display:swap;src:url(https://polywork.fawazalesayi.com/assets/Sohne-Dreiviertelfett-9177cb6c650fc80637ab098f5ae64cf1da1da35b637cc16b7947c0cec469667a.otf) format(\"truetype\")}@font-face{font-family:\"Sohne\";font-style:normal;font-weight:800;font-display:swap;src:url(https://polywork.fawazalesayi.com/assets/Sohne-Fett-9d0778a00ba5b6aa78e918a005a0f4a288d40476907429b66f3a8123fc7497bd.otf) format(\"truetype\")}.rounded-circle{border-radius:50% !important}.d-none{display:none !important}.d-inline{display:inline !important}.d-flex{display:flex !important}.d-inline-flex{display:inline-flex !important}.flex-wrap{flex-wrap:wrap !important}.flex-grow-1{flex-grow:1 !important}.justify-content-between{justify-content:space-between !important}.align-items-center{align-items:center !important}.align-items-baseline{align-items:baseline !important}.position-relative,.identity__page-header{position:relative !important}.w-100{width:100% !important}.mw-100{max-width:100% !important}.mb-0{margin-bottom:0 !important}.mt-2{margin-top:0.5rem !important}.mr-2{margin-right:0.5rem !important}.p-0{padding:0 !important}.py-3{padding-top:1rem !important}.py-3{padding-bottom:1rem !important}.px-4{padding-right:1.5rem !important}.px-4{padding-left:1.5rem !important}.pt-8{padding-top:4.5rem !important}.m-auto{margin:auto !important}@media (min-width: 768px){.px-md-0{padding-right:0 !important}.px-md-0{padding-left:0 !important}}@media (min-width: 1024px){.py-lg-5{padding-top:2rem !important}.py-lg-5{padding-bottom:2rem !important}}.text-yellow{color:#fd9a00 !important}.text-green{color:#00b85c !important}.text-turquoise{color:#37c5ab !important}.text-blue{color:#328aff !important}:root{}*,*::before,*::after{box-sizing:border-box}header,main,nav{display:block}body{margin:0;font-family:sans-serif;font-size:0.875rem;font-weight:400;line-height:1.25;color:#333342;text-align:left;background-color:#fff}ul{margin-top:0;margin-bottom:1rem}ul ul{margin-bottom:0}svg{overflow:hidden;vertical-align:middle}label{display:inline-block;margin-bottom:0.25rem}::-webkit-file-upload-button{font:inherit;-webkit-appearance:button}.container{width:100%;padding-right:1rem;padding-left:1rem;margin-right:auto;margin-left:auto}@media (min-width: 576px){.container{max-width:540px}}@media (min-width: 768px){.container{max-width:720px}}@media (min-width: 1024px){.container{max-width:1024px}}@media (min-width: 1400px){.container{max-width:1025px}}@keyframes revealLeftToRight{0%{transform:translateX(0)}100%{transform:translateX(101%)}}@keyframes revealRightToLeft{0%{transform:translateX(0)}100%{transform:translateX(-101%)}}@keyframes revealTopToBottom{0%{transform:translateY(0)}100%{transform:translateY(101%)}}@keyframes revealBottomToTop{0%{transform:translateY(0)}100%{transform:translateY(-101%)}}@keyframes shimmer{100%{-webkit-mask-position:left;mask-position:left}}@keyframes shimmer--once{0%{-webkit-mask:none;mask:none}1%{-webkit-mask:linear-gradient(-60deg, #000 30%, rgba(0,0,0,0.333333), #000 70%) right/300% 100%;mask:linear-gradient(-60deg, #000 30%, rgba(0,0,0,0.333333), #000 70%) right/300% 100%}100%{-webkit-mask-position:left;mask-position:left}}@keyframes slideIn{from{transform:translateX(100%)}to{transform:translateX(0)}}@keyframes slideOut{100%{transform:translateX(100%)}}@keyframes slideUp{from{transform:translateY(100%)}to{transform:translateX(0)}}@keyframes slideDown{from{transform:translateY(0)}to{transform:translateY(100%);display:none}}*{outline:none}.nav{display:flex;flex-wrap:wrap;list-style:none;margin-bottom:0;padding-left:0}.navbar{position:relative;display:flex;flex-wrap:wrap;align-items:center;justify-content:space-between;padding:0.375rem 1.25rem}.navbar .container{display:flex;flex-wrap:wrap;align-items:center;justify-content:space-between}@keyframes progress-bar-stripes{from{background-position:6px 0}to{background-position:0 0}}body{background-color:#fff;color:#333342}@keyframes spinner-border{to{transform:rotate(360deg)}}@keyframes spinner-grow{0%{transform:scale(0)}50%{opacity:1;transform:none}}.rounded-circle{border-radius:50% !important}.d-none{display:none !important}.d-inline{display:inline !important}.d-flex{display:flex !important}.d-inline-flex{display:inline-flex !important}.flex-wrap{flex-wrap:wrap !important}.flex-grow-1{flex-grow:1 !important}.justify-content-between{justify-content:space-between !important}.align-items-center{align-items:center !important}.align-items-baseline{align-items:baseline !important}.position-relative,.identity__page-header{position:relative !important}.w-100{width:100% !important}.mw-100{max-width:100% !important}.mb-0{margin-bottom:0 !important}.mt-2{margin-top:0.5rem !important}.mr-2{margin-right:0.5rem !important}.p-0{padding:0 !important}.py-3{padding-top:1rem !important}.py-3{padding-bottom:1rem !important}.px-4{padding-right:1.5rem !important}.px-4{padding-left:1.5rem !important}.pt-8{padding-top:4.5rem !important}.m-auto{margin:auto !important}@media (min-width: 768px){.px-md-0{padding-right:0 !important}.px-md-0{padding-left:0 !important}}@media (min-width: 1024px){.py-lg-5{padding-top:2rem !important}.py-lg-5{padding-bottom:2rem !important}}.text-yellow{color:#fd9a00 !important}.text-green{color:#00b85c !important}.text-turquoise{color:#37c5ab !important}.text-blue{color:#328aff !important}@media print{*,*::before,*::after{text-shadow:none !important;box-shadow:none !important}@page{size:a3}body{min-width:1024px !important}.container{min-width:1024px !important}.navbar{display:none}.badge{border:1px solid #000}}body{-moz-osx-font-smoothing:grayscale;-webkit-font-smoothing:antialiased;line-height:1.25rem;text-rendering:optimizeLegibility}.container:has(.full-width-content){min-width:100% !important;padding:0 !important;margin:0 !important}.display-1{font-size:3.75rem;font-weight:700;line-height:66px}@media (max-width: 1023.98px){.display-1{font-size:3rem;line-height:50px}}.list-inline{padding-left:0;list-style:none}.list-inline-item{display:inline-block;padding:0}.list-inline-item:not(:last-child){margin-right:0}.ellipsable{overflow:hidden;text-overflow:ellipsis;white-space:nowrap}.badge{font-size:0.875rem;border-radius:0.25rem;transition:color 0.15s ease-in-out, background-color 0.15s ease-in-out, border-color 0.15s ease-in-out, box-shadow 0.15s ease-in-out;background-color:rgba(82,113,137,0.1);color:#527189;display:inline-block;font-weight:600;line-height:24px;padding:0.25rem 0.75rem;text-align:center;vertical-align:baseline;white-space:nowrap}@media (prefers-reduced-motion: reduce){.badge{transition:none}}.badge:empty{display:none}.badge:disabled{background-color:#f1f4f9;border-color:#f1f4f9;color:#666c7e}.badge:disabled svg{color:#666c7e}.badge-pill,.badge.badge-pill{border-radius:6.25rem;background-color:transparent;border:1px solid #e4e8f1;font-size:0.875rem;line-height:20px;padding:0.625rem 1rem}.badge-pill:focus,.badge.badge-pill:focus{box-shadow:none}.badge-pill-icon{min-width:16px !important;max-height:16px}.badge-pill-group{margin:-0.25rem -0.25rem;-ms-overflow-style:none;scrollbar-width:none}.badge-pill-group::-webkit-scrollbar{display:none}.badge-pill-group .badge{margin:0.25rem 0.25rem}.btn-scroll-top-visible{visibility:visible;opacity:1}@keyframes display-reply-info{to{max-height:28px}}@keyframes transtionBackgroundFromGreenToOriginal{from{background-color:rgba(64,190,136,0.1)}to{background-color:initial}}.avatar{align-items:center;background-color:rgba(88,43,232,0.1);color:#582be8;display:flex;justify-content:center;position:relative}.avatar .avatar{position:absolute}.avatar-image{display:flex;justify-content:center;align-items:center}.avatar-size-xl-5{height:128px;text-align:center;width:128px !important;font-size:57.6px}.avatar-size-xl-5 svg{height:initial;max-width:40.96px;max-height:128px}.list-inline li:not(:last-child):after{content:' \\00b7';display:inline-flex;margin:0 0.375rem}@keyframes fadeIn{from{opacity:0;transform:translate3d(0, -20%, 0)}to{opacity:1;transform:translate3d(0, 0, 0)}}.popover-profile-card-container{z-index:1070}.pw-icon{display:inline-block;vertical-align:middle;width:16px;height:16px}.pw-icon--wide{width:1.25em !important;max-height:14px;height:-moz-fit-content;height:fit-content}@keyframes loading-animation{0%{stroke-dasharray:40 242.6;stroke-dashoffset:0}50%{stroke-dasharray:141.3;stroke-dashoffset:141.3}100%{stroke-dasharray:40 242.6;stroke-dashoffset:282.6}}@keyframes rotate-360-degrees{0%{transform:rotate(0deg)}100%{transform:rotate(359deg)}}.identity-body main{min-height:100vh;position:relative}.identity__page-header{width:100%;height:100%}.identity-header-section-wrapper{padding:16px 16px !important;margin:64px 0px !important;position:relative}.identity-header-section-wrapper{margin:-16px -16px !important}@keyframes opacityToZero{0%{opacity:1}100%{opacity:0}}@keyframes opacityToFull{0%{opacity:0}100%{opacity:1}}.position-relative,.identity__page-header{position:relative !important}.min-w-0{min-width:0}.width-fit-content{width:-moz-fit-content;width:fit-content}.min-w-0{min-width:0 !important}.mw-800px{max-width:800px}.z-index-1000{z-index:1000}@keyframes action-button-spinner-kf{0%{transform:rotate(0deg)}100%{transform:rotate(360deg)}}@keyframes leftScroll{0%{transform:translateX(0)}50%{transform:translateX(-170%)}100%{transform:translateX(0)}}@keyframes rightScroll{0%{transform:translateX(-165%)}50%{transform:translateX(-5%)}100%{transform:translateX(-165%)}}:root{}\n",
      "\n",
      "\n",
      "@import url(https://polywork.fawazalesayi.com/assets/quill/dist/quill.core-bcc2b8a44b9fb712ce511146bf2d95bf1ee71ceb3e8f73d9ed3b2549567b8f85.css);@import url(https://polywork.fawazalesayi.com/assets/animate.css/animate.min-f2a2e8fd36c2f66fe064015fd419ab7964e3ed27bcbd968031dc35997329825e.css);@font-face{font-family:\"Sohne\";font-style:normal;font-weight:400;font-display:swap;src:url(https://polywork.fawazalesayi.com/assets/Sohne-Buch-f16370b65fc2231e5117cecd130c7587ad68da2107b0316407906aaf065e1889.otf) format(\"truetype\")}@font-face{font-family:\"Sohne\";font-style:normal;font-weight:600;font-display:swap;src:url(https://polywork.fawazalesayi.com/assets/Sohne-Halbfett-c754d4f17758a6f063b8f6ec299a03e8b76ab55099221c077a0670250dab8855.otf) format(\"truetype\")}@font-face{font-family:\"Sohne\";font-style:normal;font-weight:700;font-display:swap;src:url(https://polywork.fawazalesayi.com/assets/Sohne-Dreiviertelfett-9177cb6c650fc80637ab098f5ae64cf1da1da35b637cc16b7947c0cec469667a.otf) format(\"truetype\")}@font-face{font-family:\"Sohne\";font-style:normal;font-weight:800;font-display:swap;src:url(https://polywork.fawazalesayi.com/assets/Sohne-Fett-9d0778a00ba5b6aa78e918a005a0f4a288d40476907429b66f3a8123fc7497bd.otf) format(\"truetype\")}.rounded-circle{border-radius:50% !important}.d-none{display:none !important}.d-inline{display:inline !important}.d-flex{display:flex !important}.d-inline-flex{display:inline-flex !important}.flex-wrap{flex-wrap:wrap !important}.flex-grow-1{flex-grow:1 !important}.justify-content-between{justify-content:space-between !important}.align-items-center{align-items:center !important}.align-items-baseline{align-items:baseline !important}.position-relative,.identity__page-header{position:relative !important}.w-100{width:100% !important}.mw-100{max-width:100% !important}.mb-0{margin-bottom:0 !important}.mt-2{margin-top:0.5rem !important}.mr-2{margin-right:0.5rem !important}.p-0{padding:0 !important}.py-3{padding-top:1rem !important}.py-3{padding-bottom:1rem !important}.px-4{padding-right:1.5rem !important}.px-4{padding-left:1.5rem !important}.pt-8{padding-top:4.5rem !important}.m-auto{margin:auto !important}@media (min-width: 768px){.px-md-0{padding-right:0 !important}.px-md-0{padding-left:0 !important}}@media (min-width: 1024px){.py-lg-5{padding-top:2rem !important}.py-lg-5{padding-bottom:2rem !important}}.text-yellow{color:#fd9a00 !important}.text-green{color:#00b85c !important}.text-turquoise{color:#37c5ab !important}.text-blue{color:#328aff !important}:root{}*,*::before,*::after{box-sizing:border-box}header,main,nav{display:block}body{margin:0;font-family:sans-serif;font-size:0.875rem;font-weight:400;line-height:1.25;color:#333342;text-align:left;background-color:#fff}ul{margin-top:0;margin-bottom:1rem}ul ul{margin-bottom:0}svg{overflow:hidden;vertical-align:middle}label{display:inline-block;margin-bottom:0.25rem}::-webkit-file-upload-button{font:inherit;-webkit-appearance:button}.container{width:100%;padding-right:1rem;padding-left:1rem;margin-right:auto;margin-left:auto}@media (min-width: 576px){.container{max-width:540px}}@media (min-width: 768px){.container{max-width:720px}}@media (min-width: 1024px){.container{max-width:1024px}}@media (min-width: 1400px){.container{max-width:1025px}}@keyframes revealLeftToRight{0%{transform:translateX(0)}100%{transform:translateX(101%)}}@keyframes revealRightToLeft{0%{transform:translateX(0)}100%{transform:translateX(-101%)}}@keyframes revealTopToBottom{0%{transform:translateY(0)}100%{transform:translateY(101%)}}@keyframes revealBottomToTop{0%{transform:translateY(0)}100%{transform:translateY(-101%)}}@keyframes shimmer{100%{-webkit-mask-position:left;mask-position:left}}@keyframes shimmer--once{0%{-webkit-mask:none;mask:none}1%{-webkit-mask:linear-gradient(-60deg, #000 30%, rgba(0,0,0,0.333333), #000 70%) right/300% 100%;mask:linear-gradient(-60deg, #000 30%, rgba(0,0,0,0.333333), #000 70%) right/300% 100%}100%{-webkit-mask-position:left;mask-position:left}}@keyframes slideIn{from{transform:translateX(100%)}to{transform:translateX(0)}}@keyframes slideOut{100%{transform:translateX(100%)}}@keyframes slideUp{from{transform:translateY(100%)}to{transform:translateX(0)}}@keyframes slideDown{from{transform:translateY(0)}to{transform:translateY(100%);display:none}}*{outline:none}.nav{display:flex;flex-wrap:wrap;list-style:none;margin-bottom:0;padding-left:0}.navbar{position:relative;display:flex;flex-wrap:wrap;align-items:center;justify-content:space-between;padding:0.375rem 1.25rem}.navbar .container{display:flex;flex-wrap:wrap;align-items:center;justify-content:space-between}@keyframes progress-bar-stripes{from{background-position:6px 0}to{background-position:0 0}}body{background-color:#fff;color:#333342}@keyframes spinner-border{to{transform:rotate(360deg)}}@keyframes spinner-grow{0%{transform:scale(0)}50%{opacity:1;transform:none}}.rounded-circle{border-radius:50% !important}.d-none{display:none !important}.d-inline{display:inline !important}.d-flex{display:flex !important}.d-inline-flex{display:inline-flex !important}.flex-wrap{flex-wrap:wrap !important}.flex-grow-1{flex-grow:1 !important}.justify-content-between{justify-content:space-between !important}.align-items-center{align-items:center !important}.align-items-baseline{align-items:baseline !important}.position-relative,.identity__page-header{position:relative !important}.w-100{width:100% !important}.mw-100{max-width:100% !important}.mb-0{margin-bottom:0 !important}.mt-2{margin-top:0.5rem !important}.mr-2{margin-right:0.5rem !important}.p-0{padding:0 !important}.py-3{padding-top:1rem !important}.py-3{padding-bottom:1rem !important}.px-4{padding-right:1.5rem !important}.px-4{padding-left:1.5rem !important}.pt-8{padding-top:4.5rem !important}.m-auto{margin:auto !important}@media (min-width: 768px){.px-md-0{padding-right:0 !important}.px-md-0{padding-left:0 !important}}@media (min-width: 1024px){.py-lg-5{padding-top:2rem !important}.py-lg-5{padding-bottom:2rem !important}}.text-yellow{color:#fd9a00 !important}.text-green{color:#00b85c !important}.text-turquoise{color:#37c5ab !important}.text-blue{color:#328aff !important}@media print{*,*::before,*::after{text-shadow:none !important;box-shadow:none !important}@page{size:a3}body{min-width:1024px !important}.container{min-width:1024px !important}.navbar{display:none}.badge{border:1px solid #000}}body{-moz-osx-font-smoothing:grayscale;-webkit-font-smoothing:antialiased;line-height:1.25rem;text-rendering:optimizeLegibility}.container:has(.full-width-content){min-width:100% !important;padding:0 !important;margin:0 !important}.display-1{font-size:3.75rem;font-weight:700;line-height:66px}@media (max-width: 1023.98px){.display-1{font-size:3rem;line-height:50px}}.list-inline{padding-left:0;list-style:none}.list-inline-item{display:inline-block;padding:0}.list-inline-item:not(:last-child){margin-right:0}.ellipsable{overflow:hidden;text-overflow:ellipsis;white-space:nowrap}.badge{font-size:0.875rem;border-radius:0.25rem;transition:color 0.15s ease-in-out, background-color 0.15s ease-in-out, border-color 0.15s ease-in-out, box-shadow 0.15s ease-in-out;background-color:rgba(82,113,137,0.1);color:#527189;display:inline-block;font-weight:600;line-height:24px;padding:0.25rem 0.75rem;text-align:center;vertical-align:baseline;white-space:nowrap}@media (prefers-reduced-motion: reduce){.badge{transition:none}}.badge:empty{display:none}.badge:disabled{background-color:#f1f4f9;border-color:#f1f4f9;color:#666c7e}.badge:disabled svg{color:#666c7e}.badge-pill,.badge.badge-pill{border-radius:6.25rem;background-color:transparent;border:1px solid #e4e8f1;font-size:0.875rem;line-height:20px;padding:0.625rem 1rem}.badge-pill:focus,.badge.badge-pill:focus{box-shadow:none}.badge-pill-icon{min-width:16px !important;max-height:16px}.badge-pill-group{margin:-0.25rem -0.25rem;-ms-overflow-style:none;scrollbar-width:none}.badge-pill-group::-webkit-scrollbar{display:none}.badge-pill-group .badge{margin:0.25rem 0.25rem}.btn-scroll-top-visible{visibility:visible;opacity:1}@keyframes display-reply-info{to{max-height:28px}}@keyframes transtionBackgroundFromGreenToOriginal{from{background-color:rgba(64,190,136,0.1)}to{background-color:initial}}.avatar{align-items:center;background-color:rgba(88,43,232,0.1);color:#582be8;display:flex;justify-content:center;position:relative}.avatar .avatar{position:absolute}.avatar-image{display:flex;justify-content:center;align-items:center}.avatar-size-xl-5{height:128px;text-align:center;width:128px !important;font-size:57.6px}.avatar-size-xl-5 svg{height:initial;max-width:40.96px;max-height:128px}.list-inline li:not(:last-child):after{content:' \\00b7';display:inline-flex;margin:0 0.375rem}@keyframes fadeIn{from{opacity:0;transform:translate3d(0, -20%, 0)}to{opacity:1;transform:translate3d(0, 0, 0)}}.popover-profile-card-container{z-index:1070}.pw-icon{display:inline-block;vertical-align:middle;width:16px;height:16px}.pw-icon--wide{width:1.25em !important;max-height:14px;height:-moz-fit-content;height:fit-content}@keyframes loading-animation{0%{stroke-dasharray:40 242.6;stroke-dashoffset:0}50%{stroke-dasharray:141.3;stroke-dashoffset:141.3}100%{stroke-dasharray:40 242.6;stroke-dashoffset:282.6}}@keyframes rotate-360-degrees{0%{transform:rotate(0deg)}100%{transform:rotate(359deg)}}.identity-body main{min-height:100vh;position:relative}.identity__page-header{width:100%;height:100%}.identity-header-section-wrapper{padding:16px 16px !important;margin:64px 0px !important;position:relative}.identity-header-section-wrapper{margin:-16px -16px !important}@keyframes opacityToZero{0%{opacity:1}100%{opacity:0}}@keyframes opacityToFull{0%{opacity:0}100%{opacity:1}}.position-relative,.identity__page-header{position:relative !important}.min-w-0{min-width:0}.width-fit-content{width:-moz-fit-content;width:fit-content}.min-w-0{min-width:0 !important}.mw-800px{max-width:800px}.z-index-1000{z-index:1000}@keyframes action-button-spinner-kf{0%{transform:rotate(0deg)}100%{transform:rotate(360deg)}}@keyframes leftScroll{0%{transform:translateX(0)}50%{transform:translateX(-170%)}100%{transform:translateX(0)}}@keyframes rightScroll{0%{transform:translateX(-165%)}50%{transform:translateX(-5%)}100%{transform:translateX(-165%)}}:root{}\n",
      "\n",
      "\n",
      "\n",
      "      :root { --display-1-font-family: DM Sans; --display-1-font-size: 32px; --display-1-font-weight: 700; --display-1-line-height: 110%; --display-1-font-style: normal; --display-1-mobile-font-size: 24px; --display-1-mobile-line-height: 110%; --body-font-family: DM Sans; --body-font-size: 14px; --body-font-weight: 400; --body-line-height: 150%}\n",
      "\n",
      "\n",
      "@font-face{font-family:\"DM Sans\";font-style:normal;font-weight:700;font-display:swap;src:url(https://polywork.fawazalesayi.com/assets/DM-Sans-variable-4b4dfa8f036efb160d44f1c96a95b06f116e39c0af38473626cd2dcbcea6135e.ttf) format(\"truetype\")}@font-face{font-family:\"DM Sans\";font-style:normal;font-weight:400;font-display:swap;src:url(https://polywork.fawazalesayi.com/assets/DM-Sans-variable-4b4dfa8f036efb160d44f1c96a95b06f116e39c0af38473626cd2dcbcea6135e.ttf) format(\"truetype\")}@font-face{font-family:\"Cormorant Garamond\";font-style:normal;font-weight:400;font-display:swap;src:url(https://polywork.fawazalesayi.com/assets/CormorantGaramond-Regular-80ca2c2ee767770a43249fa77eff1eb5beeba7defae6c9d83211dcf48e9cfa25.ttf) format(\"truetype\")}\n",
      "\n",
      "\n",
      ".display-1{font-family:var(--display-1-font-family) !important;font-size:var(--display-1-font-size);font-weight:var(--display-1-font-weight) !important;line-height:var(--display-1-line-height) !important;font-style:var(--display-1-font-style) !important;text-transform:var(--display-1-text-transform);letter-spacing:var(--display-1-letter-spacing)}@media screen and (max-width: 768px){.display-1{font-size:var(--display-1-mobile-font-size);line-height:var(--display-1-mobile-line-height) !important;letter-spacing:var(--display-1-mobile-letter-spacing)}}body{font-family:var(--body-font-family) !important;font-size:var(--body-font-size) !important;font-weight:var(--body-font-weight) !important;line-height:var(--body-line-height) !important}\n",
      "\n",
      "\n",
      "</style>\n",
      "Answer of the question is: \n",
      "``````````````````````````````````````````````````````````````````````````````````````````````````````````````````````````````````````````````````````````````````````````````````````````````````````````````````````````````````````````````````````````````````````````````````````````````````````````````````````````````````````````````````````````````````````````````````````````````````````````````````````````````````````````````````````````````````````````````````````````````````````````````````````````````````````````````````````````````````````````````````````````````````````````````````````````````````````````````````````````````````````````````````````````````````````````````````````````````````````````````````````````````````````````````````````````````````````````````````````````````````````````````````````````````````````````````````````````````````````````````````````````````````````````````````````````````````````````````````````````````````````````````````````````````````````````````````````````````````````````````````````````````````````````````````````````````````````````````````````````````````````````````````````````````````````````````````````````````````````````````````````````````````````````````````````````````````````````````````````````````````````````````````````````````````````````````````````````````````````````````````````````````````````````````````````````````````````````````````````````````````````````````````````````````````````````````````````````````````````````````````````````````````````````````````````````````````````````````````````````````````````````````````````````````````````````````````````````````````````````````````````````````````````````````````````````````````````````````````````````````````````````````````````````````````````````````````````````````````````````````````````````````````````````````````````````````````````````````````````````````````````````````````````````````````````````````````````````````````````````````````````````````````````````````````````````````````````````````````````````````````````````````````````````````````````````````````````````````````````````````````````````````````````````````````````````````````````````````````````````````````````````````````````````````````````````````````````````````````````````````````````````````````````````````````````````````````````````````````````````````````````````````````````````````````````````````````````````````````````````````````````````````````````````````````````````````````````````````````````````````````````````````````````````````````````````````````````````````````````````````````````````````````````````````````````````````````````````````````````````````````````````````````````````````````````````````````````````````````````````````````````````````````````````````````````````````````````````````````````````````````````````````````````````````````````````````````````````````````````````````````````````````````````````````````````````````````````````````````````````````````````````````````````````````````````````````````````````````````````````````````````````````````````````````````````````````````````````````````````````````````````````````````````````````````````````````````````````````````````````````````````````````````````````````````````````````````````````````````````````````````````````````````````````````````````````````````````````````````````````````````````````````````````````````````````````````````````````````````````````````````````````````````````````````````````````````````````````````````````````````````````````````````````````````````````````````````````````````````````````````````````````````````````````````````````````````````````````````````````````````````````````````````````````````````````````````````````````````````````````````````````````````````````````````````````````````````````````````````````````````````````````````````````````````````````````````````````````````````````````````````````````````````````````````````````````````````````````````````````````````````````````````````````````````````````````````````````````````````````````````````````````````````````````````````````````````````````````````````````````````````````````````````````````````````````````````````````````````````````````````````````````````````````````````````````````````````````````````````````````````````````````````````````````````````````````````````````````````````````````````````````````````````````````````````````````````````````````````````````````````````````````````````````````````````````````````````````````````````````````````````````````````````````````````````````````````````````````````````````````````````````````````````````````````````````````````````````````````````````````````````````````````````````````````````````````````````````````````````````````````````````````````````````````````````````````````````````````````````````````````````````````````````````````````````````````````````````````````````````````````````````````````````````````````````````````````````````````````````````````````````````````````````````````````````````````````````````````````````````````````````````````````````````````````````````````````````````````````````````````````````````````````````````````````````````````````````````````````````````````````````````````````````````````````````````````````````````````````````````````````````````````````````````````````````````````````````````````````````````````````````````````````````````````````````````````````````````````````````````````````````````````````````````````````````````````````````````````````````````````````````````````````````````````````````````````````````````````````````````````````````````````````````````````````````````````````````````````````````````````````````````````````````````````````````````````````````````````````````````````````````````````````````````````````````````````````````````````````````````````````````````````````````````````````````````````````````````````````````````````````````````````````````````````````````````````````````````````````````````````````````````````````````````````````````````````````````````````````````````````````````````````````````````````````````````````````````````````````````````````````````````````````````````````````````````````````````````````````````````````````````````````````````````````````````````````````````````````````````````````````````````````````````````````````````````````````````````````````````````````````````````````````````````````````````````````````````````````````````````````````````````````````````````````````````````````````````````````````````````````````````````````````````````````````````````````````````````````````````````````````````````````````````````````````````````````````````````````````````````````````````````````````````````````````````````````````````````````````````````````````````````````````````````````````````````````````````````````````````````````````````````````````````````````````````````````````````````````````````````````````````````````````````````````````````````````````````````````````````````````````````````````````````````````````````````````````````````````````````````````````````````````````````````````````````````````````````````````````````````````````````````````````````````````````````````````````````````````````````````````````````````````````````````````````````````````````````````````````````````````````````````````````````````````````````````````````````````````````````````````````````````````````````````````````````````````````````````````````````````````````````````````````````````````````````````````````````````````````````````````````````````````````````````````````````````````````````````````````````````````````````````````````````````````````````````````````````````````````````````````````````````````````````````````````````````````````````````````````````````````````````````````````````````````````````````````````````````````````````````````````````````````````````````````````````````````````````````````````````````````````````````````````````````````````````````````````````````````````````````````````````````````````````````````````````````````````````````````````````````````````````````````````````````````````````````````````````````````````````````````````````````````````````````````````````````````````````````````````````````````````````````````````````````````````````````````````````````````````````````````````````````````````````````````````````````````````````````````````````````````````````````````````````````````````````````````````````````````````````````````````````````````````````````````````````````````````````````````````````````````````````````````````````````````````````````````````````````````````````````````````````````````````````````````````````````````````````````````````````````````````````````````````````````````````````````````````````````````````````````````````````````````````````````````````````````````````````````````````````````````````````````````````````````````````````````````````````````````````````````````````````````````````````````````````````````````````````````````````````````````````````````````````````````````````````````````````````````````````````````````````````````````````````````````````````````````````````````````````````````````````````````````````````````````````````````````````````````````````````````````````````````````````````````````````````````````````````````````````````````````````````````````````````````````````````````````````````````````````````````````````````````````````````````````````````````````````````````````````````````````````````````````````````````````````````````````````````````````````````````````````````````````````````````````````````````````````````````````````````````````````````````````````````````````````````````````````````````````````````````````````````````````````````````````````````````````````````````````````````````````````````````````````````````````````````````````````````````````````````````````````````````````````````````````````````````````````````````````````````````````````````````````````````````````````````````````````````````````````````````````````````````````````````````````````````````````````````````````````````````````````````````````````````````````````````````````````````````````````````````````````````````````````````````````````````````````````````````````````````````````````````````````````````````````````````````````````````````````````````````````````````````````````````````````````````````````````````````````````````````````````````````````````````````````````````````````````````````````````````````````````````````````````````````````````````````````````````````````````````````````````````````````````````````````````````````````````````````````````````````````````````````````````````````````````````````````````````````````````````````````````````````````````````````````````````````````````````````````````````````````````````````````````````````````````````````````````````````````````````````````````````````````````````````````````````````````````````````````````````````````````````````````````````````````````````````````````````````````````````````````````````````````````````````````````````````````````````````````````````````````````````````````````````````````````````````````````````````````````````````````````````````````````````````````````````````````````````````````````````````````````````````````````````````````````````````````````````````````````````````````````````````````````````````````````````````````````````````````````````````````````````````````````````````````````````````````````````````````````````````````````````````````````````````````````````````````````````````````````````````````````````````````````````````````````````````````````````````````````````````````````````````````````````````````````````````````````````````````````````````````````````````````````````````````````````````````````````````````````````````````````````````````````````````````````````````````````````````````````````````````````````````````````````````````````````````````````````````````````````````````````````````````````````````````````````````````````````````````````````````````````````````````````````````````````````````````````````````````````````````````````````````````````````````````````````````````````````````````````````````````````````````````````````````````````````````````````````````````````````````````````````````````````````````````````````````````````````````````````````````````````````````````````````````````````````````````````````````````````````````````````````````````````````````````````````````````````````````````````````````````````````````````````````````````````````````````````````````````````````````````````````````````````````````````````````````````````````````````````````````````````````````````````````````````````````````````````````````````````````````````````````````````````````````````````````````````````````````````````````````````````````````````````````````````````````````````````````````````````````````````````````````````````````````````````````````````````````````````````````````````````````````````````````````````````````````````````````````````````````````````````````````````````````````````````````````````````````````````````````````````````````````````````````````````````````````````````````````````````````````````````````````````````````````````````````````````````````````````````````````````````````````````````````````````````````````````````````````````````````````````````````````````````````````````````````````````````````````````````````````````````````````````````````````````````````````````````````````````````````````````````````````````````````````````````````````````````````````````````````````````````````````````````````````````````````````````````````````````````````````````````````````````````````````````````````````````````````````````````````````````````````````````````````````````````````````````````````````````````````````````````````````````````````````````````````````````````````````````````````````````````````````````````````````````````````````````````````````````````````````````````````````````````````````````````````````````````````````````````````````````````````````````````````````````````````````````````````````````````````````````````````````````````````````````````````````````````````````````````````````````````````````````````````````````````````````````````````````````````````````````````````````````````````````````````````````````````````````````````````````````````````````````````````````````````````````````````````````````````````````````````````````````````````````````````````````````````````````````````````````````````````````````````````````````````````````````````````````````````````````````````````````````````````````````````````````````````````````````````````````````````````````````````````````````````````````````````````````````````````````````````````````````````````````````````````````````````````````````````````````````````````````````````````````````````````````````````````````````````````````````````````````````````````````````````````````````````````````````````````````````````````````````````````````````````````````````````````````````````````````````````````````````````````````````````````````````````````````````````````````````````````````````````````````````````````````````````````````````````````````````````````````````````````````````````````````````````````````````````````````````````````````````````````````````````````````````````````````````````````````````````````````````````````````````````````````````````````````````````````````````````````````````````````````````````````````````````````````````````````````````````````````````````````````````````````````````````````````````````````````````````````````````````````````````````````````````````````````````````````````````````````````````````````````````````````````````````````````````````````````````````````````````````````````````````````````````````````````````````````````````````````````````````````````````````````````````````````````````````````````````````````````````````````````````````````````````````````````````````````````````````````````````````````````````````````````````````````````````````````````````````````````````````````````````````````````````````````````````````````````````````````````````````````````````````````````````````````````````````````````````````````````````````````````````````````````````````````````````````````````````````````````````````````````````````````````````````````````````````````````````````````````````````````````````````````````````````````````````````````````````````````````````````````````````````````````````````````````````````````````````````````````````````````````````````````````````````````````````````````````````````````````````````````````````````````````````````````````````````````````````````````````````````````````````````````````````````````````````````````````````````````````````````````````````````````````````````````````````````````````````````````````````````````````````````````````````````````````````````````````````````````````````````````````````````````````````````````````````````````````````````````````````````````````````````````````````````````````````````````````````````````````````````````````````````````````````````````````````````````````````````````````````````````````````````````````````````````````````````````````````````````````````````````````````````````````````````````````````````````````````````````````````````````````````````````````````````````````````````````````````````````````````````````````````````````````````````````````````````````````````````````````````````````````````````````````````````````````````````````````````````````````````````````````````````````````````````````````````````````````````````````````````````````````````````````````````````````````````````````````````````````````````````````````````````````````````````````````````````````````````````````````````````````````````````````````````````````````````````````````````````````````````````````````````````````````````````````````````````````````````````````````````````````````````````````````````````````````````````````````````````````````````````````````````````````````````````````````````````````````````````````````````````````````````````````````````````````````````````````````````````````````````````````````````````````````````````````````````````````````````````````````````````````````````````````````````````````````````````````````````````````````````````````````````````````````````````````````````````````````````````````````````````````````````````````````````````````````````````````````````````````````````````````````````````````````````````````````````````````````````````````````````````````````````````````````````````````````````````````````````````````````````````````````````````````````````````````````````````````````````````````````````````````````````````````````````````````````````````````````````````````````````````````````````````````````````````````````````````````````````````````````````````````````````````````````````````````````````````````````````````````````````````````````````````````````````````````````````````````````````````````````````````````````````````````````````````````````````````````````````````````````````````````````````````````````````````````````````````````````````````````````````````````````````````````````````````````````````````````````````````````````````````````````````````````````````````````````````````````````````````````````````````````````````````````````````````````````````````````````````````````````````````````````````````````````````````````````````````````````````````````````````````````````````````````````````````````````````````````````````````````````````````````````````````````````````````````````````````````````````````````````````````````````````````````````````````````````````````````````````````````````````````````````````````````````````````````````````````````````````````````````````````````````````````````````````````````````````````````````````````````````````````````````````````````````````````````````````````````````````````````````````````````````````````````````````````````````````````````````````````````````````````````````````````````````````````````````````````````````````````````````````````````````````````````````````````````````````````````````````````````````````````````````````````````````````````````````````````````````````````````````````````````````````````````````````````````````````````````````````````````````````````````````````````````````````````````````````````````````````````````````````````````````````````````````````````````````````````````````````````````````````````````````````````````````````````````````````````````````````````````````````````````````````````````````````````````````````````````````````````````````````````````````````````````````````````````````````````````````````````````````````````````````````````````````````````````````````````````````````````````````````````````````````````````````````````````````````````````````````````````````````````````````````````````````````````````````````````````````````````````````````````````````````````````````````````````````````````````````````````````````````````````````````````````````````````````````````````````````````````````````````````````````````````````````````````````````````````````````````````````````````````````````````````````````````````````````````````````````````````````````````````````````````````````````````````````````````````````````````````````````````````````````````````````````````````````````````````````````````````````````````````````````````````````````````````````````````````````````````````````````````````````````````````````````````````````````````````````````````````````````````````````````````````````````````````````````````````````````````````````````````````````````````````````````````````````````````````````````````````````````````````````````````````````````````````````````````````````````````````````````````````````````````````````````````````````````````````````````````````````````````````````````````````````````````````````````````````````````````````````````````````````````````````````````````````````````````````````````````````````````````````````````````````````````````````````````````````````````````````````````````````````````````````````````````````````````````````````````````````````````````````````````````````````````````````````````````````````````````````````````````````````````````````````````````````````````````````````````````````````````````````````````````````````````````````````````````````````````````````````````````````````````````````````````````````````````````````````````````````````````````````````````````````````````````````````````````````````````````````````````````````````````````````````````````````````````````````````````````````````````````````````````````````````````````````````````````````````````````````````````````````````````````````````````````````````````````````````````````````````````````````````````````````````````````````````````````````````````````````````````````````````````````````````````````````````````````````````````````````````````````````````````````````````````````````````````````````````````````````````````````````````````````````````````````````````````````````````````````````````````````````````````````````````````````````````````````````````````````````````````````````````````````````````````````````````````````````````````````````````````````````````````````````````````````````````````````````````````````````````````````````````````````````````````````````````````````````````````````````````````````````````````````````````````````````````````````````````````````````````````````````````````````````````````````````````````````````````````````````````````````````````````````````````````````````````````````````````````````````````````````````````````````````````````````````````````````````````````````````````````````````````````````````````````````````````````````````````````````````````````````````````````````````````````````````````````````````````````````````````````````````````````````````````````````````````````````````````````````````````````````````````````````````````````````````````````````````````````````````````````````````````````````````````````````````````````````````````````````````````````````````````````````````````````````````````````````````````````````````````````````````````````````````````````````````````````````````````````````````````````````````````````````````````````````````````````````````````````````````````````````````````````````````````````````````````````````````````````````````````````````````````````````````````````````````````````````````````````````````````````````````````````````````````````````````````````````````````````````````````````````````````````````````````````````````````````````````````````````````````````````````````````````````````````````````````````````````````````````````````````````````````````````````````````````````````````````````````````````````````````````````````````````````````````````````````````````````````````````````````````````````````````````````````````````````````````````````````````````````````````````````````````````````````````````````````````````````````````````````````````````````````````````````````````````````````````````````````````````````````````````````````````````````````````````````````````````````````````````````````````````````````````````````````````````````````````````````````````````````````````````````````````````````````````````````````````````````````````````````````````````````````````````````````````````````````````````````````````````````````````````````````````````````````````````````````````````````````````````````````````````````````````````````````````````````````````````````````````````````````````````````````````````````````````````````````````````````````````````````````````````````````````````````````````````````````````````````````````````````````````````````````````````````````````````````````````````````````````````````````````````````````````````````````````````````````````````````````````````````````````````````````````````````````````````````````````````````````````````````````````````````````````````````````````````````````````````````````````````````````````````````````````````````````````````````````````````````````````````````````````````````````````````````````````````````````````````````````````````````````````````````````````````````````````````````````````````````````````````````````````````````````````````````````````````````````````````````````````````````````````````````````````````````````````````````````````````````````````````````````````````````````````````````````````````````````````````````````````````````````````````````````````````````````````````````````````````````````````````````````````````````````````````````````````````````````````````````````````````````````````````````````````````````````````````````````````````````````````````````````````````````````````````````````````````````````````````````````````````````````````````````````````````````````````````````````````````````````````````````````````````````````````````````````````````````````````````````````````````````````````````````````````````````````````````````````````````````````````````````````````````````````````````````````````````````````````````````````````````````````````````````````````````````````````````````````````````````````````````````````````````````````````````````````````````````````````````````````````````````````````````````````````````````````````````````````````````````````````````````````````````````````````````````````````````````````````````````````````````````````````````````````````````````````````````````````````````````````````````````````````````````````````````````````````````````````````````````````````````````````````````````````````````````````````````````````````````````````````````````````````````````````````````````````````````````````````````````````````````````````````````````````````````````````````````````````````````````````````````````````````````````````````````````````````````````````````````````````````````````````````````````````````````````````````````````````````````````````````````````````````````````````````````````````````````````````````````````````````````````````````````````````````````````````````````````````````````````````````````````````````````````````````````````````````````````````````````````````````````````````````````````````````````````````````````````````````````````````````````````````````````````````````````````````````````````````````````````````````````````````````````````````````````````````````````````````````````````````````````````````````````````````````````````````````````````````````````````````````````````````````````````````````````````````````````````````````````````````````````````````````````````````````````````````````````````````````````````````````````````````````````````````````````````````````````````````````````````````````````````````````````````````````````````````````````````````````````````````````````````````````````````````````````````````````````````````````````````````````````````````````````````````````````````````````````````````````````````````````````````````````````````````````````````````````````````````````````````````````````````````````````````````````````````````````````````````````````````````````````````````````````````````````````````````````````````````````````````````````````````````````````````````````````````````````````````````````````````````````````````````````````````````````````````````````````````````````````````````````````````````````````````````````````````````````````````````````````````````````````````````````````````````````````````````````````````````````````````````````````````````````````````````````````````````````````````````````````````````````````````````````````````````````````````````````````````````````````````````````````````````````````````````````````````````````````````````````````````````````````````````````````````````````````````````````````````````````````````````````````````````````````````````````````````````````````````````````````````````````````````````````````````````````````````````````````````````````````````````````````````````````````````````````````````````````````````````````````````````````````````````````````````````````````````````````````````````````````````````````````````````````````````````````````````````````````````````````````````````````````````````````````````````````````````````````````````````````````````````````````````````````````````````````````````````````````````````````````````````````````````````````````````````````````````````````````````````````````````````````````````````````````````````````````````````````````````````````````````````````````````````````````````````````````````````````````````````````````````````````````````````````````````````````````````````````````````````````````````````````````````````````````````````````````````````````````````````````````````````````````````````````````````````````````````````````````````````````````````````````````````````````````````````````````````````````````````````````````````````````````````````````````````````````````````````````````````````````````````````````````````````````````````````````````````````````````````````````````````````````````````````````````````````````````````````````````````````````````````````````````````````````````````````````````````````````````````````````````````````````````````````````````````````````````````````````````````````````````````````````````````````````````````````````````````````````````````````````````````````````````````````````````````````````````````````````````````````````````````````````````````````````````````````````````````````````````````````````````````````````````````````````````````````````````````````````````````````````````````````````````````````````````````````````````````````````````````````````````````````````````````````````````````````````````````````````````````````````````````````````````````````````````````````````````````````````````````````````````````````````````````````````````````````````````````````````````````````````````````````````````````````````````````````````````````````````````````````````````````````````````````````````````````````````````````````````````````````````````````````````````````````````````````````````````````````````````````````````````````````````````````````````````````````````````````````````````````````````````````````````````````````````````````````````````````````````````````````````````````````````````````````````````````````````````````````````````````````````````````````````````````````````````````````````````````````````````````````````````````````````````````````````````````````````````````````````````````````````````````````````````````````````````````````````````````````````````````````````````````````````````````````````````````````````````````````````````````````````````````````````````````````````````````````````````````````````````````````````````````````````````````````````````````````````````````````````````````````````````````````````````````````````````````````````````````````````````````````````````````````````````````````````````````````````````````````````````````````````````````````````````````````````````````````````````````````````````````````````````````````````````````````````````````````````````````````````````````````````````````````````````````````````````````````````````````````````````````````````````````````````````````````````````````````````````````````````````````````````````````````````````````````````````````````````````````````````````````````````````````````````````````````````````````````````````````````````````````````````````````````````````````````````````````````````````````````````````````````````````````````````````````````````````````````````````````````````````````````````````````````````````````````````````````````````````````````````````````````````````````````````````````````````````````````````````````````````````````````````````````````````````````````````````````````````````````````````````````````````````````````````````````````````````````````````````````````````````````````````````````````````````````````````````````````````````````````````````````````````````````````````````````````````````````````````````````````````````````````````````````````````````````````````````````````````````````````````````````````````````````````````````````````````````````````````````````````````````````````````````````````````````````````````````````````````````````````````````````````````````````````````````````````````````````````````````````````````````````````````````````````````````````````````````````````````````````````````````````````````````````````````````````````````````````````````````````````````````````````````````````````````````````````````````````````````````````````````````````````````````````````````````````````````````````````````````````````````````````````````````````````````````````````````````````````````````````````````````````````````````````````````````````````````````````````````````````````````````````````````````````````````````````````````````````````````````````````````````````````````````````````````````````````````````````````````````````````````````````````````````````````````````````````````````````````````````````````````````````````````````````````````````````````````````````````````````````````````````````````````````````````````````````````````````````````````````````````````````````````````````````````````````````````````````````````````````````````````````````````````````````````````````````````````````````````````````````````````````````````````````````````````````````````````````````````````````````````````````````````````````````````````````````````````````````````````````````````````````````````````````````````````````````````````````````````````````````````````````````````````````````````````````````````````````````````````````````````````````````````````````````````````````````````````````````````````````````````````````````````````````````````````````````````````````````````````````````````````````````````````````````````````````````````````````````````````````````````````````````````````````````````````````````````````````````````````````````````````````````````````````````````````````````````````````````````````````````````````````````````````````````````````````````````````````````````````````````````````````````````````````````````````````````````````````````````````````````````````````````````````````````````````````````````````````````````````````````````````````````````````````````````````````````````````````````````````````````````````````````````````````````````````````````````````````````````````````````````````````````````````````````````````````````````````````````````````````````````````````````````````````````````````````````````````````````````````````````````````````````````````````````````````````````````````````````````````````````````````````````````````````````````````````````````````````````````````````````````````````````````````````````````````````````````````````````````````````````````````````````````````````````````````````````````````````````````````````````````````````````````````````````````````````````````````````````````````````````````````````````````````````````````````````````````````````````````````````````````````````````````````````````````````````````````````````````````````````````````````````````````````````````````````````````````````````````````````````````````````````````````````````````````````````````````````````````````````````````````````````````````````````````````````````````````````````````````````````````````````````````````````````````````````````````````````````````````````````````````````````````````````````````````````````````````````````````````````````````````````````````````````````````````````````````````````````````````````````````````````````````````````````````````````````````````````````````````````````````````````````````````````````````````````````````````````````````````````````````````````````````````````````````````````````````````````````````````````````````````````````````````````````````````````````````````````````````````````````````````````````````````````````````````````````````````````````````````````````````````````````````````````````````````````````````````````````````````````````````````````````````````````````````````````````````````````````````````````````````````````````````````````````````````````````````````````````````````````````````````````````````````````````````````````````````````````````````````````````````````````````````````````````````````````````````````````````````````````````````````````````````````````````````````````````````````````````````````````````````````````````````````````````````````````````````````````````````````````````````````````````````````````````````````````````````````````````````````````````````````````````````````````````````````````````````````````````````````````````````````````````````````````````````````````````````````````````````````````````````````````````````````````````````````````````````````````````````````````````````````````````````````````````````````````````````````````````````````````````````````````````````````````````````````````````````````````````````````````````````````````````````````````````````````````````````````````````````````````````````````````````````````````````````````````````````````````````````````````````````````````````````````````````````````````````````````````````````````````````````````````````````````````````````````````````````````````````````````````````````````````````````````````````````````````````````````````````````````````````````````````````````````````````````````````````````````````````````````````````````````````````````````````````````````````````````````````````````````````````````````````````````````````````````````````````````````````````````````````````````````````````````````````````````````````````````````````````````````````````````````````````````````````````````````````````````````````````````````````````````````````````````````````````````````````````````````````````````````````````````````````````````````````````````````````````````````````````````````````````````````````````````````````````````````````````````````````````````````````````````````````````````````````````````````````````````````````````````````````````````````````````````````````````````````````````````````````````````````````````````````````````````````````````````````````````````````````````````````````````````````````````````````````````````````````````````````````````````````````````````````````````````````````````````````````````````````````````````````````````````````````````````````````````````````````````````````````````````````````````````````````````````````````````````````````````````````````````````````````````````````````````````````````````````````````````````````````````````````````````````````````````````````````````````````````````````````````````````````````````````````````````````````````````````````````````````````````````````````````````````````````````````````````````````````````````````````````````````````````````````````````````````````````````````````````````````````````````````````````````````````````````````````````````````````````````````````````````````````````````````````````````````````````````````````````````````````````````````````````````````````````````````````````````````````````````````````````````````````````````````````````````````````````````````````````````````````````````````````````````````````````````````````````````````````````````````````````````````````````````````````````````````````````````````````````````````````````````````````````````````````````````````````````````````````````````````````````````````````````````````````````````````````````````````````````````````````````````````````````````````````````````````````````````````````````````````````````````````````````````````````````````````````````````````````````````````````````````````````````````````````````````````````````````````````````````````````````````````````````````````````````````````````````````````````````````````````````````````````````````````````````````````````````````````````````````````````````````````````````````````````````````````````````````````````````````````````````````````````````````````````````````````````````````````````````````````````````````````````````````````````````````````````````````````````````````````````````````````````````````````````````````````````````````````````````````````````````````````````````````````````````````````````````````````````````````````````````````````````````````````````````````````````````````````````````````````````````````````````````````````````````````````````````````````````````````````````````````````````````````````````````````````````````````````````````````````````````````````````````````````````````````````````````````````````````````````````````````````````````````````````````````````````````````````````````````````````````````````````````````````````````````````````````````````````````````````````````````````````````````````````````````````````````````````````````````````````````````````````````````````````````````````````````````````````````````````````````````````````````````````````````````````````````````````````````````````````````````````````````````````````````````````````````````````````````````````````````````````````````````````````````````````````````````````````````````````````````````````````````````````````````````````````````````````````````````````````````````````````````````````````````````````````````````````````````````````````````````````````````````````````````````````````````````````````````````````````````````````````````````````````````````````````````````````````````````````````````````````````````````````````````````````````````````````````````````````````````````````````````````````````````````````````````````````````````````````````````````````````````````````````````````````````````````````````````````````````````````````````````````````````````````````````````````````````````````````````````````````````````````````````````````````````````````````````````````````````````````````````````````````````````````````````````````````````````````````````````````````````````````````````````````````````````````````````````````````````````````````````````````````````````````````````````````````````````````````````````````````````````````````````````````````````````````````````````````````````````````````````````````````````````````````````````````````````````````````````````````````````````````````````````````````````````````````````````````````````````````````````````````````````````````````````````````````````````````````````````````````````````````````````````````````````````````````````````````````````````````````````````````````````````````````````````````````````````````````````````````````````````````````````````````````````````````````````````````````````````````````````````````````````````````````````````````````````````````````````````````````````````````````````````````````````````````````````````````````````````````````````````````````````````````````````````````````````````````````````````````````````````````````````````````````````````````````````````````````````````````````````````````````````````````````````````````````````````````````````````````````````````````````````````````````````````````````````````````````````````````````````````````````````````````````````````````````````````````````````````````````````````````````````````````````````````````````````````````````````````````````````````````````````````````````````````````````````````````````````````````````````````````````````````````````````````````````````````````````````````````````````````````````````````````````````````````````````````````````````````````````````````````````````````````````````````````````````````````````````````````````````````````````````````````````````````````````````````````````````````````````````````````````````````````````````````````````````````````````````````````````````````````````````````````````````````````````````````````````````````````````````````````````````````````````````````````````````````````````````````````````````````````````````````````````````````````````````````````````````````````````````````````````````````````````````````````````````````````````````````````````````````````````````````````````````````````````````````````````````````````````````````````````````````````````````````````````````````````````````````````````````````````````````````````````````````````````````````````````````````````````````````````````````````````````````````````````````````````````````````````````````````````````````````````````````````````````````````````````````````````````````````````````````````````````````````````````````````````````````````````````````````````````````````````````````````````````````````````````````````````````````````````````````````````````````````````````````````````````````````````````````````````````````````````````````````````````````````````````````````````````````````````````````````````````````````````````````````````````````````````````````````````````````````````````````````````````````````````````````````````````````````````````````````````````````````````````````````````````````````````````````````````````````````````````````````````````````````````````````````````````````````````````````````````````````````````````````````````````````````````````````````````````````````````````````````````````````````````````````````````````````````````````````````````````````````````````````````````````````````````````````````````````````````````````````````````````````````````````````````````````````````````````````````````````````````````````````````````````````````````````````````````````````````````````````````````````````````````````````````````````````````````````````````````````````````````````````````````````````````````````````````````````````````````````````````````````````````````````````````````````````````````````````````````````````````````````````````````````````````````````````````````````````````````````````````````````````````````````````````````````````````````````````````````````````````````````````````````````````````````````````````````````````````````````````````````````````````````````````````````````````````````````````````````````````````````````````````````````````````````````````````````````````````````````````````````````````````````````````````````````````````````````````````````````````````````````````````````````````````````````````````````````````````````````````````````````````````````````````````````````````````````````````````````````````````````````````````````````````````````````````````````````````````````````````````````````````````````````````````````````````````````````````````````````````````````````````````````````````````````````````````````````````````````````````````````````````````````````````````````````````````````````````````````````````````````````````````````````````````````````````````````````````````````````````````````````````````````````````````````````````````````````````````````````````````````````````````````````````````````````````````````````````````````````````````````````````````````````````````````````````````````````````````````````````````````````````````````````````````````````````````````````````````````````````````````````````````````````````````````````````````````````````````````````````````````````````````````````````````````````````````````````````````````````````````````````````````````````````````````````````````````````````````````````````````````````````````````````````````````````````````````````````````````````````````````````````````````````````````````````````````````````````````````````````````````````````````````````````````````````````````````````````````````````````````````````````````````````````````````````````````````````````````````````````````````````````````````````````````````````````````````````````````````````````````````````````````````````````````````````````````````````````````````````````````````````````````````````````````````````````````````````````````````````````````````````````````````````````````````````````````````````````````````````````````````````````````````````````````````````````````````````````````````````````````````````````````````````````````````````````````````````````````````````````````````````````````````````````````````````````````````````````````````````````````````````````````````````````````````````````````````````````````````````````````````````````````````````````````````````````````````````````````````````````````````````````````````````````````````````````````````````````````````````````````````````````````````````````````````````````````````````````````````````````````````````````````````````````````````````````````````````````````````````````````````````````````````````````````````````````````````````````````````````````````````````````````````````````````````````````````````````````````````````````````````````````````````````````````````````````````````````````````````````````````````````````````````````````````````````````````````````````````````````````````````````````````````````````````````````````````````````````````````````````````````````````````````````````````````````````````````````````````````````````````````````````````````````````````````````````````````````````````````````````````````````````````````````````````````````````````````````````````````````````````````````````````````````````````````````````````````````````````````````````````````````````````````````````````````````````````````````````````````````````````````````````````````````````````````````````````````````````````````````````````````````````````````````````````````````````````````````````````````````````````````````````````````````````````````````````````````````````````````````````````````````````````````````````````````````````````````````````````````````````````````````````````````````````````````````````````````````````````````````````````````````````````````````````````````````````````````````````````````````````````````````````````````````````````````````````````````````````````````````````````````````````````````````````````````````````````````````````````````````````````````````````````````````````````````````````````````````````````````````````````````````````````````````````````````````````````````````````````````````````````````````````````````````````````````````````````````````````````````````````````````````````````````````````````````````````````````````````````````````````````````````````````````````````````````````````````````````````````````````````````````````````````````````````````````````````````````````````````````````````````````````````````````````````````````````````````````````````````````````````````````````````````````````````````````````````````````````````````````````````````````````````````````````````````````````````````````````````````````````````````````````````````````````````````````````````````````````````````````````````````````````````````````````````````````````````````````````````````````````````````````````````````````````````````````````````````````````````````````````````````````````````````````````````````````````````````````````````````````````````````````````````````````````````````````````````````````````````````````````````````````````````````````````````````````````````````````````````````````````````````````````````````````````````````````````````````````````````````````````````````````````````````````````````````````````````````````````````````````````````````````````````````````````````````````````````````````````````````````````````````````````````````````````````````````````````````````````````````````````````````````````````````````````````````````````````````````````````````````````````````````````````````````````````````````````````````````````````````````````````````````````````````````````````````````````````````````````````````````````````````````````````````````````````````````````````````````````````````````````````````````````````````````````````````````````````````````````````````````````````````````````````````````````````````````````````````````````````````````````````````````````````````````````````````````````````````````````````````````````````````````````````````````````````````````````````````````````````````````````````````````````````````````````````````````````````````````````````````````````````````````````````````````````````````````````````````````````````````````````````````````````````````````````````````````````````````````````````````````````````````````````````````````````````````````````````````````````````````````````````````````````````````````````````````````````````````````````````````````````````````````````````````````````````````````````````````````````````````````````````````````````````````````````````````````````````````````````````````````````````````````````````````````````````````````````````````````````````````````````````````````````````````````````````````````````````````````````````````````````````````````````````````````````````````````````````````````````````````````````````````````````````````````````````````````````````````````````````````````````````````````````````````````````````````````````````````````````````````````````````````````````````````````````````````````````````````````````````````````````````````````````````````````````````````````````````````````````````````````````````````````````````````````````````````````````````````````````````````````````````````````````````````````````````````````````````````````````````````````````````````````````````````````````````````````````````````````````````````````````````````````````````````````````````````````````````````````````````````````````````````````````````````````````````````````````````````````````````````````````````````````````````````````````````````````````````````````````````````````````````````````````````````````````````````````````````````````````````````````````````````````````````````````````````````````````````````````````````````````````````````````````````````````````````````````````````````````````````````````````````````````````````````````````````````````````````````````````````````````````````````````````````````````````````````````````````````````````````````````````````````````````````````````````````````````````````````````````````````````````````````````````````````````````````````````````````````````````````````````````````````````````````````````````````````````````````````````````````````````````````````````````````````````````````````````````````````````````````````````````````````````````````````````````````````````````````````````````````````````````````````````````````````````````````````````````````````````````````````````````````````````````````````````````````````````````````````````````````````````````````````````````````````````````````````````````````````````````````````````````````````````````````````````````````````````````````````````````````````````````````````````````````````````````````````````````````````````````````````````````````````````````````````````````````````````````````````````````````````````````````````````````````````````````````````````````````````````````````````````````````````````````````````````````````````````````````````````````````````````````````````````````````````````````````````````````````````````````````````````````````````````````````````````````````````````````````````````````````````````````````````````````````````````````````````````````````````````````````````````````````````````````````````````````````````````````````````````````````````````````````````````````````````````````````````````````````````````````````````````````````````````````````````````````````````````````````````````````````````````````````````````````````````````````````````````````````````````````````````````````````````````````````````````````````````````````````````````````````````````````````````````````````````````````````````````````````````````````````````````````````````````````````````````````````````````````````````````````````````````````````````````````````````````````````````````````````````````````````````````````````````````````````````````````````````````````````````````````````````````````````````````````````````````````````````````````````````````````````````````````````````````````````````````````````````````````````````````````````````````````````````````````````````````````````````````````````````````````````````````````````````````````````````````````````````````````````````````````````````````````````````````````````````````````````````````````````````````````````````````````````````````````````````````````````````````````````````````````````````````````````````````````````````````````````````````````````````````````````````````````````````````````````````````````````````````````````````````````````````````````````````````````````````````````````````````````````````````````````````````````````````````````````````````````````````````````````````````````````````````````````````````````````````````````````````````````````````````````````````````````````````````````````````````````````````````````````````````````````````````````````````````````````````````````````````````````````````````````````````````````````````````````````````````````````````````````````````````````````````````````````````````````````````````````````````````````````````````````````````````````````````````````````````````````````````````````````````````````````````````````````````````````````````````````````````````````````````````````````````````````````````````````````````````````````````````````````````````````````````````````````````````````````````````````````````````````````````````````````````````````````````````````````````````````````````````````````````````````````````````````````````````````````````````````````````````````````````````````````````````````````````````````````````````````````````````````````````````````````````````````````````````````````````````````````````````````````````````````````````````````````````````````````````````````````````````````````````````````````````````````````````````````````````````````````````````````````````````````````````````````````````````````````````````````````````````````````````````````````````````````````````````````````````````````````````````````````````````````````````````````````````````````````````````````````````````````````````````````````````````````````````````````````````````````````````````````````````````````````````````````````````````````````````````````````````````````````````````````````````````````````````````````````````````````````````````````````````````````````````````````````````````````````````````````````````````````````````````````````````````````````````````````````````````````````````````````````````````````````````````````````````````````````````````````````````````````````````````````````````````````````````````````````````````````````````````````````````````````````````````````````````````````````````````````````````````````````````````````````````````````````````````````````````````````````````````````````````````````````````````````````````````````````````````````````````````````````````````````````````````````````````````````````````````````````````````````````````````````````````````````````````````````````````````````````````````````````````````````````````````````````````````````````````````````````````````````````````````````````````````````````````````````````````````````````````````````````````````````````````````````````````````````````````````````````````````````````````````````````````````````````````````````````````````````````````````````````````````````````````````````````````````````````````````````````````````````````````````````````````````````````````````````````````````````````````````````````````````````````````````````````````````````````````````````````````````````````````````````````````````````````````````````````````````````````````````````````````````````````````````````````````````````````````````````````````````````````````````````````````````````````````````````````````````````````````````````````````````````````````````````````````````````````````````````````````````````````````````````````````````````````````````````````````````````````````````````````````````````````````````````````````````````````````````````````````````````````````````````````````````````````````````````````````````````````````````````````````````````````````````````````````````````````````````````````````````````````````````````````````````````````````````````````````````````````````````````````````````````````````````````````````````````````````````````````````````````````````````````````````````````\\\\``````````````\\\\``````````````````````````````````````````````````````````````\\\\````````````````````````\\\\````````````````````````\\\\``\\\\````\\\\````\\\\````\\\\````````````\\\\``\\\\````````\\\\``````````\\\\``````````\\\\``````\\\\``\\\\``\\\\``\\\\``````````````\\\\``````````\\\\````````\\\\````\\\\``\\\\`` ``\\\\``\\\\``\\\\``\\\\``\\\\````\\\\````````````\\\\```` question\\\\````````\\\\``Question``\\\\``\\\\``````\\\\``````````\\\\````\\\\``\\\\``\\\\````\\\\``\\\\``\\\\```` ``\\\\``\\\\````````````\\\\``\\\\```` question question\\\\````\\\\````\\\\```````` ``````\\\\````\\\\``````\\\\``\\\\``````````\\\\````\\\\````\\\\````\\\\```` ``\\\\`` ``\\\\``````\\\\````````````\\\\`` ``\\\\``\\\\````\\\\```````````````` ``````\\\\``\\\\``\\\\``\\\\``\\\\\\\\````````\\\\``\\\\``\\\\``\\\\``\\\\``\\\\````\\\\\\\\```` question question\\\\`` question`` Question\\\\``\\\\````\\\\`` question``\\\\\\\\```` \\\\\n",
      "Question`` question ````\\\\``\\\\``\\\\``Question``\\\\``Question\\\\\\\\\\\\`````` question question question\\\\`` question\\\\````\\\\\\\\\\\\\\\\````Question\\\\\\\\\\\\`` questionQuestion \\\\\n",
      "\\\\``\\\\ ``\\\\``Question``Question`` question\\\\\\\\\\\\`` questionQuestion\\\\\\\\``Question\\\\``Question`` question question`` question question\\\\``Question\\\\\\\\\\\\\\\\``Question\\\\\\\\``Question\\\\\\\\\\\\\\\\\\\\``Question\\\\\\\\``Question\\\\\\\\\\\\ ``Question``Question\\\\\\\\\\\\\\\\``Question`` questionQuestion``Question``Question\\\\``Question``\\\\\\\\\\\\``Question question`` questionQuestion``Question\\\\\\\\\\\\\\\\\\\\`` question questionQuestion\\\\\\\\`` question questionQuestion`` question\\\\\\\\``Question \\\\``Question\\\\``Question``Question\\\\\\\\``Question``Question\\\\ \\\\\n",
      "Question`` questionQuestion\\\\\\\\\\\\\\\\\\\\\\\\\\\\\\\\``Question``Question``Question\\\\ \\\\\n",
      " question questionQuestion``Question\\\\\\\\\\\\``Question\\\\\\\\\\\\\\\\\\\\\\\\\\\\``Question\\\\\\\\\\\\Question\\\\\\\\``Question``Question\\\\\\\\``Question\\\\ `` question question question question question questionQuestion\\\\\\\\ \\\\\n",
      "Question\\\\\\\\``Question``Question\\\\\\\\\\\\`` question question question`` question question\\\\``Question\\\\ question question``Question\\\\\\\\\\\\\\\\\\\\\\\\\\\\ ``Question\\\\``Question\\\\\\\\Question\\\\``Question`` questionQuestion\\\\\\\\`` question\\\\`` question question\\\\ \\\\\n",
      "\\\\`` questionQuestion question\\\\ question``Question``Question\\\\\\\\``Question Question\\\\ \\\\\n",
      "Question question question question question question questionQuestionQuestion QUESTIONQuestion\\\\\\\\\\\\\\\\\\\\\\\\``Question`` question question\\\\``Question\\\\\\\\\\\\``Question\\\\\\\\\\\\\\\\\\\\\\\\Question question questionQuestionQuestionQuestion\\\\``Question\\\\\\\\\\\\Question\\\\\\\\\\\\\\\\\\\\`` question question question questionQuestion\\\\ questionQuestion questionQuestionQuestion\\\\\\\\\\\\``Question questionQuestion question question\\\\\\\\ question`` questionQuestion\\\\\\\\\\\\\\\\\\\\\\\\`` question``Question\\\\\\\\Question ``Question question\\\\\\\\\\\\\\\\\\\\Question\\\\\\\\``Question``QuestionQuestion question\\\\\\\\\\\\\\\\\\\\\\\\``Question questionQuestion question question question question question question questionQuestion \\\\\n",
      " question\\\\\\\\``Question`` questionQuestionQuestionQuestion `` question questionQuestion\\\\\\\\`` question\\\\ question\\\\\\\\\\\\\\\\``Question``Question\\\\\\\\ \\\\\n",
      "Question \\\\\n",
      "Question\\\\``Question\\\\\\\\``Question question\\\\\\\\\\\\ questionQuestion question question question``Question question questionQuestion question question\\\\\\\\\\\\\\\\\\\\\\\\ \\\\\n",
      "Question``Question\\\\`` questionQuestion\\\\\\\\\\\\ ``Question question question questionQuestion question`` questionQuestionQuestion questionQuestion\\\\\\\\\\\\\\\\ question question questionQuestion\\\\\\\\\\\\\\\\``Question\\\\``QuestionQuestion question question question\\\\ question question\\\\`` question question question\\\\\\\\\\\\\\\\``Question question question question\\\\Question``Question\\\\\\\\\\\\\\\\ \\\\\n",
      " questionQuestion``Question`` questionQuestion\\\\ Question question\\\\\\\\\\\\\\\\\\\\\\\\ questionQuestion\\\\ question question question question questionQuestion question questionQuestionQuestion question Question questionQuestion`` question\\\\\\\\ question questionQuestion`` question question\\\\\\\\ question question questionQuestion question``Question questionQuestion question\\\\ question\\\\ questionQuestionQuestion\\\\\\\\ ``Question question question questionQuestion``Question question questionQuestion QuestionQuestion question question question question``Question question questionQuestionQuestion question\\\\ questionQuestion\\\\\\\\Question QuestionQuestion question question\\\\\\\\ QuestionQuestion question question questionQuestionQuestion QUESTIONQuestion\\\\ questionQuestion question question question questionQuestion questionQuestion question questionQuestion questionQuestion questionQuestionQuestion\\\\\\\\\\\\ question question questionQuestion question``Question\\\\ question question question question question question question questionQuestion question``Question``QuestionQuestion question questionQuestion question\\\\QuestionQuestionQuestionQuestionQuestion question questionQuestion\\\\ question question questionQuestionQuestionQuestionQuestion\\\\``QuestionQuestion question question\\\\ Question question question question questionQuestion question\\\\ question question questionQuestion question question question questionQuestionQuestionQuestion questionQuestion\\\\``Question\\\\``QuestionQuestion questionQuestionQuestion\\\\\\\\ question\\\\QuestionQuestion\\\\ question question\\\\\\\\\\\\Question questionQuestionQuestion question questionQuestion question question\\\\\\\\Question Question question question\\\\\\\\\\\\QuestionQuestionQuestionQuestionQuestionQuestion questionQuestionQuestionQuestion question questionQuestion question questionQuestion question question questionQuestion question question questionQuestionQuestion questionQuestion question questionQuestionQuestionQuestionQuestionQuestion questionQuestion\\\\Question question questionQuestionQuestionQuestionQuestionQuestionQuestion question questionQuestion questionQuestionQuestionQuestionQuestionQuestionQuestionQuestion questionQuestionQuestion questionQuestionQuestionQuestionQuestion question\\\\ question questionQuestion question question questionQuestion questionQuestionQuestionQuestion question question question questionQuestionQuestionQuestion questionQuestionQuestionQuestion questionQuestion question question question\\\\ question questionQuestionQuestionQuestion question\\\\Question questionQuestion questionQuestionQuestion question questionQuestionQuestion questionQuestion questionQuestionQuestion questionQuestionQuestionQuestionQuestionQuestion questionQuestion questionQuestionQuestion questionQuestion questionQuestion questionQuestionQuestionQuestionQuestionQuestion questionQuestionQuestion\\\\QuestionQuestionQuestionQuestionQuestion questionQuestion questionQuestionQuestionQuestion questionQuestionQuestionQuestionQuestion questionQuestionQuestionQuestionQuestionQuestion questionQuestionQuestion questionQuestionQuestionQuestion question questionQuestionQuestion questionQuestionQuestionQuestion question questionQuestionQuestionQuestionQuestionQuestionQuestionQuestionQuestion questionQuestionQuestionQuestionQuestionQuestion questionQuestionQuestionQuestionQuestionQuestionQuestionQuestion question questionQuestionQuestionQuestion question question questionQuestionQuestion questionQuestionQuestion questionQuestion questionQuestionQuestionQuestionQuestionQuestion questionQuestionQuestion question question questionQuestionQuestionQuestion question questionQuestionQuestion questionQuestionQuestion question question questionQuestionQuestion questionQuestionQuestionQuestion questionQuestionQuestion questionQuestionQuestionQuestion questionQuestionQuestion question questionQuestionQuestionQuestionQuestionQuestion questionQuestionQuestionQuestionQuestionQuestionQuestionQuestionQuestionQuestionQuestionQuestion questionQuestionQuestionQuestion questionQuestionQuestionQuestionQuestionQuestionQuestionQuestion question questionQuestionQuestionQuestionQuestion question questionQuestionQuestion questionQuestion question questionQuestionQuestionQuestionQuestionQuestionQuestionQuestionQuestionQuestion questionQuestionQuestionQuestionQuestionQuestionQuestionQuestion questionQuestionQuestion questionQuestionQuestion questionQuestion questionQuestionQuestionQuestion questionQuestionQuestionQuestionQuestionQuestionQuestionQuestionQuestionQuestionQuestionQuestionQuestionQuestionQuestionQuestionQuestionQuestionQuestionQuestion questionQuestionQuestionQuestionQuestionQuestionQuestionQuestionQuestion questionQuestionQuestionQuestionQuestionQuestionQuestionQuestionQuestionQuestionQuestionQuestion question questionQuestionQuestionQuestionQuestion questionQuestionQuestionQuestionQuestionQuestionQuestionQuestionQuestionQuestionQuestionQuestionQuestionQuestionQuestionQuestionQuestion questionQuestionQuestionQuestionQuestionQuestionQuestionQuestionQuestionQuestion questionQuestionQuestionQuestionQuestion questionQuestionQuestionQuestionQuestion questionQuestionQuestionQuestionQuestion question questionQuestionQuestionQuestionQuestionQuestionQuestionQuestionQuestionQuestionQuestion questionQuestionQuestionQuestionQuestionQuestionQuestionQuestionQuestionQuestionQuestionQuestionQuestionQuestionQuestion questionQuestionQuestionQuestionQuestionQuestionQuestionQuestionQuestionQuestionQuestionQuestionQuestionQuestionQuestionQuestionQuestionQuestionQuestionQuestionQuestionQuestionQuestionQuestionQuestionQuestionQuestionQuestionQuestionQuestionQuestionQuestionQuestionQuestionQuestion questionQuestion questionQuestionQuestion questionQuestionQuestionQuestion questionQuestionQuestion questionQuestionQuestionQuestionQuestion questionQuestion questionQuestionQuestionQuestionQuestionQuestionQuestionQuestionQuestion questionQuestionQuestionQuestion questionQuestionQuestionQuestionQuestion questionQuestion questionQuestionQuestionQuestion questionQuestionQuestionQuestionQuestionQuestionQuestionQuestionQuestionQuestion questionQuestionQuestion questionQuestion questionQuestionQuestionQuestionQuestionQuestionQuestionQuestionQuestionQuestionQuestionQuestionQuestionQuestionQuestion questionQuestionQuestionQuestionQuestionQuestionQuestionQuestionQuestionQuestionQuestionQuestionQuestionQuestionQuestionQuestionQuestionQuestionQuestionQuestionQuestionQuestionQuestionQuestion question question questionQuestionQuestionQuestion questionQuestionQuestionQuestionQuestionQuestionQuestionQuestionQuestionQuestionQuestionQuestionQuestionQuestionQuestionQuestionQuestion questionQuestionQuestionQuestionQuestionQuestionQuestionQuestionQuestionQuestionQuestionQuestionQuestionQuestionQuestionQuestion questionQuestionQuestionQuestionQuestionQuestion questionQuestionQuestionQuestionQuestionQuestionQuestionQuestionQuestionQuestionQuestionQuestionQuestionQuestionQuestionQuestion questionQuestionQuestionQuestionQuestionQuestionQuestionQuestionQuestionQuestionQuestionQuestionQuestionQuestionQuestionQuestionQuestionQuestionQuestionQuestionQuestionQuestionQuestionQuestionQuestionQuestionQuestionQuestionQuestion question questionQuestionQuestionQuestionQuestionQuestionQuestionQuestionQuestionQuestionQuestionQuestionQuestionQuestionQuestionQuestionQuestionQuestionQuestionQuestionQuestionQuestionQuestion question questionQuestionQuestionQuestionQuestionQuestionQuestionQuestionQuestionQuestionQuestionQuestionQuestionQuestionQuestionQuestionQuestionQuestionQuestion questionQuestionQuestionQuestionQuestion questionQuestionQuestionQuestionQuestionQuestionQuestionQuestionQuestionQuestionQuestionQuestionQuestionQuestionQuestionQuestionQuestion questionQuestionQuestionQuestionQuestionQuestionQuestionQuestionQuestionQuestionQuestionQuestionQuestionQuestionQuestionQuestionQuestionQuestionQuestionQuestionQuestionQuestionQuestionQuestionQuestionQuestionQuestionQuestionQuestion questionQuestionQuestion questionQuestionQuestionQuestionQuestionQuestionQuestion questionQuestionQuestionQuestionQuestionQuestionQuestionQuestionQuestionQuestionQuestionQuestionQuestionQuestionQuestionQuestionQuestionQuestion questionQuestionQuestionQuestionQuestionQuestionQuestionQuestionQuestionQuestionQuestionQuestionQuestionQuestionQuestionQuestionQuestionQuestionQuestionQuestionQuestionQuestionQuestionQuestionQuestionQuestionQuestionQuestionQuestion questionQuestionQuestionQuestionQuestionQuestionQuestionQuestionQuestionQuestionQuestionQuestionQuestionQuestionQuestionQuestionQuestionQuestionQuestionQuestionQuestionQuestionQuestionQuestionQuestionQuestionQuestionQuestionQuestionQuestionQuestionQuestionQuestionQuestionQuestionQuestionQuestionQuestionQuestionQuestionQuestionQuestionQuestionQuestionQuestionQuestionQuestionQuestionQuestionQuestionQuestionQuestionQuestionQuestionQuestionQuestion questionQuestionQuestionQuestionQuestionQuestionQuestionQuestionQuestionQuestionQuestionQuestionQuestionQuestionQuestion question questionQuestionQuestionQuestionQuestionQuestionQuestionQuestionQuestionQuestionQuestion questionQuestionQuestionQuestionQuestionQuestionQuestionQuestionQuestionQuestionQuestionQuestionQuestionQuestionQuestionQuestionQuestionQuestionQuestionQuestionQuestionQuestionQuestionQuestion questionQuestionQuestionQuestionQuestionQuestionQuestion questionQuestionQuestionQuestionQuestionQuestionQuestionQuestionQuestionQuestionQuestionQuestionQuestionQuestionQuestionQuestionQuestionQuestionQuestionQuestionQuestionQuestionQuestionQuestionQuestionQuestionQuestionQuestionQuestionQuestionQuestionQuestionQuestionQuestionQuestionQuestion questionQuestionQuestionQuestionQuestionQuestion question questionQuestionQuestionQuestionQuestionQuestionQuestionQuestionQuestionQuestionQuestionQuestion questionQuestionQuestionQuestion questionQuestionQuestionQuestionQuestionQuestionQuestion questionQuestionQuestionQuestionQuestionQuestionQuestionQuestionQuestionQuestionQuestionQuestionQuestionQuestionQuestionQuestionQuestionQuestionQuestionQuestionQuestionQuestionQuestionQuestionQuestionQuestionQuestion questionQuestion questionQuestionQuestionQuestionQuestionQuestionQuestionQuestionQuestionQuestion questionQuestionQuestionQuestionQuestionQuestionQuestionQuestion questionQuestionQuestionQuestionQuestionQuestionQuestionQuestionQuestionQuestionQuestionQuestionQuestionQuestion questionQuestionQuestionQuestionQuestionQuestionQuestionQuestionQuestionQuestionQuestion questionQuestionQuestionQuestionQuestionQuestion questionQuestionQuestionQuestionQuestionQuestionQuestionQuestionQuestion questionQuestionQuestionQuestionQuestionQuestionQuestionQuestion questionQuestionQuestionQuestionQuestionQuestionQuestionQuestionQuestionQuestionQuestionQuestionQuestionQuestionQuestionQuestionQuestionQuestionQuestionQuestionQuestionQuestion questionQuestionQuestionQuestionQuestionQuestionQuestionQuestionQuestionQuestionQuestionQuestionQuestionQuestionQuestionQuestion questionQuestionQuestionQuestionQuestionQuestionQuestionQuestionQuestionQuestionQuestionQuestionQuestionQuestionQuestionQuestionQuestionQuestionQuestionQuestionQuestionQuestionQuestionQuestionQuestionQuestionQuestionQuestionQuestionQuestionQuestionQuestionQuestionQuestionQuestionQuestionQuestionQuestionQuestionQuestionQuestionQuestionQuestionQuestionQuestionQuestionQuestionQuestionQuestionQuestionQuestionQuestionQuestionQuestion question questionQuestionQuestionQuestionQuestionQuestionQuestionQuestionQuestionQuestionQuestionQuestionQuestionQuestionQuestionQuestionQuestionQuestionQuestionQuestionQuestionQuestionQuestionQuestionQuestionQuestionQuestionQuestionQuestionQuestionQuestionQuestionQuestionQuestionQuestionQuestionQuestionQuestionQuestionQuestionQuestionQuestionQuestionQuestion questionQuestionQuestion questionQuestionQuestionQuestionQuestion questionQuestionQuestionQuestionQuestion question questionQuestionQuestionQuestionQuestionQuestionQuestionQuestionQuestionQuestionQuestionQuestionQuestionQuestionQuestionQuestionQuestionQuestionQuestionQuestionQuestionQuestionQuestionQuestionQuestionQuestionQuestionQuestionQuestionQuestionQuestionQuestionQuestionQuestionQuestionQuestionQuestionQuestionQuestionQuestionQuestionQuestionQuestionQuestionQuestion question questionQuestionQuestionQuestionQuestionQuestionQuestionQuestionQuestion questionQuestionQuestionQuestionQuestionQuestionQuestion questionQuestionQuestionQuestionQuestionQuestion questionQuestionQuestionQuestionQuestionQuestion questionQuestionQuestionQuestionQuestionQuestionQuestionQuestionQuestionQuestionQuestionQuestion questionQuestionQuestionQuestionQuestionQuestionQuestion question question questionQuestionQuestionQuestionQuestionQuestionQuestionQuestionQuestionQuestionQuestionQuestionQuestionQuestionQuestion questionQuestionQuestion question questionQuestionQuestionQuestion question questionQuestionQuestionQuestionQuestionQuestionQuestion questionQuestionQuestionQuestionQuestion questionQuestionQuestionQuestionQuestionQuestionQuestionQuestionQuestionQuestionQuestion questionQuestion questionQuestionQuestionQuestionQuestion question questionQuestionQuestion questionQuestionQuestionQuestionQuestionQuestionQuestionQuestionQuestion question questionQuestionQuestionQuestion questionQuestion questionQuestionQuestionQuestion questionQuestion questionQuestionQuestion questionQuestion questionQuestionQuestion questionQuestionQuestionQuestionQuestion question questionQuestionQuestionQuestion question questionQuestionQuestionQuestionQuestionQuestion questionQuestionQuestion questionQuestionQuestionQuestionQuestionQuestion questionQuestion questionQuestionQuestionQuestion questionQuestion question questionQuestionQuestionQuestion questionQuestion question questionQuestionQuestionQuestionQuestionQuestionQuestionQuestion question question question questionQuestion questionQuestionQuestion question question questionQuestionQuestionQuestionQuestion questionQuestionQuestionQuestionQuestionQuestionQuestion questionQuestionQuestionQuestion questionQuestionQuestionQuestionQuestion questionQuestion questionQuestionQuestion questionQuestionQuestion questionQuestion question questionQuestionQuestionQuestionQuestionQuestion questionQuestionQuestionQuestion question\\\\QuestionQuestionQuestionQuestionQuestion questionQuestion questionQuestionQuestionQuestionQuestionQuestionQuestionQuestionQuestion question\\\\QuestionQuestionQuestion question questionQuestion questionQuestionQuestion question questionQuestionQuestionQuestionQuestionQuestionQuestion questionQuestionQuestionQuestion question questionQuestionQuestionQuestionQuestionQuestionQuestionQuestionQuestion questionQuestion questionQuestion\\\\Question question question question questionQuestionQuestionQuestionQuestionQuestion questionQuestionQuestionQuestion questionQuestionQuestionQuestionQuestionQuestion questionQuestionQuestionQuestion question questionQuestion questionQuestion\\\\QuestionQuestion questionQuestionQuestionQuestionQuestionQuestion question questionQuestionQuestionQuestionQuestion questionQuestion questionQuestion questionQuestionQuestion questionQuestionQuestionQuestionQuestionQuestionQuestionQuestionQuestionQuestion question questionQuestionQuestion questionQuestionQuestion Question questionQuestionQuestion questionQuestion questionQuestionQuestionQuestionQuestionQuestionQuestion question questionQuestionQuestion question questionQuestion questionQuestionQuestionQuestionQuestionQuestion questionQuestionQuestion questionQuestionQuestionQuestionQuestionQuestionQuestionQuestionQuestion question question question questionQuestion questionQuestionQuestionQuestionQuestionQuestionQuestionQuestion questionQuestionQuestionQuestionQuestion question questionQuestion questionQuestionQuestion question questionQuestionQuestion question questionQuestion question questionQuestionQuestionQuestion questionQuestion questionQuestionQuestion questionQuestionQuestionQuestion questionQuestionQuestion questionQuestionQuestion questionQuestion questionQuestion question questionQuestionQuestion questionQuestionQuestionQuestionQuestion questionQuestion question question questionQuestion questionQuestionQuestionQuestion questionQuestion questionQuestionQuestion questionQuestion questionQuestionQuestion questionQuestionQuestion questionQuestion questionQuestion questionQuestionQuestionQuestionQuestionQuestion question question questionQuestion questionQuestion questionQuestion questionQuestion question questionQuestionQuestionQuestion QuestionQuestionQuestion questionQuestionQuestionQuestionQuestion\\\\Question question questionQuestionQuestionQuestion questionQuestionQuestionQuestion questionQuestion questionQuestionQuestionQuestion questionQuestion\\\\Question questionQuestionQuestionQuestionQuestion questionQuestion questionQuestion questionQuestionQuestion questionQuestion questionQuestionQuestion questionQuestionQuestion question questionQuestion questionQuestion\\\\Question questionQuestion questionQuestionQuestionQuestion Question questionQuestion questionQuestion question questionQuestionQuestion questionQuestionQuestionQuestionQuestionQuestion\\\\ questionQuestionQuestion QuestionQuestionQuestionQuestion questionQuestion questionQuestionQuestionQuestion questionQuestion\\\\ questionQuestionQuestionQuestion questionQuestion questionQuestion questionQuestionQuestion questionQuestionQuestion\\\\Question questionQuestion``Question question questionQuestionQuestionQuestion Question questionQuestion\\\\QuestionQuestion questionQuestion question questionQuestion questionQuestion questionQuestion questionQuestionQuestion questionQuestion questionQuestion questionQuestionQuestion questionQuestion questionQuestionQuestion\\\\ questionQuestion question question questionQuestion question question question questionQuestion questionQuestion``Question questionQuestion QUESTIONQuestionQuestion\\\\ question questionQuestion questionQuestion questionQuestion questionQuestionQuestion question questionQuestionQuestionQuestion questionQuestion Question questionQuestion questionQuestion questionQuestion question questionQuestion questionQuestion\\\\Question questionQuestion questionQuestion\\\\Question\\\\\\\\ questionQuestion questionQuestion questionQuestion\\\\Question Question questionQuestion questionQuestion\\\\ question questionQuestion questionQuestion question questionQuestion\\\\Question\\\\\\\\Question questionQuestion\\\\ questionQuestion questionQuestion question questionQuestion questionQuestion QUESTIONQuestion questionQuestion questionQuestion\\\\ ``Question questionQuestionQuestion questionQuestion questionQuestion questionQuestionQuestionQuestion questionQuestion question questionQuestion\\\\ question questionQuestion questionQuestion\\\\``Question\\\\ questionQuestion questionQuestion questionQuestion\\\\\\\\Question questionQuestion\\\\\\\\``Question``Question question questionQuestionQuestion\\\\QuestionQuestion questionQuestion question question questionQuestionQuestionQuestion questionQuestion questionQuestion Question questionQuestion questionQuestion\\\\``Question\\\\Question\\\\Question questionQuestionQuestion question questionQuestion questionQuestion questionQuestionQuestion questionQuestionQuestion questionQuestion questionQuestion\\\\Question questionQuestion questionQuestionQuestion questionQuestion questionQuestion question questionQuestion questionQuestion questionQuestion questionQuestion questionQuestion questionQuestion``Question\\\\\\\\Question\\\\ questionQuestionQuestion questionQuestionQuestion questionQuestion question questionQuestionQuestion questionQuestion questionQuestionQuestionQuestion question questionQuestionQuestionQuestion questionQuestion questionQuestion questionQuestion\\\\ questionQuestion``Question questionQuestion questionQuestionQuestionQuestion questionQuestionQuestion questionQuestion questionQuestion\\\\QuestionQuestionQuestionQuestion questionQuestionQuestion question questionQuestionQuestion QuestionQuestionQuestion\\\\Question question questionQuestionQuestion questionQuestionQuestion questionQuestionQuestion questionQuestion questionQuestion questionQuestion questionQuestion questionQuestion question question questionQuestion questionQuestion questionQuestion questionQuestionQuestion questionQuestionQuestion questionQuestionQuestion Question\\\\\\\\\\\\QuestionQuestion questionQuestionQuestion questionQuestion\\\\Question questionQuestion questionQuestion\\\\ QUESTIONQuestion questionQuestion questionQuestion questionQuestionQuestionQuestion questionQuestionQuestionQuestion questionQuestionQuestion questionQuestionQuestionQuestionQuestion questionQuestion\\\\ questionQuestion questionQuestionQuestion questionQuestion questionQuestionQuestionQuestion questionQuestion questionQuestion questionQuestion Question questionQuestionQuestionQuestionQuestionQuestionQuestionQuestionQuestion questionQuestionQuestionQuestionQuestion questionQuestionQuestionQuestion questionQuestion questionQuestion questionQuestionQuestionQuestionQuestionQuestionQuestion questionQuestion questionQuestionQuestionQuestion questionQuestionQuestion questionQuestionQuestion questionQuestionQuestion questionQuestionQuestion questionQuestionQuestionQuestionQuestionQuestion questionQuestion questionQuestion questionQuestionQuestionQuestion question questionQuestion questionQuestion questionQuestion questionQuestionQuestionQuestion questionQuestionQuestionQuestion questionQuestionQuestionQuestion questionQuestionQuestionQuestionQuestionQuestionQuestionQuestionQuestionQuestion questionQuestion questionQuestion questionQuestion questionQuestionQuestionQuestion questionQuestion questionQuestionQuestion question questionQuestionQuestion questionQuestionQuestion questionQuestionQuestionQuestionQuestion questionQuestionQuestionQuestionQuestionQuestionQuestionQuestionQuestion questionQuestionQuestion questionQuestion questionQuestion questionQuestionQuestionQuestionQuestionQuestion question questionQuestion questionQuestionQuestion questionQuestionQuestionQuestion questionQuestion\\\\Question questionQuestionQuestion questionQuestionQuestion questionQuestionQuestionQuestionQuestionQuestionQuestion questionQuestion questionQuestion questionQuestionQuestion questionQuestionQuestionQuestionQuestionQuestion question questionQuestionQuestion questionQuestion questionQuestion questionQuestion question questionQuestionQuestionQuestion questionQuestionQuestionQuestionQuestion questionQuestion questionQuestionQuestionQuestionQuestionQuestionQuestionQuestionQuestionQuestionQuestionQuestionQuestionQuestionQuestion questionQuestion questionQuestionQuestionQuestionQuestionQuestionQuestionQuestionQuestionQuestionQuestionQuestionQuestionQuestion questionQuestionQuestionQuestionQuestion questionQuestionQuestion question questionQuestion questionQuestionQuestion questionQuestionQuestionQuestion questionQuestionQuestionQuestion question questionQuestionQuestionQuestionQuestionQuestionQuestionQuestion questionQuestion question questionQuestionQuestionQuestionQuestionQuestionQuestionQuestionQuestionQuestionQuestionQuestion questionQuestion\\\\QuestionQuestionQuestion questionQuestion questionQuestionQuestion questionQuestionQuestion questionQuestion questionQuestionQuestion questionQuestion question questionQuestion question question questionQuestionQuestionQuestion questionQuestionQuestion question questionQuestion questionQuestionQuestionQuestion questionQuestionQuestionQuestionQuestion questionQuestion questionQuestionQuestionQuestion questionQuestionQuestion questionQuestionQuestionQuestion questionQuestionQuestionQuestionQuestionQuestionQuestion questionQuestionQuestionQuestion questionQuestionQuestion questionQuestionQuestion questionQuestionQuestionQuestionQuestion questionQuestionQuestionQuestionQuestion questionQuestionQuestion questionQuestionQuestion questionQuestionQuestionQuestionQuestionQuestionQuestionQuestionQuestion questionQuestionQuestionQuestion question question questionQuestionQuestion questionQuestionQuestionQuestionQuestionQuestionQuestionQuestion questionQuestion questionQuestion questionQuestionQuestionQuestion questionQuestionQuestionQuestionQuestion questionQuestionQuestion questionQuestion questionQuestionQuestionQuestionQuestionQuestion questionQuestionQuestionQuestion questionQuestionQuestionQuestionQuestionQuestion questionQuestion questionQuestionQuestionQuestionQuestionQuestionQuestionQuestionQuestionQuestionQuestionQuestion questionQuestionQuestionQuestionQuestion questionQuestionQuestionQuestionQuestion question questionQuestion questionQuestionQuestionQuestion questionQuestionQuestion questionQuestionQuestionQuestion questionQuestionQuestion questionQuestionQuestion questionQuestionQuestionQuestionQuestionQuestionQuestionQuestion question questionQuestionQuestion questionQuestionQuestionQuestion questionQuestion questionQuestion questionQuestion questionQuestionQuestion questionQuestionQuestionQuestion questionQuestionQuestionQuestionQuestion questionQuestion questionQuestionQuestion questionQuestionQuestionQuestion questionQuestionQuestionQuestion\\\\QuestionQuestionQuestionQuestionQuestionQuestionQuestionQuestionQuestionQuestionQuestionQuestion questionQuestionQuestionQuestionQuestion questionQuestion questionQuestionQuestionQuestion questionQuestionQuestion questionQuestionQuestionQuestionQuestionQuestionQuestionQuestion questionQuestion questionQuestion questionQuestionQuestionQuestionQuestion questionQuestionQuestionQuestionQuestion questionQuestionQuestionQuestionQuestion questionQuestionQuestion questionQuestionQuestion\\\\\\\\QuestionQuestionQuestion questionQuestion questionQuestionQuestion questionQuestionQuestion questionQuestion questionQuestion\\\\Question questionQuestionQuestionQuestionQuestionQuestion questionQuestion questionQuestion questionQuestion questionQuestion questionQuestionQuestionQuestionQuestion questionQuestionQuestion questionQuestionQuestion questionQuestionQuestionQuestion questionQuestion questionQuestionQuestionQuestionQuestionQuestion questionQuestionQuestionQuestion questionQuestion questionQuestion questionQuestionQuestionQuestionQuestionQuestion questionQuestionQuestion questionQuestion questionQuestion questionQuestionQuestion questionQuestionQuestionQuestionQuestionQuestion questionQuestionQuestion QuestionQuestionQuestionQuestion questionQuestionQuestion questionQuestion questionQuestionQuestionQuestion questionQuestionQuestionQuestion questionQuestionQuestionQuestionQuestion\\\\QuestionQuestion questionQuestionQuestion questionQuestionQuestion questionQuestion questionQuestion questionQuestion questionQuestion questionQuestion Question questionQuestion questionQuestion questionQuestionQuestionQuestion questionQuestion questionQuestion questionQuestionQuestionQuestion\\\\ questionQuestion questionQuestion questionQuestion questionQuestionQuestionQuestionQuestion questionQuestionQuestion questionQuestionQuestionQuestion``Question questionQuestion questionQuestion questionQuestionQuestionQuestion questionQuestionQuestion\\\\QuestionQuestion questionQuestion questionQuestion``Question questionQuestion questionQuestion\\\\QuestionQuestion questionQuestion questionQuestion questionQuestionQuestion questionQuestion\\\\\\\\\\\\ questionQuestionQuestionQuestionQuestion QuestionQuestionQuestion questionQuestion questionQuestion questionQuestion\\\\ questionQuestion questionQuestion questionQuestion questionQuestionQuestion\\\\QuestionQuestion questionQuestion questionQuestion questionQuestion questionQuestion questionQuestion questionQuestionQuestion questionQuestion questionQuestionQuestion questionQuestion questionQuestionQuestionQuestion questionQuestion questionQuestion questionQuestionQuestion questionQuestion questionQuestionQuestion questionQuestion question questionQuestion\\\\ questionQuestion questionQuestion questionQuestion\\\\ questionQuestionQuestionQuestion questionQuestion``Question\\\\Question questionQuestion\\\\ questionQuestion questionQuestion questionQuestionQuestion``Question\\\\\\\\\\\\\\\\Question questionQuestion questionQuestion\\\\\\\\\\\\Question questionQuestion QUESTIONQuestionQuestionQuestionQuestion questionQuestion questionQuestion questionQuestion\\\\\\\\QuestionQuestion Question \\\\ questionQuestion questionQuestion questionQuestion questionQuestionQuestionQuestion questionQuestion\\\\\\\\``Question\\\\ questionQuestionQuestionQuestion\\\\ questionQuestionQuestion questionQuestionQuestion questionQuestionQuestion\\\\QuestionQuestion questionQuestion question questionQuestion question questionQuestion questionQuestion questionQuestionQuestion questionQuestionQuestionQuestion questionQuestion QuestionQuestion\\\\\\\\Question questionQuestion questionQuestionQuestionQuestionQuestion questionQuestion questionQuestion QuestionQuestion questionQuestion<|end_of_text|>\n"
     ]
    }
   ],
   "source": [
    "test_index = 0\n",
    "text = filtered_data['test'][test_index]['svg']\n",
    "model = FastLanguageModel.for_inference(model)\n",
    "inputs = tokenizer(\n",
    "[\n",
    "    data_prompt.format(\n",
    "        #instructions\n",
    "        text,\n",
    "        #answer\n",
    "        \"\",\n",
    "    )\n",
    "], return_tensors = \"pt\").to(\"cuda\")\n",
    "\n",
    "outputs = model.generate(**inputs, max_new_tokens = max_seq_length, use_cache = True)\n",
    "answer=tokenizer.batch_decode(outputs)\n",
    "answer = answer[0].split(\"### Response:\")[-1]\n",
    "\n",
    "print(filtered_data['test'][test_index]['svg'])\n",
    "print(filtered_data['test'][test_index]['html'])\n",
    "print(\"Answer of the question is:\", answer)"
   ]
  },
  {
   "cell_type": "code",
   "execution_count": null,
   "id": "5f2df0f9-6c3c-4024-99b0-f6d7832875fb",
   "metadata": {},
   "outputs": [],
   "source": [
    "test_prediction(model, filtered_data['test'], steps+1)"
   ]
  },
  {
   "cell_type": "code",
   "execution_count": null,
   "id": "4065cf71-3f41-4bb8-bf51-4faef98067ca",
   "metadata": {},
   "outputs": [],
   "source": []
  }
 ],
 "metadata": {
  "kernelspec": {
   "display_name": "Python 3 (ipykernel)",
   "language": "python",
   "name": "python3"
  },
  "language_info": {
   "codemirror_mode": {
    "name": "ipython",
    "version": 3
   },
   "file_extension": ".py",
   "mimetype": "text/x-python",
   "name": "python",
   "nbconvert_exporter": "python",
   "pygments_lexer": "ipython3",
   "version": "3.11.9"
  }
 },
 "nbformat": 4,
 "nbformat_minor": 5
}
